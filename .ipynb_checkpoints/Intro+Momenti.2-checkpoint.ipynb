{
 "cells": [
  {
   "cell_type": "markdown",
   "id": "7af1a189-44dd-4662-9840-1e28341b2b26",
   "metadata": {},
   "source": [
    "# Esercitazione 1\n",
    "## Derivazione delle curve di possibilità pluviometrica per i dati relativi alla stazione di Venezia"
   ]
  },
  {
   "cell_type": "markdown",
   "id": "b6e22b8d-f3a8-488c-bcf6-e3009e2800c9",
   "metadata": {},
   "source": [
    "Le curve di possibilità pluviometrica, ci danno informazioni sull'altezza di precipitazione $h$, noti durata $t$ e tempo di ritorno $Tr$. Per ogni durata si cercherà dunque di interpolare i dati a una distribuzione di probabilità, capace di rappresentare la distribuzione incognita. Per questa analisi, si è scelto di utilizzare l'espressione parametrica delle curve di Gumbel:\n",
    "$$ P[H<h; a,b] = e^{-e-{\\frac{h-a}{b}}}$$\n",
    "\n",
    "Dove $a$ è paramtetro di posizione (moda) e $b$ parametro di forma (media).\n",
    "\n",
    "Per prima cosa è necessario calcolare i valori di $a$ e $b$ che meglio interpolano la distribuzione di Gumbel.\n",
    "Per ottenere questo risultato si dovrà calcolare i due parametri tramite:\n",
    "- il metodo dei momenti\n",
    "- il metodo della massima verosimiglianza\n",
    "- il metodo dei minimi quadrati\n",
    "\n",
    "Grazie al test di Pearson sarà infine possibile scegliere la coppia di parametri migliori e sostituirli in modo da trovare le curve che meglio approssimano i valori dati."
   ]
  },
  {
   "cell_type": "code",
   "execution_count": 28,
   "id": "706f1499-7e7c-4a9c-a76a-1a1e8cd5e161",
   "metadata": {},
   "outputs": [],
   "source": [
    "import os\n",
    "import math\n",
    "from pandas import *\n",
    "import pandas as pd\n",
    "from datetime import datetime\n",
    "%matplotlib inline \n",
    "import matplotlib.pyplot as plt"
   ]
  },
  {
   "cell_type": "code",
   "execution_count": 29,
   "id": "11a94c50-a7a0-4c83-b83b-d397390dab11",
   "metadata": {},
   "outputs": [],
   "source": [
    "data = pd.read_csv('PluviometriaVE.txt')"
   ]
  },
  {
   "cell_type": "code",
   "execution_count": 30,
   "id": "2a3ac48d-f8ed-468c-8edd-c1c8bd4c45db",
   "metadata": {},
   "outputs": [],
   "source": [
    "map(datetime,data['anno'])\n",
    "data=data.set_index('anno')"
   ]
  },
  {
   "cell_type": "code",
   "execution_count": 31,
   "id": "3515c415-7bff-4d03-8b49-fd30fe2c4c99",
   "metadata": {},
   "outputs": [
    {
     "data": {
      "text/html": [
       "<div>\n",
       "<style scoped>\n",
       "    .dataframe tbody tr th:only-of-type {\n",
       "        vertical-align: middle;\n",
       "    }\n",
       "\n",
       "    .dataframe tbody tr th {\n",
       "        vertical-align: top;\n",
       "    }\n",
       "\n",
       "    .dataframe thead th {\n",
       "        text-align: right;\n",
       "    }\n",
       "</style>\n",
       "<table border=\"1\" class=\"dataframe\">\n",
       "  <thead>\n",
       "    <tr style=\"text-align: right;\">\n",
       "      <th></th>\n",
       "      <th>1h</th>\n",
       "      <th>3h</th>\n",
       "      <th>6h</th>\n",
       "      <th>12h</th>\n",
       "      <th>24h</th>\n",
       "    </tr>\n",
       "    <tr>\n",
       "      <th>anno</th>\n",
       "      <th></th>\n",
       "      <th></th>\n",
       "      <th></th>\n",
       "      <th></th>\n",
       "      <th></th>\n",
       "    </tr>\n",
       "  </thead>\n",
       "  <tbody>\n",
       "    <tr>\n",
       "      <th>2000</th>\n",
       "      <td>36.2</td>\n",
       "      <td>36.2</td>\n",
       "      <td>62.0</td>\n",
       "      <td>73.2</td>\n",
       "      <td>93.2</td>\n",
       "    </tr>\n",
       "    <tr>\n",
       "      <th>2001</th>\n",
       "      <td>37.0</td>\n",
       "      <td>52.8</td>\n",
       "      <td>55.0</td>\n",
       "      <td>69.8</td>\n",
       "      <td>78.8</td>\n",
       "    </tr>\n",
       "    <tr>\n",
       "      <th>2002</th>\n",
       "      <td>41.8</td>\n",
       "      <td>55.4</td>\n",
       "      <td>58.2</td>\n",
       "      <td>59.0</td>\n",
       "      <td>60.0</td>\n",
       "    </tr>\n",
       "    <tr>\n",
       "      <th>2003</th>\n",
       "      <td>25.8</td>\n",
       "      <td>29.8</td>\n",
       "      <td>31.0</td>\n",
       "      <td>41.0</td>\n",
       "      <td>46.8</td>\n",
       "    </tr>\n",
       "    <tr>\n",
       "      <th>2004</th>\n",
       "      <td>21.2</td>\n",
       "      <td>28.0</td>\n",
       "      <td>39.0</td>\n",
       "      <td>45.6</td>\n",
       "      <td>61.6</td>\n",
       "    </tr>\n",
       "    <tr>\n",
       "      <th>2005</th>\n",
       "      <td>57.2</td>\n",
       "      <td>60.8</td>\n",
       "      <td>61.0</td>\n",
       "      <td>70.0</td>\n",
       "      <td>90.2</td>\n",
       "    </tr>\n",
       "    <tr>\n",
       "      <th>2006</th>\n",
       "      <td>36.0</td>\n",
       "      <td>50.4</td>\n",
       "      <td>57.4</td>\n",
       "      <td>93.6</td>\n",
       "      <td>109.2</td>\n",
       "    </tr>\n",
       "    <tr>\n",
       "      <th>2007</th>\n",
       "      <td>65.8</td>\n",
       "      <td>92.4</td>\n",
       "      <td>107.4</td>\n",
       "      <td>113.6</td>\n",
       "      <td>127.4</td>\n",
       "    </tr>\n",
       "    <tr>\n",
       "      <th>2008</th>\n",
       "      <td>47.2</td>\n",
       "      <td>49.4</td>\n",
       "      <td>59.6</td>\n",
       "      <td>89.8</td>\n",
       "      <td>102.2</td>\n",
       "    </tr>\n",
       "    <tr>\n",
       "      <th>2009</th>\n",
       "      <td>70.8</td>\n",
       "      <td>105.2</td>\n",
       "      <td>132.6</td>\n",
       "      <td>136.6</td>\n",
       "      <td>153.0</td>\n",
       "    </tr>\n",
       "    <tr>\n",
       "      <th>2010</th>\n",
       "      <td>47.6</td>\n",
       "      <td>54.8</td>\n",
       "      <td>55.4</td>\n",
       "      <td>70.8</td>\n",
       "      <td>75.6</td>\n",
       "    </tr>\n",
       "    <tr>\n",
       "      <th>2011</th>\n",
       "      <td>21.8</td>\n",
       "      <td>22.4</td>\n",
       "      <td>35.0</td>\n",
       "      <td>50.2</td>\n",
       "      <td>63.8</td>\n",
       "    </tr>\n",
       "    <tr>\n",
       "      <th>2012</th>\n",
       "      <td>19.0</td>\n",
       "      <td>30.8</td>\n",
       "      <td>40.8</td>\n",
       "      <td>47.4</td>\n",
       "      <td>50.2</td>\n",
       "    </tr>\n",
       "    <tr>\n",
       "      <th>2013</th>\n",
       "      <td>12.0</td>\n",
       "      <td>29.8</td>\n",
       "      <td>43.6</td>\n",
       "      <td>50.2</td>\n",
       "      <td>62.4</td>\n",
       "    </tr>\n",
       "    <tr>\n",
       "      <th>2014</th>\n",
       "      <td>74.2</td>\n",
       "      <td>92.6</td>\n",
       "      <td>96.8</td>\n",
       "      <td>96.8</td>\n",
       "      <td>97.2</td>\n",
       "    </tr>\n",
       "    <tr>\n",
       "      <th>2015</th>\n",
       "      <td>25.8</td>\n",
       "      <td>30.2</td>\n",
       "      <td>34.8</td>\n",
       "      <td>38.0</td>\n",
       "      <td>52.4</td>\n",
       "    </tr>\n",
       "    <tr>\n",
       "      <th>2016</th>\n",
       "      <td>38.6</td>\n",
       "      <td>38.8</td>\n",
       "      <td>39.2</td>\n",
       "      <td>39.2</td>\n",
       "      <td>52.2</td>\n",
       "    </tr>\n",
       "    <tr>\n",
       "      <th>2017</th>\n",
       "      <td>48.4</td>\n",
       "      <td>54.0</td>\n",
       "      <td>57.0</td>\n",
       "      <td>64.2</td>\n",
       "      <td>99.8</td>\n",
       "    </tr>\n",
       "    <tr>\n",
       "      <th>2018</th>\n",
       "      <td>20.8</td>\n",
       "      <td>24.0</td>\n",
       "      <td>25.6</td>\n",
       "      <td>36.4</td>\n",
       "      <td>38.6</td>\n",
       "    </tr>\n",
       "    <tr>\n",
       "      <th>2019</th>\n",
       "      <td>31.2</td>\n",
       "      <td>32.2</td>\n",
       "      <td>44.2</td>\n",
       "      <td>53.2</td>\n",
       "      <td>60.8</td>\n",
       "    </tr>\n",
       "    <tr>\n",
       "      <th>2020</th>\n",
       "      <td>80.0</td>\n",
       "      <td>93.2</td>\n",
       "      <td>93.2</td>\n",
       "      <td>93.2</td>\n",
       "      <td>93.2</td>\n",
       "    </tr>\n",
       "    <tr>\n",
       "      <th>2021</th>\n",
       "      <td>31.8</td>\n",
       "      <td>40.2</td>\n",
       "      <td>42.0</td>\n",
       "      <td>42.0</td>\n",
       "      <td>42.6</td>\n",
       "    </tr>\n",
       "  </tbody>\n",
       "</table>\n",
       "</div>"
      ],
      "text/plain": [
       "        1h     3h     6h    12h    24h\n",
       "anno                                  \n",
       "2000  36.2   36.2   62.0   73.2   93.2\n",
       "2001  37.0   52.8   55.0   69.8   78.8\n",
       "2002  41.8   55.4   58.2   59.0   60.0\n",
       "2003  25.8   29.8   31.0   41.0   46.8\n",
       "2004  21.2   28.0   39.0   45.6   61.6\n",
       "2005  57.2   60.8   61.0   70.0   90.2\n",
       "2006  36.0   50.4   57.4   93.6  109.2\n",
       "2007  65.8   92.4  107.4  113.6  127.4\n",
       "2008  47.2   49.4   59.6   89.8  102.2\n",
       "2009  70.8  105.2  132.6  136.6  153.0\n",
       "2010  47.6   54.8   55.4   70.8   75.6\n",
       "2011  21.8   22.4   35.0   50.2   63.8\n",
       "2012  19.0   30.8   40.8   47.4   50.2\n",
       "2013  12.0   29.8   43.6   50.2   62.4\n",
       "2014  74.2   92.6   96.8   96.8   97.2\n",
       "2015  25.8   30.2   34.8   38.0   52.4\n",
       "2016  38.6   38.8   39.2   39.2   52.2\n",
       "2017  48.4   54.0   57.0   64.2   99.8\n",
       "2018  20.8   24.0   25.6   36.4   38.6\n",
       "2019  31.2   32.2   44.2   53.2   60.8\n",
       "2020  80.0   93.2   93.2   93.2   93.2\n",
       "2021  31.8   40.2   42.0   42.0   42.6"
      ]
     },
     "execution_count": 31,
     "metadata": {},
     "output_type": "execute_result"
    }
   ],
   "source": [
    "data"
   ]
  },
  {
   "cell_type": "code",
   "execution_count": 32,
   "id": "d35f988b-e6a4-4f71-b0f1-960e556c0ea1",
   "metadata": {},
   "outputs": [
    {
     "data": {
      "text/plain": [
       "1h     40.463636\n",
       "3h     50.154545\n",
       "6h     57.763636\n",
       "12h    66.990909\n",
       "24h    77.781818\n",
       "dtype: float64"
      ]
     },
     "execution_count": 32,
     "metadata": {},
     "output_type": "execute_result"
    }
   ],
   "source": [
    "means=data.mean()\n",
    "means"
   ]
  },
  {
   "cell_type": "markdown",
   "id": "b15c5edf-2550-430d-a6f5-fa6b91b44773",
   "metadata": {},
   "source": [
    "{da qui in poi lui ha messo tutte le varie operazioni tipo per calcolare deviazione standard, etc, non so se serva a qualcosa, magari gli chiediamo lunedì }"
   ]
  },
  {
   "cell_type": "code",
   "execution_count": 33,
   "id": "9c6a8f3c-4497-45d3-b45e-8ef1ae159b6a",
   "metadata": {},
   "outputs": [
    {
     "data": {
      "text/plain": [
       "Text(0, 0.5, 'Rainfall (mm)')"
      ]
     },
     "execution_count": 33,
     "metadata": {},
     "output_type": "execute_result"
    },
    {
     "data": {
      "image/png": "[encoded data removed]",
      "text/plain": [
       "<Figure size 432x288 with 1 Axes>"
      ]
     },
     "metadata": {
      "needs_background": "light"
     },
     "output_type": "display_data"
    }
   ],
   "source": [
    "ax=means.plot()\n",
    "ax.grid(True)\n",
    "#ax.legend(loc='right')\n",
    "ax.set_title('Mean Precipitation over years')\n",
    "ax.set_xlabel('Duration')\n",
    "ax.set_ylabel('Rainfall (mm)')"
   ]
  },
  {
   "cell_type": "code",
   "execution_count": 34,
   "id": "4cf55bec-dff6-4546-8c00-e4e8cab5c6e7",
   "metadata": {},
   "outputs": [
    {
     "data": {
      "text/plain": [
       "1h     367.910043\n",
       "3h     616.464502\n",
       "6h     728.741472\n",
       "12h    733.685628\n",
       "24h    871.009177\n",
       "dtype: float64"
      ]
     },
     "execution_count": 34,
     "metadata": {},
     "output_type": "execute_result"
    }
   ],
   "source": [
    "variances=data.var()\n",
    "variances"
   ]
  },
  {
   "cell_type": "code",
   "execution_count": 35,
   "id": "45c44d76-57a3-4eda-b981-9b097e93ae15",
   "metadata": {},
   "outputs": [
    {
     "data": {
      "text/plain": [
       "1h     19.180981\n",
       "3h     24.828703\n",
       "6h     26.995212\n",
       "12h    27.086632\n",
       "24h    29.512865\n",
       "dtype: float64"
      ]
     },
     "execution_count": 35,
     "metadata": {},
     "output_type": "execute_result"
    }
   ],
   "source": [
    "stds=data.std()\n",
    "stds"
   ]
  },
  {
   "cell_type": "code",
   "execution_count": 36,
   "id": "6827d0bc-b53f-4452-8801-e98ac601be54",
   "metadata": {},
   "outputs": [
    {
     "data": {
      "text/plain": [
       "1h     0.474030\n",
       "3h     0.495044\n",
       "6h     0.467339\n",
       "12h    0.404333\n",
       "24h    0.379431\n",
       "dtype: float64"
      ]
     },
     "execution_count": 36,
     "metadata": {},
     "output_type": "execute_result"
    }
   ],
   "source": [
    "cv=data.std()/means\n",
    "cv"
   ]
  },
  {
   "cell_type": "markdown",
   "id": "38182d0b-842c-4eae-b217-11477fe12f73",
   "metadata": {},
   "source": [
    "## Interpolazione delle curve di Gumbel con il metodo dei momenti"
   ]
  },
  {
   "cell_type": "markdown",
   "id": "b01daba2-a148-4b52-9822-2177dc124bc6",
   "metadata": {},
   "source": [
    "Per il metodo dei momenti, la determinazione di a e b nella curva di Gumbel, è possibile tramite la risoluzione del sistema:\n",
    "\n",
    "\\begin{equation}\n",
    "\\left\\{\n",
    "\\begin{array}{l}\n",
    "b \\gamma + a = \\mu_H \\\\\n",
    "\\sigma^2_H = b^2  \\frac{\\pi^2}{6}\n",
    "\\end{array}\n",
    "\\right.\n",
    "\\end{equation}\n",
    "\n",
    "che quindi vuole:\n",
    "\\begin{equation}\n",
    "b = \\frac{\\sqrt{6}}{\\pi} \\sigma_H\n",
    "\\end{equation}\n",
    "\n",
    "\\begin{equation}\n",
    "a = \\mu_H -\\frac{\\sqrt{6}\\gamma}{\\pi} \\sigma_H \n",
    "\\end{equation}\n",
    "\n",
    "sostituiamo quindi i valori che abbiamo raccolto per le varie durate:"
   ]
  },
  {
   "cell_type": "code",
   "execution_count": 37,
   "id": "f3a877fd-b463-4546-a7e3-d7cb67f80fe3",
   "metadata": {},
   "outputs": [],
   "source": [
    "EulerGamma=0.577215664901532860606512090"
   ]
  },
  {
   "cell_type": "markdown",
   "id": "3a67ceb7-ff6e-4073-85e2-4b6a6471e574",
   "metadata": {},
   "source": [
    "Il primo coefficiente, che useremo nell'espressione per il calcolo di b sarà"
   ]
  },
  {
   "cell_type": "code",
   "execution_count": 38,
   "id": "404989ac-c973-4719-9ce8-05d7e26b0ae0",
   "metadata": {},
   "outputs": [],
   "source": [
    "coeff1 = (math.sqrt(6)/math.pi)"
   ]
  },
  {
   "cell_type": "markdown",
   "id": "90cb00c0-c3b2-4e55-b690-164a01a65d17",
   "metadata": {},
   "source": [
    "Il secondo, presente nell'espressione per il calcolo di a, è pari a quello già calcolato moltiplicato per la costante di Eulero"
   ]
  },
  {
   "cell_type": "code",
   "execution_count": 39,
   "id": "9f164bdc-c630-402d-9405-22515d00fb27",
   "metadata": {},
   "outputs": [],
   "source": [
    "coeff2= coeff1*EulerGamma"
   ]
  },
  {
   "cell_type": "code",
   "execution_count": 40,
   "id": "311536b3-f416-430d-acef-a92e01c4c96f",
   "metadata": {},
   "outputs": [],
   "source": [
    "def g(m,s):\n",
    "    return pd.DataFrame([m-coeff2*s,coeff1*s],index=[\"a\",\"b\"])"
   ]
  },
  {
   "cell_type": "code",
   "execution_count": 41,
   "id": "89323bf2-3d93-40ac-a64d-c81beb2e741d",
   "metadata": {},
   "outputs": [
    {
     "data": {
      "text/html": [
       "<div>\n",
       "<style scoped>\n",
       "    .dataframe tbody tr th:only-of-type {\n",
       "        vertical-align: middle;\n",
       "    }\n",
       "\n",
       "    .dataframe tbody tr th {\n",
       "        vertical-align: top;\n",
       "    }\n",
       "\n",
       "    .dataframe thead th {\n",
       "        text-align: right;\n",
       "    }\n",
       "</style>\n",
       "<table border=\"1\" class=\"dataframe\">\n",
       "  <thead>\n",
       "    <tr style=\"text-align: right;\">\n",
       "      <th></th>\n",
       "      <th>1h</th>\n",
       "      <th>3h</th>\n",
       "      <th>6h</th>\n",
       "      <th>12h</th>\n",
       "      <th>24h</th>\n",
       "    </tr>\n",
       "  </thead>\n",
       "  <tbody>\n",
       "    <tr>\n",
       "      <th>a</th>\n",
       "      <td>31.831174</td>\n",
       "      <td>38.980308</td>\n",
       "      <td>45.614355</td>\n",
       "      <td>54.800484</td>\n",
       "      <td>64.499459</td>\n",
       "    </tr>\n",
       "    <tr>\n",
       "      <th>b</th>\n",
       "      <td>14.955350</td>\n",
       "      <td>19.358860</td>\n",
       "      <td>21.048080</td>\n",
       "      <td>21.119360</td>\n",
       "      <td>23.011086</td>\n",
       "    </tr>\n",
       "  </tbody>\n",
       "</table>\n",
       "</div>"
      ],
      "text/plain": [
       "          1h         3h         6h        12h        24h\n",
       "a  31.831174  38.980308  45.614355  54.800484  64.499459\n",
       "b  14.955350  19.358860  21.048080  21.119360  23.011086"
      ]
     },
     "execution_count": 41,
     "metadata": {},
     "output_type": "execute_result"
    }
   ],
   "source": [
    "ab_m = g(means, stds)\n",
    "ab_m"
   ]
  },
  {
   "cell_type": "code",
   "execution_count": 42,
   "id": "da9de1c3-3a57-4911-9bf3-9e081032cd99",
   "metadata": {},
   "outputs": [],
   "source": [
    "ab_m.to_pickle(\"ab_m\")"
   ]
  },
  {
   "cell_type": "code",
   "execution_count": 43,
   "id": "eca8c8a0-0b70-4324-9fb0-772b4dff3947",
   "metadata": {},
   "outputs": [],
   "source": [
    "from scipy.stats import genextreme,gumbel_r\n",
    "from numpy import linspace"
   ]
  },
  {
   "cell_type": "markdown",
   "id": "fb80bf3a-8800-4015-a8d5-65e7b67873d9",
   "metadata": {},
   "source": [
    "Definiamo adesso la funzione di Gumbel, come già scritta in precedenza, prendendo i valori di a e b dalle colonne della tabella soprastante"
   ]
  },
  {
   "cell_type": "code",
   "execution_count": 44,
   "id": "58461e11-79ec-4429-866d-949ae9ae9270",
   "metadata": {},
   "outputs": [],
   "source": [
    "def gumbel(x,abs_d,col):\n",
    "    return np.exp(-np.exp(-(x-ab_m[col][\"a\"])/ab_m[col][\"b\"]))"
   ]
  },
  {
   "cell_type": "code",
   "execution_count": 45,
   "id": "748841e5-e8cb-4a7c-869e-d88bf570f20d",
   "metadata": {},
   "outputs": [],
   "source": [
    "from statsmodels.distributions.empirical_distribution import ECDF\n",
    "import numpy as np"
   ]
  },
  {
   "cell_type": "code",
   "execution_count": 46,
   "id": "36a7591e-0fd0-4526-ae96-353adafbc24a",
   "metadata": {},
   "outputs": [],
   "source": [
    "ecdf1h = ECDF(data[\"1h\"])"
   ]
  },
  {
   "cell_type": "markdown",
   "id": "2b5e7b65-7510-45d1-b0da-83fea92e44ba",
   "metadata": {},
   "source": [
    "Prima di interpolare le curve di Gumbel si può controllare quali sono i valori di minimo e di massimo, in modo da poter poi verificare che la curva sia attendibile"
   ]
  },
  {
   "cell_type": "code",
   "execution_count": 47,
   "id": "8df00ce9-7371-4fa4-b245-94bce91481e4",
   "metadata": {},
   "outputs": [],
   "source": [
    "min= data.min()[0]"
   ]
  },
  {
   "cell_type": "code",
   "execution_count": 48,
   "id": "af0abfff-e2b3-4bc8-869c-d45f34cfc1cb",
   "metadata": {},
   "outputs": [],
   "source": [
    "max = data.max()[4]"
   ]
  },
  {
   "cell_type": "markdown",
   "id": "68522b9a-0611-4d7a-a363-d71211092070",
   "metadata": {},
   "source": [
    "Le curve potranno quindi prendere valori da 12.0mm a 153mm che sono il minimo che troviamo per la durata di precipitazione più corta (1h) e il massimo per la più lunga (24h)"
   ]
  },
  {
   "cell_type": "code",
   "execution_count": 49,
   "id": "133b2709-8914-4e68-9908-19e67006f65a",
   "metadata": {},
   "outputs": [],
   "source": [
    "t_rain=np.linspace(min, max,100)"
   ]
  },
  {
   "cell_type": "code",
   "execution_count": 50,
   "id": "1cf693fe-c3f5-40f1-ac68-d0790d1d537a",
   "metadata": {},
   "outputs": [
    {
     "data": {
      "text/html": [
       "<div>\n",
       "<style scoped>\n",
       "    .dataframe tbody tr th:only-of-type {\n",
       "        vertical-align: middle;\n",
       "    }\n",
       "\n",
       "    .dataframe tbody tr th {\n",
       "        vertical-align: top;\n",
       "    }\n",
       "\n",
       "    .dataframe thead th {\n",
       "        text-align: right;\n",
       "    }\n",
       "</style>\n",
       "<table border=\"1\" class=\"dataframe\">\n",
       "  <thead>\n",
       "    <tr style=\"text-align: right;\">\n",
       "      <th></th>\n",
       "      <th>1h</th>\n",
       "      <th>3h</th>\n",
       "      <th>6h</th>\n",
       "      <th>12h</th>\n",
       "      <th>24h</th>\n",
       "    </tr>\n",
       "  </thead>\n",
       "  <tbody>\n",
       "    <tr>\n",
       "      <th>12.000000</th>\n",
       "      <td>0.023143</td>\n",
       "      <td>0.017780</td>\n",
       "      <td>0.007167</td>\n",
       "      <td>0.000506</td>\n",
       "      <td>0.000056</td>\n",
       "    </tr>\n",
       "    <tr>\n",
       "      <th>13.424242</th>\n",
       "      <td>0.032584</td>\n",
       "      <td>0.023662</td>\n",
       "      <td>0.009900</td>\n",
       "      <td>0.000831</td>\n",
       "      <td>0.000101</td>\n",
       "    </tr>\n",
       "    <tr>\n",
       "      <th>14.848485</th>\n",
       "      <td>0.044471</td>\n",
       "      <td>0.030859</td>\n",
       "      <td>0.013390</td>\n",
       "      <td>0.001319</td>\n",
       "      <td>0.000175</td>\n",
       "    </tr>\n",
       "    <tr>\n",
       "      <th>16.272727</th>\n",
       "      <td>0.059005</td>\n",
       "      <td>0.039494</td>\n",
       "      <td>0.017756</td>\n",
       "      <td>0.002033</td>\n",
       "      <td>0.000294</td>\n",
       "    </tr>\n",
       "    <tr>\n",
       "      <th>17.696970</th>\n",
       "      <td>0.076302</td>\n",
       "      <td>0.049668</td>\n",
       "      <td>0.023114</td>\n",
       "      <td>0.003045</td>\n",
       "      <td>0.000479</td>\n",
       "    </tr>\n",
       "    <tr>\n",
       "      <th>...</th>\n",
       "      <td>...</td>\n",
       "      <td>...</td>\n",
       "      <td>...</td>\n",
       "      <td>...</td>\n",
       "      <td>...</td>\n",
       "    </tr>\n",
       "    <tr>\n",
       "      <th>147.303030</th>\n",
       "      <td>0.999557</td>\n",
       "      <td>0.996292</td>\n",
       "      <td>0.992055</td>\n",
       "      <td>0.987553</td>\n",
       "      <td>0.973004</td>\n",
       "    </tr>\n",
       "    <tr>\n",
       "      <th>148.727273</th>\n",
       "      <td>0.999597</td>\n",
       "      <td>0.996555</td>\n",
       "      <td>0.992573</td>\n",
       "      <td>0.988360</td>\n",
       "      <td>0.974604</td>\n",
       "    </tr>\n",
       "    <tr>\n",
       "      <th>150.151515</th>\n",
       "      <td>0.999634</td>\n",
       "      <td>0.996799</td>\n",
       "      <td>0.993057</td>\n",
       "      <td>0.989115</td>\n",
       "      <td>0.976109</td>\n",
       "    </tr>\n",
       "    <tr>\n",
       "      <th>151.575758</th>\n",
       "      <td>0.999667</td>\n",
       "      <td>0.997026</td>\n",
       "      <td>0.993510</td>\n",
       "      <td>0.989821</td>\n",
       "      <td>0.977527</td>\n",
       "    </tr>\n",
       "    <tr>\n",
       "      <th>153.000000</th>\n",
       "      <td>0.999697</td>\n",
       "      <td>0.997236</td>\n",
       "      <td>0.993933</td>\n",
       "      <td>0.990481</td>\n",
       "      <td>0.978862</td>\n",
       "    </tr>\n",
       "  </tbody>\n",
       "</table>\n",
       "<p>100 rows × 5 columns</p>\n",
       "</div>"
      ],
      "text/plain": [
       "                  1h        3h        6h       12h       24h\n",
       "12.000000   0.023143  0.017780  0.007167  0.000506  0.000056\n",
       "13.424242   0.032584  0.023662  0.009900  0.000831  0.000101\n",
       "14.848485   0.044471  0.030859  0.013390  0.001319  0.000175\n",
       "16.272727   0.059005  0.039494  0.017756  0.002033  0.000294\n",
       "17.696970   0.076302  0.049668  0.023114  0.003045  0.000479\n",
       "...              ...       ...       ...       ...       ...\n",
       "147.303030  0.999557  0.996292  0.992055  0.987553  0.973004\n",
       "148.727273  0.999597  0.996555  0.992573  0.988360  0.974604\n",
       "150.151515  0.999634  0.996799  0.993057  0.989115  0.976109\n",
       "151.575758  0.999667  0.997026  0.993510  0.989821  0.977527\n",
       "153.000000  0.999697  0.997236  0.993933  0.990481  0.978862\n",
       "\n",
       "[100 rows x 5 columns]"
      ]
     },
     "execution_count": 50,
     "metadata": {},
     "output_type": "execute_result"
    }
   ],
   "source": [
    "gb=pd.DataFrame([gumbel(t_rain,ab_m,\"1h\"),\n",
    "                 gumbel(t_rain,ab_m,\"3h\"),\n",
    "                 gumbel(t_rain,ab_m,\"6h\"),\n",
    "                 gumbel(t_rain,ab_m,\"12h\"),\n",
    "                 gumbel(t_rain,ab_m,\"24h\")]).T\n",
    "gb.index=t_rain\n",
    "gb.columns=[\"1h\",\"3h\",\"6h\",\"12h\",\"24h\"]\n",
    "gb"
   ]
  },
  {
   "cell_type": "code",
   "execution_count": 170,
   "id": "a9551343-5b9d-4ae9-a3bb-3ca8c5946621",
   "metadata": {},
   "outputs": [
    {
     "data": {
      "image/png": "[encoded data removed]",
      "text/plain": [
       "<Figure size 640x480 with 1 Axes>"
      ]
     },
     "metadata": {},
     "output_type": "display_data"
    }
   ],
   "source": [
    "plt.rc('xtick', labelsize=10)\n",
    "plt.rc('ytick', labelsize=10) \n",
    "plt.style.use('default')\n",
    "ax=gb.plot(color=[\"red\",\"blue\",\"magenta\",\"limegreen\",\"orange\"])\n",
    "ecdf1h = ECDF(data[\"1h\"])\n",
    "ax.plot(data[\"1h\"],ecdf1h(data[\"1h\"]),'+',c=\"red\", label=\"1h\",markersize=6) \n",
    "data3h=data[\"3h\"]\n",
    "ecdf3h = ECDF(data3h)\n",
    "ax.plot(data3h,ecdf3h(data3h),\"+\",c=\"blue\", label=\"3h\",markersize=6)\n",
    "data6h=data[\"6h\"]\n",
    "ecdf6h = ECDF(data6h)\n",
    "ax.plot(data6h,ecdf6h(data6h),\"+\",c=\"magenta\", label=\"6h\",markersize=6)\n",
    "data12h=data[\"12h\"]\n",
    "ecdf12h = ECDF(data12h)\n",
    "ax.plot(data12h,ecdf12h(data12h),\"+\",c=\"limegreen\", label=\"12h\",markersize=6)\n",
    "data24h=data[\"24h\"]\n",
    "ecdf24h = ECDF(data24h)\n",
    "ax.plot(data24h,ecdf24h(data24h),\"+\",c=\"orange\", label=\"24h\",markersize=6)\n",
    "ax.set_title('Curve di Gumbel')\n",
    "ax.set_xlabel('Rainfall [mm]')\n",
    "ax.set_ylabel('P[H < h]')\n",
    "ax.set_aspect(80)\n",
    "plt.grid()"
   ]
  },
  {
   "cell_type": "markdown",
   "id": "4b24dad8-8130-4631-b7a3-7fc024be047e",
   "metadata": {},
   "source": [
    "Dal grafico è evidente come l'interpolazione dei dati, soprattutto per le precipitazioni di durata pari a 6h e 24h, sia molto approssimativa.\n",
    "Sia dai punti sul grafico sia dati dati esposti prima si può inoltre constatare che numerose precipitazioni per quelle durate sono caratterizzata da un'intensità di circa 60mm."
   ]
  }
 ],
 "metadata": {
  "kernelspec": {
   "display_name": "Python 3 (ipykernel)",
   "language": "python",
   "name": "python3"
  },
  "language_info": {
   "codemirror_mode": {
    "name": "ipython",
    "version": 3
   },
   "file_extension": ".py",
   "mimetype": "text/x-python",
   "name": "python",
   "nbconvert_exporter": "python",
   "pygments_lexer": "ipython3",
   "version": "3.7.12"
  }
 },
 "nbformat": 4,
 "nbformat_minor": 5
}
