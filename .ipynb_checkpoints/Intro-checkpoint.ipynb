{
 "cells": [
  {
   "cell_type": "markdown",
   "id": "7af1a189-44dd-4662-9840-1e28341b2b26",
   "metadata": {},
   "source": [
    "# Esercitazione 1\n",
    "## Derivazione delle curve di possibilità pluviometrica per i dati relativi alla stazione di Venezia"
   ]
  },
  {
   "cell_type": "markdown",
   "id": "b6e22b8d-f3a8-488c-bcf6-e3009e2800c9",
   "metadata": {},
   "source": [
    "Le curve di possibilità pluviometrica, ci danno informazioni sull'altezza di precipitazione $h$, noti durata $t$ e tempo di ritorno $Tr$. Per ogni durata si cercherà dunque di interpolare i dati a una distribuzione di probabilità, capace di rappresentare la distribuzione incognita. Per questa analisi, si è scelto di utilizzare l'espressione parametrica delle curve di Gumbel:\n",
    "$$ P[H<h; a,b] = e^{-e-{\\frac{h-a}{b}}}$$\n",
    "\n",
    "Dove $a$ è paramtetro di posizione (moda) e $b$ parametro di forma (media).\n",
    "\n",
    "Per prima cosa è necessario calcolare i valori di $a$ e $b$ che meglio interpolano la distribuzione di Gumbel.\n",
    "Per ottenere questo risultato si dovrà calcolare i due parametri tramite:\n",
    "- il metodo dei momenti\n",
    "- il metodo della massima verosimiglianza\n",
    "- il metodo dei minimi quadrati\n",
    "\n",
    "Grazie al test di Pearson sarà infine possibile scegliere la coppia di parametri migliori e sostituirli in modo da trovare le curve che meglio approssimano i valori dati."
   ]
  },
  {
   "cell_type": "code",
   "execution_count": null,
   "id": "706f1499-7e7c-4a9c-a76a-1a1e8cd5e161",
   "metadata": {},
   "outputs": [],
   "source": []
  }
 ],
 "metadata": {
  "kernelspec": {
   "display_name": "Python 3 (ipykernel)",
   "language": "python",
   "name": "python3"
  },
  "language_info": {
   "codemirror_mode": {
    "name": "ipython",
    "version": 3
   },
   "file_extension": ".py",
   "mimetype": "text/x-python",
   "name": "python",
   "nbconvert_exporter": "python",
   "pygments_lexer": "ipython3",
   "version": "3.7.12"
  }
 },
 "nbformat": 4,
 "nbformat_minor": 5
}
