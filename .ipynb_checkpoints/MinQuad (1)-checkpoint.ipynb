{
 "cells": [
  {
   "cell_type": "markdown",
   "id": "028d43f6-721a-4d96-98ba-15d1ea76a711",
   "metadata": {},
   "source": [
    "## Interpolazione delle curve di Gumbel con il metodo dei minimi quadrati"
   ]
  },
  {
   "cell_type": "markdown",
   "id": "c1b3b556-338a-4230-adb6-53f1146c9437",
   "metadata": {},
   "source": [
    "Il metodo dei momenti consiste nel minimizzare lo scarto quadratico $\\delta^2$ \n",
    "tra le misure di ECDF (frequenza empirica di non superamento) e la probabilità di non superamento:\n",
    "\\begin{equation} \n",
    "\\delta^2(a,b) = \\sum_i^N (ECDF_i-P[h_i;a,b])^2\n",
    "\\to \\rm min(\\delta^2(a,b))\n",
    "\\end{equation}"
   ]
  },
  {
   "cell_type": "code",
   "execution_count": 60,
   "id": "72e502f2-d6c0-4d31-a430-1bd36d8d5fc1",
   "metadata": {},
   "outputs": [],
   "source": [
    "from scipy.stats import norm\n",
    "from scipy.stats import genextreme,gumbel_r\n",
    "import numpy as np\n",
    "from numpy import linspace\n",
    "from pylab import plot,show,hist,figure,title"
   ]
  },
  {
   "cell_type": "code",
   "execution_count": 61,
   "id": "7b8082ba-ec33-4295-aaf3-e0a6704eeb74",
   "metadata": {},
   "outputs": [],
   "source": [
    "import os\n",
    "import math\n",
    "from pandas import *\n",
    "import pandas as pd\n",
    "from datetime import datetime\n",
    "%matplotlib inline \n",
    "import matplotlib.pyplot as plt"
   ]
  },
  {
   "cell_type": "code",
   "execution_count": 62,
   "id": "b44a2fd9-93bf-4fa8-862c-17aa7ee36238",
   "metadata": {},
   "outputs": [],
   "source": [
    "data = pd.read_csv('PluviometriaVE.txt')\n",
    "map(datetime,data['anno'])\n",
    "data=data.set_index('anno')"
   ]
  },
  {
   "cell_type": "code",
   "execution_count": 63,
   "id": "2d5bcb77-abb4-489a-b4ac-f78e1ab95c93",
   "metadata": {},
   "outputs": [
    {
     "data": {
      "text/html": [
       "<div>\n",
       "<style scoped>\n",
       "    .dataframe tbody tr th:only-of-type {\n",
       "        vertical-align: middle;\n",
       "    }\n",
       "\n",
       "    .dataframe tbody tr th {\n",
       "        vertical-align: top;\n",
       "    }\n",
       "\n",
       "    .dataframe thead th {\n",
       "        text-align: right;\n",
       "    }\n",
       "</style>\n",
       "<table border=\"1\" class=\"dataframe\">\n",
       "  <thead>\n",
       "    <tr style=\"text-align: right;\">\n",
       "      <th></th>\n",
       "      <th>1h</th>\n",
       "      <th>3h</th>\n",
       "      <th>6h</th>\n",
       "      <th>12h</th>\n",
       "      <th>24h</th>\n",
       "    </tr>\n",
       "    <tr>\n",
       "      <th>anno</th>\n",
       "      <th></th>\n",
       "      <th></th>\n",
       "      <th></th>\n",
       "      <th></th>\n",
       "      <th></th>\n",
       "    </tr>\n",
       "  </thead>\n",
       "  <tbody>\n",
       "    <tr>\n",
       "      <th>2000</th>\n",
       "      <td>36.2</td>\n",
       "      <td>36.2</td>\n",
       "      <td>62.0</td>\n",
       "      <td>73.2</td>\n",
       "      <td>93.2</td>\n",
       "    </tr>\n",
       "    <tr>\n",
       "      <th>2001</th>\n",
       "      <td>37.0</td>\n",
       "      <td>52.8</td>\n",
       "      <td>55.0</td>\n",
       "      <td>69.8</td>\n",
       "      <td>78.8</td>\n",
       "    </tr>\n",
       "    <tr>\n",
       "      <th>2002</th>\n",
       "      <td>41.8</td>\n",
       "      <td>55.4</td>\n",
       "      <td>58.2</td>\n",
       "      <td>59.0</td>\n",
       "      <td>60.0</td>\n",
       "    </tr>\n",
       "    <tr>\n",
       "      <th>2003</th>\n",
       "      <td>25.8</td>\n",
       "      <td>29.8</td>\n",
       "      <td>31.0</td>\n",
       "      <td>41.0</td>\n",
       "      <td>46.8</td>\n",
       "    </tr>\n",
       "    <tr>\n",
       "      <th>2004</th>\n",
       "      <td>21.2</td>\n",
       "      <td>28.0</td>\n",
       "      <td>39.0</td>\n",
       "      <td>45.6</td>\n",
       "      <td>61.6</td>\n",
       "    </tr>\n",
       "  </tbody>\n",
       "</table>\n",
       "</div>"
      ],
      "text/plain": [
       "        1h    3h    6h   12h   24h\n",
       "anno                              \n",
       "2000  36.2  36.2  62.0  73.2  93.2\n",
       "2001  37.0  52.8  55.0  69.8  78.8\n",
       "2002  41.8  55.4  58.2  59.0  60.0\n",
       "2003  25.8  29.8  31.0  41.0  46.8\n",
       "2004  21.2  28.0  39.0  45.6  61.6"
      ]
     },
     "execution_count": 63,
     "metadata": {},
     "output_type": "execute_result"
    }
   ],
   "source": [
    "data.head()"
   ]
  },
  {
   "cell_type": "markdown",
   "id": "2f4ba1b0-b2c6-43c2-bfa7-ae82601c8841",
   "metadata": {},
   "source": [
    "Per minimizzare il valore di $\\delta^2$ bisogna risolvere un sistema non lineare di due equazioni in funzione dei parametri $a$ e $b$,con un opportuno metodo numerico. "
   ]
  },
  {
   "cell_type": "code",
   "execution_count": 64,
   "id": "f8fba559-2365-4972-90ec-ac6cec175430",
   "metadata": {},
   "outputs": [],
   "source": [
    "from statsmodels.distributions.empirical_distribution import ECDF\n",
    "from scipy.optimize import least_squares "
   ]
  },
  {
   "cell_type": "markdown",
   "id": "41bc9254-25f7-43e8-b478-34dbd6406c49",
   "metadata": {},
   "source": [
    "Definiamo in questo modo la funzione di Gumbel, dove x[0] e x[1] sono parte di un vettore. È necessario definire la funzione in questo modo in quanto sarà poi richiesta da un algoritmo in seguito."
   ]
  },
  {
   "cell_type": "code",
   "execution_count": 65,
   "id": "e811a189-bd08-4f4d-b8f0-a41cbbe085e8",
   "metadata": {},
   "outputs": [],
   "source": [
    "def fun(x,t,y):\n",
    "    return np.exp(-np.exp(-(t-x[0])/x[1]))-y"
   ]
  },
  {
   "cell_type": "code",
   "execution_count": 66,
   "id": "39fe40be-cc06-4817-af25-ab17e0542a9a",
   "metadata": {},
   "outputs": [],
   "source": [
    "from scipy.optimize import least_squares"
   ]
  },
  {
   "cell_type": "markdown",
   "id": "2215ed5c-c757-42c2-8239-a9af6f784a71",
   "metadata": {},
   "source": [
    "Assegno l'ipotesi iniziale $x_0$ per ogni durata ai risultati ottenuti con il metodo dei momenti (valori, quindi, che sappiamo già essere plausibili).\n",
    "Il problema dei metodi iterativi è infatti che è necessario imporre questa ipotesi sulla posizione dei parametri per poter procedere con la risoluzione:"
   ]
  },
  {
   "cell_type": "code",
   "execution_count": 67,
   "id": "00015f87-a6a6-47d4-b75e-9bb3ef1ad84b",
   "metadata": {},
   "outputs": [],
   "source": [
    "ecdf1h = ECDF(data[\"1h\"])\n",
    "x0=[31.,15.]"
   ]
  },
  {
   "cell_type": "code",
   "execution_count": 68,
   "id": "3fd96fe9-e77b-48f3-9c73-f78b04cbe8fa",
   "metadata": {},
   "outputs": [
    {
     "data": {
      "text/plain": [
       "anno\n",
       "2000    36.2\n",
       "2001    37.0\n",
       "2002    41.8\n",
       "2003    25.8\n",
       "2004    21.2\n",
       "Name: 1h, dtype: float64"
      ]
     },
     "execution_count": 68,
     "metadata": {},
     "output_type": "execute_result"
    }
   ],
   "source": [
    "data['1h'].head()"
   ]
  },
  {
   "cell_type": "markdown",
   "id": "d5018a85-de62-43db-8fbd-42b683c207c4",
   "metadata": {},
   "source": [
    "Per poter applicare il metodo inoltre devo ordinare i dati in ordine crescente e calcolo le ordinate corrispondenti ai dati:"
   ]
  },
  {
   "cell_type": "code",
   "execution_count": 69,
   "id": "987097b0-39f2-46f3-9fd7-ea9237d145e1",
   "metadata": {},
   "outputs": [],
   "source": [
    "t_train=sorted(data[\"1h\"])\n",
    "y_train=ecdf1h(t_train)"
   ]
  },
  {
   "cell_type": "markdown",
   "id": "11a6866f-2df2-4164-a801-f756a46045d3",
   "metadata": {},
   "source": [
    "Calcolo l'ordinata corrispondente ai dati:"
   ]
  },
  {
   "cell_type": "code",
   "execution_count": 70,
   "id": "1b8a3aa5-efc1-49ce-b846-6f79bb781674",
   "metadata": {},
   "outputs": [],
   "source": [
    "y_train=ecdf1h(t_train)"
   ]
  },
  {
   "cell_type": "markdown",
   "id": "008697a1-89bf-4e66-8c01-3a088c7f07d4",
   "metadata": {},
   "source": [
    "A questo punto posso applicare il metodo dei minimi quadrati, utilizzando la funzione fun che era stata introdotta prima e l'ipotesi iniziale $x_0$:"
   ]
  },
  {
   "cell_type": "code",
   "execution_count": 71,
   "id": "9eb9d448-595a-494d-bba3-6b7dbb957434",
   "metadata": {},
   "outputs": [
    {
     "data": {
      "text/plain": [
       "array([29.83773928, 15.96934665])"
      ]
     },
     "execution_count": 71,
     "metadata": {},
     "output_type": "execute_result"
    }
   ],
   "source": [
    "res_lsq_1h=least_squares(fun,x0,args=(t_train,y_train))\n",
    "res_lsq_1h.x \n"
   ]
  },
  {
   "cell_type": "markdown",
   "id": "fd6b6052-229b-4684-a747-fe290761a1bb",
   "metadata": {},
   "source": [
    "È poi possibile ripetere i passaggi per ogni durata, cambiando il valore dell'ipotesi iniziale $x_0$:"
   ]
  },
  {
   "cell_type": "code",
   "execution_count": 72,
   "id": "2668ff52-b7eb-40da-b03f-347f6725e97f",
   "metadata": {},
   "outputs": [],
   "source": [
    "ecdf3h=ECDF(data['3h'])\n",
    "t_rain=sorted(data['3h'].dropna())\n",
    "y_train=ecdf3h(t_train)\n",
    "x0=[39.,19.]\n",
    "res_lsq_3h=least_squares(fun,x0,args=(t_train,y_train))\n"
   ]
  },
  {
   "cell_type": "code",
   "execution_count": 73,
   "id": "cfc4167f-42e0-4064-95a9-c9f9ca8ac237",
   "metadata": {},
   "outputs": [
    {
     "data": {
      "text/plain": [
       "array([44.9276428 , 16.19723798])"
      ]
     },
     "execution_count": 73,
     "metadata": {},
     "output_type": "execute_result"
    }
   ],
   "source": [
    "ecdf6h=ECDF(data['6h'])\n",
    "t_rain=sorted(data['6h'].dropna())\n",
    "y_train=ecdf6h(t_train)\n",
    "x0=[45.,21.]\n",
    "res_lsq_6h=least_squares(fun,x0,args=(t_train,y_train))\n",
    "res_lsq_6h.x"
   ]
  },
  {
   "cell_type": "code",
   "execution_count": 74,
   "id": "57d85a87-cde8-4746-8120-79dccdb598f8",
   "metadata": {},
   "outputs": [
    {
     "data": {
      "text/plain": [
       "array([53.71105246, 18.27698429])"
      ]
     },
     "execution_count": 74,
     "metadata": {},
     "output_type": "execute_result"
    }
   ],
   "source": [
    "ecdf12h=ECDF(data['12h'])\n",
    "t_rain=sorted(data['12h'].dropna())\n",
    "y_train=ecdf12h(t_train)\n",
    "x0=[54.,21.]\n",
    "res_lsq_12h=least_squares(fun,x0,args=(t_train,y_train))\n",
    "res_lsq_12h.x"
   ]
  },
  {
   "cell_type": "code",
   "execution_count": 75,
   "id": "c0bebedc-39a8-49f2-af88-c9ccc5ff412e",
   "metadata": {},
   "outputs": [
    {
     "data": {
      "text/plain": [
       "array([63.23900778, 21.52475381])"
      ]
     },
     "execution_count": 75,
     "metadata": {},
     "output_type": "execute_result"
    }
   ],
   "source": [
    "ecdf24h=ECDF(data['24h'])\n",
    "t_rain=sorted(data['24h'].dropna())\n",
    "y_train=ecdf24h(t_train)\n",
    "#deduco un nuovo x0 dai valori ottenuti per 12h\n",
    "x0=[64.,23.]\n",
    "res_lsq_24h=least_squares(fun,x0,args=(t_train,y_train))\n",
    "res_lsq_24h.x"
   ]
  },
  {
   "cell_type": "code",
   "execution_count": 76,
   "id": "03d3a27f-f063-4845-9cbd-68f230677425",
   "metadata": {},
   "outputs": [
    {
     "data": {
      "text/html": [
       "<div>\n",
       "<style scoped>\n",
       "    .dataframe tbody tr th:only-of-type {\n",
       "        vertical-align: middle;\n",
       "    }\n",
       "\n",
       "    .dataframe tbody tr th {\n",
       "        vertical-align: top;\n",
       "    }\n",
       "\n",
       "    .dataframe thead th {\n",
       "        text-align: right;\n",
       "    }\n",
       "</style>\n",
       "<table border=\"1\" class=\"dataframe\">\n",
       "  <thead>\n",
       "    <tr style=\"text-align: right;\">\n",
       "      <th></th>\n",
       "      <th>1h</th>\n",
       "      <th>3h</th>\n",
       "      <th>6h</th>\n",
       "      <th>12h</th>\n",
       "      <th>24h</th>\n",
       "    </tr>\n",
       "  </thead>\n",
       "  <tbody>\n",
       "    <tr>\n",
       "      <th>a</th>\n",
       "      <td>29.837739</td>\n",
       "      <td>37.931925</td>\n",
       "      <td>44.927643</td>\n",
       "      <td>53.711052</td>\n",
       "      <td>63.239008</td>\n",
       "    </tr>\n",
       "    <tr>\n",
       "      <th>b</th>\n",
       "      <td>15.969347</td>\n",
       "      <td>17.954823</td>\n",
       "      <td>16.197238</td>\n",
       "      <td>18.276984</td>\n",
       "      <td>21.524754</td>\n",
       "    </tr>\n",
       "  </tbody>\n",
       "</table>\n",
       "</div>"
      ],
      "text/plain": [
       "          1h         3h         6h        12h        24h\n",
       "a  29.837739  37.931925  44.927643  53.711052  63.239008\n",
       "b  15.969347  17.954823  16.197238  18.276984  21.524754"
      ]
     },
     "execution_count": 76,
     "metadata": {},
     "output_type": "execute_result"
    }
   ],
   "source": [
    "ab_mq=pd.DataFrame([res_lsq_1h.x,res_lsq_3h.x,res_lsq_6h.x,res_lsq_12h.x,res_lsq_24h.x],\n",
    "                    columns=['a','b'],\n",
    "                    index=['1h','3h','6h','12h','24h']).T\n",
    "ab_mq"
   ]
  },
  {
   "cell_type": "code",
   "execution_count": 77,
   "id": "44058148-f2b9-49cf-87a7-d8c700ed8668",
   "metadata": {},
   "outputs": [],
   "source": [
    "ab_mq.to_pickle(\"ab_mq\")"
   ]
  },
  {
   "cell_type": "markdown",
   "id": "4190e923-43e9-456a-84d3-e01aa34304a9",
   "metadata": {},
   "source": [
    "Definisco la funzione di Gumbel, la quale prenderà i valori dei parametri $a$ e $b$ appena trovati:"
   ]
  },
  {
   "cell_type": "code",
   "execution_count": 78,
   "id": "2bddcf9f-5af8-435a-84de-cd960da6cd7d",
   "metadata": {},
   "outputs": [],
   "source": [
    "from statsmodels.distributions.empirical_distribution import ECDF\n",
    "def gumbel(x,ab_d,col):\n",
    "    return np.exp(-np.exp(-(x-ab_d[col][\"a\"])/ab_d[col][\"b\"]))\n",
    "\n",
    "from scipy.stats import genextreme,gumbel_r\n",
    "from numpy import linspace\n",
    "\n",
    "t_rain=np.linspace(data.min()[0],data.max()[4],100)"
   ]
  },
  {
   "cell_type": "code",
   "execution_count": 79,
   "id": "b5183756-f5d6-4bcb-b302-48426905dc23",
   "metadata": {},
   "outputs": [
    {
     "data": {
      "text/html": [
       "<div>\n",
       "<style scoped>\n",
       "    .dataframe tbody tr th:only-of-type {\n",
       "        vertical-align: middle;\n",
       "    }\n",
       "\n",
       "    .dataframe tbody tr th {\n",
       "        vertical-align: top;\n",
       "    }\n",
       "\n",
       "    .dataframe thead th {\n",
       "        text-align: right;\n",
       "    }\n",
       "</style>\n",
       "<table border=\"1\" class=\"dataframe\">\n",
       "  <thead>\n",
       "    <tr style=\"text-align: right;\">\n",
       "      <th></th>\n",
       "      <th>1h</th>\n",
       "      <th>3h</th>\n",
       "      <th>6h</th>\n",
       "      <th>12h</th>\n",
       "      <th>24h</th>\n",
       "    </tr>\n",
       "  </thead>\n",
       "  <tbody>\n",
       "    <tr>\n",
       "      <th>12.000000</th>\n",
       "      <td>0.047091</td>\n",
       "      <td>0.014424</td>\n",
       "      <td>0.000483</td>\n",
       "      <td>0.000056</td>\n",
       "      <td>0.000020</td>\n",
       "    </tr>\n",
       "    <tr>\n",
       "      <th>13.424242</th>\n",
       "      <td>0.061118</td>\n",
       "      <td>0.019929</td>\n",
       "      <td>0.000918</td>\n",
       "      <td>0.000116</td>\n",
       "      <td>0.000040</td>\n",
       "    </tr>\n",
       "    <tr>\n",
       "      <th>14.848485</th>\n",
       "      <td>0.077578</td>\n",
       "      <td>0.026864</td>\n",
       "      <td>0.001654</td>\n",
       "      <td>0.000229</td>\n",
       "      <td>0.000077</td>\n",
       "    </tr>\n",
       "    <tr>\n",
       "      <th>16.272727</th>\n",
       "      <td>0.096488</td>\n",
       "      <td>0.035396</td>\n",
       "      <td>0.002835</td>\n",
       "      <td>0.000428</td>\n",
       "      <td>0.000141</td>\n",
       "    </tr>\n",
       "    <tr>\n",
       "      <th>17.696970</th>\n",
       "      <td>0.117794</td>\n",
       "      <td>0.045668</td>\n",
       "      <td>0.004645</td>\n",
       "      <td>0.000766</td>\n",
       "      <td>0.000249</td>\n",
       "    </tr>\n",
       "  </tbody>\n",
       "</table>\n",
       "</div>"
      ],
      "text/plain": [
       "                 1h        3h        6h       12h       24h\n",
       "12.000000  0.047091  0.014424  0.000483  0.000056  0.000020\n",
       "13.424242  0.061118  0.019929  0.000918  0.000116  0.000040\n",
       "14.848485  0.077578  0.026864  0.001654  0.000229  0.000077\n",
       "16.272727  0.096488  0.035396  0.002835  0.000428  0.000141\n",
       "17.696970  0.117794  0.045668  0.004645  0.000766  0.000249"
      ]
     },
     "execution_count": 79,
     "metadata": {},
     "output_type": "execute_result"
    }
   ],
   "source": [
    "gb=pd.DataFrame([gumbel(t_rain,ab_mq,\"1h\"),\n",
    "                 gumbel(t_rain,ab_mq,\"3h\"),\n",
    "                 gumbel(t_rain,ab_mq,\"6h\"),\n",
    "                 gumbel(t_rain,ab_mq,\"12h\"),\n",
    "                 gumbel(t_rain,ab_mq,\"24h\")]).T\n",
    "gb.index=t_rain\n",
    "gb.columns=[\"1h\",\"3h\",\"6h\",\"12h\",\"24h\"]\n",
    "gb.head()"
   ]
  },
  {
   "cell_type": "code",
   "execution_count": 80,
   "id": "aaba47e4-4186-4ba6-8dfd-d6f4675826c3",
   "metadata": {},
   "outputs": [
    {
     "data": {
      "image/png": "[encoded data removed]",
      "text/plain": [
       "<Figure size 640x480 with 1 Axes>"
      ]
     },
     "metadata": {},
     "output_type": "display_data"
    }
   ],
   "source": [
    "plt.rc('xtick', labelsize=10)\n",
    "plt.rc('ytick', labelsize=10) \n",
    "plt.style.use('default')\n",
    "ax=gb.plot(color=[\"red\",\"blue\",\"magenta\",\"limegreen\",\"orange\"])\n",
    "ecdf1h = ECDF(data[\"1h\"])\n",
    "ax.plot(data[\"1h\"],ecdf1h(data[\"1h\"]),'+',c=\"red\", label=\"1h\",markersize=6) \n",
    "data3h=data[\"3h\"]\n",
    "ecdf3h = ECDF(data3h)\n",
    "ax.plot(data3h,ecdf3h(data3h),\"+\",c=\"blue\", label=\"3h\",markersize=6)\n",
    "data6h=data[\"6h\"]\n",
    "ecdf6h = ECDF(data6h)\n",
    "ax.plot(data6h,ecdf6h(data6h),\"+\",c=\"magenta\", label=\"6h\",markersize=6)\n",
    "data12h=data[\"12h\"]\n",
    "ecdf12h = ECDF(data12h)\n",
    "ax.plot(data12h,ecdf12h(data12h),\"+\",c=\"limegreen\", label=\"12h\",markersize=6)\n",
    "data24h=data[\"24h\"]\n",
    "ecdf24h = ECDF(data24h)\n",
    "ax.plot(data24h,ecdf24h(data24h),\"+\",c=\"orange\", label=\"24h\",markersize=6)\n",
    "ax.set_title('Curve di Gumbel')\n",
    "ax.set_xlabel('Rainfall [mm]')\n",
    "ax.set_ylabel('P[H < h]')\n",
    "ax.set_aspect('auto')\n",
    "plt.grid()"
   ]
  },
  {
   "cell_type": "markdown",
   "id": "7856d0f5-bff1-45a7-9c11-627d99427c88",
   "metadata": {},
   "source": [
    "Così facendo, è possibile calcolare i dati delle curve di Gumbel con tutti e tre i metodi.\n",
    "Fatto questo, è necessario scegliere quale coppia $a$ e $b$ tra le tre trovate sia la migliore e a questo fine si introduce il test di Pearson."
   ]
  }
 ],
 "metadata": {
  "kernelspec": {
   "display_name": "Python 3 (ipykernel)",
   "language": "python",
   "name": "python3"
  },
  "language_info": {
   "codemirror_mode": {
    "name": "ipython",
    "version": 3
   },
   "file_extension": ".py",
   "mimetype": "text/x-python",
   "name": "python",
   "nbconvert_exporter": "python",
   "pygments_lexer": "ipython3",
   "version": "3.7.12"
  }
 },
 "nbformat": 4,
 "nbformat_minor": 5
}
