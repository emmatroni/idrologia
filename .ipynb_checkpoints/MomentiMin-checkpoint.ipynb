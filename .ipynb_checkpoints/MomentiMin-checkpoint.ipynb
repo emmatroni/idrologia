{
 "cells": [
  {
   "cell_type": "markdown",
   "id": "1d25e98e-02ed-40c4-ae80-29e9a74b1e7b",
   "metadata": {},
   "source": [
    "è possibile verificare se le curve di Gumbel interpolano meglio i dati forniti per durate di tempo più corte dell'ora."
   ]
  },
  {
   "cell_type": "code",
   "execution_count": 1,
   "id": "ea14564f-eacf-40e3-8947-9230daa10a8b",
   "metadata": {},
   "outputs": [],
   "source": [
    "import os\n",
    "import math\n",
    "from pandas import *\n",
    "import pandas as pd\n",
    "from datetime import datetime\n",
    "%matplotlib inline \n",
    "import matplotlib.pyplot as plt"
   ]
  },
  {
   "cell_type": "code",
   "execution_count": 2,
   "id": "482ea4a9-0059-454a-9e80-f01e11fa720a",
   "metadata": {},
   "outputs": [],
   "source": [
    "data = pd.read_csv('PluviometriaMin.txt')"
   ]
  },
  {
   "cell_type": "code",
   "execution_count": 3,
   "id": "025f980c-7760-4689-83ef-0bd907ed6ee5",
   "metadata": {},
   "outputs": [],
   "source": [
    "map(datetime,data['anno'])\n",
    "data=data.set_index('anno')"
   ]
  },
  {
   "cell_type": "code",
   "execution_count": 4,
   "id": "742ff615-fb73-45da-a183-4611ad3da7f4",
   "metadata": {},
   "outputs": [
    {
     "data": {
      "text/html": [
       "<div>\n",
       "<style scoped>\n",
       "    .dataframe tbody tr th:only-of-type {\n",
       "        vertical-align: middle;\n",
       "    }\n",
       "\n",
       "    .dataframe tbody tr th {\n",
       "        vertical-align: top;\n",
       "    }\n",
       "\n",
       "    .dataframe thead th {\n",
       "        text-align: right;\n",
       "    }\n",
       "</style>\n",
       "<table border=\"1\" class=\"dataframe\">\n",
       "  <thead>\n",
       "    <tr style=\"text-align: right;\">\n",
       "      <th></th>\n",
       "      <th>15min</th>\n",
       "      <th>30min</th>\n",
       "      <th>45min</th>\n",
       "    </tr>\n",
       "    <tr>\n",
       "      <th>anno</th>\n",
       "      <th></th>\n",
       "      <th></th>\n",
       "      <th></th>\n",
       "    </tr>\n",
       "  </thead>\n",
       "  <tbody>\n",
       "    <tr>\n",
       "      <th>2000</th>\n",
       "      <td>20.8</td>\n",
       "      <td>29.6</td>\n",
       "      <td>32.6</td>\n",
       "    </tr>\n",
       "    <tr>\n",
       "      <th>2001</th>\n",
       "      <td>22.2</td>\n",
       "      <td>31.2</td>\n",
       "      <td>34.8</td>\n",
       "    </tr>\n",
       "    <tr>\n",
       "      <th>2002</th>\n",
       "      <td>26.2</td>\n",
       "      <td>36.6</td>\n",
       "      <td>41.0</td>\n",
       "    </tr>\n",
       "    <tr>\n",
       "      <th>2003</th>\n",
       "      <td>15.8</td>\n",
       "      <td>20.8</td>\n",
       "      <td>25.4</td>\n",
       "    </tr>\n",
       "    <tr>\n",
       "      <th>2004</th>\n",
       "      <td>13.6</td>\n",
       "      <td>18.6</td>\n",
       "      <td>19.2</td>\n",
       "    </tr>\n",
       "    <tr>\n",
       "      <th>2005</th>\n",
       "      <td>28.2</td>\n",
       "      <td>48.2</td>\n",
       "      <td>53.6</td>\n",
       "    </tr>\n",
       "    <tr>\n",
       "      <th>2006</th>\n",
       "      <td>18.0</td>\n",
       "      <td>24.4</td>\n",
       "      <td>30.8</td>\n",
       "    </tr>\n",
       "    <tr>\n",
       "      <th>2007</th>\n",
       "      <td>28.6</td>\n",
       "      <td>39.0</td>\n",
       "      <td>57.8</td>\n",
       "    </tr>\n",
       "    <tr>\n",
       "      <th>2008</th>\n",
       "      <td>18.6</td>\n",
       "      <td>34.4</td>\n",
       "      <td>43.8</td>\n",
       "    </tr>\n",
       "    <tr>\n",
       "      <th>2009</th>\n",
       "      <td>24.6</td>\n",
       "      <td>44.6</td>\n",
       "      <td>61.2</td>\n",
       "    </tr>\n",
       "    <tr>\n",
       "      <th>2010</th>\n",
       "      <td>16.2</td>\n",
       "      <td>28.2</td>\n",
       "      <td>42.2</td>\n",
       "    </tr>\n",
       "    <tr>\n",
       "      <th>2011</th>\n",
       "      <td>15.8</td>\n",
       "      <td>17.8</td>\n",
       "      <td>21.0</td>\n",
       "    </tr>\n",
       "    <tr>\n",
       "      <th>2012</th>\n",
       "      <td>15.8</td>\n",
       "      <td>18.6</td>\n",
       "      <td>18.6</td>\n",
       "    </tr>\n",
       "    <tr>\n",
       "      <th>2013</th>\n",
       "      <td>7.2</td>\n",
       "      <td>8.8</td>\n",
       "      <td>9.6</td>\n",
       "    </tr>\n",
       "    <tr>\n",
       "      <th>2014</th>\n",
       "      <td>32.2</td>\n",
       "      <td>55.4</td>\n",
       "      <td>67.2</td>\n",
       "    </tr>\n",
       "    <tr>\n",
       "      <th>2015</th>\n",
       "      <td>14.2</td>\n",
       "      <td>21.0</td>\n",
       "      <td>24.0</td>\n",
       "    </tr>\n",
       "    <tr>\n",
       "      <th>2016</th>\n",
       "      <td>23.8</td>\n",
       "      <td>36.0</td>\n",
       "      <td>38.4</td>\n",
       "    </tr>\n",
       "    <tr>\n",
       "      <th>2017</th>\n",
       "      <td>22.6</td>\n",
       "      <td>35.4</td>\n",
       "      <td>44.0</td>\n",
       "    </tr>\n",
       "    <tr>\n",
       "      <th>2018</th>\n",
       "      <td>10.0</td>\n",
       "      <td>18.0</td>\n",
       "      <td>20.8</td>\n",
       "    </tr>\n",
       "    <tr>\n",
       "      <th>2019</th>\n",
       "      <td>25.0</td>\n",
       "      <td>28.6</td>\n",
       "      <td>30.6</td>\n",
       "    </tr>\n",
       "    <tr>\n",
       "      <th>2020</th>\n",
       "      <td>25.0</td>\n",
       "      <td>42.2</td>\n",
       "      <td>65.2</td>\n",
       "    </tr>\n",
       "    <tr>\n",
       "      <th>2021</th>\n",
       "      <td>20.2</td>\n",
       "      <td>28.0</td>\n",
       "      <td>30.6</td>\n",
       "    </tr>\n",
       "  </tbody>\n",
       "</table>\n",
       "</div>"
      ],
      "text/plain": [
       "      15min  30min  45min\n",
       "anno                     \n",
       "2000   20.8   29.6   32.6\n",
       "2001   22.2   31.2   34.8\n",
       "2002   26.2   36.6   41.0\n",
       "2003   15.8   20.8   25.4\n",
       "2004   13.6   18.6   19.2\n",
       "2005   28.2   48.2   53.6\n",
       "2006   18.0   24.4   30.8\n",
       "2007   28.6   39.0   57.8\n",
       "2008   18.6   34.4   43.8\n",
       "2009   24.6   44.6   61.2\n",
       "2010   16.2   28.2   42.2\n",
       "2011   15.8   17.8   21.0\n",
       "2012   15.8   18.6   18.6\n",
       "2013    7.2    8.8    9.6\n",
       "2014   32.2   55.4   67.2\n",
       "2015   14.2   21.0   24.0\n",
       "2016   23.8   36.0   38.4\n",
       "2017   22.6   35.4   44.0\n",
       "2018   10.0   18.0   20.8\n",
       "2019   25.0   28.6   30.6\n",
       "2020   25.0   42.2   65.2\n",
       "2021   20.2   28.0   30.6"
      ]
     },
     "execution_count": 4,
     "metadata": {},
     "output_type": "execute_result"
    }
   ],
   "source": [
    "data"
   ]
  },
  {
   "cell_type": "code",
   "execution_count": 6,
   "id": "17dd3c89-248e-41a1-8033-da7902a5397a",
   "metadata": {},
   "outputs": [],
   "source": [
    "means=data.mean()\n",
    "variances=data.var()\n",
    "stds=data.std()\n",
    "cv=data.std()/means\n",
    "EulerGamma=0.577215664901532860606512090"
   ]
  },
  {
   "cell_type": "code",
   "execution_count": 7,
   "id": "e772b8d6-b86d-4c9c-9428-567ac21e87d3",
   "metadata": {},
   "outputs": [],
   "source": [
    "coeff1 = (math.sqrt(6)/math.pi)\n",
    "coeff2= coeff1*EulerGamma"
   ]
  },
  {
   "cell_type": "code",
   "execution_count": 8,
   "id": "e9c22eb9-c15c-4bf8-8efc-02e612e23e06",
   "metadata": {},
   "outputs": [],
   "source": [
    "def g(m,s):\n",
    "    return pd.DataFrame([m-coeff2*s,coeff1*s],index=[\"a\",\"b\"])"
   ]
  },
  {
   "cell_type": "code",
   "execution_count": 18,
   "id": "2e47cf42-b1df-4ee8-9204-41fd7cb65733",
   "metadata": {},
   "outputs": [],
   "source": [
    "ab_m = g(means, stds)\n",
    "ab_m\n",
    "ab_m.to_pickle(\"ab_mMin\")"
   ]
  },
  {
   "cell_type": "code",
   "execution_count": 19,
   "id": "8aa63ef1-8893-4110-b851-caa05b0feddc",
   "metadata": {},
   "outputs": [],
   "source": [
    "from scipy.stats import genextreme,gumbel_r\n",
    "from numpy import linspace"
   ]
  },
  {
   "cell_type": "code",
   "execution_count": 20,
   "id": "9f9484eb-417e-4afc-9518-a1030aa8614e",
   "metadata": {},
   "outputs": [],
   "source": [
    "def gumbel(x,abs_d,col):\n",
    "    return np.exp(-np.exp(-(x-ab_m[col][\"a\"])/ab_m[col][\"b\"]))"
   ]
  },
  {
   "cell_type": "code",
   "execution_count": 21,
   "id": "a5237f87-f128-4ef3-b620-efb9555604ea",
   "metadata": {},
   "outputs": [],
   "source": [
    "from statsmodels.distributions.empirical_distribution import ECDF\n",
    "import numpy as np"
   ]
  },
  {
   "cell_type": "code",
   "execution_count": 22,
   "id": "86aa21de-ce16-4cae-b366-c311dce0ec26",
   "metadata": {},
   "outputs": [],
   "source": [
    "min= data.min()[0]\n",
    "max = data.max()[2]\n",
    "t_rain=np.linspace(min, max,100)"
   ]
  },
  {
   "cell_type": "code",
   "execution_count": 26,
   "id": "0875d1ea-28be-4cd2-b530-f411200ac68f",
   "metadata": {},
   "outputs": [
    {
     "data": {
      "text/html": [
       "<div>\n",
       "<style scoped>\n",
       "    .dataframe tbody tr th:only-of-type {\n",
       "        vertical-align: middle;\n",
       "    }\n",
       "\n",
       "    .dataframe tbody tr th {\n",
       "        vertical-align: top;\n",
       "    }\n",
       "\n",
       "    .dataframe thead th {\n",
       "        text-align: right;\n",
       "    }\n",
       "</style>\n",
       "<table border=\"1\" class=\"dataframe\">\n",
       "  <thead>\n",
       "    <tr style=\"text-align: right;\">\n",
       "      <th></th>\n",
       "      <th>15min</th>\n",
       "      <th>30min</th>\n",
       "      <th>45min</th>\n",
       "    </tr>\n",
       "  </thead>\n",
       "  <tbody>\n",
       "    <tr>\n",
       "      <th>7.200000</th>\n",
       "      <td>0.000375</td>\n",
       "      <td>0.000605</td>\n",
       "      <td>0.002727</td>\n",
       "    </tr>\n",
       "    <tr>\n",
       "      <th>7.806061</th>\n",
       "      <td>0.000936</td>\n",
       "      <td>0.000984</td>\n",
       "      <td>0.003596</td>\n",
       "    </tr>\n",
       "    <tr>\n",
       "      <th>8.412121</th>\n",
       "      <td>0.002099</td>\n",
       "      <td>0.001550</td>\n",
       "      <td>0.004681</td>\n",
       "    </tr>\n",
       "    <tr>\n",
       "      <th>9.018182</th>\n",
       "      <td>0.004287</td>\n",
       "      <td>0.002370</td>\n",
       "      <td>0.006018</td>\n",
       "    </tr>\n",
       "    <tr>\n",
       "      <th>9.624242</th>\n",
       "      <td>0.008061</td>\n",
       "      <td>0.003523</td>\n",
       "      <td>0.007646</td>\n",
       "    </tr>\n",
       "    <tr>\n",
       "      <th>...</th>\n",
       "      <td>...</td>\n",
       "      <td>...</td>\n",
       "      <td>...</td>\n",
       "    </tr>\n",
       "    <tr>\n",
       "      <th>64.775758</th>\n",
       "      <td>0.999934</td>\n",
       "      <td>0.988308</td>\n",
       "      <td>0.939930</td>\n",
       "    </tr>\n",
       "    <tr>\n",
       "      <th>65.381818</th>\n",
       "      <td>0.999942</td>\n",
       "      <td>0.989071</td>\n",
       "      <td>0.942661</td>\n",
       "    </tr>\n",
       "    <tr>\n",
       "      <th>65.987879</th>\n",
       "      <td>0.999949</td>\n",
       "      <td>0.989784</td>\n",
       "      <td>0.945272</td>\n",
       "    </tr>\n",
       "    <tr>\n",
       "      <th>66.593939</th>\n",
       "      <td>0.999955</td>\n",
       "      <td>0.990451</td>\n",
       "      <td>0.947767</td>\n",
       "    </tr>\n",
       "    <tr>\n",
       "      <th>67.200000</th>\n",
       "      <td>0.999960</td>\n",
       "      <td>0.991074</td>\n",
       "      <td>0.950151</td>\n",
       "    </tr>\n",
       "  </tbody>\n",
       "</table>\n",
       "<p>100 rows × 3 columns</p>\n",
       "</div>"
      ],
      "text/plain": [
       "              15min     30min     45min\n",
       "7.200000   0.000375  0.000605  0.002727\n",
       "7.806061   0.000936  0.000984  0.003596\n",
       "8.412121   0.002099  0.001550  0.004681\n",
       "9.018182   0.004287  0.002370  0.006018\n",
       "9.624242   0.008061  0.003523  0.007646\n",
       "...             ...       ...       ...\n",
       "64.775758  0.999934  0.988308  0.939930\n",
       "65.381818  0.999942  0.989071  0.942661\n",
       "65.987879  0.999949  0.989784  0.945272\n",
       "66.593939  0.999955  0.990451  0.947767\n",
       "67.200000  0.999960  0.991074  0.950151\n",
       "\n",
       "[100 rows x 3 columns]"
      ]
     },
     "execution_count": 26,
     "metadata": {},
     "output_type": "execute_result"
    }
   ],
   "source": [
    "gb=pd.DataFrame([gumbel(t_rain,ab_m,\"15min\"),\n",
    "                 gumbel(t_rain,ab_m,\"30min\"),\n",
    "                 gumbel(t_rain,ab_m,\"45min\")]).T\n",
    "gb.index=t_rain\n",
    "gb.columns=[\"15min\",\"30min\",\"45min\"]\n",
    "gb"
   ]
  },
  {
   "cell_type": "code",
   "execution_count": 28,
   "id": "275ace09-fc03-484b-93af-725264de5304",
   "metadata": {},
   "outputs": [
    {
     "data": {
      "text/plain": [
       "Text(0, 0.5, 'P[H<h]')"
      ]
     },
     "execution_count": 28,
     "metadata": {},
     "output_type": "execute_result"
    },
    {
     "data": {
      "image/png": "[encoded data removed]",
      "text/plain": [
       "<Figure size 432x288 with 1 Axes>"
      ]
     },
     "metadata": {
      "needs_background": "light"
     },
     "output_type": "display_data"
    }
   ],
   "source": [
    "plt.rc('xtick', labelsize=20)\n",
    "plt.rc('ytick', labelsize=20) \n",
    "ax=gb.plot(color=[\"red\",\"blue\",\"cyan\",\"green\",\"black\"])\n",
    "ecdf15 = ECDF(data[\"15min\"])\n",
    "ax.plot(data[\"15min\"],ecdf1h(data[\"15min\"]),'o',c=\"red\",label=\"15min\")\n",
    "data30min=data[\"30min\"]\n",
    "ecdf30 = ECDF(data30min)\n",
    "ax.plot(data30min,ecdf30(data30min),\"o\",c=\"blue\",label=\"30min\")\n",
    "data45min=data[\"45min\"]\n",
    "ecdf45 = ECDF(data45min)\n",
    "ax.plot(data45min,ecdf45(data45min),\"o\",c=\"cyan\")\n",
    "\n",
    "ax.set_title('Curve di Gumbel')\n",
    "ax.set_xlabel('Rainfall (mm)')\n",
    "ax.set_ylabel('P[H<h]')"
   ]
  },
  {
   "cell_type": "code",
   "execution_count": null,
   "id": "e4a3b676-7eb0-414e-9b5c-19c2e39b5300",
   "metadata": {},
   "outputs": [],
   "source": [
    "Per durate inferiori all"
   ]
  }
 ],
 "metadata": {
  "kernelspec": {
   "display_name": "Python 3 (ipykernel)",
   "language": "python",
   "name": "python3"
  },
  "language_info": {
   "codemirror_mode": {
    "name": "ipython",
    "version": 3
   },
   "file_extension": ".py",
   "mimetype": "text/x-python",
   "name": "python",
   "nbconvert_exporter": "python",
   "pygments_lexer": "ipython3",
   "version": "3.7.12"
  }
 },
 "nbformat": 4,
 "nbformat_minor": 5
}
