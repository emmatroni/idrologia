{
 "cells": [
  {
   "cell_type": "markdown",
   "id": "dbd2d1d6-2579-4d24-b4c1-ddcec0500006",
   "metadata": {},
   "source": [
    "## Interpolazione delle curve di Gumbel con il metodo della massima verosimiglianza\n",
    "Il metodo della massima Verosimiglianza consiste nel calcolare i due parametri $a$ e $b$ presenti nella curva di Gumbel, imponendo massima la funzione: \\begin{equation}\n",
    "{\\rm argmax}_{a,b} P[\\{h_1, \\cdot \\cdot, h_n \\};a,b] = {\\rm argmax}_{a,b} \\prod_i^n P[h_i;a,b]\n",
    "\\end{equation}\n",
    "\n",
    "Bisogna quindi ipotizzare che la probabilità congiunta sia data dalla produttoria dei due parametri, scrivere un sistema lineare e poi risolverlo."
   ]
  },
  {
   "cell_type": "code",
   "execution_count": 2,
   "id": "d8b47705-09c9-4b36-950a-5ea61a8f0891",
   "metadata": {},
   "outputs": [],
   "source": [
    "from scipy.stats import genextreme,gumbel_r\n",
    "from numpy import linspace\n",
    "import os\n",
    "import math\n",
    "from pandas import *\n",
    "import pandas as pd\n",
    "from datetime import datetime\n",
    "%matplotlib inline \n",
    "import matplotlib.pyplot as plt\n",
    "os.getcwd() #forse non serve scriverlo, non so a cosa serva\n",
    "data = pd.read_csv('PluviometriaVE.txt')\n",
    "map(datetime,data['anno'])\n",
    "data=data.set_index('anno')"
   ]
  },
  {
   "cell_type": "code",
   "execution_count": 3,
   "id": "56a44374-1470-4963-8e81-b8f1f554f42a",
   "metadata": {},
   "outputs": [
    {
     "data": {
      "text/html": [
       "<div>\n",
       "<style scoped>\n",
       "    .dataframe tbody tr th:only-of-type {\n",
       "        vertical-align: middle;\n",
       "    }\n",
       "\n",
       "    .dataframe tbody tr th {\n",
       "        vertical-align: top;\n",
       "    }\n",
       "\n",
       "    .dataframe thead th {\n",
       "        text-align: right;\n",
       "    }\n",
       "</style>\n",
       "<table border=\"1\" class=\"dataframe\">\n",
       "  <thead>\n",
       "    <tr style=\"text-align: right;\">\n",
       "      <th></th>\n",
       "      <th>1h</th>\n",
       "      <th>3h</th>\n",
       "      <th>6h</th>\n",
       "      <th>12h</th>\n",
       "      <th>24h</th>\n",
       "    </tr>\n",
       "    <tr>\n",
       "      <th>anno</th>\n",
       "      <th></th>\n",
       "      <th></th>\n",
       "      <th></th>\n",
       "      <th></th>\n",
       "      <th></th>\n",
       "    </tr>\n",
       "  </thead>\n",
       "  <tbody>\n",
       "    <tr>\n",
       "      <th>2000</th>\n",
       "      <td>36.2</td>\n",
       "      <td>36.2</td>\n",
       "      <td>62.0</td>\n",
       "      <td>73.2</td>\n",
       "      <td>93.2</td>\n",
       "    </tr>\n",
       "    <tr>\n",
       "      <th>2001</th>\n",
       "      <td>37.0</td>\n",
       "      <td>52.8</td>\n",
       "      <td>55.0</td>\n",
       "      <td>69.8</td>\n",
       "      <td>78.8</td>\n",
       "    </tr>\n",
       "    <tr>\n",
       "      <th>2002</th>\n",
       "      <td>41.8</td>\n",
       "      <td>55.4</td>\n",
       "      <td>58.2</td>\n",
       "      <td>59.0</td>\n",
       "      <td>60.0</td>\n",
       "    </tr>\n",
       "    <tr>\n",
       "      <th>2003</th>\n",
       "      <td>25.8</td>\n",
       "      <td>29.8</td>\n",
       "      <td>31.0</td>\n",
       "      <td>41.0</td>\n",
       "      <td>46.8</td>\n",
       "    </tr>\n",
       "    <tr>\n",
       "      <th>2004</th>\n",
       "      <td>21.2</td>\n",
       "      <td>28.0</td>\n",
       "      <td>39.0</td>\n",
       "      <td>45.6</td>\n",
       "      <td>61.6</td>\n",
       "    </tr>\n",
       "    <tr>\n",
       "      <th>2005</th>\n",
       "      <td>57.2</td>\n",
       "      <td>60.8</td>\n",
       "      <td>61.0</td>\n",
       "      <td>70.0</td>\n",
       "      <td>90.2</td>\n",
       "    </tr>\n",
       "    <tr>\n",
       "      <th>2006</th>\n",
       "      <td>36.0</td>\n",
       "      <td>50.4</td>\n",
       "      <td>57.4</td>\n",
       "      <td>93.6</td>\n",
       "      <td>109.2</td>\n",
       "    </tr>\n",
       "    <tr>\n",
       "      <th>2007</th>\n",
       "      <td>65.8</td>\n",
       "      <td>92.4</td>\n",
       "      <td>107.4</td>\n",
       "      <td>113.6</td>\n",
       "      <td>127.4</td>\n",
       "    </tr>\n",
       "    <tr>\n",
       "      <th>2008</th>\n",
       "      <td>47.2</td>\n",
       "      <td>49.4</td>\n",
       "      <td>59.6</td>\n",
       "      <td>89.8</td>\n",
       "      <td>102.2</td>\n",
       "    </tr>\n",
       "    <tr>\n",
       "      <th>2009</th>\n",
       "      <td>70.8</td>\n",
       "      <td>105.2</td>\n",
       "      <td>132.6</td>\n",
       "      <td>136.6</td>\n",
       "      <td>153.0</td>\n",
       "    </tr>\n",
       "    <tr>\n",
       "      <th>2010</th>\n",
       "      <td>47.6</td>\n",
       "      <td>54.8</td>\n",
       "      <td>55.4</td>\n",
       "      <td>70.8</td>\n",
       "      <td>75.6</td>\n",
       "    </tr>\n",
       "    <tr>\n",
       "      <th>2011</th>\n",
       "      <td>21.8</td>\n",
       "      <td>22.4</td>\n",
       "      <td>35.0</td>\n",
       "      <td>50.2</td>\n",
       "      <td>63.8</td>\n",
       "    </tr>\n",
       "    <tr>\n",
       "      <th>2012</th>\n",
       "      <td>19.0</td>\n",
       "      <td>30.8</td>\n",
       "      <td>40.8</td>\n",
       "      <td>47.4</td>\n",
       "      <td>50.2</td>\n",
       "    </tr>\n",
       "    <tr>\n",
       "      <th>2013</th>\n",
       "      <td>12.0</td>\n",
       "      <td>29.8</td>\n",
       "      <td>43.6</td>\n",
       "      <td>50.2</td>\n",
       "      <td>62.4</td>\n",
       "    </tr>\n",
       "    <tr>\n",
       "      <th>2014</th>\n",
       "      <td>74.2</td>\n",
       "      <td>92.6</td>\n",
       "      <td>96.8</td>\n",
       "      <td>96.8</td>\n",
       "      <td>97.2</td>\n",
       "    </tr>\n",
       "    <tr>\n",
       "      <th>2015</th>\n",
       "      <td>25.8</td>\n",
       "      <td>30.2</td>\n",
       "      <td>34.8</td>\n",
       "      <td>38.0</td>\n",
       "      <td>52.4</td>\n",
       "    </tr>\n",
       "    <tr>\n",
       "      <th>2016</th>\n",
       "      <td>38.6</td>\n",
       "      <td>38.8</td>\n",
       "      <td>39.2</td>\n",
       "      <td>39.2</td>\n",
       "      <td>52.2</td>\n",
       "    </tr>\n",
       "    <tr>\n",
       "      <th>2017</th>\n",
       "      <td>48.4</td>\n",
       "      <td>54.0</td>\n",
       "      <td>57.0</td>\n",
       "      <td>64.2</td>\n",
       "      <td>99.8</td>\n",
       "    </tr>\n",
       "    <tr>\n",
       "      <th>2018</th>\n",
       "      <td>20.8</td>\n",
       "      <td>24.0</td>\n",
       "      <td>25.6</td>\n",
       "      <td>36.4</td>\n",
       "      <td>38.6</td>\n",
       "    </tr>\n",
       "    <tr>\n",
       "      <th>2019</th>\n",
       "      <td>31.2</td>\n",
       "      <td>32.2</td>\n",
       "      <td>44.2</td>\n",
       "      <td>53.2</td>\n",
       "      <td>60.8</td>\n",
       "    </tr>\n",
       "    <tr>\n",
       "      <th>2020</th>\n",
       "      <td>80.0</td>\n",
       "      <td>93.2</td>\n",
       "      <td>93.2</td>\n",
       "      <td>93.2</td>\n",
       "      <td>93.2</td>\n",
       "    </tr>\n",
       "    <tr>\n",
       "      <th>2021</th>\n",
       "      <td>31.8</td>\n",
       "      <td>40.2</td>\n",
       "      <td>42.0</td>\n",
       "      <td>42.0</td>\n",
       "      <td>42.6</td>\n",
       "    </tr>\n",
       "  </tbody>\n",
       "</table>\n",
       "</div>"
      ],
      "text/plain": [
       "        1h     3h     6h    12h    24h\n",
       "anno                                  \n",
       "2000  36.2   36.2   62.0   73.2   93.2\n",
       "2001  37.0   52.8   55.0   69.8   78.8\n",
       "2002  41.8   55.4   58.2   59.0   60.0\n",
       "2003  25.8   29.8   31.0   41.0   46.8\n",
       "2004  21.2   28.0   39.0   45.6   61.6\n",
       "2005  57.2   60.8   61.0   70.0   90.2\n",
       "2006  36.0   50.4   57.4   93.6  109.2\n",
       "2007  65.8   92.4  107.4  113.6  127.4\n",
       "2008  47.2   49.4   59.6   89.8  102.2\n",
       "2009  70.8  105.2  132.6  136.6  153.0\n",
       "2010  47.6   54.8   55.4   70.8   75.6\n",
       "2011  21.8   22.4   35.0   50.2   63.8\n",
       "2012  19.0   30.8   40.8   47.4   50.2\n",
       "2013  12.0   29.8   43.6   50.2   62.4\n",
       "2014  74.2   92.6   96.8   96.8   97.2\n",
       "2015  25.8   30.2   34.8   38.0   52.4\n",
       "2016  38.6   38.8   39.2   39.2   52.2\n",
       "2017  48.4   54.0   57.0   64.2   99.8\n",
       "2018  20.8   24.0   25.6   36.4   38.6\n",
       "2019  31.2   32.2   44.2   53.2   60.8\n",
       "2020  80.0   93.2   93.2   93.2   93.2\n",
       "2021  31.8   40.2   42.0   42.0   42.6"
      ]
     },
     "execution_count": 3,
     "metadata": {},
     "output_type": "execute_result"
    }
   ],
   "source": [
    "data"
   ]
  },
  {
   "cell_type": "markdown",
   "id": "c62061fc-6606-45b4-a639-18fcee96db4c",
   "metadata": {},
   "source": [
    "Per calcolare i parametri per un'ora definiamo un campione (sample) relativo inizialmente ai dati con durata 1h.\n",
    "\n",
    "Applichiamo poi la funzione gumbel_r.fit() al campione appena estratto per trovare i parametri della curva di Gumbel per durata di 1h.\n"
   ]
  },
  {
   "cell_type": "code",
   "execution_count": 3,
   "id": "613bd72d-7de4-43a4-855d-e8d7ace5e570",
   "metadata": {},
   "outputs": [
    {
     "data": {
      "text/plain": [
       "(31.72473641322905, 14.86401626301522)"
      ]
     },
     "execution_count": 3,
     "metadata": {},
     "output_type": "execute_result"
    }
   ],
   "source": [
    "samp = data[\"1h\"]\n",
    "param1h = gumbel_r.fit(samp) \n",
    "param1h"
   ]
  },
  {
   "cell_type": "markdown",
   "id": "43083be4-9865-463d-b523-cfb244a92452",
   "metadata": {},
   "source": [
    "Ripetiamo adesso la stessa operazione per tutte le altre durate e notiamo che i valori crescono all'aumentare delle ore. "
   ]
  },
  {
   "cell_type": "code",
   "execution_count": 4,
   "id": "841f8267-c163-45a9-a96e-23e9ae315543",
   "metadata": {},
   "outputs": [
    {
     "data": {
      "text/plain": [
       "(39.40794075479133, 16.9222556849983)"
      ]
     },
     "execution_count": 4,
     "metadata": {},
     "output_type": "execute_result"
    }
   ],
   "source": [
    "samp = data[\"3h\"]\n",
    "param3h = gumbel_r.fit(samp)\n",
    "param3h"
   ]
  },
  {
   "cell_type": "code",
   "execution_count": 5,
   "id": "52cc9118-41c0-469e-b230-b14b4116e57c",
   "metadata": {},
   "outputs": [
    {
     "data": {
      "text/plain": [
       "(46.548022658394565, 17.54165477789975)"
      ]
     },
     "execution_count": 5,
     "metadata": {},
     "output_type": "execute_result"
    }
   ],
   "source": [
    "samp = data[\"6h\"]\n",
    "param6h = gumbel_r.fit(samp)\n",
    "param6h"
   ]
  },
  {
   "cell_type": "code",
   "execution_count": 6,
   "id": "001ff3c2-c8b9-4b56-b3ee-3a916ea0cfca",
   "metadata": {},
   "outputs": [
    {
     "data": {
      "text/plain": [
       "(55.07081466299259, 19.266584473010756)"
      ]
     },
     "execution_count": 6,
     "metadata": {},
     "output_type": "execute_result"
    }
   ],
   "source": [
    "samp = data[\"12h\"]\n",
    "param12h = gumbel_r.fit(samp)\n",
    "param12h"
   ]
  },
  {
   "cell_type": "code",
   "execution_count": 7,
   "id": "4ceeb83c-0c11-4350-ba1f-5937839fc4ec",
   "metadata": {},
   "outputs": [
    {
     "data": {
      "text/plain": [
       "(64.518328334038, 22.19720915093505)"
      ]
     },
     "execution_count": 7,
     "metadata": {},
     "output_type": "execute_result"
    }
   ],
   "source": [
    "samp = data[\"24h\"]\n",
    "param24h = gumbel_r.fit(samp)\n",
    "param24h"
   ]
  },
  {
   "cell_type": "markdown",
   "id": "4a30eb5e-1840-4e8d-a65f-f7ea4963323c",
   "metadata": {},
   "source": [
    "Riassumiamo adesso il tutto in una tabella, dove inseriamo i parametri $a$ e $b$ per le varie durate"
   ]
  },
  {
   "cell_type": "code",
   "execution_count": 8,
   "id": "13156490-627b-4945-a74b-3f716308dde5",
   "metadata": {},
   "outputs": [
    {
     "data": {
      "text/html": [
       "<div>\n",
       "<style scoped>\n",
       "    .dataframe tbody tr th:only-of-type {\n",
       "        vertical-align: middle;\n",
       "    }\n",
       "\n",
       "    .dataframe tbody tr th {\n",
       "        vertical-align: top;\n",
       "    }\n",
       "\n",
       "    .dataframe thead th {\n",
       "        text-align: right;\n",
       "    }\n",
       "</style>\n",
       "<table border=\"1\" class=\"dataframe\">\n",
       "  <thead>\n",
       "    <tr style=\"text-align: right;\">\n",
       "      <th></th>\n",
       "      <th>1h</th>\n",
       "      <th>3h</th>\n",
       "      <th>6h</th>\n",
       "      <th>12h</th>\n",
       "      <th>24h</th>\n",
       "    </tr>\n",
       "  </thead>\n",
       "  <tbody>\n",
       "    <tr>\n",
       "      <th>a</th>\n",
       "      <td>31.724736</td>\n",
       "      <td>39.407941</td>\n",
       "      <td>46.548023</td>\n",
       "      <td>55.070815</td>\n",
       "      <td>64.518328</td>\n",
       "    </tr>\n",
       "    <tr>\n",
       "      <th>b</th>\n",
       "      <td>14.864016</td>\n",
       "      <td>16.922256</td>\n",
       "      <td>17.541655</td>\n",
       "      <td>19.266584</td>\n",
       "      <td>22.197209</td>\n",
       "    </tr>\n",
       "  </tbody>\n",
       "</table>\n",
       "</div>"
      ],
      "text/plain": [
       "          1h         3h         6h        12h        24h\n",
       "a  31.724736  39.407941  46.548023  55.070815  64.518328\n",
       "b  14.864016  16.922256  17.541655  19.266584  22.197209"
      ]
     },
     "execution_count": 8,
     "metadata": {},
     "output_type": "execute_result"
    }
   ],
   "source": [
    "ab_mle=pd.DataFrame([param1h,param3h,param6h,param12h,param24h],\n",
    "                     columns=[\"a\",\"b\"],\n",
    "                     index=[\"1h\",\"3h\",\"6h\",\"12h\",\"24h\"]).T\n",
    "ab_mle"
   ]
  },
  {
   "cell_type": "code",
   "execution_count": 9,
   "id": "90142208-d4a8-48d4-ba9c-81584ff4de9b",
   "metadata": {},
   "outputs": [],
   "source": [
    "ab_mle.to_pickle(\"ab_mle\")"
   ]
  },
  {
   "cell_type": "markdown",
   "id": "65e6ebb2-e8c4-429f-b5c4-ee95b76a9fd1",
   "metadata": {},
   "source": [
    "Dopo essere riusciti ad ottenere la tabella con le stime di $a$ e $b$ è possibile seguire i passaggi già effettuati per il metodo dei momenti per tracciare le curve che meglio interpolano i nostri dati."
   ]
  },
  {
   "cell_type": "markdown",
   "id": "42bcfec1-9cea-4e9c-895f-785e364be512",
   "metadata": {},
   "source": [
    "Applichiamo quindi la funzione tenendo sempre in considerazione il valore minimo e il valore massimo come già fatto per il metodo dei momenti per definire t_rain."
   ]
  },
  {
   "cell_type": "code",
   "execution_count": 16,
   "id": "465fc0b8-d1d3-47f0-8cd3-9d583d31ed77",
   "metadata": {},
   "outputs": [],
   "source": [
    "import numpy as np\n",
    "from statsmodels.distributions.empirical_distribution import ECDF\n",
    "def gumbel(x,ab_mle,col):\n",
    "    return np.exp(-np.exp(-(x-ab_mle[col][\"a\"])/ab_mle[col][\"b\"]))\n",
    "\n",
    "t_rain=np.linspace(data.min()[0],data.max()[4],100)"
   ]
  },
  {
   "cell_type": "markdown",
   "id": "33944c79-fc07-4eb2-b18d-659380569414",
   "metadata": {},
   "source": [
    "## ma che poi io non ho ancora capito a cosa servirebbe t rain, sarebbe il tempo di ritorno? divide solo l'intervallo dal dato minimo al massimo in 100 parti?"
   ]
  },
  {
   "cell_type": "code",
   "execution_count": 20,
   "id": "965f784d-9d61-4855-a109-6421b6d67def",
   "metadata": {},
   "outputs": [
    {
     "data": {
      "text/html": [
       "<div>\n",
       "<style scoped>\n",
       "    .dataframe tbody tr th:only-of-type {\n",
       "        vertical-align: middle;\n",
       "    }\n",
       "\n",
       "    .dataframe tbody tr th {\n",
       "        vertical-align: top;\n",
       "    }\n",
       "\n",
       "    .dataframe thead th {\n",
       "        text-align: right;\n",
       "    }\n",
       "</style>\n",
       "<table border=\"1\" class=\"dataframe\">\n",
       "  <thead>\n",
       "    <tr style=\"text-align: right;\">\n",
       "      <th></th>\n",
       "      <th>1h</th>\n",
       "      <th>3h</th>\n",
       "      <th>6h</th>\n",
       "      <th>12h</th>\n",
       "      <th>24h</th>\n",
       "    </tr>\n",
       "  </thead>\n",
       "  <tbody>\n",
       "    <tr>\n",
       "      <th>12.000000</th>\n",
       "      <td>0.023057</td>\n",
       "      <td>0.006401</td>\n",
       "      <td>0.000772</td>\n",
       "      <td>0.000087</td>\n",
       "      <td>0.000024</td>\n",
       "    </tr>\n",
       "    <tr>\n",
       "      <th>13.424242</th>\n",
       "      <td>0.032539</td>\n",
       "      <td>0.009624</td>\n",
       "      <td>0.001349</td>\n",
       "      <td>0.000169</td>\n",
       "      <td>0.000046</td>\n",
       "    </tr>\n",
       "    <tr>\n",
       "      <th>14.848485</th>\n",
       "      <td>0.044497</td>\n",
       "      <td>0.014000</td>\n",
       "      <td>0.002259</td>\n",
       "      <td>0.000314</td>\n",
       "      <td>0.000085</td>\n",
       "    </tr>\n",
       "    <tr>\n",
       "      <th>16.272727</th>\n",
       "      <td>0.059133</td>\n",
       "      <td>0.019759</td>\n",
       "      <td>0.003633</td>\n",
       "      <td>0.000558</td>\n",
       "      <td>0.000152</td>\n",
       "    </tr>\n",
       "    <tr>\n",
       "      <th>17.696970</th>\n",
       "      <td>0.076568</td>\n",
       "      <td>0.027123</td>\n",
       "      <td>0.005631</td>\n",
       "      <td>0.000951</td>\n",
       "      <td>0.000263</td>\n",
       "    </tr>\n",
       "    <tr>\n",
       "      <th>...</th>\n",
       "      <td>...</td>\n",
       "      <td>...</td>\n",
       "      <td>...</td>\n",
       "      <td>...</td>\n",
       "      <td>...</td>\n",
       "    </tr>\n",
       "    <tr>\n",
       "      <th>147.303030</th>\n",
       "      <td>0.999580</td>\n",
       "      <td>0.998299</td>\n",
       "      <td>0.996802</td>\n",
       "      <td>0.991699</td>\n",
       "      <td>0.976281</td>\n",
       "    </tr>\n",
       "    <tr>\n",
       "      <th>148.727273</th>\n",
       "      <td>0.999619</td>\n",
       "      <td>0.998437</td>\n",
       "      <td>0.997051</td>\n",
       "      <td>0.992288</td>\n",
       "      <td>0.977739</td>\n",
       "    </tr>\n",
       "    <tr>\n",
       "      <th>150.151515</th>\n",
       "      <td>0.999653</td>\n",
       "      <td>0.998563</td>\n",
       "      <td>0.997281</td>\n",
       "      <td>0.992835</td>\n",
       "      <td>0.979108</td>\n",
       "    </tr>\n",
       "    <tr>\n",
       "      <th>151.575758</th>\n",
       "      <td>0.999685</td>\n",
       "      <td>0.998679</td>\n",
       "      <td>0.997493</td>\n",
       "      <td>0.993344</td>\n",
       "      <td>0.980393</td>\n",
       "    </tr>\n",
       "    <tr>\n",
       "      <th>153.000000</th>\n",
       "      <td>0.999714</td>\n",
       "      <td>0.998785</td>\n",
       "      <td>0.997688</td>\n",
       "      <td>0.993817</td>\n",
       "      <td>0.981601</td>\n",
       "    </tr>\n",
       "  </tbody>\n",
       "</table>\n",
       "<p>100 rows × 5 columns</p>\n",
       "</div>"
      ],
      "text/plain": [
       "                  1h        3h        6h       12h       24h\n",
       "12.000000   0.023057  0.006401  0.000772  0.000087  0.000024\n",
       "13.424242   0.032539  0.009624  0.001349  0.000169  0.000046\n",
       "14.848485   0.044497  0.014000  0.002259  0.000314  0.000085\n",
       "16.272727   0.059133  0.019759  0.003633  0.000558  0.000152\n",
       "17.696970   0.076568  0.027123  0.005631  0.000951  0.000263\n",
       "...              ...       ...       ...       ...       ...\n",
       "147.303030  0.999580  0.998299  0.996802  0.991699  0.976281\n",
       "148.727273  0.999619  0.998437  0.997051  0.992288  0.977739\n",
       "150.151515  0.999653  0.998563  0.997281  0.992835  0.979108\n",
       "151.575758  0.999685  0.998679  0.997493  0.993344  0.980393\n",
       "153.000000  0.999714  0.998785  0.997688  0.993817  0.981601\n",
       "\n",
       "[100 rows x 5 columns]"
      ]
     },
     "execution_count": 20,
     "metadata": {},
     "output_type": "execute_result"
    }
   ],
   "source": [
    "gb=pd.DataFrame([gumbel(t_rain,ab_mle,\"1h\"),\n",
    "                 gumbel(t_rain,ab_mle,\"3h\"),\n",
    "                 gumbel(t_rain,ab_mle,\"6h\"),\n",
    "                 gumbel(t_rain,ab_mle,\"12h\"),\n",
    "                 gumbel(t_rain,ab_mle,\"24h\")]).T\n",
    "gb.index=t_rain\n",
    "gb.columns=[\"1h\",\"3h\",\"6h\",\"12h\",\"24h\"]\n",
    "gb"
   ]
  },
  {
   "cell_type": "code",
   "execution_count": 22,
   "id": "c06a0a5a-6645-4db9-b8ce-4ee4b3bc2949",
   "metadata": {},
   "outputs": [
    {
     "data": {
      "image/png": "[encoded data removed]",
      "text/plain": [
       "<Figure size 640x480 with 1 Axes>"
      ]
     },
     "metadata": {},
     "output_type": "display_data"
    }
   ],
   "source": [
    "plt.rc('xtick', labelsize=10)\n",
    "plt.rc('ytick', labelsize=10)\n",
    "plt.style.use('default')\n",
    "ax=gb.plot(color=[\"red\",\"blue\",\"magenta\",\"limegreen\",\"orange\"])\n",
    "ecdf1h = ECDF(data[\"1h\"])\n",
    "ax.plot(data[\"1h\"],ecdf1h(data[\"1h\"]),'+',c=\"red\", label=\"1h\",markersize=6)\n",
    "data3h=data[\"3h\"]\n",
    "ecdf3h = ECDF(data3h)\n",
    "ax.plot(data3h,ecdf3h(data3h),\"+\",c=\"blue\", label=\"3h\",markersize=6)\n",
    "data6h=data[\"6h\"]\n",
    "ecdf6h = ECDF(data6h)\n",
    "ax.plot(data6h,ecdf6h(data6h),\"+\",c=\"magenta\", label=\"6h\",markersize=6)\n",
    "data12h=data[\"12h\"]\n",
    "ecdf12h = ECDF(data12h)\n",
    "ax.plot(data12h,ecdf12h(data12h),\"+\",c=\"limegreen\", label=\"12h\",markersize=6)\n",
    "data24h=data[\"24h\"]\n",
    "ecdf24h = ECDF(data24h)\n",
    "ax.plot(data24h,ecdf24h(data24h),\"+\",c=\"orange\", label=\"24h\",markersize=6)\n",
    "ax.set_title('Curve di Gumbel')\n",
    "ax.set_xlabel('Rainfall (mm)')\n",
    "ax.set_ylabel('P[H < h]')\n",
    "ax.set_aspect('auto')\n",
    "plt.grid()"
   ]
  },
  {
   "cell_type": "markdown",
   "id": "07d486c7-4fca-4bca-a6ee-2bbe2433f0e3",
   "metadata": {},
   "source": [
    "Anche in questo caso notiamo come, soprattutto per elevate durate di precipitazioni, la curva non interpoli in modo preciso i dati.\n",
    "Questo può essere sempre giustificabile dal basso numero di misurazioni a disposizione."
   ]
  }
 ],
 "metadata": {
  "kernelspec": {
   "display_name": "Python 3 (ipykernel)",
   "language": "python",
   "name": "python3"
  },
  "language_info": {
   "codemirror_mode": {
    "name": "ipython",
    "version": 3
   },
   "file_extension": ".py",
   "mimetype": "text/x-python",
   "name": "python",
   "nbconvert_exporter": "python",
   "pygments_lexer": "ipython3",
   "version": "3.7.12"
  }
 },
 "nbformat": 4,
 "nbformat_minor": 5
}
