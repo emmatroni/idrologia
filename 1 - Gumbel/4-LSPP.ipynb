{
 "cells": [
  {
   "cell_type": "markdown",
   "id": "5b007103-5a14-47cf-9d78-1976650c14be",
   "metadata": {},
   "source": [
    "# **Curve di possibilità pluviometrica**"
   ]
  },
  {
   "cell_type": "markdown",
   "id": "63810200-d7bc-4df4-a25d-c8e55bd26b4e",
   "metadata": {},
   "source": [
    "L'obiettivo della seguente esercitazione è quello di graficare le curve di possibilità pluviometrica in relazione alle durate orarie della stazione di Venezia e a definiti tempi di ritorno. \n",
    "La formulazione analitica di tali curve è:\n",
    "\n",
    "\\begin{equation}\n",
    "h(t_p, T_r) = a(T_r)\\cdot t_p^n\n",
    "\\end{equation}\n",
    "\n",
    "Dove:\n",
    "- $h(t_p, T_r)$: altezza di precipitazione $[mm]$\n",
    "- $t_p$: durata considerata $[h]$\n",
    "- $Tr$: tempo di ritorno $[anni]$\n",
    "- $n$: fattore compreso tra $0$ ed $1$\n",
    "\n",
    "Sono particolarmente utili per lo studio degli eventi di precipitazione estremi quindi in cui il tempo di ritorno è elevato.\n",
    "\n",
    "La determinazione delle curve di possibilità pluviometrica è stata svolta sia nel caso di [Durate Orarie](#orarie), sia [Suborarie](#minuti). Per quanto le curve di Possibilità Pluviometrica ricavate alla fine non avranno un andamento comparabile, i passaggi e le funzioni già implementate per le durate orarie non cambieranno."
   ]
  },
  {
   "cell_type": "markdown",
   "id": "6b1e4b7e-5661-4217-a00d-8240b8417edd",
   "metadata": {},
   "source": [
    "## Operazioni preliminari <a class=\"anchor\" id=\"orarie\"></a>\n",
    "Nella prima parte della trattazione si considerano le precipitazioni orarie avvenute dal 2000 al 2021, relative alla stazione di Venezia:"
   ]
  },
  {
   "cell_type": "code",
   "execution_count": 1,
   "id": "c93cc12e-9d07-485a-8f1f-6d803e48773a",
   "metadata": {
    "tags": []
   },
   "outputs": [
    {
     "data": {
      "text/html": [
       "<div>\n",
       "<style scoped>\n",
       "    .dataframe tbody tr th:only-of-type {\n",
       "        vertical-align: middle;\n",
       "    }\n",
       "\n",
       "    .dataframe tbody tr th {\n",
       "        vertical-align: top;\n",
       "    }\n",
       "\n",
       "    .dataframe thead th {\n",
       "        text-align: right;\n",
       "    }\n",
       "</style>\n",
       "<table border=\"1\" class=\"dataframe\">\n",
       "  <thead>\n",
       "    <tr style=\"text-align: right;\">\n",
       "      <th></th>\n",
       "      <th>1h</th>\n",
       "      <th>3h</th>\n",
       "      <th>6h</th>\n",
       "      <th>12h</th>\n",
       "      <th>24h</th>\n",
       "    </tr>\n",
       "    <tr>\n",
       "      <th>anno</th>\n",
       "      <th></th>\n",
       "      <th></th>\n",
       "      <th></th>\n",
       "      <th></th>\n",
       "      <th></th>\n",
       "    </tr>\n",
       "  </thead>\n",
       "  <tbody>\n",
       "    <tr>\n",
       "      <th>2000</th>\n",
       "      <td>36.2</td>\n",
       "      <td>36.2</td>\n",
       "      <td>62.0</td>\n",
       "      <td>73.2</td>\n",
       "      <td>93.2</td>\n",
       "    </tr>\n",
       "    <tr>\n",
       "      <th>2001</th>\n",
       "      <td>37.0</td>\n",
       "      <td>52.8</td>\n",
       "      <td>55.0</td>\n",
       "      <td>69.8</td>\n",
       "      <td>78.8</td>\n",
       "    </tr>\n",
       "    <tr>\n",
       "      <th>2002</th>\n",
       "      <td>41.8</td>\n",
       "      <td>55.4</td>\n",
       "      <td>58.2</td>\n",
       "      <td>59.0</td>\n",
       "      <td>60.0</td>\n",
       "    </tr>\n",
       "    <tr>\n",
       "      <th>2003</th>\n",
       "      <td>25.8</td>\n",
       "      <td>29.8</td>\n",
       "      <td>31.0</td>\n",
       "      <td>41.0</td>\n",
       "      <td>46.8</td>\n",
       "    </tr>\n",
       "    <tr>\n",
       "      <th>2004</th>\n",
       "      <td>21.2</td>\n",
       "      <td>28.0</td>\n",
       "      <td>39.0</td>\n",
       "      <td>45.6</td>\n",
       "      <td>61.6</td>\n",
       "    </tr>\n",
       "    <tr>\n",
       "      <th>2005</th>\n",
       "      <td>57.2</td>\n",
       "      <td>60.8</td>\n",
       "      <td>61.0</td>\n",
       "      <td>70.0</td>\n",
       "      <td>90.2</td>\n",
       "    </tr>\n",
       "    <tr>\n",
       "      <th>2006</th>\n",
       "      <td>36.0</td>\n",
       "      <td>50.4</td>\n",
       "      <td>57.4</td>\n",
       "      <td>93.6</td>\n",
       "      <td>109.2</td>\n",
       "    </tr>\n",
       "    <tr>\n",
       "      <th>2007</th>\n",
       "      <td>65.8</td>\n",
       "      <td>92.4</td>\n",
       "      <td>107.4</td>\n",
       "      <td>113.6</td>\n",
       "      <td>127.4</td>\n",
       "    </tr>\n",
       "    <tr>\n",
       "      <th>2008</th>\n",
       "      <td>47.2</td>\n",
       "      <td>49.4</td>\n",
       "      <td>59.6</td>\n",
       "      <td>89.8</td>\n",
       "      <td>102.2</td>\n",
       "    </tr>\n",
       "    <tr>\n",
       "      <th>2009</th>\n",
       "      <td>70.8</td>\n",
       "      <td>105.2</td>\n",
       "      <td>132.6</td>\n",
       "      <td>136.6</td>\n",
       "      <td>153.0</td>\n",
       "    </tr>\n",
       "    <tr>\n",
       "      <th>2010</th>\n",
       "      <td>47.6</td>\n",
       "      <td>54.8</td>\n",
       "      <td>55.4</td>\n",
       "      <td>70.8</td>\n",
       "      <td>75.6</td>\n",
       "    </tr>\n",
       "    <tr>\n",
       "      <th>2011</th>\n",
       "      <td>21.8</td>\n",
       "      <td>22.4</td>\n",
       "      <td>35.0</td>\n",
       "      <td>50.2</td>\n",
       "      <td>63.8</td>\n",
       "    </tr>\n",
       "    <tr>\n",
       "      <th>2012</th>\n",
       "      <td>19.0</td>\n",
       "      <td>30.8</td>\n",
       "      <td>40.8</td>\n",
       "      <td>47.4</td>\n",
       "      <td>50.2</td>\n",
       "    </tr>\n",
       "    <tr>\n",
       "      <th>2013</th>\n",
       "      <td>12.0</td>\n",
       "      <td>29.8</td>\n",
       "      <td>43.6</td>\n",
       "      <td>50.2</td>\n",
       "      <td>62.4</td>\n",
       "    </tr>\n",
       "    <tr>\n",
       "      <th>2014</th>\n",
       "      <td>74.2</td>\n",
       "      <td>92.6</td>\n",
       "      <td>96.8</td>\n",
       "      <td>96.8</td>\n",
       "      <td>97.2</td>\n",
       "    </tr>\n",
       "    <tr>\n",
       "      <th>2015</th>\n",
       "      <td>25.8</td>\n",
       "      <td>30.2</td>\n",
       "      <td>34.8</td>\n",
       "      <td>38.0</td>\n",
       "      <td>52.4</td>\n",
       "    </tr>\n",
       "    <tr>\n",
       "      <th>2016</th>\n",
       "      <td>38.6</td>\n",
       "      <td>38.8</td>\n",
       "      <td>39.2</td>\n",
       "      <td>39.2</td>\n",
       "      <td>52.2</td>\n",
       "    </tr>\n",
       "    <tr>\n",
       "      <th>2017</th>\n",
       "      <td>48.4</td>\n",
       "      <td>54.0</td>\n",
       "      <td>57.0</td>\n",
       "      <td>64.2</td>\n",
       "      <td>99.8</td>\n",
       "    </tr>\n",
       "    <tr>\n",
       "      <th>2018</th>\n",
       "      <td>20.8</td>\n",
       "      <td>24.0</td>\n",
       "      <td>25.6</td>\n",
       "      <td>36.4</td>\n",
       "      <td>38.6</td>\n",
       "    </tr>\n",
       "    <tr>\n",
       "      <th>2019</th>\n",
       "      <td>31.2</td>\n",
       "      <td>32.2</td>\n",
       "      <td>44.2</td>\n",
       "      <td>53.2</td>\n",
       "      <td>60.8</td>\n",
       "    </tr>\n",
       "    <tr>\n",
       "      <th>2020</th>\n",
       "      <td>80.0</td>\n",
       "      <td>93.2</td>\n",
       "      <td>93.2</td>\n",
       "      <td>93.2</td>\n",
       "      <td>93.2</td>\n",
       "    </tr>\n",
       "    <tr>\n",
       "      <th>2021</th>\n",
       "      <td>31.8</td>\n",
       "      <td>40.2</td>\n",
       "      <td>42.0</td>\n",
       "      <td>42.0</td>\n",
       "      <td>42.6</td>\n",
       "    </tr>\n",
       "  </tbody>\n",
       "</table>\n",
       "</div>"
      ],
      "text/plain": [
       "        1h     3h     6h    12h    24h\n",
       "anno                                  \n",
       "2000  36.2   36.2   62.0   73.2   93.2\n",
       "2001  37.0   52.8   55.0   69.8   78.8\n",
       "2002  41.8   55.4   58.2   59.0   60.0\n",
       "2003  25.8   29.8   31.0   41.0   46.8\n",
       "2004  21.2   28.0   39.0   45.6   61.6\n",
       "2005  57.2   60.8   61.0   70.0   90.2\n",
       "2006  36.0   50.4   57.4   93.6  109.2\n",
       "2007  65.8   92.4  107.4  113.6  127.4\n",
       "2008  47.2   49.4   59.6   89.8  102.2\n",
       "2009  70.8  105.2  132.6  136.6  153.0\n",
       "2010  47.6   54.8   55.4   70.8   75.6\n",
       "2011  21.8   22.4   35.0   50.2   63.8\n",
       "2012  19.0   30.8   40.8   47.4   50.2\n",
       "2013  12.0   29.8   43.6   50.2   62.4\n",
       "2014  74.2   92.6   96.8   96.8   97.2\n",
       "2015  25.8   30.2   34.8   38.0   52.4\n",
       "2016  38.6   38.8   39.2   39.2   52.2\n",
       "2017  48.4   54.0   57.0   64.2   99.8\n",
       "2018  20.8   24.0   25.6   36.4   38.6\n",
       "2019  31.2   32.2   44.2   53.2   60.8\n",
       "2020  80.0   93.2   93.2   93.2   93.2\n",
       "2021  31.8   40.2   42.0   42.0   42.6"
      ]
     },
     "execution_count": 1,
     "metadata": {},
     "output_type": "execute_result"
    }
   ],
   "source": [
    "import os\n",
    "import math\n",
    "from pandas import *\n",
    "import pandas as pd\n",
    "from datetime import datetime\n",
    "%matplotlib inline \n",
    "import matplotlib.pyplot as plt\n",
    "from statsmodels.distributions.empirical_distribution import ECDF\n",
    "from scipy.stats import norm\n",
    "from scipy.stats import genextreme,gumbel_r\n",
    "from numpy import linspace\n",
    "from pylab import plot,show,hist,figure,title\n",
    "\n",
    "os.getcwd()\n",
    "data = pd.read_csv('PluviometriaVE.txt')\n",
    "map(datetime,data['anno'])\n",
    "data=data.set_index('anno')\n",
    "import numpy as np\n",
    "data"
   ]
  },
  {
   "cell_type": "markdown",
   "id": "e469e85f-eaf7-4fd5-b2d3-cc0ac5f5fa0a",
   "metadata": {},
   "source": [
    "Leggo il dataframe *best_param* con i dati migliori, ottenuto con il Test di Pearson:"
   ]
  },
  {
   "cell_type": "code",
   "execution_count": 2,
   "id": "092c2276-d5b1-4304-a5a5-65b4b3b22b59",
   "metadata": {},
   "outputs": [
    {
     "data": {
      "text/html": [
       "<div>\n",
       "<style scoped>\n",
       "    .dataframe tbody tr th:only-of-type {\n",
       "        vertical-align: middle;\n",
       "    }\n",
       "\n",
       "    .dataframe tbody tr th {\n",
       "        vertical-align: top;\n",
       "    }\n",
       "\n",
       "    .dataframe thead th {\n",
       "        text-align: right;\n",
       "    }\n",
       "</style>\n",
       "<table border=\"1\" class=\"dataframe\">\n",
       "  <thead>\n",
       "    <tr style=\"text-align: right;\">\n",
       "      <th></th>\n",
       "      <th>1h</th>\n",
       "      <th>3h</th>\n",
       "      <th>6h</th>\n",
       "      <th>12h</th>\n",
       "      <th>24h</th>\n",
       "    </tr>\n",
       "  </thead>\n",
       "  <tbody>\n",
       "    <tr>\n",
       "      <th>a</th>\n",
       "      <td>31.724736</td>\n",
       "      <td>39.407941</td>\n",
       "      <td>46.548023</td>\n",
       "      <td>51.548581</td>\n",
       "      <td>64.499459</td>\n",
       "    </tr>\n",
       "    <tr>\n",
       "      <th>b</th>\n",
       "      <td>14.864016</td>\n",
       "      <td>16.922256</td>\n",
       "      <td>17.541655</td>\n",
       "      <td>21.612033</td>\n",
       "      <td>23.011086</td>\n",
       "    </tr>\n",
       "  </tbody>\n",
       "</table>\n",
       "</div>"
      ],
      "text/plain": [
       "          1h         3h         6h        12h        24h\n",
       "a  31.724736  39.407941  46.548023  51.548581  64.499459\n",
       "b  14.864016  16.922256  17.541655  21.612033  23.011086"
      ]
     },
     "execution_count": 2,
     "metadata": {},
     "output_type": "execute_result"
    }
   ],
   "source": [
    "best=pd.read_pickle(\"best_param\")\n",
    "best"
   ]
  },
  {
   "cell_type": "markdown",
   "id": "2b2dde1e-93e1-43f2-a390-18f464f2e312",
   "metadata": {},
   "source": [
    "Devo disegnare le curve e intercettarle in modo tale da invertirle per trovare le varie altezze corrispondenti ai quantili che mi interessano.\n",
    "\n",
    "Per tale operazione è possibile definire una funzione _qtls_ (quantiles), che dato un DataFrame _df_ e i quantili _qu_, restituisce i valori delle ascisse _ppf_ relativi ai quantili, in funzione della curva di Gumbel (definita con _gumbel_r_):"
   ]
  },
  {
   "cell_type": "code",
   "execution_count": 3,
   "id": "a80207fc-c25a-4cd6-9e6f-d4bd7c84a1d6",
   "metadata": {
    "tags": []
   },
   "outputs": [],
   "source": [
    "def qtls(df,qu):\n",
    "    rv1h=gumbel_r(loc=df[\"a\"],scale=df[\"b\"])\n",
    "    return rv1h.ppf(qu)"
   ]
  },
  {
   "cell_type": "markdown",
   "id": "a9c0224d-d5d8-41ab-9876-8c0eb3556a22",
   "metadata": {
    "tags": []
   },
   "source": [
    "Considerando che il quantile è definito come:\n",
    "\\begin{equation}\n",
    "q = 1 - \\frac{1}{T_r}\n",
    "\\end{equation}\n"
   ]
  },
  {
   "cell_type": "markdown",
   "id": "71033261-0e16-407e-af47-98df1624519e",
   "metadata": {},
   "source": [
    "Si calcolano i valori dei quantili relativi a più tempi di ritorno (10, 20 e 100 anni), in quanto le curve devono essere anche visivamente parallele (se non lo sono è probabile che ci siano errori o che i dati siano errati):"
   ]
  },
  {
   "cell_type": "code",
   "execution_count": 4,
   "id": "1f399509-fedb-48f6-88a7-59e955cee175",
   "metadata": {},
   "outputs": [],
   "source": [
    "q10=1-1/10\n",
    "q20=1-1/20\n",
    "q100=1-1/100"
   ]
  },
  {
   "cell_type": "markdown",
   "id": "37680969-0b06-4b60-8948-f5c9485c417a",
   "metadata": {},
   "source": [
    "Definisco il DataFrame _pts_ che fornisce per ciascuna durata oraria il valore corrispondente di precipitazione, assegnato un tempo di ritorno:"
   ]
  },
  {
   "cell_type": "code",
   "execution_count": 5,
   "id": "9d7fb296-3e97-4594-8a2e-13aa5208588e",
   "metadata": {},
   "outputs": [
    {
     "data": {
      "text/html": [
       "<div>\n",
       "<style scoped>\n",
       "    .dataframe tbody tr th:only-of-type {\n",
       "        vertical-align: middle;\n",
       "    }\n",
       "\n",
       "    .dataframe tbody tr th {\n",
       "        vertical-align: top;\n",
       "    }\n",
       "\n",
       "    .dataframe thead th {\n",
       "        text-align: right;\n",
       "    }\n",
       "</style>\n",
       "<table border=\"1\" class=\"dataframe\">\n",
       "  <thead>\n",
       "    <tr style=\"text-align: right;\">\n",
       "      <th></th>\n",
       "      <th>10</th>\n",
       "      <th>20</th>\n",
       "      <th>100</th>\n",
       "    </tr>\n",
       "  </thead>\n",
       "  <tbody>\n",
       "    <tr>\n",
       "      <th>1</th>\n",
       "      <td>65.174233</td>\n",
       "      <td>75.873767</td>\n",
       "      <td>100.101429</td>\n",
       "    </tr>\n",
       "    <tr>\n",
       "      <th>3</th>\n",
       "      <td>77.489232</td>\n",
       "      <td>89.670344</td>\n",
       "      <td>117.252842</td>\n",
       "    </tr>\n",
       "    <tr>\n",
       "      <th>6</th>\n",
       "      <td>86.023189</td>\n",
       "      <td>98.650162</td>\n",
       "      <td>127.242252</td>\n",
       "    </tr>\n",
       "    <tr>\n",
       "      <th>12</th>\n",
       "      <td>100.183595</td>\n",
       "      <td>115.740540</td>\n",
       "      <td>150.967160</td>\n",
       "    </tr>\n",
       "    <tr>\n",
       "      <th>24</th>\n",
       "      <td>116.282855</td>\n",
       "      <td>132.846878</td>\n",
       "      <td>170.353889</td>\n",
       "    </tr>\n",
       "  </tbody>\n",
       "</table>\n",
       "</div>"
      ],
      "text/plain": [
       "           10          20          100\n",
       "1    65.174233   75.873767  100.101429\n",
       "3    77.489232   89.670344  117.252842\n",
       "6    86.023189   98.650162  127.242252\n",
       "12  100.183595  115.740540  150.967160\n",
       "24  116.282855  132.846878  170.353889"
      ]
     },
     "execution_count": 5,
     "metadata": {},
     "output_type": "execute_result"
    }
   ],
   "source": [
    "pts=DataFrame([], index=[10,20,100],columns=[1,3,6,12,24])\n",
    "\n",
    "for interval in [1,3,6,12,24]:\n",
    "    time=str(interval)+'h'\n",
    "    pts[interval]=[qtls(best[time],q10),qtls(best[time],q20),qtls(best[time],q100)]\n",
    "\n",
    "pts=pts.T\n",
    "pts    "
   ]
  },
  {
   "cell_type": "markdown",
   "id": "095c70a5-715b-48ca-ae81-3e26e420a571",
   "metadata": {},
   "source": [
    "Ora l'obiettivo è quello di disegnare i punti del DataFrame _pts_ su un diagramma bilogaritmico, settando anche gli intervalli di validità adeguati:"
   ]
  },
  {
   "cell_type": "code",
   "execution_count": 7,
   "id": "ec199897-baad-4780-b4bf-e16b3234608c",
   "metadata": {
    "jupyter": {
     "source_hidden": true
    },
    "tags": []
   },
   "outputs": [
    {
     "data": {
      "image/png": "[encoded data removed]",
      "text/plain": [
       "<Figure size 432x288 with 1 Axes>"
      ]
     },
     "metadata": {
      "needs_background": "light"
     },
     "output_type": "display_data"
    }
   ],
   "source": [
    "ag=pts.plot(style=\"o\")\n",
    "ag.set_yscale('log')\n",
    "ag.set_xscale('log')\n",
    "plt.xlim([0.7,30])\n",
    "plt.ylim([50,200])\n",
    "plt.show()"
   ]
  },
  {
   "cell_type": "markdown",
   "id": "1113a875-4edf-42e7-9206-d53e7b4ca7d7",
   "metadata": {},
   "source": [
    "Nel diagramma bilogaritmico, le curve di possibilità pluviometrica sono delle rette: è possibile costruire un grafico di questo tipo grazie alla funzione _polyfit_: per eseguire questa operazione bisogna interpolare i vari punti delle altezze di precipitazione (ordinata) appartenenti a _pts_, relative ai diversi tempi di ritorno considerati."
   ]
  },
  {
   "cell_type": "markdown",
   "id": "a6875232-2829-4d9c-a108-bbb20d4d74c4",
   "metadata": {},
   "source": [
    "Considero il logaritmo della definizione di curva di possibilità pluviometrica, ottengo una retta con coefficiente angolare _n_:\n",
    "\n",
    "\\begin{equation}\n",
    "\\log h(t_p, T_r) = \\log a(T_r) + n\\log t_p\n",
    "\\end{equation}\n",
    "\n",
    "\n",
    "L'obiettivo è di inserire all'interno delle rispettive variabili _in10_, _in20_ e _in100_ i punti relativi ai tre tempi di ritorno con la funzione _polyfit_ (fornendo il valore del logaritmo delle altezze di precipitazione) per ottenere i rispettivi valori dei coefficienti angolari _n_ e delle intercette _a_.\n",
    "\n",
    "Per eseguire questa operazione definisco una funzione che, assegnato il Dataframe relativo alle precipitazioni e un tempo di ritorno, restituisce i valori di _n_ ed _a_:"
   ]
  },
  {
   "cell_type": "code",
   "execution_count": 8,
   "id": "f3e713b6-8cee-4f5e-b46e-3c2b1ef50ed2",
   "metadata": {
    "tags": []
   },
   "outputs": [],
   "source": [
    "def na(pt,tr):\n",
    "    a=np.polyfit(np.log(pt.index),np.log(pt[tr]),1)\n",
    "    return [a[0], np.exp(a[1])]\n",
    "in10=na(pts,10)\n",
    "in20=na(pts,20)\n",
    "in100=na(pts,100)"
   ]
  },
  {
   "cell_type": "markdown",
   "id": "b9141be5-2e9f-46d6-a73a-31e0d22c05f5",
   "metadata": {},
   "source": [
    "Con tali informazioni, posso costruirmi un nuovo DataFrame che fornisce i valori dei coefficienti per ogni tempo di ritorno:"
   ]
  },
  {
   "cell_type": "code",
   "execution_count": 9,
   "id": "892e1515-7cd1-4c2b-b14b-938f5455ccd3",
   "metadata": {},
   "outputs": [
    {
     "data": {
      "text/html": [
       "<div>\n",
       "<style scoped>\n",
       "    .dataframe tbody tr th:only-of-type {\n",
       "        vertical-align: middle;\n",
       "    }\n",
       "\n",
       "    .dataframe tbody tr th {\n",
       "        vertical-align: top;\n",
       "    }\n",
       "\n",
       "    .dataframe thead th {\n",
       "        text-align: right;\n",
       "    }\n",
       "</style>\n",
       "<table border=\"1\" class=\"dataframe\">\n",
       "  <thead>\n",
       "    <tr style=\"text-align: right;\">\n",
       "      <th></th>\n",
       "      <th>n</th>\n",
       "      <th>a</th>\n",
       "    </tr>\n",
       "  </thead>\n",
       "  <tbody>\n",
       "    <tr>\n",
       "      <th>10</th>\n",
       "      <td>0.181348</td>\n",
       "      <td>63.991072</td>\n",
       "    </tr>\n",
       "    <tr>\n",
       "      <th>20</th>\n",
       "      <td>0.176214</td>\n",
       "      <td>74.442279</td>\n",
       "    </tr>\n",
       "    <tr>\n",
       "      <th>100</th>\n",
       "      <td>0.168472</td>\n",
       "      <td>98.112131</td>\n",
       "    </tr>\n",
       "  </tbody>\n",
       "</table>\n",
       "</div>"
      ],
      "text/plain": [
       "            n          a\n",
       "10   0.181348  63.991072\n",
       "20   0.176214  74.442279\n",
       "100  0.168472  98.112131"
      ]
     },
     "execution_count": 9,
     "metadata": {},
     "output_type": "execute_result"
    }
   ],
   "source": [
    "fnl=DataFrame([in10,in20,in100],index=[10,20,100],columns=[\"n\",\"a\"])\n",
    "fnl"
   ]
  },
  {
   "cell_type": "markdown",
   "id": "bb0b374a-36fa-465b-b4aa-f3cbf644c8bb",
   "metadata": {},
   "source": [
    "Per generare i grafici delle curve utilizzando questi parametri a ed n; definisco quindi la funzione _h_ di \n",
    "possibilità pluviometrica:"
   ]
  },
  {
   "cell_type": "code",
   "execution_count": 10,
   "id": "32e5e33b-a166-4cff-a82c-23d2519162b4",
   "metadata": {},
   "outputs": [],
   "source": [
    "def h(tp,a,n):\n",
    "    return a*tp**n"
   ]
  },
  {
   "cell_type": "markdown",
   "id": "ece1ef14-9675-4e9c-a95f-9821cadadc0e",
   "metadata": {},
   "source": [
    "Dove per durata definisco la variabile _tp_ che abbia 100 punti, i cui estremi devono racchiudere le durate 1h e 24h:"
   ]
  },
  {
   "cell_type": "code",
   "execution_count": 11,
   "id": "6bd6924a-7cc6-4f1b-942a-c40178b34864",
   "metadata": {},
   "outputs": [
    {
     "data": {
      "text/plain": [
       "array([28.81616162, 29.11212121, 29.40808081, 29.7040404 , 30.        ])"
      ]
     },
     "execution_count": 11,
     "metadata": {},
     "output_type": "execute_result"
    }
   ],
   "source": [
    "tp=np.linspace(0.7,30,100)\n",
    "tp[-5:] #mostra gli ultimi 5 punti"
   ]
  },
  {
   "cell_type": "markdown",
   "id": "6ec5b523-bae4-41dc-9e4c-4f6760dab733",
   "metadata": {},
   "source": [
    "Per disegnare il tutto uso la definizione delle curve di possibilità pluviometrica e poi eseguo i calcoli per le varie durate:"
   ]
  },
  {
   "cell_type": "code",
   "execution_count": 12,
   "id": "3c34c15d-e0dd-478e-a3a8-f13251effe36",
   "metadata": {},
   "outputs": [],
   "source": [
    "h10=h(tp,fnl[\"a\"][10],fnl[\"n\"][10])\n",
    "h20=h(tp,fnl[\"a\"][20],fnl[\"n\"][20])\n",
    "h100=h(tp,fnl[\"a\"][100],fnl[\"n\"][100])"
   ]
  },
  {
   "cell_type": "markdown",
   "id": "b7532f1f-ed91-44a4-aada-e8342bdfcdcf",
   "metadata": {},
   "source": [
    "Inserisco questi valori in un DataFrame, che ha come indice i tempi di ritorno e i valori di _tp_ come colonne:"
   ]
  },
  {
   "cell_type": "code",
   "execution_count": 13,
   "id": "0515e314-71d7-4921-b0c2-65866f9c6f21",
   "metadata": {},
   "outputs": [
    {
     "data": {
      "text/html": [
       "<div>\n",
       "<style scoped>\n",
       "    .dataframe tbody tr th:only-of-type {\n",
       "        vertical-align: middle;\n",
       "    }\n",
       "\n",
       "    .dataframe tbody tr th {\n",
       "        vertical-align: top;\n",
       "    }\n",
       "\n",
       "    .dataframe thead th {\n",
       "        text-align: right;\n",
       "    }\n",
       "</style>\n",
       "<table border=\"1\" class=\"dataframe\">\n",
       "  <thead>\n",
       "    <tr style=\"text-align: right;\">\n",
       "      <th></th>\n",
       "      <th>Tr = 10</th>\n",
       "      <th>Tr = 20</th>\n",
       "      <th>Tr = 100</th>\n",
       "    </tr>\n",
       "  </thead>\n",
       "  <tbody>\n",
       "    <tr>\n",
       "      <th>0.700000</th>\n",
       "      <td>59.982999</td>\n",
       "      <td>69.907493</td>\n",
       "      <td>92.390243</td>\n",
       "    </tr>\n",
       "    <tr>\n",
       "      <th>0.995960</th>\n",
       "      <td>63.944107</td>\n",
       "      <td>74.389189</td>\n",
       "      <td>98.045234</td>\n",
       "    </tr>\n",
       "    <tr>\n",
       "      <th>1.291919</th>\n",
       "      <td>67.033474</td>\n",
       "      <td>77.879098</td>\n",
       "      <td>102.438384</td>\n",
       "    </tr>\n",
       "    <tr>\n",
       "      <th>1.587879</th>\n",
       "      <td>69.588467</td>\n",
       "      <td>80.761901</td>\n",
       "      <td>106.060764</td>\n",
       "    </tr>\n",
       "    <tr>\n",
       "      <th>1.883838</th>\n",
       "      <td>71.779112</td>\n",
       "      <td>83.231221</td>\n",
       "      <td>109.159059</td>\n",
       "    </tr>\n",
       "    <tr>\n",
       "      <th>...</th>\n",
       "      <td>...</td>\n",
       "      <td>...</td>\n",
       "      <td>...</td>\n",
       "    </tr>\n",
       "    <tr>\n",
       "      <th>28.816162</th>\n",
       "      <td>117.712321</td>\n",
       "      <td>134.594813</td>\n",
       "      <td>172.834372</td>\n",
       "    </tr>\n",
       "    <tr>\n",
       "      <th>29.112121</th>\n",
       "      <td>117.930651</td>\n",
       "      <td>134.837382</td>\n",
       "      <td>173.132160</td>\n",
       "    </tr>\n",
       "    <tr>\n",
       "      <th>29.408081</th>\n",
       "      <td>118.147171</td>\n",
       "      <td>135.077928</td>\n",
       "      <td>173.427441</td>\n",
       "    </tr>\n",
       "    <tr>\n",
       "      <th>29.704040</th>\n",
       "      <td>118.361915</td>\n",
       "      <td>135.316488</td>\n",
       "      <td>173.720261</td>\n",
       "    </tr>\n",
       "    <tr>\n",
       "      <th>30.000000</th>\n",
       "      <td>118.574914</td>\n",
       "      <td>135.553099</td>\n",
       "      <td>174.010665</td>\n",
       "    </tr>\n",
       "  </tbody>\n",
       "</table>\n",
       "<p>100 rows × 3 columns</p>\n",
       "</div>"
      ],
      "text/plain": [
       "              Tr = 10     Tr = 20    Tr = 100\n",
       "0.700000    59.982999   69.907493   92.390243\n",
       "0.995960    63.944107   74.389189   98.045234\n",
       "1.291919    67.033474   77.879098  102.438384\n",
       "1.587879    69.588467   80.761901  106.060764\n",
       "1.883838    71.779112   83.231221  109.159059\n",
       "...               ...         ...         ...\n",
       "28.816162  117.712321  134.594813  172.834372\n",
       "29.112121  117.930651  134.837382  173.132160\n",
       "29.408081  118.147171  135.077928  173.427441\n",
       "29.704040  118.361915  135.316488  173.720261\n",
       "30.000000  118.574914  135.553099  174.010665\n",
       "\n",
       "[100 rows x 3 columns]"
      ]
     },
     "execution_count": 13,
     "metadata": {},
     "output_type": "execute_result"
    }
   ],
   "source": [
    "inh=DataFrame([h10,h20,h100],index=[\"Tr = 10\",\"Tr = 20\",\"Tr = 100\"],\n",
    "              columns=tp).T\n",
    "inh[-5:]"
   ]
  },
  {
   "cell_type": "markdown",
   "id": "cc1bc724-e2c4-4b38-bb66-d85e845f723f",
   "metadata": {},
   "source": [
    "A questo punto posso disegnare le curve di possibilità pluviometrica:"
   ]
  },
  {
   "cell_type": "code",
   "execution_count": 14,
   "id": "4924f383-5c81-4174-8470-0d01714eed8e",
   "metadata": {
    "jupyter": {
     "source_hidden": true
    },
    "tags": []
   },
   "outputs": [
    {
     "data": {
      "image/png": "[encoded data removed]",
      "text/plain": [
       "<Figure size 640x480 with 1 Axes>"
      ]
     },
     "metadata": {},
     "output_type": "display_data"
    }
   ],
   "source": [
    "plt.rc('xtick', labelsize=10)\n",
    "plt.rc('ytick', labelsize=10)\n",
    "plt.style.use('default')\n",
    "ag=inh.plot(color= [\"red\",\"blue\", \"magenta\" ])\n",
    "ag.plot(pts[10],'+',c=\"red\",label=\"10h\", markersize=6)\n",
    "ag.plot(pts[20],\"+\",c=\"blue\",label=\"20h\", markersize = 6)\n",
    "ag.plot(pts[100],\"+\",c=\"magenta\", label =\"100h\", markersize = 6)\n",
    "#ag.set_yscale('log')\n",
    "#ag.set_xscale('log')\n",
    "plt.xlim([0.7,30])\n",
    "plt.ylim([50,200])\n",
    "ag.set_title('Curve di Possibilità Pluviometrica')\n",
    "ag.set_xlabel('Durata [h]')\n",
    "ag.set_ylabel('Precipitazinoe Cumulata [mm]')\n",
    "ag.set_aspect('auto')\n",
    "plt.legend(['10h', '20h', '100h'], loc='center left',  title = \"Tempi di ritorno\", title_fontsize = 11, fontsize=11, bbox_to_anchor=(1,0.87))\n",
    "plt.grid(visible=True, which='major', color='gray', alpha=0.6, linestyle='dashdot', lw=0.5)"
   ]
  },
  {
   "cell_type": "markdown",
   "id": "a837834b-894a-4fa3-b925-768a7702a529",
   "metadata": {},
   "source": [
    "Nel grafico bilogaritmico, otterrò le rette relative alle curve di possibilità pluviometrica:"
   ]
  },
  {
   "cell_type": "code",
   "execution_count": 15,
   "id": "9185266b-b204-4106-8fd3-0651d86aaca5",
   "metadata": {
    "jupyter": {
     "source_hidden": true
    },
    "tags": []
   },
   "outputs": [
    {
     "data": {
      "image/png": "[encoded data removed]",
      "text/plain": [
       "<Figure size 640x480 with 1 Axes>"
      ]
     },
     "metadata": {},
     "output_type": "display_data"
    }
   ],
   "source": [
    "plt.rc('xtick', labelsize=10)\n",
    "plt.rc('ytick', labelsize=10)\n",
    "plt.style.use('default')\n",
    "ag=inh.plot(color= [\"red\",\"blue\", \"magenta\" ])\n",
    "ag.set_yscale('log')\n",
    "ag.set_xscale('log')\n",
    "\n",
    "ag.plot(pts[10],'+',c=\"red\",label=\"10h\", markersize=6)\n",
    "ag.plot(pts[20],\"+\",c=\"blue\",label=\"20h\", markersize = 6)\n",
    "ag.plot(pts[100],\"+\",c=\"magenta\", label =\"100h\", markersize = 6)\n",
    "\n",
    "ag.set_title('Linee di Possibilità Pluviometrica')\n",
    "ag.set_xlabel('log(Durata [h])')\n",
    "ag.set_ylabel('log(P [mm])')\n",
    "ag.set_aspect('auto')\n",
    "plt.legend(['10h', '20h', '100h'], loc='center left',  title = \"Tempi di ritorno\", title_fontsize = 11, fontsize=11, bbox_to_anchor=(1,0.87))\n",
    "\n",
    "#major grid lines\n",
    "plt.grid(b=True, which='major', color='gray', alpha=0.6, linestyle='dashdot', lw=0.5)\n",
    "#minor grid lines\n",
    "plt.minorticks_on()\n",
    "plt.grid(b=True, which='minor', color='beige', alpha=0.8, ls='-', lw=0.8)\n",
    "\n",
    "plt.xlim([0.7,30])\n",
    "plt.ylim([50,200])\n",
    "plt.show()"
   ]
  },
  {
   "cell_type": "markdown",
   "id": "a55d1678-5aa9-4cb0-8591-b718288acfe1",
   "metadata": {},
   "source": [
    "Le curve interpolano abbastanza bene i dati e sono inoltre parallele tra loro: la legge di Possibilità Pluviometrica che abbiamo utilizzato va abbastanza bene per i nostri dati."
   ]
  },
  {
   "cell_type": "markdown",
   "id": "74315707-31d3-4b03-a800-e3abd991491a",
   "metadata": {},
   "source": [
    "# Precipitazioni suborarie <a class=\"anchor\" id=\"minuti\"></a>\n",
    "Per la seguente trattazione, sono stati presi in considerazione i dati pluviometrici dal 2000 al 2021 della stazione di Venezia, con le seguente durate: 15 minuti, 30 minuti e 45 minuti."
   ]
  },
  {
   "cell_type": "code",
   "execution_count": 16,
   "id": "c9229a7d-789e-4d5a-9439-cc241866344f",
   "metadata": {
    "tags": []
   },
   "outputs": [
    {
     "data": {
      "text/html": [
       "<div>\n",
       "<style scoped>\n",
       "    .dataframe tbody tr th:only-of-type {\n",
       "        vertical-align: middle;\n",
       "    }\n",
       "\n",
       "    .dataframe tbody tr th {\n",
       "        vertical-align: top;\n",
       "    }\n",
       "\n",
       "    .dataframe thead th {\n",
       "        text-align: right;\n",
       "    }\n",
       "</style>\n",
       "<table border=\"1\" class=\"dataframe\">\n",
       "  <thead>\n",
       "    <tr style=\"text-align: right;\">\n",
       "      <th></th>\n",
       "      <th>15min</th>\n",
       "      <th>30min</th>\n",
       "      <th>45min</th>\n",
       "    </tr>\n",
       "    <tr>\n",
       "      <th>anno</th>\n",
       "      <th></th>\n",
       "      <th></th>\n",
       "      <th></th>\n",
       "    </tr>\n",
       "  </thead>\n",
       "  <tbody>\n",
       "    <tr>\n",
       "      <th>2000</th>\n",
       "      <td>20.8</td>\n",
       "      <td>29.6</td>\n",
       "      <td>32.6</td>\n",
       "    </tr>\n",
       "    <tr>\n",
       "      <th>2001</th>\n",
       "      <td>22.2</td>\n",
       "      <td>31.2</td>\n",
       "      <td>34.8</td>\n",
       "    </tr>\n",
       "    <tr>\n",
       "      <th>2002</th>\n",
       "      <td>26.2</td>\n",
       "      <td>36.6</td>\n",
       "      <td>41.0</td>\n",
       "    </tr>\n",
       "    <tr>\n",
       "      <th>2003</th>\n",
       "      <td>15.8</td>\n",
       "      <td>20.8</td>\n",
       "      <td>25.4</td>\n",
       "    </tr>\n",
       "    <tr>\n",
       "      <th>2004</th>\n",
       "      <td>13.6</td>\n",
       "      <td>18.6</td>\n",
       "      <td>19.2</td>\n",
       "    </tr>\n",
       "    <tr>\n",
       "      <th>2005</th>\n",
       "      <td>28.2</td>\n",
       "      <td>48.2</td>\n",
       "      <td>53.6</td>\n",
       "    </tr>\n",
       "    <tr>\n",
       "      <th>2006</th>\n",
       "      <td>18.0</td>\n",
       "      <td>24.4</td>\n",
       "      <td>30.8</td>\n",
       "    </tr>\n",
       "    <tr>\n",
       "      <th>2007</th>\n",
       "      <td>28.6</td>\n",
       "      <td>39.0</td>\n",
       "      <td>57.8</td>\n",
       "    </tr>\n",
       "    <tr>\n",
       "      <th>2008</th>\n",
       "      <td>18.6</td>\n",
       "      <td>34.4</td>\n",
       "      <td>43.8</td>\n",
       "    </tr>\n",
       "    <tr>\n",
       "      <th>2009</th>\n",
       "      <td>24.6</td>\n",
       "      <td>44.6</td>\n",
       "      <td>61.2</td>\n",
       "    </tr>\n",
       "    <tr>\n",
       "      <th>2010</th>\n",
       "      <td>16.2</td>\n",
       "      <td>28.2</td>\n",
       "      <td>42.2</td>\n",
       "    </tr>\n",
       "    <tr>\n",
       "      <th>2011</th>\n",
       "      <td>15.8</td>\n",
       "      <td>17.8</td>\n",
       "      <td>21.0</td>\n",
       "    </tr>\n",
       "    <tr>\n",
       "      <th>2012</th>\n",
       "      <td>15.8</td>\n",
       "      <td>18.6</td>\n",
       "      <td>18.6</td>\n",
       "    </tr>\n",
       "    <tr>\n",
       "      <th>2013</th>\n",
       "      <td>7.2</td>\n",
       "      <td>8.8</td>\n",
       "      <td>9.6</td>\n",
       "    </tr>\n",
       "    <tr>\n",
       "      <th>2014</th>\n",
       "      <td>32.2</td>\n",
       "      <td>55.4</td>\n",
       "      <td>67.2</td>\n",
       "    </tr>\n",
       "    <tr>\n",
       "      <th>2015</th>\n",
       "      <td>14.2</td>\n",
       "      <td>21.0</td>\n",
       "      <td>24.0</td>\n",
       "    </tr>\n",
       "    <tr>\n",
       "      <th>2016</th>\n",
       "      <td>23.8</td>\n",
       "      <td>36.0</td>\n",
       "      <td>38.4</td>\n",
       "    </tr>\n",
       "    <tr>\n",
       "      <th>2017</th>\n",
       "      <td>22.6</td>\n",
       "      <td>35.4</td>\n",
       "      <td>44.0</td>\n",
       "    </tr>\n",
       "    <tr>\n",
       "      <th>2018</th>\n",
       "      <td>10.0</td>\n",
       "      <td>18.0</td>\n",
       "      <td>20.8</td>\n",
       "    </tr>\n",
       "    <tr>\n",
       "      <th>2019</th>\n",
       "      <td>25.0</td>\n",
       "      <td>28.6</td>\n",
       "      <td>30.6</td>\n",
       "    </tr>\n",
       "    <tr>\n",
       "      <th>2020</th>\n",
       "      <td>25.0</td>\n",
       "      <td>42.2</td>\n",
       "      <td>65.2</td>\n",
       "    </tr>\n",
       "    <tr>\n",
       "      <th>2021</th>\n",
       "      <td>20.2</td>\n",
       "      <td>28.0</td>\n",
       "      <td>30.6</td>\n",
       "    </tr>\n",
       "  </tbody>\n",
       "</table>\n",
       "</div>"
      ],
      "text/plain": [
       "      15min  30min  45min\n",
       "anno                     \n",
       "2000   20.8   29.6   32.6\n",
       "2001   22.2   31.2   34.8\n",
       "2002   26.2   36.6   41.0\n",
       "2003   15.8   20.8   25.4\n",
       "2004   13.6   18.6   19.2\n",
       "2005   28.2   48.2   53.6\n",
       "2006   18.0   24.4   30.8\n",
       "2007   28.6   39.0   57.8\n",
       "2008   18.6   34.4   43.8\n",
       "2009   24.6   44.6   61.2\n",
       "2010   16.2   28.2   42.2\n",
       "2011   15.8   17.8   21.0\n",
       "2012   15.8   18.6   18.6\n",
       "2013    7.2    8.8    9.6\n",
       "2014   32.2   55.4   67.2\n",
       "2015   14.2   21.0   24.0\n",
       "2016   23.8   36.0   38.4\n",
       "2017   22.6   35.4   44.0\n",
       "2018   10.0   18.0   20.8\n",
       "2019   25.0   28.6   30.6\n",
       "2020   25.0   42.2   65.2\n",
       "2021   20.2   28.0   30.6"
      ]
     },
     "execution_count": 16,
     "metadata": {},
     "output_type": "execute_result"
    }
   ],
   "source": [
    "dataM = pd.read_csv('PluviometriaMin.txt')\n",
    "map(datetime,dataM['anno']) \n",
    "dataM=dataM.set_index('anno')\n",
    "dataM"
   ]
  },
  {
   "cell_type": "code",
   "execution_count": 17,
   "id": "968c1f85-c5fd-46b4-a42d-2e9c20b91c1e",
   "metadata": {},
   "outputs": [
    {
     "data": {
      "text/html": [
       "<div>\n",
       "<style scoped>\n",
       "    .dataframe tbody tr th:only-of-type {\n",
       "        vertical-align: middle;\n",
       "    }\n",
       "\n",
       "    .dataframe tbody tr th {\n",
       "        vertical-align: top;\n",
       "    }\n",
       "\n",
       "    .dataframe thead th {\n",
       "        text-align: right;\n",
       "    }\n",
       "</style>\n",
       "<table border=\"1\" class=\"dataframe\">\n",
       "  <thead>\n",
       "    <tr style=\"text-align: right;\">\n",
       "      <th></th>\n",
       "      <th>15min</th>\n",
       "      <th>30min</th>\n",
       "      <th>45min</th>\n",
       "    </tr>\n",
       "  </thead>\n",
       "  <tbody>\n",
       "    <tr>\n",
       "      <th>a</th>\n",
       "      <td>17.090649</td>\n",
       "      <td>24.812751</td>\n",
       "      <td>29.634609</td>\n",
       "    </tr>\n",
       "    <tr>\n",
       "      <th>b</th>\n",
       "      <td>6.053625</td>\n",
       "      <td>10.010693</td>\n",
       "      <td>12.634209</td>\n",
       "    </tr>\n",
       "  </tbody>\n",
       "</table>\n",
       "</div>"
      ],
      "text/plain": [
       "       15min      30min      45min\n",
       "a  17.090649  24.812751  29.634609\n",
       "b   6.053625  10.010693  12.634209"
      ]
     },
     "execution_count": 17,
     "metadata": {},
     "output_type": "execute_result"
    }
   ],
   "source": [
    "best=pd.read_pickle(\"best_param_min\")\n",
    "best"
   ]
  },
  {
   "cell_type": "code",
   "execution_count": 18,
   "id": "5a582462-39f0-4a8d-87df-59a515183652",
   "metadata": {},
   "outputs": [],
   "source": [
    "# definisco una funzione che restituisce i valori delle ascisse relativi ai quantili, in funzione della curva di Gumbel \n",
    "def qtls(df,qu):\n",
    "    rv1h=gumbel_r(loc=df[\"a\"],scale=df[\"b\"])\n",
    "    return rv1h.ppf(qu)\n",
    "\n",
    "# calcolo i valori dei quantili relativi a Tr di 10, 20 e 100 anni\n",
    "q10=1-1/10\n",
    "q20=1-1/20\n",
    "q100=1-1/100\n",
    "\n",
    "# Definisco un DataFrame che assegnato un Tr fornisce per ciascuna durata il valore corrispondente di precipitazione\n",
    "pts=DataFrame([], index=[10,20,100],columns=[15,30,45])\n",
    "for interval in [15,30,45]:\n",
    "    time=str(interval)+'min'\n",
    "    pts[interval]=[qtls(best[time],q10),qtls(best[time],q20),qtls(best[time],q100)]\n",
    "pts=pts.T\n",
    "\n",
    "# funzione che assegnato il Dataframe relativo alle precipitazioni e un tempo di ritorno, restituisce i valori di n ed a\n",
    "def na(pt,tr):\n",
    "    a=np.polyfit(np.log(pt.index),np.log(pt[tr]),1)\n",
    "    return [a[0], np.exp(a[1])]\n",
    "in10=na(pts,10)\n",
    "in20=na(pts,20)\n",
    "in100=na(pts,100)\n",
    "\n",
    "# dataframe che fornisce i valori di n ed a per ogni Tr \n",
    "fnl=DataFrame([in10,in20,in100],index=[10,20,100],columns=[\"n\",\"a\"])\n",
    "\n",
    "# funzione di possiibilità pluviometrica\n",
    "def h(tp,a,n):\n",
    "    return a*tp**n\n",
    "\n",
    "# Definisco una variabile che possa contenere tutte le precipitazioni\n",
    "tp=np.linspace(0.7,50,100)\n",
    "\n",
    "#valuto la funzione per ogni Tr\n",
    "h10=h(tp,fnl[\"a\"][10],fnl[\"n\"][10])\n",
    "h20=h(tp,fnl[\"a\"][20],fnl[\"n\"][20])\n",
    "h100=h(tp,fnl[\"a\"][100],fnl[\"n\"][100])\n",
    "\n",
    "#Inserisco questi valori in un DataFrame\n",
    "inh=DataFrame([h10,h20,h100],index=[\"Tr = 10\",\"Tr = 20\",\"Tr = 100\"],\n",
    "              columns=tp).T"
   ]
  },
  {
   "cell_type": "markdown",
   "id": "d3ce13e4-a7c9-4ac4-883b-f14efda7766c",
   "metadata": {},
   "source": [
    "DataFrame che fornisce per ciascuna durata oraria il valore corrispondente di precipitazione, assegnato un tempo di ritorno:"
   ]
  },
  {
   "cell_type": "code",
   "execution_count": 19,
   "id": "58a4f54b-a98d-4e34-8bd3-9bd9d59fef74",
   "metadata": {
    "jupyter": {
     "source_hidden": true
    },
    "tags": []
   },
   "outputs": [
    {
     "data": {
      "text/html": [
       "<div>\n",
       "<style scoped>\n",
       "    .dataframe tbody tr th:only-of-type {\n",
       "        vertical-align: middle;\n",
       "    }\n",
       "\n",
       "    .dataframe tbody tr th {\n",
       "        vertical-align: top;\n",
       "    }\n",
       "\n",
       "    .dataframe thead th {\n",
       "        text-align: right;\n",
       "    }\n",
       "</style>\n",
       "<table border=\"1\" class=\"dataframe\">\n",
       "  <thead>\n",
       "    <tr style=\"text-align: right;\">\n",
       "      <th></th>\n",
       "      <th>10</th>\n",
       "      <th>20</th>\n",
       "      <th>100</th>\n",
       "    </tr>\n",
       "  </thead>\n",
       "  <tbody>\n",
       "    <tr>\n",
       "      <th>15</th>\n",
       "      <td>30.713530</td>\n",
       "      <td>35.071098</td>\n",
       "      <td>44.938229</td>\n",
       "    </tr>\n",
       "    <tr>\n",
       "      <th>30</th>\n",
       "      <td>47.340488</td>\n",
       "      <td>54.546464</td>\n",
       "      <td>70.863433</td>\n",
       "    </tr>\n",
       "    <tr>\n",
       "      <th>45</th>\n",
       "      <td>58.066220</td>\n",
       "      <td>67.160677</td>\n",
       "      <td>87.753856</td>\n",
       "    </tr>\n",
       "  </tbody>\n",
       "</table>\n",
       "</div>"
      ],
      "text/plain": [
       "          10         20         100\n",
       "15  30.713530  35.071098  44.938229\n",
       "30  47.340488  54.546464  70.863433\n",
       "45  58.066220  67.160677  87.753856"
      ]
     },
     "execution_count": 19,
     "metadata": {},
     "output_type": "execute_result"
    }
   ],
   "source": [
    "pts"
   ]
  },
  {
   "cell_type": "markdown",
   "id": "8817c39d-1fe8-434d-b8db-2aaaf4cabdd2",
   "metadata": {},
   "source": [
    "Valori del coefficiente *n* e di intercetta *a* per ciascun tempo di ritorno:"
   ]
  },
  {
   "cell_type": "code",
   "execution_count": 20,
   "id": "48177275-5c04-4f66-9fa7-d390311a234b",
   "metadata": {
    "jupyter": {
     "source_hidden": true
    },
    "tags": []
   },
   "outputs": [
    {
     "data": {
      "text/html": [
       "<div>\n",
       "<style scoped>\n",
       "    .dataframe tbody tr th:only-of-type {\n",
       "        vertical-align: middle;\n",
       "    }\n",
       "\n",
       "    .dataframe tbody tr th {\n",
       "        vertical-align: top;\n",
       "    }\n",
       "\n",
       "    .dataframe thead th {\n",
       "        text-align: right;\n",
       "    }\n",
       "</style>\n",
       "<table border=\"1\" class=\"dataframe\">\n",
       "  <thead>\n",
       "    <tr style=\"text-align: right;\">\n",
       "      <th></th>\n",
       "      <th>n</th>\n",
       "      <th>a</th>\n",
       "    </tr>\n",
       "  </thead>\n",
       "  <tbody>\n",
       "    <tr>\n",
       "      <th>10</th>\n",
       "      <td>0.584504</td>\n",
       "      <td>6.355075</td>\n",
       "    </tr>\n",
       "    <tr>\n",
       "      <th>20</th>\n",
       "      <td>0.596325</td>\n",
       "      <td>7.029655</td>\n",
       "    </tr>\n",
       "    <tr>\n",
       "      <th>100</th>\n",
       "      <td>0.614335</td>\n",
       "      <td>8.581670</td>\n",
       "    </tr>\n",
       "  </tbody>\n",
       "</table>\n",
       "</div>"
      ],
      "text/plain": [
       "            n         a\n",
       "10   0.584504  6.355075\n",
       "20   0.596325  7.029655\n",
       "100  0.614335  8.581670"
      ]
     },
     "execution_count": 20,
     "metadata": {},
     "output_type": "execute_result"
    }
   ],
   "source": [
    "fnl"
   ]
  },
  {
   "cell_type": "code",
   "execution_count": 21,
   "id": "a3166df3-3849-4160-a31f-7c3a8c020f27",
   "metadata": {
    "jupyter": {
     "source_hidden": true
    },
    "tags": []
   },
   "outputs": [
    {
     "data": {
      "text/html": [
       "<div>\n",
       "<style scoped>\n",
       "    .dataframe tbody tr th:only-of-type {\n",
       "        vertical-align: middle;\n",
       "    }\n",
       "\n",
       "    .dataframe tbody tr th {\n",
       "        vertical-align: top;\n",
       "    }\n",
       "\n",
       "    .dataframe thead th {\n",
       "        text-align: right;\n",
       "    }\n",
       "</style>\n",
       "<table border=\"1\" class=\"dataframe\">\n",
       "  <thead>\n",
       "    <tr style=\"text-align: right;\">\n",
       "      <th></th>\n",
       "      <th>Tr = 10</th>\n",
       "      <th>Tr = 20</th>\n",
       "      <th>Tr = 100</th>\n",
       "    </tr>\n",
       "  </thead>\n",
       "  <tbody>\n",
       "    <tr>\n",
       "      <th>0.700000</th>\n",
       "      <td>5.159170</td>\n",
       "      <td>5.682796</td>\n",
       "      <td>6.893028</td>\n",
       "    </tr>\n",
       "    <tr>\n",
       "      <th>1.197980</th>\n",
       "      <td>7.062765</td>\n",
       "      <td>7.829164</td>\n",
       "      <td>9.588841</td>\n",
       "    </tr>\n",
       "    <tr>\n",
       "      <th>1.695960</th>\n",
       "      <td>8.653963</td>\n",
       "      <td>9.632526</td>\n",
       "      <td>11.871616</td>\n",
       "    </tr>\n",
       "    <tr>\n",
       "      <th>2.193939</th>\n",
       "      <td>10.059305</td>\n",
       "      <td>11.230906</td>\n",
       "      <td>13.905869</td>\n",
       "    </tr>\n",
       "    <tr>\n",
       "      <th>2.691919</th>\n",
       "      <td>11.336887</td>\n",
       "      <td>12.687929</td>\n",
       "      <td>15.767909</td>\n",
       "    </tr>\n",
       "    <tr>\n",
       "      <th>...</th>\n",
       "      <td>...</td>\n",
       "      <td>...</td>\n",
       "      <td>...</td>\n",
       "    </tr>\n",
       "    <tr>\n",
       "      <th>48.008081</th>\n",
       "      <td>61.073970</td>\n",
       "      <td>70.720257</td>\n",
       "      <td>92.568359</td>\n",
       "    </tr>\n",
       "    <tr>\n",
       "      <th>48.506061</th>\n",
       "      <td>61.443465</td>\n",
       "      <td>71.156791</td>\n",
       "      <td>93.157067</td>\n",
       "    </tr>\n",
       "    <tr>\n",
       "      <th>49.004040</th>\n",
       "      <td>61.811388</td>\n",
       "      <td>71.591520</td>\n",
       "      <td>93.743449</td>\n",
       "    </tr>\n",
       "    <tr>\n",
       "      <th>49.502020</th>\n",
       "      <td>62.177760</td>\n",
       "      <td>72.024469</td>\n",
       "      <td>94.327537</td>\n",
       "    </tr>\n",
       "    <tr>\n",
       "      <th>50.000000</th>\n",
       "      <td>62.542604</td>\n",
       "      <td>72.455664</td>\n",
       "      <td>94.909363</td>\n",
       "    </tr>\n",
       "  </tbody>\n",
       "</table>\n",
       "<p>100 rows × 3 columns</p>\n",
       "</div>"
      ],
      "text/plain": [
       "             Tr = 10    Tr = 20   Tr = 100\n",
       "0.700000    5.159170   5.682796   6.893028\n",
       "1.197980    7.062765   7.829164   9.588841\n",
       "1.695960    8.653963   9.632526  11.871616\n",
       "2.193939   10.059305  11.230906  13.905869\n",
       "2.691919   11.336887  12.687929  15.767909\n",
       "...              ...        ...        ...\n",
       "48.008081  61.073970  70.720257  92.568359\n",
       "48.506061  61.443465  71.156791  93.157067\n",
       "49.004040  61.811388  71.591520  93.743449\n",
       "49.502020  62.177760  72.024469  94.327537\n",
       "50.000000  62.542604  72.455664  94.909363\n",
       "\n",
       "[100 rows x 3 columns]"
      ]
     },
     "execution_count": 21,
     "metadata": {},
     "output_type": "execute_result"
    }
   ],
   "source": [
    "inh"
   ]
  },
  {
   "cell_type": "code",
   "execution_count": 22,
   "id": "9b7e1fdb-3c89-4f11-bc2c-9831fa587734",
   "metadata": {
    "jupyter": {
     "source_hidden": true
    },
    "tags": []
   },
   "outputs": [
    {
     "data": {
      "image/png": "[encoded data removed]",
      "text/plain": [
       "<Figure size 640x480 with 1 Axes>"
      ]
     },
     "metadata": {},
     "output_type": "display_data"
    }
   ],
   "source": [
    "plt.rc('xtick', labelsize=10)\n",
    "plt.rc('ytick', labelsize=10)\n",
    "plt.style.use('default')\n",
    "ag=inh.plot(color= [\"red\",\"blue\", \"magenta\" ])\n",
    "ag.plot(pts[10],'+',c=\"red\",label=\"10h\", markersize=6)\n",
    "ag.plot(pts[20],\"+\",c=\"blue\",label=\"20h\", markersize = 6)\n",
    "ag.plot(pts[100],\"+\",c=\"magenta\", label =\"100h\", markersize = 6)\n",
    "#ag.set_yscale('log')\n",
    "#ag.set_xscale('log')\n",
    "plt.xlim([0.7,50])\n",
    "plt.ylim([5,110])\n",
    "ag.set_title('Curve di Possibilità Pluviometrica')\n",
    "ag.set_xlabel('Durata [h]')\n",
    "ag.set_ylabel('Precipitazinoe Cumulata [mm]')\n",
    "ag.set_aspect('auto')\n",
    "#legenda\n",
    "plt.legend(['10h', '20h', '100h'], loc='center left',  title = \"Tempi di ritorno\", title_fontsize = 11, fontsize=11, bbox_to_anchor=(1,0.87))\n",
    "#major grid lines\n",
    "plt.grid(b=True, which='major', color='gray', alpha=0.6, linestyle='dashdot', lw=0.5)\n",
    "#minor grid lines\n",
    "plt.minorticks_on()\n",
    "plt.grid(b=True, which='minor', color='beige', alpha=0.8, ls='-', lw=0.8)\n",
    "plt.show()"
   ]
  },
  {
   "cell_type": "code",
   "execution_count": 23,
   "id": "96a70eaf-c566-40d1-8976-dad80d30a7dc",
   "metadata": {
    "jupyter": {
     "source_hidden": true
    },
    "tags": []
   },
   "outputs": [
    {
     "data": {
      "image/png": "[encoded data removed]",
      "text/plain": [
       "<Figure size 640x480 with 1 Axes>"
      ]
     },
     "metadata": {},
     "output_type": "display_data"
    }
   ],
   "source": [
    "plt.rc('xtick', labelsize=10)\n",
    "plt.rc('ytick', labelsize=10)\n",
    "plt.style.use('default')\n",
    "ag=inh.plot(color= [\"red\",\"blue\", \"magenta\" ])\n",
    "ag.set_yscale('log')\n",
    "ag.set_xscale('log')\n",
    "\n",
    "ag.plot(pts[10],'+',c=\"red\",label=\"10h\", markersize=6)\n",
    "ag.plot(pts[20],\"+\",c=\"blue\",label=\"20h\", markersize = 6)\n",
    "ag.plot(pts[100],\"+\",c=\"magenta\", label =\"100h\", markersize = 6)\n",
    "\n",
    "ag.set_title('Linee di Possibilità Pluviometrica')\n",
    "ag.set_xlabel('log(Durata [h])')\n",
    "ag.set_ylabel('log(P [mm])')\n",
    "ag.set_aspect('auto')\n",
    "plt.legend(['10h', '20h', '100h'], loc='center left',  title = \"Tempi di ritorno\", title_fontsize = 11, fontsize=11, bbox_to_anchor=(1,0.87))\n",
    "\n",
    "#major grid lines\n",
    "plt.grid(b=True, which='major', color='gray', alpha=0.6, linestyle='dashdot', lw=0.5)\n",
    "#minor grid lines\n",
    "plt.minorticks_on()\n",
    "plt.grid(b=True, which='minor', color='beige', alpha=0.8, ls='-', lw=0.8)\n",
    "plt.xlim([0.7,50])\n",
    "plt.ylim([5,110])\n",
    "plt.show()"
   ]
  }
 ],
 "metadata": {
  "kernelspec": {
   "display_name": "Python 3 (ipykernel)",
   "language": "python",
   "name": "python3"
  },
  "language_info": {
   "codemirror_mode": {
    "name": "ipython",
    "version": 3
   },
   "file_extension": ".py",
   "mimetype": "text/x-python",
   "name": "python",
   "nbconvert_exporter": "python",
   "pygments_lexer": "ipython3",
   "version": "3.7.12"
  }
 },
 "nbformat": 4,
 "nbformat_minor": 5
}
