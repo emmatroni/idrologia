{
 "cells": [
  {
   "cell_type": "markdown",
   "id": "cf99480e-bdb7-4c6a-b33e-571da32f73fc",
   "metadata": {},
   "source": [
    "# Test di Pearson"
   ]
  },
  {
   "cell_type": "markdown",
   "id": "6cb0b9fd-9a45-40fd-a46f-f6f9146f0b44",
   "metadata": {},
   "source": [
    "Il test di Pearson è un criterio di confronto non parametrico che ci consente di conoscere quale coppia di parametri $a$ e $b$ è quella che meglio descrive i dati a nostra disposizione.\n",
    "\n",
    "La curva migliore è quella che suddivide i dati in degli intervalli, in un numero di elementi equivalenete sul suo dominio.\n",
    "\n",
    "Il test consiste in:\n",
    "1. Suddividere in 5 parti uguali il campo di probabilità (quantili)\n",
    "2. Derivare una suddivisione del dominio in 5 intervalli\n",
    "3. Contare il numero di dati per ogni intervallo\n",
    "4. Valutare la funzione:\n",
    "\\begin{equation}\n",
    "X^2=\\sum_i^5 \\frac{N_i - 22\\cdot(P[H<h_{6}]-P[H<h_5])^2}{22\\cdot(P[H<h_{6}]-P[H<h_5])}\n",
    "\\end{equation}\n",
    "\n",
    "Con:\n",
    "- Numero di misurazioni totali: $n = 22$\n",
    "- Numero di intervalli: $j=5$\n",
    "- Numero di dati in ciascun i-esimo intervallo: $N_i$.\n"
   ]
  },
  {
   "cell_type": "code",
   "execution_count": 1,
   "id": "35095a66-a1ca-4bfb-b481-54c20fae6635",
   "metadata": {},
   "outputs": [],
   "source": [
    "import os\n",
    "import math\n",
    "from pandas import *\n",
    "import pandas as pd\n",
    "from datetime import datetime\n",
    "%matplotlib inline \n",
    "import matplotlib.pyplot as plt\n",
    "from statsmodels.distributions.empirical_distribution import ECDF\n",
    "\n",
    "data = pd.read_csv('PluviometriaVE.txt')\n",
    "map(datetime,data['anno'])\n",
    "data=data.set_index('anno')"
   ]
  },
  {
   "cell_type": "code",
   "execution_count": 2,
   "id": "4fcb7f10-2c0e-4ea6-aa1a-839bd5572524",
   "metadata": {},
   "outputs": [
    {
     "data": {
      "text/html": [
       "<div>\n",
       "<style scoped>\n",
       "    .dataframe tbody tr th:only-of-type {\n",
       "        vertical-align: middle;\n",
       "    }\n",
       "\n",
       "    .dataframe tbody tr th {\n",
       "        vertical-align: top;\n",
       "    }\n",
       "\n",
       "    .dataframe thead th {\n",
       "        text-align: right;\n",
       "    }\n",
       "</style>\n",
       "<table border=\"1\" class=\"dataframe\">\n",
       "  <thead>\n",
       "    <tr style=\"text-align: right;\">\n",
       "      <th></th>\n",
       "      <th>1h</th>\n",
       "      <th>3h</th>\n",
       "      <th>6h</th>\n",
       "      <th>12h</th>\n",
       "      <th>24h</th>\n",
       "    </tr>\n",
       "    <tr>\n",
       "      <th>anno</th>\n",
       "      <th></th>\n",
       "      <th></th>\n",
       "      <th></th>\n",
       "      <th></th>\n",
       "      <th></th>\n",
       "    </tr>\n",
       "  </thead>\n",
       "  <tbody>\n",
       "    <tr>\n",
       "      <th>2000</th>\n",
       "      <td>36.2</td>\n",
       "      <td>36.2</td>\n",
       "      <td>62.0</td>\n",
       "      <td>73.2</td>\n",
       "      <td>93.2</td>\n",
       "    </tr>\n",
       "    <tr>\n",
       "      <th>2001</th>\n",
       "      <td>37.0</td>\n",
       "      <td>52.8</td>\n",
       "      <td>55.0</td>\n",
       "      <td>69.8</td>\n",
       "      <td>78.8</td>\n",
       "    </tr>\n",
       "    <tr>\n",
       "      <th>2002</th>\n",
       "      <td>41.8</td>\n",
       "      <td>55.4</td>\n",
       "      <td>58.2</td>\n",
       "      <td>59.0</td>\n",
       "      <td>60.0</td>\n",
       "    </tr>\n",
       "    <tr>\n",
       "      <th>2003</th>\n",
       "      <td>25.8</td>\n",
       "      <td>29.8</td>\n",
       "      <td>31.0</td>\n",
       "      <td>41.0</td>\n",
       "      <td>46.8</td>\n",
       "    </tr>\n",
       "    <tr>\n",
       "      <th>2004</th>\n",
       "      <td>21.2</td>\n",
       "      <td>28.0</td>\n",
       "      <td>39.0</td>\n",
       "      <td>45.6</td>\n",
       "      <td>61.6</td>\n",
       "    </tr>\n",
       "    <tr>\n",
       "      <th>2005</th>\n",
       "      <td>57.2</td>\n",
       "      <td>60.8</td>\n",
       "      <td>61.0</td>\n",
       "      <td>70.0</td>\n",
       "      <td>90.2</td>\n",
       "    </tr>\n",
       "    <tr>\n",
       "      <th>2006</th>\n",
       "      <td>36.0</td>\n",
       "      <td>50.4</td>\n",
       "      <td>57.4</td>\n",
       "      <td>93.6</td>\n",
       "      <td>109.2</td>\n",
       "    </tr>\n",
       "    <tr>\n",
       "      <th>2007</th>\n",
       "      <td>65.8</td>\n",
       "      <td>92.4</td>\n",
       "      <td>107.4</td>\n",
       "      <td>113.6</td>\n",
       "      <td>127.4</td>\n",
       "    </tr>\n",
       "    <tr>\n",
       "      <th>2008</th>\n",
       "      <td>47.2</td>\n",
       "      <td>49.4</td>\n",
       "      <td>59.6</td>\n",
       "      <td>89.8</td>\n",
       "      <td>102.2</td>\n",
       "    </tr>\n",
       "    <tr>\n",
       "      <th>2009</th>\n",
       "      <td>70.8</td>\n",
       "      <td>105.2</td>\n",
       "      <td>132.6</td>\n",
       "      <td>136.6</td>\n",
       "      <td>153.0</td>\n",
       "    </tr>\n",
       "    <tr>\n",
       "      <th>2010</th>\n",
       "      <td>47.6</td>\n",
       "      <td>54.8</td>\n",
       "      <td>55.4</td>\n",
       "      <td>70.8</td>\n",
       "      <td>75.6</td>\n",
       "    </tr>\n",
       "    <tr>\n",
       "      <th>2011</th>\n",
       "      <td>21.8</td>\n",
       "      <td>22.4</td>\n",
       "      <td>35.0</td>\n",
       "      <td>50.2</td>\n",
       "      <td>63.8</td>\n",
       "    </tr>\n",
       "    <tr>\n",
       "      <th>2012</th>\n",
       "      <td>19.0</td>\n",
       "      <td>30.8</td>\n",
       "      <td>40.8</td>\n",
       "      <td>47.4</td>\n",
       "      <td>50.2</td>\n",
       "    </tr>\n",
       "    <tr>\n",
       "      <th>2013</th>\n",
       "      <td>12.0</td>\n",
       "      <td>29.8</td>\n",
       "      <td>43.6</td>\n",
       "      <td>50.2</td>\n",
       "      <td>62.4</td>\n",
       "    </tr>\n",
       "    <tr>\n",
       "      <th>2014</th>\n",
       "      <td>74.2</td>\n",
       "      <td>92.6</td>\n",
       "      <td>96.8</td>\n",
       "      <td>96.8</td>\n",
       "      <td>97.2</td>\n",
       "    </tr>\n",
       "    <tr>\n",
       "      <th>2015</th>\n",
       "      <td>25.8</td>\n",
       "      <td>30.2</td>\n",
       "      <td>34.8</td>\n",
       "      <td>38.0</td>\n",
       "      <td>52.4</td>\n",
       "    </tr>\n",
       "    <tr>\n",
       "      <th>2016</th>\n",
       "      <td>38.6</td>\n",
       "      <td>38.8</td>\n",
       "      <td>39.2</td>\n",
       "      <td>39.2</td>\n",
       "      <td>52.2</td>\n",
       "    </tr>\n",
       "    <tr>\n",
       "      <th>2017</th>\n",
       "      <td>48.4</td>\n",
       "      <td>54.0</td>\n",
       "      <td>57.0</td>\n",
       "      <td>64.2</td>\n",
       "      <td>99.8</td>\n",
       "    </tr>\n",
       "    <tr>\n",
       "      <th>2018</th>\n",
       "      <td>20.8</td>\n",
       "      <td>24.0</td>\n",
       "      <td>25.6</td>\n",
       "      <td>36.4</td>\n",
       "      <td>38.6</td>\n",
       "    </tr>\n",
       "    <tr>\n",
       "      <th>2019</th>\n",
       "      <td>31.2</td>\n",
       "      <td>32.2</td>\n",
       "      <td>44.2</td>\n",
       "      <td>53.2</td>\n",
       "      <td>60.8</td>\n",
       "    </tr>\n",
       "    <tr>\n",
       "      <th>2020</th>\n",
       "      <td>80.0</td>\n",
       "      <td>93.2</td>\n",
       "      <td>93.2</td>\n",
       "      <td>93.2</td>\n",
       "      <td>93.2</td>\n",
       "    </tr>\n",
       "    <tr>\n",
       "      <th>2021</th>\n",
       "      <td>31.8</td>\n",
       "      <td>40.2</td>\n",
       "      <td>42.0</td>\n",
       "      <td>42.0</td>\n",
       "      <td>42.6</td>\n",
       "    </tr>\n",
       "  </tbody>\n",
       "</table>\n",
       "</div>"
      ],
      "text/plain": [
       "        1h     3h     6h    12h    24h\n",
       "anno                                  \n",
       "2000  36.2   36.2   62.0   73.2   93.2\n",
       "2001  37.0   52.8   55.0   69.8   78.8\n",
       "2002  41.8   55.4   58.2   59.0   60.0\n",
       "2003  25.8   29.8   31.0   41.0   46.8\n",
       "2004  21.2   28.0   39.0   45.6   61.6\n",
       "2005  57.2   60.8   61.0   70.0   90.2\n",
       "2006  36.0   50.4   57.4   93.6  109.2\n",
       "2007  65.8   92.4  107.4  113.6  127.4\n",
       "2008  47.2   49.4   59.6   89.8  102.2\n",
       "2009  70.8  105.2  132.6  136.6  153.0\n",
       "2010  47.6   54.8   55.4   70.8   75.6\n",
       "2011  21.8   22.4   35.0   50.2   63.8\n",
       "2012  19.0   30.8   40.8   47.4   50.2\n",
       "2013  12.0   29.8   43.6   50.2   62.4\n",
       "2014  74.2   92.6   96.8   96.8   97.2\n",
       "2015  25.8   30.2   34.8   38.0   52.4\n",
       "2016  38.6   38.8   39.2   39.2   52.2\n",
       "2017  48.4   54.0   57.0   64.2   99.8\n",
       "2018  20.8   24.0   25.6   36.4   38.6\n",
       "2019  31.2   32.2   44.2   53.2   60.8\n",
       "2020  80.0   93.2   93.2   93.2   93.2\n",
       "2021  31.8   40.2   42.0   42.0   42.6"
      ]
     },
     "execution_count": 2,
     "metadata": {},
     "output_type": "execute_result"
    }
   ],
   "source": [
    "data"
   ]
  },
  {
   "cell_type": "code",
   "execution_count": 3,
   "id": "92e87650-e6f5-4542-9fe0-e7b4b80e4e5a",
   "metadata": {},
   "outputs": [],
   "source": [
    "from scipy.stats import norm\n",
    "from scipy.stats import genextreme,gumbel_r\n",
    "from numpy import linspace\n",
    "from pylab import plot,show,hist,figure,title"
   ]
  },
  {
   "cell_type": "markdown",
   "id": "8fbc364f-e783-4f45-86bb-fa4d7336a696",
   "metadata": {},
   "source": [
    "Dopo aver scaricato le librerie necessarie, andiamo a leggere i file di dati contenenti le coppie di parametri $a$ e $b$, calcolate in precedenza col metodo dei momenti, il metodo dei minimi quadrati e il metodo della massima verosimiglianza. Riportiamo tali risultati in modo che sia subito possibile fare un confronto tra i risultati:"
   ]
  },
  {
   "cell_type": "code",
   "execution_count": 4,
   "id": "1d1b9d16-2cf5-4ccc-8dde-0fa517d1cab1",
   "metadata": {},
   "outputs": [],
   "source": [
    "ab_m=pd.read_pickle(\"ab_m\")\n",
    "ab_mq=pd.read_pickle(\"ab_mq\")\n",
    "ab_mle=pd.read_pickle(\"ab_mle\")"
   ]
  },
  {
   "cell_type": "code",
   "execution_count": 5,
   "id": "57f0639e-ef44-4d7a-bf7e-3095da0b0dc8",
   "metadata": {},
   "outputs": [
    {
     "data": {
      "text/html": [
       "<div>\n",
       "<style scoped>\n",
       "    .dataframe tbody tr th:only-of-type {\n",
       "        vertical-align: middle;\n",
       "    }\n",
       "\n",
       "    .dataframe tbody tr th {\n",
       "        vertical-align: top;\n",
       "    }\n",
       "\n",
       "    .dataframe thead th {\n",
       "        text-align: right;\n",
       "    }\n",
       "</style>\n",
       "<table border=\"1\" class=\"dataframe\">\n",
       "  <thead>\n",
       "    <tr style=\"text-align: right;\">\n",
       "      <th></th>\n",
       "      <th>1h</th>\n",
       "      <th>3h</th>\n",
       "      <th>6h</th>\n",
       "      <th>12h</th>\n",
       "      <th>24h</th>\n",
       "    </tr>\n",
       "  </thead>\n",
       "  <tbody>\n",
       "    <tr>\n",
       "      <th>a</th>\n",
       "      <td>31.831174</td>\n",
       "      <td>38.980308</td>\n",
       "      <td>45.614355</td>\n",
       "      <td>54.800484</td>\n",
       "      <td>64.499459</td>\n",
       "    </tr>\n",
       "    <tr>\n",
       "      <th>b</th>\n",
       "      <td>14.955350</td>\n",
       "      <td>19.358860</td>\n",
       "      <td>21.048080</td>\n",
       "      <td>21.119360</td>\n",
       "      <td>23.011086</td>\n",
       "    </tr>\n",
       "  </tbody>\n",
       "</table>\n",
       "</div>"
      ],
      "text/plain": [
       "          1h         3h         6h        12h        24h\n",
       "a  31.831174  38.980308  45.614355  54.800484  64.499459\n",
       "b  14.955350  19.358860  21.048080  21.119360  23.011086"
      ]
     },
     "execution_count": 5,
     "metadata": {},
     "output_type": "execute_result"
    }
   ],
   "source": [
    "ab_m"
   ]
  },
  {
   "cell_type": "code",
   "execution_count": 6,
   "id": "e5bac69f-cd3e-4005-9941-684543c54949",
   "metadata": {},
   "outputs": [
    {
     "data": {
      "text/html": [
       "<div>\n",
       "<style scoped>\n",
       "    .dataframe tbody tr th:only-of-type {\n",
       "        vertical-align: middle;\n",
       "    }\n",
       "\n",
       "    .dataframe tbody tr th {\n",
       "        vertical-align: top;\n",
       "    }\n",
       "\n",
       "    .dataframe thead th {\n",
       "        text-align: right;\n",
       "    }\n",
       "</style>\n",
       "<table border=\"1\" class=\"dataframe\">\n",
       "  <thead>\n",
       "    <tr style=\"text-align: right;\">\n",
       "      <th></th>\n",
       "      <th>1h</th>\n",
       "      <th>3h</th>\n",
       "      <th>6h</th>\n",
       "      <th>12h</th>\n",
       "      <th>24h</th>\n",
       "    </tr>\n",
       "  </thead>\n",
       "  <tbody>\n",
       "    <tr>\n",
       "      <th>a</th>\n",
       "      <td>29.837739</td>\n",
       "      <td>37.931925</td>\n",
       "      <td>44.927643</td>\n",
       "      <td>53.711052</td>\n",
       "      <td>63.239008</td>\n",
       "    </tr>\n",
       "    <tr>\n",
       "      <th>b</th>\n",
       "      <td>15.969347</td>\n",
       "      <td>17.954823</td>\n",
       "      <td>16.197238</td>\n",
       "      <td>18.276984</td>\n",
       "      <td>21.524754</td>\n",
       "    </tr>\n",
       "  </tbody>\n",
       "</table>\n",
       "</div>"
      ],
      "text/plain": [
       "          1h         3h         6h        12h        24h\n",
       "a  29.837739  37.931925  44.927643  53.711052  63.239008\n",
       "b  15.969347  17.954823  16.197238  18.276984  21.524754"
      ]
     },
     "execution_count": 6,
     "metadata": {},
     "output_type": "execute_result"
    }
   ],
   "source": [
    "ab_mq"
   ]
  },
  {
   "cell_type": "code",
   "execution_count": 7,
   "id": "afdd4fa7-3c20-4041-ad8f-6561301adc38",
   "metadata": {},
   "outputs": [
    {
     "data": {
      "text/html": [
       "<div>\n",
       "<style scoped>\n",
       "    .dataframe tbody tr th:only-of-type {\n",
       "        vertical-align: middle;\n",
       "    }\n",
       "\n",
       "    .dataframe tbody tr th {\n",
       "        vertical-align: top;\n",
       "    }\n",
       "\n",
       "    .dataframe thead th {\n",
       "        text-align: right;\n",
       "    }\n",
       "</style>\n",
       "<table border=\"1\" class=\"dataframe\">\n",
       "  <thead>\n",
       "    <tr style=\"text-align: right;\">\n",
       "      <th></th>\n",
       "      <th>1h</th>\n",
       "      <th>3h</th>\n",
       "      <th>6h</th>\n",
       "      <th>12h</th>\n",
       "      <th>24h</th>\n",
       "    </tr>\n",
       "  </thead>\n",
       "  <tbody>\n",
       "    <tr>\n",
       "      <th>a</th>\n",
       "      <td>31.724736</td>\n",
       "      <td>39.407941</td>\n",
       "      <td>46.548023</td>\n",
       "      <td>55.070815</td>\n",
       "      <td>64.518328</td>\n",
       "    </tr>\n",
       "    <tr>\n",
       "      <th>b</th>\n",
       "      <td>14.864016</td>\n",
       "      <td>16.922256</td>\n",
       "      <td>17.541655</td>\n",
       "      <td>19.266584</td>\n",
       "      <td>22.197209</td>\n",
       "    </tr>\n",
       "  </tbody>\n",
       "</table>\n",
       "</div>"
      ],
      "text/plain": [
       "          1h         3h         6h        12h        24h\n",
       "a  31.724736  39.407941  46.548023  55.070815  64.518328\n",
       "b  14.864016  16.922256  17.541655  19.266584  22.197209"
      ]
     },
     "execution_count": 7,
     "metadata": {},
     "output_type": "execute_result"
    }
   ],
   "source": [
    "ab_mle"
   ]
  },
  {
   "cell_type": "markdown",
   "id": "2bebb99c-dfb5-43cb-982e-6e9c5f235c79",
   "metadata": {},
   "source": [
    "Bisogna realizzare la curva di Gumbel con prefissati valori di $a$ e $b$.\n",
    "\n",
    "Definiamo $rv$ come funzione di Gumbel, ma descritta attraverso i parametri di posizione (informazioni sulla moda) e di scala (legata alla deviazione standard)."
   ]
  },
  {
   "cell_type": "code",
   "execution_count": 8,
   "id": "1aee14f2-3fb3-47ac-bb83-e5b1b7299178",
   "metadata": {},
   "outputs": [],
   "source": [
    "rv=gumbel_r(loc=ab_m.at[\"a\",\"1h\"],scale=ab_m.at[\"b\",\"1h\"])"
   ]
  },
  {
   "cell_type": "markdown",
   "id": "7856de24-f5cf-4177-bdfb-20b617d40219",
   "metadata": {},
   "source": [
    "Per eseguire il test di Pearson, bisogna come prima operazione dividere in quantili il campo di probabilità (o dominio?).\n",
    "\n",
    "A questo punto di deve calcolare la curva di probabilità relativa nei valori contraddistinti dai quantili.\n",
    "Per fare questo viene definito $h1h$: il vettore che dà informazioni sull'inversa alla curva di Gumbel calcolata in un certo livello di probabilità."
   ]
  },
  {
   "cell_type": "code",
   "execution_count": 9,
   "id": "e0c8b7f6-3102-42f0-b0bd-a0947b6295ea",
   "metadata": {},
   "outputs": [
    {
     "data": {
      "text/plain": [
       "array([24.71414766, 33.13859439, 41.87708632, 54.26330133,         inf])"
      ]
     },
     "execution_count": 9,
     "metadata": {},
     "output_type": "execute_result"
    }
   ],
   "source": [
    "q=[0.2,0.4,0.6,0.8,1]\n",
    "h1h=rv.ppf(q)\n",
    "h1h"
   ]
  },
  {
   "cell_type": "markdown",
   "id": "3cea17ac-7ad3-49ee-ad6a-c734d77e1f1b",
   "metadata": {},
   "source": [
    "Si nota infatti che il valore corrispondente a una probabilità pari a 1 è infinito.\n",
    "\n",
    "Bisogna poi contare quanti elementi ci sono all'interno di ciascun intervallo utilizzando la funzione ECDF, in modo da eseguire il calcolo per ciascuno degli estremi superiori degli intervalli.\n",
    "\n",
    "La variabile $r$ ci permette di costruire un vettore le cui componenti descrivono la percentuale di dati presenti prima di un certo valore. Ogni componente del vettore corrisponde a un quantile. \n",
    "Ad esempio, nel primo quantile la frazione di dati presente sarà pari al 0.227% del totale, fino alla fine del secondo avremo invece il 0.409% dei dati."
   ]
  },
  {
   "cell_type": "code",
   "execution_count": 10,
   "id": "a174a82e-5855-4512-aa5d-48af22c4435c",
   "metadata": {},
   "outputs": [
    {
     "data": {
      "text/plain": [
       "array([0.22727273, 0.40909091, 0.63636364, 0.77272727, 1.        ])"
      ]
     },
     "execution_count": 10,
     "metadata": {},
     "output_type": "execute_result"
    }
   ],
   "source": [
    "ecdf1h = ECDF(data[\"1h\"])\n",
    "r=ecdf1h(h1h)\n",
    "r"
   ]
  },
  {
   "cell_type": "markdown",
   "id": "a8ae1a46-72f2-40ff-8f40-023e2dfd9209",
   "metadata": {},
   "source": [
    "Bisogna adesso confrontare la frazione di dati osservati con quelli attesi.\n",
    "Cerchiamo innanzitutto i dati a nostra disposizione per ogni durata:"
   ]
  },
  {
   "cell_type": "code",
   "execution_count": 11,
   "id": "43dbbf87-c056-4283-ad2c-dfbf89445544",
   "metadata": {},
   "outputs": [
    {
     "data": {
      "text/plain": [
       "22"
      ]
     },
     "execution_count": 11,
     "metadata": {},
     "output_type": "execute_result"
    }
   ],
   "source": [
    "l1h=len(data[\"1h\"])\n",
    "l1h"
   ]
  },
  {
   "cell_type": "markdown",
   "id": "5d996576-d3e2-4c0d-b13b-d709df45e30a",
   "metadata": {},
   "source": [
    "Ci si aspetta che, in ogni $i$-esimo intervallo, con limite destro h1h, ci siano $e=(l1h * q)$ elementi mentre ce ne sono  in realtà $o=(l1h * r)$.  \n",
    "\n",
    "La formula dell'$X^2$ è allora:\n",
    "\\begin{equation}\n",
    "X^2 = \\frac{1}{e}\\sum_{i=1}^5 (e - o)^2\n",
    "\\end{equation}\n",
    "Dove:\n",
    "- $o$: valori osservati; \n",
    "- $e$: valori attesi; "
   ]
  },
  {
   "cell_type": "markdown",
   "id": "617ba687-e9f7-4598-a004-f231eeeaabf2",
   "metadata": {},
   "source": [
    "Applichiamo prima la formula per il calcolo del $X^2$ in modo manuale, per controllare poi che la funzione che introdurremo sia corretta.\n",
    "A partire dalla frazione già calcolata, si può ottenere il numero (intero) di valori che troviamo effettivamente prima di un certo valore, in corrispondenza quindi dei vari intervalli."
   ]
  },
  {
   "cell_type": "code",
   "execution_count": 12,
   "id": "97c9cea1-4ecb-445f-bfd8-347612fbda9d",
   "metadata": {},
   "outputs": [
    {
     "data": {
      "text/plain": [
       "array([ 5.,  9., 14., 17., 22.])"
      ]
     },
     "execution_count": 12,
     "metadata": {},
     "output_type": "execute_result"
    }
   ],
   "source": [
    "o0=l1h*r\n",
    "o0"
   ]
  },
  {
   "cell_type": "markdown",
   "id": "64ac0285-d07c-45e0-b30c-c467d2a9e704",
   "metadata": {},
   "source": [
    "Per sapere poi quanti dati ci sono effettivamente per ogni intervallo introduciamo la seguente funzione che crea un vettore con i primi quattro valori uguali, ma preceduti da uno zero."
   ]
  },
  {
   "cell_type": "code",
   "execution_count": 13,
   "id": "bba82644-6de9-4d4b-8727-de896c4bfaef",
   "metadata": {},
   "outputs": [
    {
     "data": {
      "text/plain": [
       "array([ 0.,  5.,  9., 14., 17.])"
      ]
     },
     "execution_count": 13,
     "metadata": {},
     "output_type": "execute_result"
    }
   ],
   "source": [
    "import numpy as np\n",
    "np.append([0],np.delete(o0,-1))"
   ]
  },
  {
   "cell_type": "markdown",
   "id": "e3d87ac3-6165-45b4-8ce1-e7615a90d295",
   "metadata": {},
   "source": [
    "Facciamo poi la differenza tra il vettore originale e il secondo vettore, appena introdotto, in modo da trovare il numero di valori osservati per ogni intervallo:"
   ]
  },
  {
   "cell_type": "code",
   "execution_count": 14,
   "id": "47b54802-107d-4224-ab44-ab9930ee8bf8",
   "metadata": {},
   "outputs": [
    {
     "data": {
      "text/plain": [
       "array([5., 4., 5., 3., 5.])"
      ]
     },
     "execution_count": 14,
     "metadata": {},
     "output_type": "execute_result"
    }
   ],
   "source": [
    "o=o0-np.append([0],np.delete(o0,-1))\n",
    "o"
   ]
  },
  {
   "cell_type": "code",
   "execution_count": 15,
   "id": "34aaa65a-ad4c-4aa4-92be-afb8d1d16b00",
   "metadata": {},
   "outputs": [
    {
     "data": {
      "text/plain": [
       "range(0, 5)"
      ]
     },
     "execution_count": 15,
     "metadata": {},
     "output_type": "execute_result"
    }
   ],
   "source": [
    "range(len(r))"
   ]
  },
  {
   "cell_type": "markdown",
   "id": "6a04329f-9e03-45bc-990b-e0d25dd4f0d7",
   "metadata": {},
   "source": [
    "Essendoci 5 intervalli, si può trovare il numero di dati che ci dovrebbero essere per ogni intervallo se fossero distribuiti omogeneamente:"
   ]
  },
  {
   "cell_type": "code",
   "execution_count": 16,
   "id": "eac1c4b8-26b2-4069-97ab-7b7dc7928ab1",
   "metadata": {},
   "outputs": [
    {
     "data": {
      "text/plain": [
       "[4.4, 4.4, 4.4, 4.4, 4.4]"
      ]
     },
     "execution_count": 16,
     "metadata": {},
     "output_type": "execute_result"
    }
   ],
   "source": [
    "e=[0.2*l1h for i in range(len(r))]\n",
    "e"
   ]
  },
  {
   "cell_type": "markdown",
   "id": "80241331-8080-412c-859c-0e5e9aecea54",
   "metadata": {},
   "source": [
    "Per calcolare poi $X^2$ basta applicare la formula riportata in precedenza:"
   ]
  },
  {
   "cell_type": "code",
   "execution_count": 17,
   "id": "0d2a533f-402f-45a4-af54-584f6fa0c4e9",
   "metadata": {},
   "outputs": [
    {
     "data": {
      "text/plain": [
       "0.7272727272727272"
      ]
     },
     "execution_count": 17,
     "metadata": {},
     "output_type": "execute_result"
    }
   ],
   "source": [
    "((o-e)**2/e).sum()"
   ]
  },
  {
   "cell_type": "markdown",
   "id": "bed4738e-8a06-4fb9-ba15-921e045d6c3c",
   "metadata": {},
   "source": [
    "E' possibile poi ottenere lo stesso risultato dalla definizione della funzione $X2$, che tiene conto dei dati, del DataFrame che contiene i parametri, la colonna che ci interessa e il delta calcolato sulle ascisse (che prendiamo in questo caso sempre uguale):"
   ]
  },
  {
   "cell_type": "code",
   "execution_count": 18,
   "id": "e9a23aaa-0630-4925-a54c-7fd75d827e55",
   "metadata": {},
   "outputs": [],
   "source": [
    "def X2(data,abs_t,h,delta):    \n",
    "    dt=data[h].dropna()\n",
    "    lh=len(dt)\n",
    "    q=[delta*(i+1) for i in range(int(1/delta))]\n",
    "    rv=gumbel_r(loc=abs_t.at[\"a\",h],scale=abs_t.at[\"b\",h])\n",
    "    ecdf = ECDF(dt)\n",
    "    r=ecdf(rv.ppf(q))\n",
    "    o0=lh*r\n",
    "    o=o0-np.append([0],np.delete(o0,-1))\n",
    "    e=[delta*lh for i in range(len(r))]\n",
    "    return ((o-e)**2/e).sum()  "
   ]
  },
  {
   "cell_type": "markdown",
   "id": "64ecaf42-e69c-48cf-8aa8-cd5bd37450d3",
   "metadata": {},
   "source": [
    "Il valore di $X^2$, calcolato per la durata di un'ora con i parametri trovati col metodo dei momenti è lo stesso che avevamo ricavato in precedenza, a conferma della correttezza delle operazioni:"
   ]
  },
  {
   "cell_type": "code",
   "execution_count": 19,
   "id": "5d300883-36b0-4d7c-94ff-6eee553feb0d",
   "metadata": {},
   "outputs": [
    {
     "data": {
      "text/plain": [
       "0.7272727272727272"
      ]
     },
     "execution_count": 19,
     "metadata": {},
     "output_type": "execute_result"
    }
   ],
   "source": [
    "X2(data,ab_m,\"1h\",0.2)"
   ]
  },
  {
   "cell_type": "code",
   "execution_count": 20,
   "id": "91394b97-a819-4e32-b00a-c193c65d9bd1",
   "metadata": {},
   "outputs": [
    {
     "data": {
      "text/plain": [
       "0.7272727272727264"
      ]
     },
     "execution_count": 20,
     "metadata": {},
     "output_type": "execute_result"
    }
   ],
   "source": [
    "X2(data,ab_mq,\"1h\",0.2)"
   ]
  },
  {
   "cell_type": "code",
   "execution_count": 21,
   "id": "b4484201-6b4d-4d90-ac03-18c2e3dacc08",
   "metadata": {},
   "outputs": [
    {
     "data": {
      "text/plain": [
       "0.2727272727272727"
      ]
     },
     "execution_count": 21,
     "metadata": {},
     "output_type": "execute_result"
    }
   ],
   "source": [
    "X2(data,ab_mle,\"1h\",0.2)"
   ]
  },
  {
   "cell_type": "markdown",
   "id": "e3c411df-5b39-4538-9cd8-b98166641f96",
   "metadata": {},
   "source": [
    "Abbiamo quindi calcolato $X^2$ con i tre metodi per la durata di un'ora e notiamo che in questo caso il metodo migliore sarebbe quello della massima verosimiglianza:"
   ]
  },
  {
   "cell_type": "code",
   "execution_count": 22,
   "id": "37514198-b2b7-4ce4-8cdb-1100c78ad73a",
   "metadata": {},
   "outputs": [
    {
     "data": {
      "text/plain": [
       "Index(['1h', '3h', '6h', '12h', '24h'], dtype='object')"
      ]
     },
     "execution_count": 22,
     "metadata": {},
     "output_type": "execute_result"
    }
   ],
   "source": [
    "data.columns"
   ]
  },
  {
   "cell_type": "markdown",
   "id": "4899ab81-2826-46df-a47a-f76a306a1203",
   "metadata": {},
   "source": [
    "Per semplificare i passaggi, si crea un ciclo for dove per ogni valore sulla colonna stampiamo $h$ e il valore di $X^2$ calcolato coi tre metodi per tutte le durate:"
   ]
  },
  {
   "cell_type": "code",
   "execution_count": 23,
   "id": "77e72128-0fb5-494e-9033-4e4aa8fccefb",
   "metadata": {
    "jupyter": {
     "source_hidden": true
    },
    "tags": []
   },
   "outputs": [
    {
     "name": "stdout",
     "output_type": "stream",
     "text": [
      "1h :  [0.7272727272727272, 0.7272727272727264, 0.2727272727272727]\n",
      "3h :  [4.818181818181819, 3.909090909090909, 3.000000000000002]\n",
      "6h :  [2.5454545454545454, 2.5454545454545454, 1.1818181818181799]\n",
      "12h :  [2.0909090909090904, 2.0909090909090904, 2.545454545454546]\n",
      "24h :  [2.0909090909090926, 3.909090909090909, 2.0909090909090926]\n"
     ]
    }
   ],
   "source": [
    "for  h in data.columns:\n",
    "    print(h,\": \",[X2(data,ab_m,h,0.2),X2(data,ab_mq,h,0.2),X2(data,ab_mle,h,0.2)])"
   ]
  },
  {
   "cell_type": "markdown",
   "id": "a1f1db15-8d90-40b7-915e-4caa237ddc99",
   "metadata": {
    "tags": []
   },
   "source": [
    "# io credo che l'ultimo ciclo for si può togliere dato che la stessa operazione ma più completa viene fatta subito dopo"
   ]
  },
  {
   "cell_type": "markdown",
   "id": "5e0da5ca-49da-4824-b816-d38898739619",
   "metadata": {},
   "source": [
    "Per ogni durata scegliamo il caso migliore, che abbiamo infatti ottenuto con interpolazioni diverse.\n",
    "Così facendo possiamo selezionare i parametri da utilizzare nell'analisi finale scegliendo quindi quelli con $X^2$ più piccolo."
   ]
  },
  {
   "cell_type": "markdown",
   "id": "1ad184ff-300e-403f-8731-3795b8e50d2a",
   "metadata": {},
   "source": [
    "Per costruire un data frame coi parametri migliori introduco intanto un vettore $a$ su cui inserisco i valori appena trovati:"
   ]
  },
  {
   "cell_type": "code",
   "execution_count": 24,
   "id": "95d7f763-f67c-4075-98e1-f4a2308e9cdc",
   "metadata": {},
   "outputs": [
    {
     "data": {
      "text/html": [
       "<div>\n",
       "<style scoped>\n",
       "    .dataframe tbody tr th:only-of-type {\n",
       "        vertical-align: middle;\n",
       "    }\n",
       "\n",
       "    .dataframe tbody tr th {\n",
       "        vertical-align: top;\n",
       "    }\n",
       "\n",
       "    .dataframe thead th {\n",
       "        text-align: right;\n",
       "    }\n",
       "</style>\n",
       "<table border=\"1\" class=\"dataframe\">\n",
       "  <thead>\n",
       "    <tr style=\"text-align: right;\">\n",
       "      <th></th>\n",
       "      <th>M</th>\n",
       "      <th>Mq</th>\n",
       "      <th>MLE</th>\n",
       "    </tr>\n",
       "  </thead>\n",
       "  <tbody>\n",
       "    <tr>\n",
       "      <th>1h</th>\n",
       "      <td>0.727273</td>\n",
       "      <td>0.727273</td>\n",
       "      <td>0.272727</td>\n",
       "    </tr>\n",
       "    <tr>\n",
       "      <th>3h</th>\n",
       "      <td>4.818182</td>\n",
       "      <td>3.909091</td>\n",
       "      <td>3.000000</td>\n",
       "    </tr>\n",
       "    <tr>\n",
       "      <th>6h</th>\n",
       "      <td>2.545455</td>\n",
       "      <td>2.545455</td>\n",
       "      <td>1.181818</td>\n",
       "    </tr>\n",
       "    <tr>\n",
       "      <th>12h</th>\n",
       "      <td>2.090909</td>\n",
       "      <td>2.090909</td>\n",
       "      <td>2.545455</td>\n",
       "    </tr>\n",
       "    <tr>\n",
       "      <th>24h</th>\n",
       "      <td>2.090909</td>\n",
       "      <td>3.909091</td>\n",
       "      <td>2.090909</td>\n",
       "    </tr>\n",
       "  </tbody>\n",
       "</table>\n",
       "</div>"
      ],
      "text/plain": [
       "            M        Mq       MLE\n",
       "1h   0.727273  0.727273  0.272727\n",
       "3h   4.818182  3.909091  3.000000\n",
       "6h   2.545455  2.545455  1.181818\n",
       "12h  2.090909  2.090909  2.545455\n",
       "24h  2.090909  3.909091  2.090909"
      ]
     },
     "execution_count": 24,
     "metadata": {},
     "output_type": "execute_result"
    }
   ],
   "source": [
    "a=[]\n",
    "for  h in data.columns:\n",
    "    a=a+[[X2(data,ab_m,h,0.2),X2(data,ab_mq,h,0.2),X2(data,ab_mle,h,0.2)]]\n",
    "   \n",
    "pd.DataFrame(a,index=[\"1h\",\"3h\",\"6h\",\"12h\",\"24h\"],columns=[\"M\",\"Mq\",\"MLE\"])"
   ]
  },
  {
   "cell_type": "markdown",
   "id": "f2210d17-c8ea-4388-b9fe-866a3e5dd5ab",
   "metadata": {},
   "source": [
    "Una volta individuati i valori minori possiamo creare manualmente la variabile $best$, che contiene i migliori parametri per le varie durate:\n"
   ]
  },
  {
   "cell_type": "code",
   "execution_count": 25,
   "id": "06b3ff70-39c8-481c-8571-4634b00c26b7",
   "metadata": {
    "tags": []
   },
   "outputs": [
    {
     "data": {
      "text/plain": [
       "anno\n",
       "2000    36.2\n",
       "2001    37.0\n",
       "2002    41.8\n",
       "2003    25.8\n",
       "2004    21.2\n",
       "2005    57.2\n",
       "2006    36.0\n",
       "2007    65.8\n",
       "2008    47.2\n",
       "2009    70.8\n",
       "2010    47.6\n",
       "2011    21.8\n",
       "2012    19.0\n",
       "2013    12.0\n",
       "2014    74.2\n",
       "2015    25.8\n",
       "2016    38.6\n",
       "2017    48.4\n",
       "2018    20.8\n",
       "2019    31.2\n",
       "2020    80.0\n",
       "2021    31.8\n",
       "dtype: float64"
      ]
     },
     "execution_count": 25,
     "metadata": {},
     "output_type": "execute_result"
    }
   ],
   "source": [
    "DatiT = data.T\n",
    "DatiT.min()"
   ]
  },
  {
   "cell_type": "code",
   "execution_count": 26,
   "id": "34495d1a-7b1c-4047-9a3b-575ea05e8c3a",
   "metadata": {},
   "outputs": [
    {
     "data": {
      "text/html": [
       "<div>\n",
       "<style scoped>\n",
       "    .dataframe tbody tr th:only-of-type {\n",
       "        vertical-align: middle;\n",
       "    }\n",
       "\n",
       "    .dataframe tbody tr th {\n",
       "        vertical-align: top;\n",
       "    }\n",
       "\n",
       "    .dataframe thead th {\n",
       "        text-align: right;\n",
       "    }\n",
       "</style>\n",
       "<table border=\"1\" class=\"dataframe\">\n",
       "  <thead>\n",
       "    <tr style=\"text-align: right;\">\n",
       "      <th></th>\n",
       "      <th>1h</th>\n",
       "      <th>3h</th>\n",
       "      <th>6h</th>\n",
       "      <th>12h</th>\n",
       "      <th>24h</th>\n",
       "    </tr>\n",
       "  </thead>\n",
       "  <tbody>\n",
       "    <tr>\n",
       "      <th>a</th>\n",
       "      <td>31.724736</td>\n",
       "      <td>39.407941</td>\n",
       "      <td>46.548023</td>\n",
       "      <td>53.711052</td>\n",
       "      <td>64.499459</td>\n",
       "    </tr>\n",
       "    <tr>\n",
       "      <th>b</th>\n",
       "      <td>14.864016</td>\n",
       "      <td>16.922256</td>\n",
       "      <td>17.541655</td>\n",
       "      <td>18.276984</td>\n",
       "      <td>23.011086</td>\n",
       "    </tr>\n",
       "  </tbody>\n",
       "</table>\n",
       "</div>"
      ],
      "text/plain": [
       "          1h         3h         6h        12h        24h\n",
       "a  31.724736  39.407941  46.548023  53.711052  64.499459\n",
       "b  14.864016  16.922256  17.541655  18.276984  23.011086"
      ]
     },
     "execution_count": 26,
     "metadata": {},
     "output_type": "execute_result"
    }
   ],
   "source": [
    "best=pd.DataFrame([ab_mle[\"1h\"],\n",
    "                ab_mle[\"3h\"],\n",
    "                ab_mle[\"6h\"],\n",
    "                ab_mq[\"12h\"],\n",
    "                ab_m[\"24h\"]]).T\n",
    "                  \n",
    "best"
   ]
  },
  {
   "cell_type": "code",
   "execution_count": 27,
   "id": "fdf6f310-52b0-4b03-9caa-e941ee05cdb3",
   "metadata": {},
   "outputs": [],
   "source": [
    "best.to_pickle(\"best_param\")"
   ]
  },
  {
   "cell_type": "code",
   "execution_count": 28,
   "id": "92de9d5e-438d-4ac0-bb34-d20d79881f51",
   "metadata": {},
   "outputs": [],
   "source": [
    "def gumbel(x,ab_d,col):\n",
    "    return np.exp(-np.exp(-(x-ab_d[col][\"a\"])/ab_d[col][\"b\"]))\n",
    "t_rain=np.linspace(data.min()[0],data.max()[4],100)"
   ]
  },
  {
   "cell_type": "markdown",
   "id": "05db0791-208a-4975-83c9-37cd871e0920",
   "metadata": {},
   "source": [
    "Si ripetono quindi i passaggi seguiti anche negli altri casi per disegnare le curve che interpolano meglio i dati.\n",
    "Questa volta i dati si scelgono dal DataFrame $best$."
   ]
  },
  {
   "cell_type": "markdown",
   "id": "9ef8a48a-7791-4bb2-8079-d337d705a525",
   "metadata": {},
   "source": [
    "Costruisco DataFrame con i dati da plottare:"
   ]
  },
  {
   "cell_type": "code",
   "execution_count": 29,
   "id": "11c8bfe2-5182-44e7-a50f-10ce541f2476",
   "metadata": {},
   "outputs": [
    {
     "data": {
      "text/html": [
       "<div>\n",
       "<style scoped>\n",
       "    .dataframe tbody tr th:only-of-type {\n",
       "        vertical-align: middle;\n",
       "    }\n",
       "\n",
       "    .dataframe tbody tr th {\n",
       "        vertical-align: top;\n",
       "    }\n",
       "\n",
       "    .dataframe thead th {\n",
       "        text-align: right;\n",
       "    }\n",
       "</style>\n",
       "<table border=\"1\" class=\"dataframe\">\n",
       "  <thead>\n",
       "    <tr style=\"text-align: right;\">\n",
       "      <th></th>\n",
       "      <th>1h</th>\n",
       "      <th>3h</th>\n",
       "      <th>6h</th>\n",
       "      <th>12h</th>\n",
       "      <th>24</th>\n",
       "    </tr>\n",
       "  </thead>\n",
       "  <tbody>\n",
       "    <tr>\n",
       "      <th>12.000000</th>\n",
       "      <td>0.023057</td>\n",
       "      <td>0.006401</td>\n",
       "      <td>0.000772</td>\n",
       "      <td>0.000056</td>\n",
       "      <td>0.000056</td>\n",
       "    </tr>\n",
       "    <tr>\n",
       "      <th>13.424242</th>\n",
       "      <td>0.032539</td>\n",
       "      <td>0.009624</td>\n",
       "      <td>0.001349</td>\n",
       "      <td>0.000116</td>\n",
       "      <td>0.000101</td>\n",
       "    </tr>\n",
       "    <tr>\n",
       "      <th>14.848485</th>\n",
       "      <td>0.044497</td>\n",
       "      <td>0.014000</td>\n",
       "      <td>0.002259</td>\n",
       "      <td>0.000229</td>\n",
       "      <td>0.000175</td>\n",
       "    </tr>\n",
       "    <tr>\n",
       "      <th>16.272727</th>\n",
       "      <td>0.059133</td>\n",
       "      <td>0.019759</td>\n",
       "      <td>0.003633</td>\n",
       "      <td>0.000428</td>\n",
       "      <td>0.000294</td>\n",
       "    </tr>\n",
       "    <tr>\n",
       "      <th>17.696970</th>\n",
       "      <td>0.076568</td>\n",
       "      <td>0.027123</td>\n",
       "      <td>0.005631</td>\n",
       "      <td>0.000766</td>\n",
       "      <td>0.000479</td>\n",
       "    </tr>\n",
       "    <tr>\n",
       "      <th>...</th>\n",
       "      <td>...</td>\n",
       "      <td>...</td>\n",
       "      <td>...</td>\n",
       "      <td>...</td>\n",
       "      <td>...</td>\n",
       "    </tr>\n",
       "    <tr>\n",
       "      <th>147.303030</th>\n",
       "      <td>0.999580</td>\n",
       "      <td>0.998299</td>\n",
       "      <td>0.996802</td>\n",
       "      <td>0.994046</td>\n",
       "      <td>0.973004</td>\n",
       "    </tr>\n",
       "    <tr>\n",
       "      <th>148.727273</th>\n",
       "      <td>0.999619</td>\n",
       "      <td>0.998437</td>\n",
       "      <td>0.997051</td>\n",
       "      <td>0.994491</td>\n",
       "      <td>0.974604</td>\n",
       "    </tr>\n",
       "    <tr>\n",
       "      <th>150.151515</th>\n",
       "      <td>0.999653</td>\n",
       "      <td>0.998563</td>\n",
       "      <td>0.997281</td>\n",
       "      <td>0.994903</td>\n",
       "      <td>0.976109</td>\n",
       "    </tr>\n",
       "    <tr>\n",
       "      <th>151.575758</th>\n",
       "      <td>0.999685</td>\n",
       "      <td>0.998679</td>\n",
       "      <td>0.997493</td>\n",
       "      <td>0.995284</td>\n",
       "      <td>0.977527</td>\n",
       "    </tr>\n",
       "    <tr>\n",
       "      <th>153.000000</th>\n",
       "      <td>0.999714</td>\n",
       "      <td>0.998785</td>\n",
       "      <td>0.997688</td>\n",
       "      <td>0.995637</td>\n",
       "      <td>0.978862</td>\n",
       "    </tr>\n",
       "  </tbody>\n",
       "</table>\n",
       "<p>100 rows × 5 columns</p>\n",
       "</div>"
      ],
      "text/plain": [
       "                  1h        3h        6h       12h        24\n",
       "12.000000   0.023057  0.006401  0.000772  0.000056  0.000056\n",
       "13.424242   0.032539  0.009624  0.001349  0.000116  0.000101\n",
       "14.848485   0.044497  0.014000  0.002259  0.000229  0.000175\n",
       "16.272727   0.059133  0.019759  0.003633  0.000428  0.000294\n",
       "17.696970   0.076568  0.027123  0.005631  0.000766  0.000479\n",
       "...              ...       ...       ...       ...       ...\n",
       "147.303030  0.999580  0.998299  0.996802  0.994046  0.973004\n",
       "148.727273  0.999619  0.998437  0.997051  0.994491  0.974604\n",
       "150.151515  0.999653  0.998563  0.997281  0.994903  0.976109\n",
       "151.575758  0.999685  0.998679  0.997493  0.995284  0.977527\n",
       "153.000000  0.999714  0.998785  0.997688  0.995637  0.978862\n",
       "\n",
       "[100 rows x 5 columns]"
      ]
     },
     "execution_count": 29,
     "metadata": {},
     "output_type": "execute_result"
    }
   ],
   "source": [
    "gb=pd.DataFrame([gumbel(t_rain,best,\"1h\"),\n",
    "                 gumbel(t_rain,best,\"3h\"),\n",
    "                 gumbel(t_rain,best,\"6h\"),\n",
    "                 gumbel(t_rain,best,\"12h\"),\n",
    "                 gumbel(t_rain,best,\"24h\")]).T\n",
    "gb.index=t_rain\n",
    "gb.columns=[\"1h\",\"3h\",\"6h\",\"12h\",\"24\"]\n",
    "gb[-5:]"
   ]
  },
  {
   "cell_type": "markdown",
   "id": "3b4c7ac5-b2e4-466e-9b09-d45fb42ce239",
   "metadata": {},
   "source": [
    "In indice dal valore minimo al massimo in mm e la probabilità per ogni durata"
   ]
  },
  {
   "cell_type": "markdown",
   "id": "5b09d0c0-f791-48e3-bed1-16a9c68f7ecf",
   "metadata": {},
   "source": [
    "Riusciamo infine a trovare il miglior risultato secondo il Test di Pearson:"
   ]
  },
  {
   "cell_type": "code",
   "execution_count": 31,
   "id": "9ecc36bb-374b-4392-974c-faefab4aa5dd",
   "metadata": {},
   "outputs": [
    {
     "data": {
      "image/png": "[encoded data removed]",
      "text/plain": [
       "<Figure size 640x480 with 1 Axes>"
      ]
     },
     "metadata": {},
     "output_type": "display_data"
    }
   ],
   "source": [
    "plt.rc('xtick', labelsize=20)\n",
    "plt.rc('ytick', labelsize=20)\n",
    "plt.style.use('default')\n",
    "ax=gb.plot(color=[\"red\",\"blue\",\"magenta\",\"limegreen\",\"orange\"])\n",
    "ecdf1h = ECDF(data[\"1h\"])\n",
    "ax.plot(data[\"1h\"],ecdf1h(data[\"1h\"]),'+',c=\"red\", label=\"1h\",markersize=6)\n",
    "data3h=data[\"3h\"]\n",
    "ecdf3h = ECDF(data3h)\n",
    "ax.plot(data3h,ecdf3h(data3h),\"+\",c=\"blue\", label=\"3h\",markersize=6)\n",
    "data6h=data[\"6h\"]\n",
    "ecdf6h = ECDF(data6h)\n",
    "ax.plot(data6h,ecdf6h(data6h),\"+\",c=\"magenta\", label=\"6h\",markersize=6)\n",
    "data12h=data[\"12h\"]\n",
    "ecdf12h = ECDF(data12h)\n",
    "ax.plot(data12h,ecdf12h(data12h),\"+\",c=\"limegreen\", label=\"12h\",markersize=6)\n",
    "data24h=data[\"24h\"]\n",
    "ecdf24h = ECDF(data24h)\n",
    "ax.plot(data24h,ecdf24h(data24h),\"+\",c=\"orange\", label=\"24h\",markersize=6)\n",
    "ax.set_title('Miglior Curva di Gumbel per il Test di Pearson')\n",
    "ax.set_xlabel('Rainfall (mm)')\n",
    "ax.set_ylabel('P [H < h]')\n",
    "ax.set_aspect('auto')\n",
    "plt.legend(['1h', '3h', '6h', '12h', '24h'], loc='right',  title = \"Legenda\", title_fontsize = 10)\n",
    "#major grid lines\n",
    "plt.grid(visible=True, which='major', color='gray', alpha=0.6, linestyle='dashdot', lw=0.5)\n",
    "#minor grid lines\n",
    "plt.minorticks_on()\n",
    "plt.grid(visible=True, which='minor', color='beige', alpha=0.8, ls='-', lw=0.8)\n",
    "plt.show()\n"
   ]
  },
  {
   "cell_type": "markdown",
   "id": "60cc4927-0a8c-41ab-b511-f2532a827541",
   "metadata": {},
   "source": [
    "Queste sono le curve che danno il miglior test di Pearson."
   ]
  }
 ],
 "metadata": {
  "kernelspec": {
   "display_name": "Python 3 (ipykernel)",
   "language": "python",
   "name": "python3"
  },
  "language_info": {
   "codemirror_mode": {
    "name": "ipython",
    "version": 3
   },
   "file_extension": ".py",
   "mimetype": "text/x-python",
   "name": "python",
   "nbconvert_exporter": "python",
   "pygments_lexer": "ipython3",
   "version": "3.7.12"
  }
 },
 "nbformat": 4,
 "nbformat_minor": 5
}
