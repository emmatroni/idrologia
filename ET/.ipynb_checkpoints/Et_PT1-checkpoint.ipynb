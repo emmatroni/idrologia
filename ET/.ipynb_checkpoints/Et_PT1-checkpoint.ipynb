{
 "cells": [
  {
   "cell_type": "code",
   "execution_count": null,
   "id": "a7e380f8-3b5f-4ea0-a553-ada02e623c73",
   "metadata": {},
   "outputs": [],
   "source": []
  },
  {
   "cell_type": "markdown",
   "id": "55489128-0626-4be7-a39d-9a46b4f8ec36",
   "metadata": {},
   "source": [
    "# **Evapotraspirazione: Priestley-Taylor** \n",
    "Il modello di Priestley-Taylor (1972) permette di semplificare il calcolo della stima della evapotraspirazione.\n"
   ]
  },
  {
   "cell_type": "markdown",
   "id": "ce296ef4-6ed5-4b4f-855e-c6f2fced9768",
   "metadata": {},
   "source": [
    "\\begin{equation}\n",
    "ET_{0}^{PT} = \\alpha\\dfrac{\\Delta\\cdot (R_{n} - G)}{\\Delta+\\gamma}\n",
    "\\end{equation}\n",
    "\n",
    "L'unico parametro che governa questa equazione lineare è un coefficiente empirico in media pari a: $\\alpha$ = 1.26.\n",
    "\n",
    "Dove:\n",
    "- $ET_{0}$ (oppure $ET$) espressa in [$mm \\cdot day^{−1}$] or [$mm\\cdot hour^{−1}$]; \n",
    "- $R_{n}$: radiazione netta espressa in [$MJ \\cdot m^{2} \\cdot day^{−1}$] or [$MJ \\cdot m^{2}\\cdot h^{−1}$]; \n",
    "- $G$: flusso di calore dal suolo espresso in [$MJ \\cdot m^{2} \\cdot day^{−1}$] or [$MJ \\cdot m^{2}\\cdot h^{−1}$]; \n",
    "- $\\Delta$: pendenza della curva di pressione di vapore espressa in [$kP_{a}\\dot °C^{−1}$]; \n",
    "- $\\gamma$: costante psicometrica espressa in [$kP_{a} \\cdot$ °$C^{−1}$]; \n",
    "\n",
    "All'interno del modello ci sono altri due parametri da specificare che regolano la partizione della radiazione netta diurna e notturna, che influiscono sul valore del flusso di calore dal suolo $G$:\n",
    "\n",
    "\\begin{equation}\n",
    " G =  \\begin{cases}\n",
    "   G_{morn}\\cdot R_{n} \\quad daylight\\\\G_{night}\\cdot R_{n} \\quad nighttime\n",
    "   \\end{cases} \n",
    "\\end{equation}\n",
    "\n",
    "Con $G_{morn}$ e $G_{night}$ i coefficienti del flusso di calore dal suolo per le ore diurne e notturne rispettivamente."
   ]
  },
  {
   "cell_type": "code",
   "execution_count": 12,
   "id": "890d19cd-22eb-4529-9ccd-94b0ff254cf7",
   "metadata": {},
   "outputs": [],
   "source": [
    "import pandas as pd\n",
    "import numpy as np\n",
    "import matplotlib.pyplot as plt\n",
    "from IPython.display import Image\n",
    "import plotly.express as px\n",
    "import os\n",
    "import plotly.graph_objects as go"
   ]
  },
  {
   "cell_type": "code",
   "execution_count": 13,
   "id": "818fda9c-a72d-40fd-aaf7-b945c9669e6d",
   "metadata": {},
   "outputs": [
    {
     "data": {
      "text/plain": [
       "'C:\\\\Users\\\\emmat\\\\Desktop\\\\OMS_Project_GEOET11'"
      ]
     },
     "execution_count": 13,
     "metadata": {},
     "output_type": "execute_result"
    }
   ],
   "source": [
    "os.path.dirname(os.getcwd())"
   ]
  },
  {
   "cell_type": "code",
   "execution_count": 16,
   "id": "dd1dd6b4-0b64-422a-a6b8-1c08e2fcd528",
   "metadata": {},
   "outputs": [
    {
     "ename": "FileNotFoundError",
     "evalue": "[WinError 3] Impossibile trovare il percorso specificato: 'C:\\\\Users\\\\emmat\\\\Desktop\\\\OMS_Project_GEOET11\\\\output\\\\Meledrio\\\\1'",
     "output_type": "error",
     "traceback": [
      "\u001b[1;31m---------------------------------------------------------------------------\u001b[0m",
      "\u001b[1;31mFileNotFoundError\u001b[0m                         Traceback (most recent call last)",
      "\u001b[1;32m~\\AppData\\Local\\Temp\\ipykernel_12232\\2254332542.py\u001b[0m in \u001b[0;36m<module>\u001b[1;34m\u001b[0m\n\u001b[1;32m----> 1\u001b[1;33m \u001b[0mos\u001b[0m\u001b[1;33m.\u001b[0m\u001b[0mchdir\u001b[0m\u001b[1;33m(\u001b[0m\u001b[1;34m\"C:\\\\Users\\\\emmat\\\\Desktop\\\\OMS_Project_GEOET11\\\\output\\\\Meledrio\\\\1\"\u001b[0m\u001b[1;33m)\u001b[0m\u001b[1;33m\u001b[0m\u001b[1;33m\u001b[0m\u001b[0m\n\u001b[0m\u001b[0;32m      2\u001b[0m \u001b[0moms_project_path\u001b[0m \u001b[1;33m=\u001b[0m \u001b[0mos\u001b[0m\u001b[1;33m.\u001b[0m\u001b[0mpath\u001b[0m\u001b[1;33m.\u001b[0m\u001b[0mdirname\u001b[0m\u001b[1;33m(\u001b[0m\u001b[0mos\u001b[0m\u001b[1;33m.\u001b[0m\u001b[0mgetcwd\u001b[0m\u001b[1;33m(\u001b[0m\u001b[1;33m)\u001b[0m\u001b[1;33m)\u001b[0m\u001b[1;33m\u001b[0m\u001b[1;33m\u001b[0m\u001b[0m\n\u001b[0;32m      3\u001b[0m \u001b[0mos\u001b[0m\u001b[1;33m.\u001b[0m\u001b[0mpath\u001b[0m\u001b[1;33m.\u001b[0m\u001b[0mdirname\u001b[0m\u001b[1;33m(\u001b[0m\u001b[0mos\u001b[0m\u001b[1;33m.\u001b[0m\u001b[0mgetcwd\u001b[0m\u001b[1;33m(\u001b[0m\u001b[1;33m)\u001b[0m\u001b[1;33m)\u001b[0m\u001b[1;33m\u001b[0m\u001b[1;33m\u001b[0m\u001b[0m\n",
      "\u001b[1;31mFileNotFoundError\u001b[0m: [WinError 3] Impossibile trovare il percorso specificato: 'C:\\\\Users\\\\emmat\\\\Desktop\\\\OMS_Project_GEOET11\\\\output\\\\Meledrio\\\\1'"
     ]
    }
   ],
   "source": [
    "os.chdir(\"C:\\\\Users\\\\emmat\\\\Desktop\\\\OMS_Project_GEOET11\\\\output\\\\Meledrio\\\\1\")\n",
    "oms_project_path = os.path.dirname(os.getcwd())\n",
    "os.path.dirname(os.getcwd())"
   ]
  },
  {
   "cell_type": "code",
   "execution_count": null,
   "id": "b8d99f46-6f5c-4b48-b5a5-d93e48043fc4",
   "metadata": {},
   "outputs": [],
   "source": []
  }
 ],
 "metadata": {
  "kernelspec": {
   "display_name": "Python 3 (ipykernel)",
   "language": "python",
   "name": "python3"
  },
  "language_info": {
   "codemirror_mode": {
    "name": "ipython",
    "version": 3
   },
   "file_extension": ".py",
   "mimetype": "text/x-python",
   "name": "python",
   "nbconvert_exporter": "python",
   "pygments_lexer": "ipython3",
   "version": "3.7.12"
  }
 },
 "nbformat": 4,
 "nbformat_minor": 5
}
