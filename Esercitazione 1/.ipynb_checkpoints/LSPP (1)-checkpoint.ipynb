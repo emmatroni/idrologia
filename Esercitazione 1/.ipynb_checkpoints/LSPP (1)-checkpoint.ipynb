{
 "cells": [
  {
   "cell_type": "markdown",
   "id": "5b007103-5a14-47cf-9d78-1976650c14be",
   "metadata": {},
   "source": [
    "## Calcolo delle curve di possibilità pluviometrica"
   ]
  },
  {
   "cell_type": "code",
   "execution_count": 1,
   "id": "c93cc12e-9d07-485a-8f1f-6d803e48773a",
   "metadata": {},
   "outputs": [],
   "source": [
    "import os\n",
    "import math\n",
    "from pandas import *\n",
    "import pandas as pd\n",
    "from datetime import datetime\n",
    "%matplotlib inline \n",
    "import matplotlib.pyplot as plt\n",
    "from statsmodels.distributions.empirical_distribution import ECDF\n",
    "from scipy.stats import norm\n",
    "from scipy.stats import genextreme,gumbel_r\n",
    "from numpy import linspace\n",
    "from pylab import plot,show,hist,figure,title\n",
    "\n",
    "os.getcwd()\n",
    "data = pd.read_csv('PluviometriaVE.txt')\n",
    "map(datetime,data['anno'])\n",
    "data=data.set_index('anno')\n",
    "import numpy as np"
   ]
  },
  {
   "cell_type": "code",
   "execution_count": 2,
   "id": "0c638431-57d3-473f-9f27-aa37a9c6b08b",
   "metadata": {},
   "outputs": [
    {
     "data": {
      "text/html": [
       "<div>\n",
       "<style scoped>\n",
       "    .dataframe tbody tr th:only-of-type {\n",
       "        vertical-align: middle;\n",
       "    }\n",
       "\n",
       "    .dataframe tbody tr th {\n",
       "        vertical-align: top;\n",
       "    }\n",
       "\n",
       "    .dataframe thead th {\n",
       "        text-align: right;\n",
       "    }\n",
       "</style>\n",
       "<table border=\"1\" class=\"dataframe\">\n",
       "  <thead>\n",
       "    <tr style=\"text-align: right;\">\n",
       "      <th></th>\n",
       "      <th>1h</th>\n",
       "      <th>3h</th>\n",
       "      <th>6h</th>\n",
       "      <th>12h</th>\n",
       "      <th>24h</th>\n",
       "    </tr>\n",
       "    <tr>\n",
       "      <th>anno</th>\n",
       "      <th></th>\n",
       "      <th></th>\n",
       "      <th></th>\n",
       "      <th></th>\n",
       "      <th></th>\n",
       "    </tr>\n",
       "  </thead>\n",
       "  <tbody>\n",
       "    <tr>\n",
       "      <th>2000</th>\n",
       "      <td>36.2</td>\n",
       "      <td>36.2</td>\n",
       "      <td>62.0</td>\n",
       "      <td>73.2</td>\n",
       "      <td>93.2</td>\n",
       "    </tr>\n",
       "    <tr>\n",
       "      <th>2001</th>\n",
       "      <td>37.0</td>\n",
       "      <td>52.8</td>\n",
       "      <td>55.0</td>\n",
       "      <td>69.8</td>\n",
       "      <td>78.8</td>\n",
       "    </tr>\n",
       "    <tr>\n",
       "      <th>2002</th>\n",
       "      <td>41.8</td>\n",
       "      <td>55.4</td>\n",
       "      <td>58.2</td>\n",
       "      <td>59.0</td>\n",
       "      <td>60.0</td>\n",
       "    </tr>\n",
       "    <tr>\n",
       "      <th>2003</th>\n",
       "      <td>25.8</td>\n",
       "      <td>29.8</td>\n",
       "      <td>31.0</td>\n",
       "      <td>41.0</td>\n",
       "      <td>46.8</td>\n",
       "    </tr>\n",
       "    <tr>\n",
       "      <th>2004</th>\n",
       "      <td>21.2</td>\n",
       "      <td>28.0</td>\n",
       "      <td>39.0</td>\n",
       "      <td>45.6</td>\n",
       "      <td>61.6</td>\n",
       "    </tr>\n",
       "    <tr>\n",
       "      <th>2005</th>\n",
       "      <td>57.2</td>\n",
       "      <td>60.8</td>\n",
       "      <td>61.0</td>\n",
       "      <td>70.0</td>\n",
       "      <td>90.2</td>\n",
       "    </tr>\n",
       "    <tr>\n",
       "      <th>2006</th>\n",
       "      <td>36.0</td>\n",
       "      <td>50.4</td>\n",
       "      <td>57.4</td>\n",
       "      <td>93.6</td>\n",
       "      <td>109.2</td>\n",
       "    </tr>\n",
       "    <tr>\n",
       "      <th>2007</th>\n",
       "      <td>65.8</td>\n",
       "      <td>92.4</td>\n",
       "      <td>107.4</td>\n",
       "      <td>113.6</td>\n",
       "      <td>127.4</td>\n",
       "    </tr>\n",
       "    <tr>\n",
       "      <th>2008</th>\n",
       "      <td>47.2</td>\n",
       "      <td>49.4</td>\n",
       "      <td>59.6</td>\n",
       "      <td>89.8</td>\n",
       "      <td>102.2</td>\n",
       "    </tr>\n",
       "    <tr>\n",
       "      <th>2009</th>\n",
       "      <td>70.8</td>\n",
       "      <td>105.2</td>\n",
       "      <td>132.6</td>\n",
       "      <td>136.6</td>\n",
       "      <td>153.0</td>\n",
       "    </tr>\n",
       "    <tr>\n",
       "      <th>2010</th>\n",
       "      <td>47.6</td>\n",
       "      <td>54.8</td>\n",
       "      <td>55.4</td>\n",
       "      <td>70.8</td>\n",
       "      <td>75.6</td>\n",
       "    </tr>\n",
       "    <tr>\n",
       "      <th>2011</th>\n",
       "      <td>21.8</td>\n",
       "      <td>22.4</td>\n",
       "      <td>35.0</td>\n",
       "      <td>50.2</td>\n",
       "      <td>63.8</td>\n",
       "    </tr>\n",
       "    <tr>\n",
       "      <th>2012</th>\n",
       "      <td>19.0</td>\n",
       "      <td>30.8</td>\n",
       "      <td>40.8</td>\n",
       "      <td>47.4</td>\n",
       "      <td>50.2</td>\n",
       "    </tr>\n",
       "    <tr>\n",
       "      <th>2013</th>\n",
       "      <td>12.0</td>\n",
       "      <td>29.8</td>\n",
       "      <td>43.6</td>\n",
       "      <td>50.2</td>\n",
       "      <td>62.4</td>\n",
       "    </tr>\n",
       "    <tr>\n",
       "      <th>2014</th>\n",
       "      <td>74.2</td>\n",
       "      <td>92.6</td>\n",
       "      <td>96.8</td>\n",
       "      <td>96.8</td>\n",
       "      <td>97.2</td>\n",
       "    </tr>\n",
       "    <tr>\n",
       "      <th>2015</th>\n",
       "      <td>25.8</td>\n",
       "      <td>30.2</td>\n",
       "      <td>34.8</td>\n",
       "      <td>38.0</td>\n",
       "      <td>52.4</td>\n",
       "    </tr>\n",
       "    <tr>\n",
       "      <th>2016</th>\n",
       "      <td>38.6</td>\n",
       "      <td>38.8</td>\n",
       "      <td>39.2</td>\n",
       "      <td>39.2</td>\n",
       "      <td>52.2</td>\n",
       "    </tr>\n",
       "    <tr>\n",
       "      <th>2017</th>\n",
       "      <td>48.4</td>\n",
       "      <td>54.0</td>\n",
       "      <td>57.0</td>\n",
       "      <td>64.2</td>\n",
       "      <td>99.8</td>\n",
       "    </tr>\n",
       "    <tr>\n",
       "      <th>2018</th>\n",
       "      <td>20.8</td>\n",
       "      <td>24.0</td>\n",
       "      <td>25.6</td>\n",
       "      <td>36.4</td>\n",
       "      <td>38.6</td>\n",
       "    </tr>\n",
       "    <tr>\n",
       "      <th>2019</th>\n",
       "      <td>31.2</td>\n",
       "      <td>32.2</td>\n",
       "      <td>44.2</td>\n",
       "      <td>53.2</td>\n",
       "      <td>60.8</td>\n",
       "    </tr>\n",
       "    <tr>\n",
       "      <th>2020</th>\n",
       "      <td>80.0</td>\n",
       "      <td>93.2</td>\n",
       "      <td>93.2</td>\n",
       "      <td>93.2</td>\n",
       "      <td>93.2</td>\n",
       "    </tr>\n",
       "    <tr>\n",
       "      <th>2021</th>\n",
       "      <td>31.8</td>\n",
       "      <td>40.2</td>\n",
       "      <td>42.0</td>\n",
       "      <td>42.0</td>\n",
       "      <td>42.6</td>\n",
       "    </tr>\n",
       "  </tbody>\n",
       "</table>\n",
       "</div>"
      ],
      "text/plain": [
       "        1h     3h     6h    12h    24h\n",
       "anno                                  \n",
       "2000  36.2   36.2   62.0   73.2   93.2\n",
       "2001  37.0   52.8   55.0   69.8   78.8\n",
       "2002  41.8   55.4   58.2   59.0   60.0\n",
       "2003  25.8   29.8   31.0   41.0   46.8\n",
       "2004  21.2   28.0   39.0   45.6   61.6\n",
       "2005  57.2   60.8   61.0   70.0   90.2\n",
       "2006  36.0   50.4   57.4   93.6  109.2\n",
       "2007  65.8   92.4  107.4  113.6  127.4\n",
       "2008  47.2   49.4   59.6   89.8  102.2\n",
       "2009  70.8  105.2  132.6  136.6  153.0\n",
       "2010  47.6   54.8   55.4   70.8   75.6\n",
       "2011  21.8   22.4   35.0   50.2   63.8\n",
       "2012  19.0   30.8   40.8   47.4   50.2\n",
       "2013  12.0   29.8   43.6   50.2   62.4\n",
       "2014  74.2   92.6   96.8   96.8   97.2\n",
       "2015  25.8   30.2   34.8   38.0   52.4\n",
       "2016  38.6   38.8   39.2   39.2   52.2\n",
       "2017  48.4   54.0   57.0   64.2   99.8\n",
       "2018  20.8   24.0   25.6   36.4   38.6\n",
       "2019  31.2   32.2   44.2   53.2   60.8\n",
       "2020  80.0   93.2   93.2   93.2   93.2\n",
       "2021  31.8   40.2   42.0   42.0   42.6"
      ]
     },
     "execution_count": 2,
     "metadata": {},
     "output_type": "execute_result"
    }
   ],
   "source": [
    "data"
   ]
  },
  {
   "cell_type": "markdown",
   "id": "e469e85f-eaf7-4fd5-b2d3-cc0ac5f5fa0a",
   "metadata": {},
   "source": [
    "Leggo il dataframe con i dati migliori. "
   ]
  },
  {
   "cell_type": "markdown",
   "id": "d927caa4-5bb7-41f9-af9a-406dc6728a85",
   "metadata": {},
   "source": [
    "## non capisco perchè legga il data frame con i dati di massima verosimiglianza e dica che sono i dati migliori, non dovrebbero essere quelli che troviamo col test di pearson?"
   ]
  },
  {
   "cell_type": "code",
   "execution_count": 3,
   "id": "092c2276-d5b1-4304-a5a5-65b4b3b22b59",
   "metadata": {},
   "outputs": [
    {
     "data": {
      "text/html": [
       "<div>\n",
       "<style scoped>\n",
       "    .dataframe tbody tr th:only-of-type {\n",
       "        vertical-align: middle;\n",
       "    }\n",
       "\n",
       "    .dataframe tbody tr th {\n",
       "        vertical-align: top;\n",
       "    }\n",
       "\n",
       "    .dataframe thead th {\n",
       "        text-align: right;\n",
       "    }\n",
       "</style>\n",
       "<table border=\"1\" class=\"dataframe\">\n",
       "  <thead>\n",
       "    <tr style=\"text-align: right;\">\n",
       "      <th></th>\n",
       "      <th>1h</th>\n",
       "      <th>3h</th>\n",
       "      <th>6h</th>\n",
       "      <th>12h</th>\n",
       "      <th>24h</th>\n",
       "    </tr>\n",
       "  </thead>\n",
       "  <tbody>\n",
       "    <tr>\n",
       "      <th>a</th>\n",
       "      <td>31.724736</td>\n",
       "      <td>39.407941</td>\n",
       "      <td>46.548023</td>\n",
       "      <td>53.711052</td>\n",
       "      <td>64.499459</td>\n",
       "    </tr>\n",
       "    <tr>\n",
       "      <th>b</th>\n",
       "      <td>14.864016</td>\n",
       "      <td>16.922256</td>\n",
       "      <td>17.541655</td>\n",
       "      <td>18.276984</td>\n",
       "      <td>23.011086</td>\n",
       "    </tr>\n",
       "  </tbody>\n",
       "</table>\n",
       "</div>"
      ],
      "text/plain": [
       "          1h         3h         6h        12h        24h\n",
       "a  31.724736  39.407941  46.548023  53.711052  64.499459\n",
       "b  14.864016  16.922256  17.541655  18.276984  23.011086"
      ]
     },
     "execution_count": 3,
     "metadata": {},
     "output_type": "execute_result"
    }
   ],
   "source": [
    "best=pd.read_pickle(\"best_param\")\n",
    "best"
   ]
  },
  {
   "cell_type": "markdown",
   "id": "2b2dde1e-93e1-43f2-a390-18f464f2e312",
   "metadata": {},
   "source": [
    "Si definisce la funzione quantili prendendo in entrata un data frame e i vari quantili e restituendo i valori delle ascisse in funzione della curva di Gumbel:"
   ]
  },
  {
   "cell_type": "code",
   "execution_count": 6,
   "id": "a80207fc-c25a-4cd6-9e6f-d4bd7c84a1d6",
   "metadata": {},
   "outputs": [],
   "source": [
    "def qtls(df,qu):\n",
    "    rv1h=gumbel_r(loc=df[\"a\"],scale=df[\"b\"])\n",
    "    return rv1h.ppf(qu)"
   ]
  },
  {
   "cell_type": "markdown",
   "id": "b95c4d9d-2e08-4577-9ab7-af060273dc13",
   "metadata": {},
   "source": [
    "Altra funzione: si inseriscono un dataframe, il tempo che ci interessa e il tempo di ritorno."
   ]
  },
  {
   "cell_type": "code",
   "execution_count": 7,
   "id": "71146bde-4426-40e8-a97a-c4b98946d7b6",
   "metadata": {},
   "outputs": [],
   "source": [
    "def h_g(bs,col,tr):\n",
    "    return bs[col][\"a\"]+bs[col][\"b\"]*(-math.log(-math.log(1-1/tr)))"
   ]
  },
  {
   "cell_type": "markdown",
   "id": "7a8f2927-cf82-4cbd-aa68-03cf7b91bc0a",
   "metadata": {},
   "source": [
    "Applico la funzione $qlts$ (quantiles) a ciascuna delle colonne del data frame $best$. Il quantile è definito come:\n",
    "\\begin{equation}\n",
    "q = 1 - 1/T_r\n",
    "\\end{equation}\n",
    "Nel caso di un $Tr = 10$ sarà pari a: $q=0.9$.\n",
    "\n",
    "\n",
    "La funzione quantiles mi permette, di inserire le curve di probabilità, entro con un valore del quantile e trovo il valaore corrispondente dell'altezza di precipitazione\n",
    "Trovo le 5 altezze di precipitazione relative alle durate:"
   ]
  },
  {
   "cell_type": "code",
   "execution_count": 8,
   "id": "1382d75d-9831-4c77-8466-e8d47cb67ea6",
   "metadata": {},
   "outputs": [
    {
     "data": {
      "text/plain": [
       "[65.17423296415933,\n",
       " 77.4892320527388,\n",
       " 86.02318943757442,\n",
       " 98.42770686996127,\n",
       " 114.47020256482307]"
      ]
     },
     "execution_count": 8,
     "metadata": {},
     "output_type": "execute_result"
    }
   ],
   "source": [
    "[qtls(best[\"1h\"],0.9),qtls(best[\"3h\"],0.9),qtls(best[\"6h\"],0.9),qtls(best[\"12h\"],0.9),\n",
    " qtls(best[\"24h\"],0.9)]"
   ]
  },
  {
   "cell_type": "markdown",
   "id": "f1d4cb62-3cb6-4de5-80e7-4f5d4ef29dec",
   "metadata": {},
   "source": [
    "Così facendo costruisco le coppie, calcolo h_g = uso le funzioni di prima, mettendo come tempo di ritorno 10 anni e mi dà i risultati usando i quantili"
   ]
  },
  {
   "cell_type": "code",
   "execution_count": 9,
   "id": "afab258e-f035-47f6-b497-55be19ca6e01",
   "metadata": {},
   "outputs": [
    {
     "data": {
      "text/plain": [
       "[65.17423296415933,\n",
       " 77.4892320527388,\n",
       " 86.02318943757442,\n",
       " 98.42770686996127,\n",
       " 114.47020256482307]"
      ]
     },
     "execution_count": 9,
     "metadata": {},
     "output_type": "execute_result"
    }
   ],
   "source": [
    "[h_g(best,\"1h\",10),h_g(best,\"3h\",10),h_g(best,\"6h\",10),h_g(best,\"12h\",10),h_g(best,\"24h\",10)]"
   ]
  },
  {
   "cell_type": "markdown",
   "id": "71033261-0e16-407e-af47-98df1624519e",
   "metadata": {},
   "source": [
    "A questo punto automatizzo la procedura per quantili di 10, 20 e 100 anni.\n",
    "I Dataframe corrispondono a tempi di ritorno diversi.\n",
    "Noi calcoliamo più tempi di ritorno perchè le curve devono essere anche visivamente parallele, se non lo sono è probabile che ci siano errori o che i dati siano errati.\n",
    "\n",
    "Troviamo quindi per le varie durate orarie il valore corrispondente ad ogni tempo di ritorno."
   ]
  },
  {
   "cell_type": "code",
   "execution_count": 10,
   "id": "5c9b2ae1-68ea-4d62-bdc0-82e78b50f50c",
   "metadata": {},
   "outputs": [
    {
     "data": {
      "text/html": [
       "<div>\n",
       "<style scoped>\n",
       "    .dataframe tbody tr th:only-of-type {\n",
       "        vertical-align: middle;\n",
       "    }\n",
       "\n",
       "    .dataframe tbody tr th {\n",
       "        vertical-align: top;\n",
       "    }\n",
       "\n",
       "    .dataframe thead th {\n",
       "        text-align: right;\n",
       "    }\n",
       "</style>\n",
       "<table border=\"1\" class=\"dataframe\">\n",
       "  <thead>\n",
       "    <tr style=\"text-align: right;\">\n",
       "      <th></th>\n",
       "      <th>10</th>\n",
       "      <th>20</th>\n",
       "      <th>100</th>\n",
       "    </tr>\n",
       "  </thead>\n",
       "  <tbody>\n",
       "    <tr>\n",
       "      <th>1</th>\n",
       "      <td>65.174233</td>\n",
       "      <td>75.873767</td>\n",
       "      <td>100.101429</td>\n",
       "    </tr>\n",
       "    <tr>\n",
       "      <th>3</th>\n",
       "      <td>77.489232</td>\n",
       "      <td>89.670344</td>\n",
       "      <td>117.252842</td>\n",
       "    </tr>\n",
       "    <tr>\n",
       "      <th>6</th>\n",
       "      <td>86.023189</td>\n",
       "      <td>98.650162</td>\n",
       "      <td>127.242252</td>\n",
       "    </tr>\n",
       "    <tr>\n",
       "      <th>12</th>\n",
       "      <td>98.427707</td>\n",
       "      <td>112.296332</td>\n",
       "      <td>143.699978</td>\n",
       "    </tr>\n",
       "    <tr>\n",
       "      <th>24</th>\n",
       "      <td>114.470203</td>\n",
       "      <td>130.448373</td>\n",
       "      <td>166.628803</td>\n",
       "    </tr>\n",
       "  </tbody>\n",
       "</table>\n",
       "</div>"
      ],
      "text/plain": [
       "           10          20          100\n",
       "1    65.174233   75.873767  100.101429\n",
       "3    77.489232   89.670344  117.252842\n",
       "6    86.023189   98.650162  127.242252\n",
       "12   98.427707  112.296332  143.699978\n",
       "24  114.470203  130.448373  166.628803"
      ]
     },
     "execution_count": 10,
     "metadata": {},
     "output_type": "execute_result"
    }
   ],
   "source": [
    "Tr=10\n",
    "q10=1-1/Tr\n",
    "q20=1-1/20\n",
    "q100=1-1/100\n",
    "\n",
    "    \n",
    "def qtls(df,qu):\n",
    "    rv1h=gumbel_r(loc=df[\"a\"],scale=df[\"b\"])\n",
    "    return rv1h.ppf(qu)\n",
    "\n",
    "pts=DataFrame([[qtls(best[\"1h\"],q10),\n",
    "           qtls(best[\"3h\"],q10),\n",
    "           qtls(best[\"6h\"],q10),\n",
    "           qtls(best[\"12h\"],q10),\n",
    "           qtls(best[\"24h\"],q10)],\n",
    "          [qtls(best[\"1h\"],q20),\n",
    "           qtls(best[\"3h\"],q20),\n",
    "           qtls(best[\"6h\"],q20),\n",
    "           qtls(best[\"12h\"],q20),\n",
    "           qtls(best[\"24h\"],q20)],\n",
    "          [qtls(best[\"1h\"],q100),\n",
    "           qtls(best[\"3h\"],q100),\n",
    "           qtls(best[\"6h\"],q100),\n",
    "           qtls(best[\"12h\"],q100),\n",
    "           qtls(best[\"24h\"],q100)]], index=[10,20,100],columns=[1,3,6,12,24]).T\n",
    "pts"
   ]
  },
  {
   "cell_type": "markdown",
   "id": "03ad09de-e345-49dd-9285-d9d644adad48",
   "metadata": {},
   "source": [
    "Tracciamo innanzitutto un diagramma non logaritmico\n",
    "\n",
    "## non ho capito cos'è che fa qua, se sta già plottando i punti tutta la roba che facciamo dopo fino al grafico finale non serve a niente?"
   ]
  },
  {
   "cell_type": "code",
   "execution_count": 11,
   "id": "6e2b8d3e-02d2-4560-9662-3c65cf70c3b0",
   "metadata": {},
   "outputs": [
    {
     "data": {
      "text/plain": [
       "(30.0, 200.0)"
      ]
     },
     "execution_count": 11,
     "metadata": {},
     "output_type": "execute_result"
    },
    {
     "data": {
      "image/png": "[encoded data removed]",
      "text/plain": [
       "<Figure size 432x288 with 1 Axes>"
      ]
     },
     "metadata": {
      "needs_background": "light"
     },
     "output_type": "display_data"
    }
   ],
   "source": [
    "ag=pts.plot(style=\"o\")\n",
    "plt.xlim([0,30])\n",
    "plt.ylim([30,200])\n"
   ]
  },
  {
   "cell_type": "code",
   "execution_count": 12,
   "id": "c3931e0b-385e-4bf4-9c24-df613ab15bdf",
   "metadata": {},
   "outputs": [
    {
     "data": {
      "text/plain": [
       "(30.0, 200.0)"
      ]
     },
     "execution_count": 12,
     "metadata": {},
     "output_type": "execute_result"
    },
    {
     "data": {
      "image/png": "[encoded data removed]",
      "text/plain": [
       "<Figure size 432x288 with 1 Axes>"
      ]
     },
     "metadata": {
      "needs_background": "light"
     },
     "output_type": "display_data"
    }
   ],
   "source": [
    "ag=pts.plot(style=\"-o\")\n",
    "plt.xlim([0,30])\n",
    "plt.ylim([30,200])"
   ]
  },
  {
   "cell_type": "markdown",
   "id": "095c70a5-715b-48ca-ae81-3e26e420a571",
   "metadata": {},
   "source": [
    "Disegno tutto su un diagramma logaritmico, settando anche gli intervalli di validità.\n",
    "Si vede che i punti appartengono bene ad una retta."
   ]
  },
  {
   "cell_type": "code",
   "execution_count": 13,
   "id": "ec199897-baad-4780-b4bf-e16b3234608c",
   "metadata": {},
   "outputs": [
    {
     "data": {
      "text/plain": [
       "(50, 200)"
      ]
     },
     "execution_count": 13,
     "metadata": {},
     "output_type": "execute_result"
    },
    {
     "data": {
      "image/png": "[encoded data removed]",
      "text/plain": [
       "<Figure size 432x288 with 1 Axes>"
      ]
     },
     "metadata": {
      "needs_background": "light"
     },
     "output_type": "display_data"
    }
   ],
   "source": [
    "ag=pts.plot(style=\"o\")\n",
    "#plt.get_xaxis().get_major_formatter().set_scientific(False)\n",
    "#plt.get_yaxis().get_major_formatter().set_scientific(False)\n",
    "ag.set_yscale('log')\n",
    "ag.set_xscale('log')\n",
    "plt.xlim([0.7,30])\n",
    "plt.ylim([50,200])"
   ]
  },
  {
   "cell_type": "markdown",
   "id": "1113a875-4edf-42e7-9206-d53e7b4ca7d7",
   "metadata": {},
   "source": [
    "Per interpolare i nostri dati potremmo usare le stesse funzioni di fitting usate per il metodo dei minimi quadrati per le curve di Gumbel.\n",
    "Qui si è però deciso di interpolare con un polinomio di ordine 1 (una retta)\n",
    "\n",
    "Troviamo infatti una retta a meno di errori di arrotondamento, il coefficiente angolare è 1 e l'intercetta praticamente 0."
   ]
  },
  {
   "cell_type": "code",
   "execution_count": 14,
   "id": "695449fe-1615-465d-8ef6-52ae8d708ec6",
   "metadata": {},
   "outputs": [
    {
     "data": {
      "text/plain": [
       "array([1.00000000e+00, 8.25508711e-16])"
      ]
     },
     "execution_count": 14,
     "metadata": {},
     "output_type": "execute_result"
    }
   ],
   "source": [
    "f=[1,2,3,4]\n",
    "g=[1,2,3,4]\n",
    "np.polyfit(f,g,1)"
   ]
  },
  {
   "cell_type": "markdown",
   "id": "9135d139-8077-43e3-8984-00d286bd8281",
   "metadata": {},
   "source": [
    "Stampo valori delle altezze per 10 anni come Tr"
   ]
  },
  {
   "cell_type": "code",
   "execution_count": 16,
   "id": "a8953d3b-15f4-4670-8a37-3b2ef60e887e",
   "metadata": {},
   "outputs": [
    {
     "data": {
      "text/plain": [
       "1      65.174233\n",
       "3      77.489232\n",
       "6      86.023189\n",
       "12     98.427707\n",
       "24    114.470203\n",
       "Name: 10, dtype: float64"
      ]
     },
     "execution_count": 16,
     "metadata": {},
     "output_type": "execute_result"
    }
   ],
   "source": [
    "pts[10]"
   ]
  },
  {
   "cell_type": "markdown",
   "id": "a6875232-2829-4d9c-a108-bbb20d4d74c4",
   "metadata": {},
   "source": [
    "Uso metodo di interpolazione lineare ma sui logaritmi, trovo un nuovo vettore.\n",
    "Calcolo con questa funzione il logaritmo sulle ascisse:"
   ]
  },
  {
   "cell_type": "code",
   "execution_count": 17,
   "id": "b3be78a7-3fd2-4b55-ba49-be4b7bfc4892",
   "metadata": {},
   "outputs": [
    {
     "data": {
      "text/plain": [
       "1     4.177064\n",
       "3     4.350139\n",
       "6     4.454617\n",
       "12    4.589322\n",
       "24    4.740315\n",
       "Name: 10, dtype: float64"
      ]
     },
     "execution_count": 17,
     "metadata": {},
     "output_type": "execute_result"
    }
   ],
   "source": [
    "np.log(pts[10])"
   ]
  },
  {
   "cell_type": "markdown",
   "id": "80a6fc34-9b3d-4a39-a770-a2aefe0e3c59",
   "metadata": {},
   "source": [
    "Calcolo il logaritmo sulle ordinate:"
   ]
  },
  {
   "cell_type": "code",
   "execution_count": 18,
   "id": "b1639293-d166-441d-afd6-072c996cbd29",
   "metadata": {},
   "outputs": [
    {
     "data": {
      "text/plain": [
       "Float64Index([               0.0, 1.0986122886681098,  1.791759469228055,\n",
       "              2.4849066497880004, 3.1780538303479458],\n",
       "             dtype='float64')"
      ]
     },
     "execution_count": 18,
     "metadata": {},
     "output_type": "execute_result"
    }
   ],
   "source": [
    " np.log(pts[10].index)"
   ]
  },
  {
   "cell_type": "code",
   "execution_count": 19,
   "id": "b3419c95-690d-4306-9b1a-3e9434814c00",
   "metadata": {},
   "outputs": [
    {
     "data": {
      "text/plain": [
       "array([0.1752851 , 4.16243705])"
      ]
     },
     "execution_count": 19,
     "metadata": {},
     "output_type": "execute_result"
    }
   ],
   "source": [
    "in10=np.polyfit(np.log(pts[10].index),np.log(pts[10]),1)\n",
    "in10"
   ]
  },
  {
   "cell_type": "markdown",
   "id": "56dc06f2-ed44-4531-aa3b-0c0a38d011a7",
   "metadata": {},
   "source": [
    "Uso sempre np.polyfit tra il logaritmo degli indici e il logaritmo dei valori.\n",
    "Trovo 0.17 come m e 4.16 come logaritmo dell'intercetta.\n",
    "\n",
    "Per trovare il valore vero dell'intercetta faccio l'esponenziale"
   ]
  },
  {
   "cell_type": "code",
   "execution_count": 20,
   "id": "f9aa4d1b-0cc5-444b-a783-860ef98a67f0",
   "metadata": {},
   "outputs": [
    {
     "data": {
      "text/plain": [
       "array([ 0.1752851 , 64.22785842])"
      ]
     },
     "execution_count": 20,
     "metadata": {},
     "output_type": "execute_result"
    }
   ],
   "source": [
    "in10[1]=np.exp(in10[1])\n",
    "in10"
   ]
  },
  {
   "cell_type": "markdown",
   "id": "e0d5e794-71d5-4bdf-a4f5-b35e57c8be8c",
   "metadata": {},
   "source": [
    "Ripeto le operazioni per tutte le altre durate:"
   ]
  },
  {
   "cell_type": "code",
   "execution_count": 21,
   "id": "fe02276a-5aec-4281-9ea7-ecebeaac19af",
   "metadata": {},
   "outputs": [
    {
     "data": {
      "text/plain": [
       "array([ 0.16794313, 74.77527351])"
      ]
     },
     "execution_count": 21,
     "metadata": {},
     "output_type": "execute_result"
    }
   ],
   "source": [
    "in20=np.polyfit(np.log(pts[20].index),np.log(pts[20]),1)\n",
    "in20[1]=np.exp(in20[1])\n",
    "in20"
   ]
  },
  {
   "cell_type": "code",
   "execution_count": 22,
   "id": "8ea666aa-ef5f-4b6c-b6e6-5d356d510b4c",
   "metadata": {},
   "outputs": [
    {
     "data": {
      "text/plain": [
       "array([ 0.15681543, 98.66815324])"
      ]
     },
     "execution_count": 22,
     "metadata": {},
     "output_type": "execute_result"
    }
   ],
   "source": [
    "in100=np.polyfit(np.log(pts[100].index),np.log(pts[100]),1)\n",
    "in100[1]=np.exp(in100[1])\n",
    "in100"
   ]
  },
  {
   "cell_type": "markdown",
   "id": "a5e1c3a8-c9a1-4c63-89be-98b61885f462",
   "metadata": {},
   "source": [
    "Costruisco un DataFrame con i dati dei 10 anni di tempo di ritorno, 20 e 100.\n",
    "Trovo quindi i coefficienti."
   ]
  },
  {
   "cell_type": "code",
   "execution_count": 23,
   "id": "892e1515-7cd1-4c2b-b14b-938f5455ccd3",
   "metadata": {},
   "outputs": [
    {
     "data": {
      "text/html": [
       "<div>\n",
       "<style scoped>\n",
       "    .dataframe tbody tr th:only-of-type {\n",
       "        vertical-align: middle;\n",
       "    }\n",
       "\n",
       "    .dataframe tbody tr th {\n",
       "        vertical-align: top;\n",
       "    }\n",
       "\n",
       "    .dataframe thead th {\n",
       "        text-align: right;\n",
       "    }\n",
       "</style>\n",
       "<table border=\"1\" class=\"dataframe\">\n",
       "  <thead>\n",
       "    <tr style=\"text-align: right;\">\n",
       "      <th></th>\n",
       "      <th>n</th>\n",
       "      <th>a</th>\n",
       "    </tr>\n",
       "  </thead>\n",
       "  <tbody>\n",
       "    <tr>\n",
       "      <th>10</th>\n",
       "      <td>0.175285</td>\n",
       "      <td>64.227858</td>\n",
       "    </tr>\n",
       "    <tr>\n",
       "      <th>20</th>\n",
       "      <td>0.167943</td>\n",
       "      <td>74.775274</td>\n",
       "    </tr>\n",
       "    <tr>\n",
       "      <th>100</th>\n",
       "      <td>0.156815</td>\n",
       "      <td>98.668153</td>\n",
       "    </tr>\n",
       "  </tbody>\n",
       "</table>\n",
       "</div>"
      ],
      "text/plain": [
       "            n          a\n",
       "10   0.175285  64.227858\n",
       "20   0.167943  74.775274\n",
       "100  0.156815  98.668153"
      ]
     },
     "execution_count": 23,
     "metadata": {},
     "output_type": "execute_result"
    }
   ],
   "source": [
    "fnl=DataFrame([in10,in20,in100],index=[10,20,100],columns=[\"n\",\"a\"])\n",
    "fnl"
   ]
  },
  {
   "cell_type": "code",
   "execution_count": 24,
   "id": "a8538489-d263-4a44-864b-ae79eb90fef1",
   "metadata": {},
   "outputs": [
    {
     "data": {
      "text/plain": [
       "array([28.81616162, 29.11212121, 29.40808081, 29.7040404 , 30.        ])"
      ]
     },
     "execution_count": 24,
     "metadata": {},
     "output_type": "execute_result"
    }
   ],
   "source": [
    "tp=np.linspace(0.7,30,100)\n",
    "tp[-5:]"
   ]
  },
  {
   "cell_type": "markdown",
   "id": "6ec5b523-bae4-41dc-9e4c-4f6760dab733",
   "metadata": {},
   "source": [
    "Per disegnare il tutto definisco le curve di possibilità pluviometrica e poi eseguo i calcoli per le varie durate."
   ]
  },
  {
   "cell_type": "code",
   "execution_count": 25,
   "id": "32e5e33b-a166-4cff-a82c-23d2519162b4",
   "metadata": {},
   "outputs": [],
   "source": [
    "def h(tp,a,n):\n",
    "    return a*tp**n"
   ]
  },
  {
   "cell_type": "code",
   "execution_count": 26,
   "id": "3c34c15d-e0dd-478e-a3a8-f13251effe36",
   "metadata": {},
   "outputs": [],
   "source": [
    "h10=h(tp,fnl[\"a\"][10],fnl[\"n\"][10])\n",
    "h20=h(tp,fnl[\"a\"][20],fnl[\"n\"][20])\n",
    "h100=h(tp,fnl[\"a\"][100],fnl[\"n\"][100])"
   ]
  },
  {
   "cell_type": "markdown",
   "id": "b7532f1f-ed91-44a4-aada-e8342bdfcdcf",
   "metadata": {},
   "source": [
    "Creo un DataFrame con i valori relativi ai tempi di ritorno."
   ]
  },
  {
   "cell_type": "code",
   "execution_count": 27,
   "id": "0515e314-71d7-4921-b0c2-65866f9c6f21",
   "metadata": {},
   "outputs": [
    {
     "data": {
      "text/html": [
       "<div>\n",
       "<style scoped>\n",
       "    .dataframe tbody tr th:only-of-type {\n",
       "        vertical-align: middle;\n",
       "    }\n",
       "\n",
       "    .dataframe tbody tr th {\n",
       "        vertical-align: top;\n",
       "    }\n",
       "\n",
       "    .dataframe thead th {\n",
       "        text-align: right;\n",
       "    }\n",
       "</style>\n",
       "<table border=\"1\" class=\"dataframe\">\n",
       "  <thead>\n",
       "    <tr style=\"text-align: right;\">\n",
       "      <th></th>\n",
       "      <th>Tr = 10</th>\n",
       "      <th>Tr = 20</th>\n",
       "      <th>Tr = 100</th>\n",
       "    </tr>\n",
       "  </thead>\n",
       "  <tbody>\n",
       "    <tr>\n",
       "      <th>0.700000</th>\n",
       "      <td>60.335294</td>\n",
       "      <td>70.427665</td>\n",
       "      <td>93.300932</td>\n",
       "    </tr>\n",
       "    <tr>\n",
       "      <th>0.995960</th>\n",
       "      <td>64.182295</td>\n",
       "      <td>74.724449</td>\n",
       "      <td>98.605531</td>\n",
       "    </tr>\n",
       "    <tr>\n",
       "      <th>1.291919</th>\n",
       "      <td>67.177114</td>\n",
       "      <td>78.061919</td>\n",
       "      <td>102.711819</td>\n",
       "    </tr>\n",
       "    <tr>\n",
       "      <th>1.587879</th>\n",
       "      <td>69.650419</td>\n",
       "      <td>80.813498</td>\n",
       "      <td>106.088488</td>\n",
       "    </tr>\n",
       "    <tr>\n",
       "      <th>1.883838</th>\n",
       "      <td>71.768603</td>\n",
       "      <td>83.166744</td>\n",
       "      <td>108.970285</td>\n",
       "    </tr>\n",
       "  </tbody>\n",
       "</table>\n",
       "</div>"
      ],
      "text/plain": [
       "            Tr = 10    Tr = 20    Tr = 100\n",
       "0.700000  60.335294  70.427665   93.300932\n",
       "0.995960  64.182295  74.724449   98.605531\n",
       "1.291919  67.177114  78.061919  102.711819\n",
       "1.587879  69.650419  80.813498  106.088488\n",
       "1.883838  71.768603  83.166744  108.970285"
      ]
     },
     "execution_count": 27,
     "metadata": {},
     "output_type": "execute_result"
    }
   ],
   "source": [
    "inh=DataFrame([h10,h20,h100],index=[\"Tr = 10\",\"Tr = 20\",\"Tr = 100\"],\n",
    "              columns=tp).T\n",
    "inh[:2]"
   ]
  },
  {
   "cell_type": "code",
   "execution_count": 47,
   "id": "4924f383-5c81-4174-8470-0d01714eed8e",
   "metadata": {},
   "outputs": [
    {
     "data": {
      "image/png": "[encoded data removed]",
      "text/plain": [
       "<Figure size 640x480 with 1 Axes>"
      ]
     },
     "metadata": {},
     "output_type": "display_data"
    }
   ],
   "source": [
    "plt.rc('xtick', labelsize=10)\n",
    "plt.rc('ytick', labelsize=10)\n",
    "plt.style.use('default')\n",
    "ag=inh.plot(color= [\"red\",\"blue\", \"magenta\" ])\n",
    "ag.plot(pts[10],'+',c=\"red\",label=\"10h\", markersize=6)\n",
    "ag.plot(pts[20],\"+\",c=\"blue\",label=\"20h\", markersize = 6)\n",
    "ag.plot(pts[100],\"+\",c=\"magenta\", label =\"100h\", markersize = 6)\n",
    "#ag.set_yscale('log')\n",
    "#ag.set_xscale('log')\n",
    "plt.xlim([0.7,30])\n",
    "plt.ylim([50,200])\n",
    "ag.set_title('Curve di Possibilità Pluviometrica')\n",
    "ag.set_xlabel('Durata')\n",
    "ag.set_ylabel('Precipitazione [mm]')\n",
    "ag.set_aspect('auto')\n",
    "plt.grid()"
   ]
  },
  {
   "cell_type": "code",
   "execution_count": 50,
   "id": "9185266b-b204-4106-8fd3-0651d86aaca5",
   "metadata": {},
   "outputs": [
    {
     "data": {
      "text/plain": [
       "(50, 200)"
      ]
     },
     "execution_count": 50,
     "metadata": {},
     "output_type": "execute_result"
    },
    {
     "data": {
      "image/png": "[encoded data removed]",
      "text/plain": [
       "<Figure size 640x480 with 1 Axes>"
      ]
     },
     "metadata": {},
     "output_type": "display_data"
    }
   ],
   "source": [
    "plt.rc('xtick', labelsize=10)\n",
    "plt.rc('ytick', labelsize=10)\n",
    "plt.style.use('default')\n",
    "ag=inh.plot(color= [\"red\",\"blue\", \"magenta\" ])\n",
    "ag.set_yscale('log')\n",
    "ag.set_xscale('log')\n",
    "\n",
    "ag.plot(pts[10],'+',c=\"red\",label=\"10h\", markersize=6)\n",
    "ag.plot(pts[20],\"+\",c=\"blue\",label=\"20h\", markersize = 6)\n",
    "ag.plot(pts[100],\"+\",c=\"magenta\", label =\"100h\", markersize = 6)\n",
    "\n",
    "ag.set_title('Curve di Possibilità Pluviometrica')\n",
    "ag.set_xlabel('log(Durata)')\n",
    "ag.set_ylabel('log(Precipitazione [mm])')\n",
    "ag.set_aspect('auto')\n",
    "plt.grid()\n",
    "plt.xlim([0.7,30])\n",
    "plt.ylim([50,200])"
   ]
  },
  {
   "cell_type": "markdown",
   "id": "a55d1678-5aa9-4cb0-8591-b718288acfe1",
   "metadata": {},
   "source": [
    "Le curve interpolano abbastanza bene i dati e sono inoltre parallele tra loro: la legge di Possibilità Pluviometrica che abbiamo utilizzato va abbastanza bene per i nostri dati."
   ]
  }
 ],
 "metadata": {
  "kernelspec": {
   "display_name": "Python 3 (ipykernel)",
   "language": "python",
   "name": "python3"
  },
  "language_info": {
   "codemirror_mode": {
    "name": "ipython",
    "version": 3
   },
   "file_extension": ".py",
   "mimetype": "text/x-python",
   "name": "python",
   "nbconvert_exporter": "python",
   "pygments_lexer": "ipython3",
   "version": "3.7.12"
  }
 },
 "nbformat": 4,
 "nbformat_minor": 5
}
