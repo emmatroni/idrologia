{
 "cells": [
  {
   "cell_type": "markdown",
   "id": "bb7e0c13-e51e-4e29-b7e2-943f9bf5d8dd",
   "metadata": {},
   "source": [
    "# Esercitazione 2 - **Evapotraspirazione**\n",
    "L'evapotraspirazione $ET$ descrive il processo combinato di due fenomeni: l'evaporazione dell'acqua dal suolo e l'evaporazione dell'acqua dalle piante, chiamata traspirazione. \n",
    "\n",
    "In entrambi i casi, il contributo di $ET$ rimane difficile da stimare sia in condizioni di laboratorio, sia in ambiente. Esistono però alcuni modelli che permettono di valutare l'evapotraspirazione attraverso opportune ipotesi. \n",
    "\n",
    "## non saprei cos'altro aggiungere \n",
    "\n",
    "L'obiettivo di questa parte di esercitazione è proprio quello di stimare l'evapotraspirazione in una data stazione attraverso tre modelli diversi:\n",
    "- Penman - Monteith $\\href{ https://www.fao.org/3/X0490E/x0490e06.htm}{FAO}$\n",
    "- Priestley - Taylor \n",
    "- Prospero\n",
    "\n",
    "Sarà poi possibile stimare l'evapotraspirazione tenendo conto dello $stress factor$ presente nella trattazione di Jarvis e osservare quindi le differenze tra i risultati ottenuti calcolandola in modo ideale e quelli che invece si ottengono nel secondo caso.\n"
   ]
  },
  {
   "cell_type": "markdown",
   "id": "219edde3-e1e9-4b78-81a7-7e0bdad45aa6",
   "metadata": {},
   "source": [
    "## recap da cancellare dopo di cosa bisogna fare:\n",
    "- timeseries creator\n",
    "- PT: emma\n",
    "- PM: tita\n",
    "\n",
    "calcolare effettiva evapotraspirazione con stress factor \n",
    "- parte con la radiazione = clearness index, etc (?)\n",
    "- SoilEvaporation PM: Tita\n",
    "- Prospero: Emma\n",
    "- Tutto insieme (file 06)\n"
   ]
  },
  {
   "cell_type": "markdown",
   "id": "3b544957-a851-4d10-b155-df104e498c84",
   "metadata": {},
   "source": [
    "Come prima cosa, è necessario creare una serie temporale che tenga conto della data di inizio e di fine di osservazione di una determinata stazione. La posizione della stazione è data dall'ID di quest'ultima.\n",
    "Dopo aver importato i file necessari si passa quindi alla definizione del tempo di interesse: si imposta la data di inizio, di fine e il $time step$, che ci dà informazioni sulla distanza oraria tra una misura e la seguente."
   ]
  },
  {
   "cell_type": "code",
   "execution_count": 1,
   "id": "9cb85c7c-8340-4120-bfbb-327059b97b7b",
   "metadata": {},
   "outputs": [
    {
     "data": {
      "text/plain": [
       "DatetimeIndex(['2013-12-15 00:00:00', '2013-12-15 01:00:00',\n",
       "               '2013-12-15 02:00:00', '2013-12-15 03:00:00',\n",
       "               '2013-12-15 04:00:00', '2013-12-15 05:00:00',\n",
       "               '2013-12-15 06:00:00', '2013-12-15 07:00:00',\n",
       "               '2013-12-15 08:00:00', '2013-12-15 09:00:00',\n",
       "               ...\n",
       "               '2015-12-15 15:00:00', '2015-12-15 16:00:00',\n",
       "               '2015-12-15 17:00:00', '2015-12-15 18:00:00',\n",
       "               '2015-12-15 19:00:00', '2015-12-15 20:00:00',\n",
       "               '2015-12-15 21:00:00', '2015-12-15 22:00:00',\n",
       "               '2015-12-15 23:00:00', '2015-12-16 00:00:00'],\n",
       "              dtype='datetime64[ns]', length=17545, freq='H')"
      ]
     },
     "execution_count": 1,
     "metadata": {},
     "output_type": "execute_result"
    }
   ],
   "source": [
    "import os\n",
    "import numpy as np\n",
    "import pandas as pd\n",
    "\n",
    "import matplotlib.pyplot as plt\n",
    "import matplotlib.dates as mdates\n",
    "from timeseries_writer import *\n",
    "\n",
    "oms_project_path = os.path.dirname(os.getcwd())\n",
    "date_rng = pd.date_range(start='15/12/2013 00:00', end='16/12/2015 00:00' , freq='1H')\n",
    "date_rng"
   ]
  },
  {
   "cell_type": "code",
   "execution_count": 2,
   "id": "afa894a9-4beb-492b-99be-12dfbf87ab9a",
   "metadata": {},
   "outputs": [
    {
     "data": {
      "text/plain": [
       "'C:\\\\Users\\\\emmat\\\\Desktop\\\\Progetto idrologia\\\\ET'"
      ]
     },
     "execution_count": 2,
     "metadata": {},
     "output_type": "execute_result"
    }
   ],
   "source": [
    "os.getcwd()"
   ]
  },
  {
   "cell_type": "markdown",
   "id": "b21005df-c89c-4664-ba16-d20ffac8b7cc",
   "metadata": {},
   "source": [
    "In questo caso si è scelto di creare un DataFrame con valori variabili in modo sinusoidale:"
   ]
  },
  {
   "cell_type": "markdown",
   "id": "dbaa2a21-63c0-409c-97fc-baea40528e85",
   "metadata": {},
   "source": [
    "Meleto: 1.80 ± 0.25 (Jackson, 1978) - [American Society for Horticultural Science] (http:emma//)"
   ]
  },
  {
   "cell_type": "code",
   "execution_count": 3,
   "id": "a30079ab-5c48-46e7-b681-a6ddde79424e",
   "metadata": {},
   "outputs": [],
   "source": [
    "d=len(date_rng)\n",
    "dataframe = np.zeros(d)\n",
    "\n",
    "#meleto: \n",
    "\n",
    "m=1.55\n",
    "\n",
    "M=2.05\n",
    "for i in range(0,d):\n",
    "    dataframe[i] = (m+M)/2 + ((m+M)/2-m)*np.sin(2*np.pi/(365*24)*i)"
   ]
  },
  {
   "cell_type": "markdown",
   "id": "4e4ec4c4-acc2-4b9d-b3c2-8291f190b0ce",
   "metadata": {},
   "source": [
    "Creiamo poi un DataFrame con le date e il valore di precipitazioni cercato che, in questo caso, oscillerà in modo sinusoidale:"
   ]
  },
  {
   "cell_type": "code",
   "execution_count": 4,
   "id": "8f4cac6e-51b5-4e94-b0d0-eb707f589d89",
   "metadata": {},
   "outputs": [
    {
     "data": {
      "text/html": [
       "<div>\n",
       "<style scoped>\n",
       "    .dataframe tbody tr th:only-of-type {\n",
       "        vertical-align: middle;\n",
       "    }\n",
       "\n",
       "    .dataframe tbody tr th {\n",
       "        vertical-align: top;\n",
       "    }\n",
       "\n",
       "    .dataframe thead th {\n",
       "        text-align: right;\n",
       "    }\n",
       "</style>\n",
       "<table border=\"1\" class=\"dataframe\">\n",
       "  <thead>\n",
       "    <tr style=\"text-align: right;\">\n",
       "      <th></th>\n",
       "      <th>-</th>\n",
       "      <th>date</th>\n",
       "      <th>Prec</th>\n",
       "    </tr>\n",
       "  </thead>\n",
       "  <tbody>\n",
       "    <tr>\n",
       "      <th>0</th>\n",
       "      <td>NaN</td>\n",
       "      <td>2013-12-15 00:00:00</td>\n",
       "      <td>1.800000</td>\n",
       "    </tr>\n",
       "    <tr>\n",
       "      <th>1</th>\n",
       "      <td>NaN</td>\n",
       "      <td>2013-12-15 01:00:00</td>\n",
       "      <td>1.800179</td>\n",
       "    </tr>\n",
       "    <tr>\n",
       "      <th>2</th>\n",
       "      <td>NaN</td>\n",
       "      <td>2013-12-15 02:00:00</td>\n",
       "      <td>1.800359</td>\n",
       "    </tr>\n",
       "    <tr>\n",
       "      <th>3</th>\n",
       "      <td>NaN</td>\n",
       "      <td>2013-12-15 03:00:00</td>\n",
       "      <td>1.800538</td>\n",
       "    </tr>\n",
       "    <tr>\n",
       "      <th>4</th>\n",
       "      <td>NaN</td>\n",
       "      <td>2013-12-15 04:00:00</td>\n",
       "      <td>1.800717</td>\n",
       "    </tr>\n",
       "  </tbody>\n",
       "</table>\n",
       "</div>"
      ],
      "text/plain": [
       "    -                date      Prec\n",
       "0 NaN 2013-12-15 00:00:00  1.800000\n",
       "1 NaN 2013-12-15 01:00:00  1.800179\n",
       "2 NaN 2013-12-15 02:00:00  1.800359\n",
       "3 NaN 2013-12-15 03:00:00  1.800538\n",
       "4 NaN 2013-12-15 04:00:00  1.800717"
      ]
     },
     "execution_count": 4,
     "metadata": {},
     "output_type": "execute_result"
    }
   ],
   "source": [
    "dfOut = pd.DataFrame(date_rng, columns=['date'])\n",
    "dfOut['Prec'] = dataframe\n",
    "dfOut.insert(loc=0, column='-', value=np.nan)\n",
    "dfOut.head()"
   ]
  },
  {
   "cell_type": "markdown",
   "id": "3431862c-ed37-403f-9468-4e945565b6a7",
   "metadata": {},
   "source": [
    "Per avere conferma dell'andamento delle precipitazioni in funzione della data è possibile plottare il tutto come di seguito:"
   ]
  },
  {
   "cell_type": "code",
   "execution_count": 5,
   "id": "b3baa493-ac0f-4ade-8c9d-7201d236ace6",
   "metadata": {},
   "outputs": [
    {
     "name": "stderr",
     "output_type": "stream",
     "text": [
      "C:\\Users\\emmat\\Anaconda3\\envs\\geoframe_verona\\lib\\site-packages\\ipykernel_launcher.py:3: MatplotlibDeprecationWarning: Case-insensitive properties were deprecated in 3.3 and support will be removed two minor releases later\n",
      "  This is separate from the ipykernel package so we can avoid doing imports until\n"
     ]
    },
    {
     "data": {
      "image/png": "[encoded data removed]",
      "text/plain": [
       "<Figure size 720x360 with 1 Axes>"
      ]
     },
     "metadata": {
      "needs_background": "light"
     },
     "output_type": "display_data"
    }
   ],
   "source": [
    "fig = plt.figure(figsize=(10,5))\n",
    "ax = plt.subplot(111)\n",
    "plt.plot(dfOut['date'],dfOut['Prec'], lineWidth =3)\n",
    "plt.xlabel('Date',fontsize=14)\n",
    "plt.ylabel('Prec [-]',fontsize=14)   \n",
    "plt.title('Prec',fontsize=18)\n",
    "fig.autofmt_xdate()\n",
    "ax.xaxis.set_major_formatter(mdates.DateFormatter('%Y-%m-%d %H:%M'))\n",
    "xlabels = ax.get_xticklabels()\n",
    "ax.xaxis.get_major_ticks()\n",
    "for label in xlabels:\n",
    "    label.set_rotation(75)\n",
    "    label.set_fontsize(12)\n",
    "plt.grid()\n",
    "plt.show()"
   ]
  },
  {
   "cell_type": "markdown",
   "id": "74d6fa3f-58de-470e-ae14-51f777f6ffff",
   "metadata": {},
   "source": [
    "Infine possiamo salvare quanto fatto in un file .csv, da utilizzare in seguito"
   ]
  },
  {
   "cell_type": "code",
   "execution_count": 6,
   "id": "fa60a34a-fccd-4a9e-9d16-48519ae0803a",
   "metadata": {},
   "outputs": [
    {
     "name": "stdout",
     "output_type": "stream",
     "text": [
      "\n",
      "\n",
      "***SUCCESS writing!  LAIsinMelo.csv\n"
     ]
    }
   ],
   "source": [
    "os.chdir(\"C:\\\\Users\\\\emmat\\\\Desktop\\\\OMS_GEOET11\\\\data\\\\Cavone\\\\1\")\n",
    "write_timeseries_csv(dfOut,'LAIsinMelo.csv')"
   ]
  },
  {
   "cell_type": "markdown",
   "id": "c74151aa-7923-46e4-b7a7-3176e1652394",
   "metadata": {},
   "source": [
    "## non ho ben chiaro a questo punto a cosa dovrebbe servire il file timeseries formatter, mi sembra faccia la stessa roba ma invece che prendere un valore a caso per le precipitazioni prende quello che effettivamente c'è stato"
   ]
  },
  {
   "cell_type": "code",
   "execution_count": null,
   "id": "935f1038-09ac-4ad6-b7ac-f258114f52ec",
   "metadata": {},
   "outputs": [],
   "source": []
  }
 ],
 "metadata": {
  "kernelspec": {
   "display_name": "Python 3 (ipykernel)",
   "language": "python",
   "name": "python3"
  },
  "language_info": {
   "codemirror_mode": {
    "name": "ipython",
    "version": 3
   },
   "file_extension": ".py",
   "mimetype": "text/x-python",
   "name": "python",
   "nbconvert_exporter": "python",
   "pygments_lexer": "ipython3",
   "version": "3.7.12"
  }
 },
 "nbformat": 4,
 "nbformat_minor": 5
}
