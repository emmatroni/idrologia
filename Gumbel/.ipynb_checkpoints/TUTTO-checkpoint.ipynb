{
 "cells": [
  {
   "cell_type": "markdown",
   "id": "7f59a993-095e-4c76-9f3c-c3de32bbd3ed",
   "metadata": {},
   "source": [
    "# Esercitazione 1\n",
    "## Derivazione delle curve di possibilità pluviometrica per i dati relativi alla stazione di Venezia"
   ]
  },
  {
   "cell_type": "markdown",
   "id": "3fefc69b-b20a-4af7-9227-4e04b2cb5d26",
   "metadata": {},
   "source": [
    "Le curve di possibilità pluviometrica, ci danno informazioni sull'altezza di precipitazione $h$, noti durata $t$ e tempo di ritorno $Tr$, ossia il tempo medio dopo il quale una certa intensità di precipitazione si ripete o è superata. Le curve esprimono quindi l'altezza della precipitazione in millimetri tramite una legge di potenza secondo la relazione \n",
    "$$ h(t_p, Tr) = a(T_r) t_p^n$$\n",
    "Sono particolarmente utili per lo studio degli eventi di precipitazione estremi quindi in cui il tempo di ritorno è elevato.\n",
    "\n",
    "Per ogni durata si cercherà dunque di interpolare i dati a una distribuzione di probabilità, capace di rappresentare la distribuzione incognita.\n",
    "Per questa analisi, si è scelto di utilizzare l'espressione parametrica delle curve di Gumbel:\n",
    "$$ P[H<h; a,b] = e^{-e-{\\frac{h-a}{b}}}$$\n",
    "\n",
    "Dove $a$ è paramtetro di posizione (moda) e $b$ parametro di forma (media); altre distribuzioni introdotte per lo studio dei valori estremi sono quella di Fréchet e di Weibull.\n",
    "\n",
    "Per prima cosa è necessario calcolare i valori di $a$ e $b$ che meglio interpolano la distribuzione di Gumbel.\n",
    "Per ottenere questo risultato si dovrà calcolare i due parametri tramite:\n",
    "- il metodo dei momenti\n",
    "- il metodo della massima verosimiglianza\n",
    "- il metodo dei minimi quadrati\n",
    "\n",
    "Grazie al test di Pearson sarà infine possibile scegliere la coppia di parametri migliori e sostituirli in modo da trovare le curve che meglio approssimano i valori dati.\n",
    "\n",
    "Per prima cosa, importiamo i dati e i pacchetti necessari per il calcolo dei parametri tramite metodo dei momenti:"
   ]
  },
  {
   "cell_type": "code",
   "execution_count": 1,
   "id": "34b74c95-7d63-43d6-a5c9-1dbcf9fd384d",
   "metadata": {},
   "outputs": [],
   "source": [
    "import os\n",
    "import math\n",
    "from pandas import *\n",
    "import pandas as pd\n",
    "from datetime import datetime\n",
    "%matplotlib inline \n",
    "import matplotlib.pyplot as plt"
   ]
  },
  {
   "cell_type": "code",
   "execution_count": 4,
   "id": "b1f61815-43b9-4d72-9275-ccc886c9f270",
   "metadata": {},
   "outputs": [
    {
     "data": {
      "text/html": [
       "<div>\n",
       "<style scoped>\n",
       "    .dataframe tbody tr th:only-of-type {\n",
       "        vertical-align: middle;\n",
       "    }\n",
       "\n",
       "    .dataframe tbody tr th {\n",
       "        vertical-align: top;\n",
       "    }\n",
       "\n",
       "    .dataframe thead th {\n",
       "        text-align: right;\n",
       "    }\n",
       "</style>\n",
       "<table border=\"1\" class=\"dataframe\">\n",
       "  <thead>\n",
       "    <tr style=\"text-align: right;\">\n",
       "      <th></th>\n",
       "      <th>1h</th>\n",
       "      <th>3h</th>\n",
       "      <th>6h</th>\n",
       "      <th>12h</th>\n",
       "      <th>24h</th>\n",
       "    </tr>\n",
       "    <tr>\n",
       "      <th>anno</th>\n",
       "      <th></th>\n",
       "      <th></th>\n",
       "      <th></th>\n",
       "      <th></th>\n",
       "      <th></th>\n",
       "    </tr>\n",
       "  </thead>\n",
       "  <tbody>\n",
       "    <tr>\n",
       "      <th>2000</th>\n",
       "      <td>36.2</td>\n",
       "      <td>36.2</td>\n",
       "      <td>62.0</td>\n",
       "      <td>73.2</td>\n",
       "      <td>93.2</td>\n",
       "    </tr>\n",
       "    <tr>\n",
       "      <th>2001</th>\n",
       "      <td>37.0</td>\n",
       "      <td>52.8</td>\n",
       "      <td>55.0</td>\n",
       "      <td>69.8</td>\n",
       "      <td>78.8</td>\n",
       "    </tr>\n",
       "    <tr>\n",
       "      <th>2002</th>\n",
       "      <td>41.8</td>\n",
       "      <td>55.4</td>\n",
       "      <td>58.2</td>\n",
       "      <td>59.0</td>\n",
       "      <td>60.0</td>\n",
       "    </tr>\n",
       "    <tr>\n",
       "      <th>2003</th>\n",
       "      <td>25.8</td>\n",
       "      <td>29.8</td>\n",
       "      <td>31.0</td>\n",
       "      <td>41.0</td>\n",
       "      <td>46.8</td>\n",
       "    </tr>\n",
       "    <tr>\n",
       "      <th>2004</th>\n",
       "      <td>21.2</td>\n",
       "      <td>28.0</td>\n",
       "      <td>39.0</td>\n",
       "      <td>45.6</td>\n",
       "      <td>61.6</td>\n",
       "    </tr>\n",
       "    <tr>\n",
       "      <th>2005</th>\n",
       "      <td>57.2</td>\n",
       "      <td>60.8</td>\n",
       "      <td>61.0</td>\n",
       "      <td>70.0</td>\n",
       "      <td>90.2</td>\n",
       "    </tr>\n",
       "    <tr>\n",
       "      <th>2006</th>\n",
       "      <td>36.0</td>\n",
       "      <td>50.4</td>\n",
       "      <td>57.4</td>\n",
       "      <td>93.6</td>\n",
       "      <td>109.2</td>\n",
       "    </tr>\n",
       "    <tr>\n",
       "      <th>2007</th>\n",
       "      <td>65.8</td>\n",
       "      <td>92.4</td>\n",
       "      <td>107.4</td>\n",
       "      <td>113.6</td>\n",
       "      <td>127.4</td>\n",
       "    </tr>\n",
       "    <tr>\n",
       "      <th>2008</th>\n",
       "      <td>47.2</td>\n",
       "      <td>49.4</td>\n",
       "      <td>59.6</td>\n",
       "      <td>89.8</td>\n",
       "      <td>102.2</td>\n",
       "    </tr>\n",
       "    <tr>\n",
       "      <th>2009</th>\n",
       "      <td>70.8</td>\n",
       "      <td>105.2</td>\n",
       "      <td>132.6</td>\n",
       "      <td>136.6</td>\n",
       "      <td>153.0</td>\n",
       "    </tr>\n",
       "    <tr>\n",
       "      <th>2010</th>\n",
       "      <td>47.6</td>\n",
       "      <td>54.8</td>\n",
       "      <td>55.4</td>\n",
       "      <td>70.8</td>\n",
       "      <td>75.6</td>\n",
       "    </tr>\n",
       "    <tr>\n",
       "      <th>2011</th>\n",
       "      <td>21.8</td>\n",
       "      <td>22.4</td>\n",
       "      <td>35.0</td>\n",
       "      <td>50.2</td>\n",
       "      <td>63.8</td>\n",
       "    </tr>\n",
       "    <tr>\n",
       "      <th>2012</th>\n",
       "      <td>19.0</td>\n",
       "      <td>30.8</td>\n",
       "      <td>40.8</td>\n",
       "      <td>47.4</td>\n",
       "      <td>50.2</td>\n",
       "    </tr>\n",
       "    <tr>\n",
       "      <th>2013</th>\n",
       "      <td>12.0</td>\n",
       "      <td>29.8</td>\n",
       "      <td>43.6</td>\n",
       "      <td>50.2</td>\n",
       "      <td>62.4</td>\n",
       "    </tr>\n",
       "    <tr>\n",
       "      <th>2014</th>\n",
       "      <td>74.2</td>\n",
       "      <td>92.6</td>\n",
       "      <td>96.8</td>\n",
       "      <td>96.8</td>\n",
       "      <td>97.2</td>\n",
       "    </tr>\n",
       "    <tr>\n",
       "      <th>2015</th>\n",
       "      <td>25.8</td>\n",
       "      <td>30.2</td>\n",
       "      <td>34.8</td>\n",
       "      <td>38.0</td>\n",
       "      <td>52.4</td>\n",
       "    </tr>\n",
       "    <tr>\n",
       "      <th>2016</th>\n",
       "      <td>38.6</td>\n",
       "      <td>38.8</td>\n",
       "      <td>39.2</td>\n",
       "      <td>39.2</td>\n",
       "      <td>52.2</td>\n",
       "    </tr>\n",
       "    <tr>\n",
       "      <th>2017</th>\n",
       "      <td>48.4</td>\n",
       "      <td>54.0</td>\n",
       "      <td>57.0</td>\n",
       "      <td>64.2</td>\n",
       "      <td>99.8</td>\n",
       "    </tr>\n",
       "    <tr>\n",
       "      <th>2018</th>\n",
       "      <td>20.8</td>\n",
       "      <td>24.0</td>\n",
       "      <td>25.6</td>\n",
       "      <td>36.4</td>\n",
       "      <td>38.6</td>\n",
       "    </tr>\n",
       "    <tr>\n",
       "      <th>2019</th>\n",
       "      <td>31.2</td>\n",
       "      <td>32.2</td>\n",
       "      <td>44.2</td>\n",
       "      <td>53.2</td>\n",
       "      <td>60.8</td>\n",
       "    </tr>\n",
       "    <tr>\n",
       "      <th>2020</th>\n",
       "      <td>80.0</td>\n",
       "      <td>93.2</td>\n",
       "      <td>93.2</td>\n",
       "      <td>93.2</td>\n",
       "      <td>93.2</td>\n",
       "    </tr>\n",
       "    <tr>\n",
       "      <th>2021</th>\n",
       "      <td>31.8</td>\n",
       "      <td>40.2</td>\n",
       "      <td>42.0</td>\n",
       "      <td>42.0</td>\n",
       "      <td>42.6</td>\n",
       "    </tr>\n",
       "  </tbody>\n",
       "</table>\n",
       "</div>"
      ],
      "text/plain": [
       "        1h     3h     6h    12h    24h\n",
       "anno                                  \n",
       "2000  36.2   36.2   62.0   73.2   93.2\n",
       "2001  37.0   52.8   55.0   69.8   78.8\n",
       "2002  41.8   55.4   58.2   59.0   60.0\n",
       "2003  25.8   29.8   31.0   41.0   46.8\n",
       "2004  21.2   28.0   39.0   45.6   61.6\n",
       "2005  57.2   60.8   61.0   70.0   90.2\n",
       "2006  36.0   50.4   57.4   93.6  109.2\n",
       "2007  65.8   92.4  107.4  113.6  127.4\n",
       "2008  47.2   49.4   59.6   89.8  102.2\n",
       "2009  70.8  105.2  132.6  136.6  153.0\n",
       "2010  47.6   54.8   55.4   70.8   75.6\n",
       "2011  21.8   22.4   35.0   50.2   63.8\n",
       "2012  19.0   30.8   40.8   47.4   50.2\n",
       "2013  12.0   29.8   43.6   50.2   62.4\n",
       "2014  74.2   92.6   96.8   96.8   97.2\n",
       "2015  25.8   30.2   34.8   38.0   52.4\n",
       "2016  38.6   38.8   39.2   39.2   52.2\n",
       "2017  48.4   54.0   57.0   64.2   99.8\n",
       "2018  20.8   24.0   25.6   36.4   38.6\n",
       "2019  31.2   32.2   44.2   53.2   60.8\n",
       "2020  80.0   93.2   93.2   93.2   93.2\n",
       "2021  31.8   40.2   42.0   42.0   42.6"
      ]
     },
     "execution_count": 4,
     "metadata": {},
     "output_type": "execute_result"
    }
   ],
   "source": [
    "data = pd.read_csv('PluviometriaVE.txt')\n",
    "#data - voglio cambiare l'indice per avere l'anno\n",
    "map(datetime,data['anno']) \n",
    "data=data.set_index('anno')\n",
    "data"
   ]
  },
  {
   "cell_type": "markdown",
   "id": "c3dc1b5d-95b4-4bb8-9076-93d324da39a0",
   "metadata": {},
   "source": [
    "Nei 21 dati a disposizione non sono presenti NaN (Not a Number). \n",
    "\n",
    "Nel caso contrario, si sarebbe dovuta porre maggiore attenzione nella costruzione del DataFrame, in modo da eliminare tali dati non rappresentativi con un'opportuna funzione: $.dropna()$\n",
    "\n",
    "Calcolo la media e la deviazione standard delle precipitazioni per ogni durata, in quanto mi servirà in seguito nel calcolo dei parametri della curva:"
   ]
  },
  {
   "cell_type": "code",
   "execution_count": 12,
   "id": "f555f13c-589d-4794-8bd1-419ecb17678c",
   "metadata": {},
   "outputs": [
    {
     "data": {
      "text/plain": [
       "Text(0, 0.5, 'Altezza Precipitazione (mm)')"
      ]
     },
     "execution_count": 12,
     "metadata": {},
     "output_type": "execute_result"
    },
    {
     "data": {
      "image/png": "[encoded data removed]",
      "text/plain": [
       "<Figure size 432x288 with 1 Axes>"
      ]
     },
     "metadata": {
      "needs_background": "light"
     },
     "output_type": "display_data"
    }
   ],
   "source": [
    "means=data.mean()\n",
    "\n",
    "ax=means.plot()\n",
    "ax.grid(True)\n",
    "\n",
    "ax.set_title('Precipitazione Media negli Anni')\n",
    "ax.set_xlabel('Durata')\n",
    "ax.set_ylabel('Altezza Precipitazione (mm)')"
   ]
  },
  {
   "cell_type": "code",
   "execution_count": 13,
   "id": "361207b3-45af-4320-bb28-f44059b13944",
   "metadata": {},
   "outputs": [
    {
     "data": {
      "text/plain": [
       "1h     367.910043\n",
       "3h     616.464502\n",
       "6h     728.741472\n",
       "12h    733.685628\n",
       "24h    871.009177\n",
       "dtype: float64"
      ]
     },
     "execution_count": 13,
     "metadata": {},
     "output_type": "execute_result"
    }
   ],
   "source": [
    "variances=data.var()\n",
    "variances"
   ]
  },
  {
   "cell_type": "code",
   "execution_count": 14,
   "id": "9e9cc0f4-31c4-4294-9a68-b0df8417077a",
   "metadata": {},
   "outputs": [
    {
     "data": {
      "text/plain": [
       "Text(0, 0.5, 'Altezza Precipitazione (mm)')"
      ]
     },
     "execution_count": 14,
     "metadata": {},
     "output_type": "execute_result"
    },
    {
     "data": {
      "image/png": "[encoded data removed]",
      "text/plain": [
       "<Figure size 432x288 with 1 Axes>"
      ]
     },
     "metadata": {
      "needs_background": "light"
     },
     "output_type": "display_data"
    }
   ],
   "source": [
    "ax=variances.plot()\n",
    "ax.grid(True)\n",
    "\n",
    "ax.set_title('Varianza nelle Precipitazioni')\n",
    "ax.set_xlabel('Durata')\n",
    "ax.set_ylabel('Altezza Precipitazione (mm)')"
   ]
  },
  {
   "cell_type": "code",
   "execution_count": 15,
   "id": "8dfea849-4cfd-4538-8ad8-448858f36f00",
   "metadata": {},
   "outputs": [
    {
     "data": {
      "text/plain": [
       "1h     19.180981\n",
       "3h     24.828703\n",
       "6h     26.995212\n",
       "12h    27.086632\n",
       "24h    29.512865\n",
       "dtype: float64"
      ]
     },
     "execution_count": 15,
     "metadata": {},
     "output_type": "execute_result"
    }
   ],
   "source": [
    "stds=data.std()\n",
    "stds"
   ]
  },
  {
   "cell_type": "code",
   "execution_count": 16,
   "id": "08cd2b34-94eb-495a-938d-6c6fe130a2d8",
   "metadata": {},
   "outputs": [
    {
     "data": {
      "text/plain": [
       "Text(0, 0.5, 'Altezza Precipitazione (mm)')"
      ]
     },
     "execution_count": 16,
     "metadata": {},
     "output_type": "execute_result"
    },
    {
     "data": {
      "image/png": "[encoded data removed]",
      "text/plain": [
       "<Figure size 432x288 with 1 Axes>"
      ]
     },
     "metadata": {
      "needs_background": "light"
     },
     "output_type": "display_data"
    }
   ],
   "source": [
    "ax=stds.plot()\n",
    "ax.grid(True)\n",
    "\n",
    "ax.set_title('Deviazione Standard nelle Precipitazioni')\n",
    "ax.set_xlabel('Durata')\n",
    "ax.set_ylabel('Altezza Precipitazione (mm)')"
   ]
  },
  {
   "cell_type": "markdown",
   "id": "04787110-1dd7-4b69-b5dd-a3297da8a6ab",
   "metadata": {},
   "source": [
    "## Interpolazione delle curve di Gumbel con il metodo dei momenti\n",
    "\n",
    "Il metodo dei momenti è un metodo di adattamento della curva ai dati che consiste nel porre l'uguaglianza tra i momenti del campione e quelli della popolazione. Nel caso delle curve di Gumbel sarà necessario porre l'uguaglianza solamente tra la media e la varianza, ottenendo un sistema di due equazioni in due incognite, dotato quindi di una soluzione analitica.\n",
    "\n",
    "La determinazione di $a$ e $b$ è quindi possibile tramite la risoluzione del sistema:\n",
    "\n",
    "\\begin{equation}\n",
    "\\left\\{\n",
    "\\begin{array}{l}\n",
    "b \\gamma + a = \\mu_H \\\\\n",
    "\\sigma^2_H = b^2  \\frac{\\pi^2}{6}\n",
    "\\end{array}\n",
    "\\right.\n",
    "\\end{equation}\n",
    "\n",
    "Da cui:\n",
    "\\begin{equation}\n",
    "b = \\frac{\\sqrt{6}}{\\pi} \\sigma_H\n",
    "\\end{equation}\n",
    "\n",
    "\\begin{equation}\n",
    "a = \\mu_H -\\frac{\\sqrt{6}\\gamma}{\\pi} \\sigma_H \n",
    "\\end{equation}\n",
    "\n",
    "La relazione tra il parametro $b$ e la deviazione standard $sigma_H$ fa sì che tale parametro sia un fattore forma.\n"
   ]
  },
  {
   "cell_type": "code",
   "execution_count": 17,
   "id": "7a74f172-5dca-4d0a-93d5-8527dc1a647e",
   "metadata": {},
   "outputs": [],
   "source": [
    "EulerGamma=0.577215664901532860606512090"
   ]
  },
  {
   "cell_type": "markdown",
   "id": "c6256d0a-3e0b-43a9-9c76-ec84add458dc",
   "metadata": {},
   "source": [
    "Il primo coefficiente, che useremo nell'espressione per il calcolo di $b$ sarà:"
   ]
  },
  {
   "cell_type": "code",
   "execution_count": 18,
   "id": "e429c905-5b92-421f-9849-40e32c79e7de",
   "metadata": {},
   "outputs": [],
   "source": [
    "coeff1 = (math.sqrt(6)/math.pi)"
   ]
  },
  {
   "cell_type": "markdown",
   "id": "29461a0c-961c-499b-8cef-f6d2e83c2fab",
   "metadata": {},
   "source": [
    "Il secondo, presente nell'espressione per il calcolo di $a$, è pari a quello già calcolato moltiplicato per la costante di Eulero"
   ]
  },
  {
   "cell_type": "code",
   "execution_count": 19,
   "id": "1e6ad117-3bbf-422b-9bd7-7e457b221447",
   "metadata": {},
   "outputs": [],
   "source": [
    "coeff2= coeff1*EulerGamma"
   ]
  },
  {
   "cell_type": "markdown",
   "id": "343ed6f2-58c2-4f14-b8e8-4f5dc0a5d158",
   "metadata": {},
   "source": [
    "Definisco una funzione che mi permette di ottenere i parametri, a cui serve sapere la media (m) e la deviazione standard (s). In seguito costruisco un vettore index che ritorna come componenti i parametri della curva:"
   ]
  },
  {
   "cell_type": "code",
   "execution_count": 20,
   "id": "a44ac97d-14d2-438e-a232-c1cfa82cb813",
   "metadata": {},
   "outputs": [],
   "source": [
    "def g(m,s):\n",
    "    return pd.DataFrame([m-coeff2*s,coeff1*s],index=[\"a\",\"b\"])"
   ]
  },
  {
   "cell_type": "markdown",
   "id": "fd6947c7-9b4d-4f98-ab45-5a66905859a7",
   "metadata": {},
   "source": [
    "Per conservare il risultato lo riunisco sotto una variabile che poi trascrivo su un file, scritto in un formato interno che consente di leggere direttamente nel Notebook il mio DataFrame:"
   ]
  },
  {
   "cell_type": "code",
   "execution_count": 21,
   "id": "e1a8ac6a-36e0-4d09-85d7-94a573c8e4fc",
   "metadata": {},
   "outputs": [
    {
     "data": {
      "text/html": [
       "<div>\n",
       "<style scoped>\n",
       "    .dataframe tbody tr th:only-of-type {\n",
       "        vertical-align: middle;\n",
       "    }\n",
       "\n",
       "    .dataframe tbody tr th {\n",
       "        vertical-align: top;\n",
       "    }\n",
       "\n",
       "    .dataframe thead th {\n",
       "        text-align: right;\n",
       "    }\n",
       "</style>\n",
       "<table border=\"1\" class=\"dataframe\">\n",
       "  <thead>\n",
       "    <tr style=\"text-align: right;\">\n",
       "      <th></th>\n",
       "      <th>1h</th>\n",
       "      <th>3h</th>\n",
       "      <th>6h</th>\n",
       "      <th>12h</th>\n",
       "      <th>24h</th>\n",
       "    </tr>\n",
       "  </thead>\n",
       "  <tbody>\n",
       "    <tr>\n",
       "      <th>a</th>\n",
       "      <td>31.831174</td>\n",
       "      <td>38.980308</td>\n",
       "      <td>45.614355</td>\n",
       "      <td>54.800484</td>\n",
       "      <td>64.499459</td>\n",
       "    </tr>\n",
       "    <tr>\n",
       "      <th>b</th>\n",
       "      <td>14.955350</td>\n",
       "      <td>19.358860</td>\n",
       "      <td>21.048080</td>\n",
       "      <td>21.119360</td>\n",
       "      <td>23.011086</td>\n",
       "    </tr>\n",
       "  </tbody>\n",
       "</table>\n",
       "</div>"
      ],
      "text/plain": [
       "          1h         3h         6h        12h        24h\n",
       "a  31.831174  38.980308  45.614355  54.800484  64.499459\n",
       "b  14.955350  19.358860  21.048080  21.119360  23.011086"
      ]
     },
     "execution_count": 21,
     "metadata": {},
     "output_type": "execute_result"
    }
   ],
   "source": [
    "ab_m = g(means, stds)\n",
    "ab_m"
   ]
  },
  {
   "cell_type": "code",
   "execution_count": 24,
   "id": "88e98cce-73fb-4d37-90b1-99a79096be59",
   "metadata": {},
   "outputs": [],
   "source": [
    "ab_m.to_pickle(\"ab_m\")"
   ]
  },
  {
   "cell_type": "markdown",
   "id": "18b819a0-6280-436a-be21-7ffab243a0c3",
   "metadata": {},
   "source": [
    "Ora non resta che disegnare le curve di Gumbel per ogni durata, utilizzando delle librerie specifiche per tale parametrizzazione: la prima contiene definizione della curva; la seconda serve per creare vettori particolari che verranno usati come ascisse delle variabili:"
   ]
  },
  {
   "cell_type": "code",
   "execution_count": 25,
   "id": "a3913608-3900-47cc-ac9d-0fe35cdbd254",
   "metadata": {},
   "outputs": [],
   "source": [
    "from scipy.stats import genextreme,gumbel_r\n",
    "from numpy import linspace"
   ]
  },
  {
   "cell_type": "markdown",
   "id": "d912e120-1350-4e60-b3dd-da7ea61c8266",
   "metadata": {},
   "source": [
    "Definiamo adesso la funzione di Gumbel, come già scritta in precedenza, prendendo i valori di $a$ e $b$ dalle colonne della tabella soprastante:"
   ]
  },
  {
   "cell_type": "code",
   "execution_count": 26,
   "id": "7dc6ae7e-46b8-4ac3-abac-e000b06f4ed1",
   "metadata": {},
   "outputs": [],
   "source": [
    "def gumbel(x,abs_d,col):\n",
    "    return np.exp(-np.exp(-(x-ab_m[col][\"a\"])/ab_m[col][\"b\"]))"
   ]
  },
  {
   "cell_type": "code",
   "execution_count": 27,
   "id": "d8f1cfdc-e7ea-4ca1-a0b1-2f9e177f2055",
   "metadata": {},
   "outputs": [],
   "source": [
    "from statsmodels.distributions.empirical_distribution import ECDF\n",
    "import numpy as np"
   ]
  },
  {
   "cell_type": "markdown",
   "id": "dcbadff0-11c5-4ffb-810a-8a6af56b0f8d",
   "metadata": {},
   "source": [
    "Devo fare in modo che nella rappresentazione, le curve si estendano dal minimo al massimo valore nel DataFrame.\n",
    "\n",
    "Noi sappiamo che all'aumentare della durata i massimi aumentano: il minimo sarà il minimo delle durate di 1h e il massimo sarà quello delle 24h."
   ]
  },
  {
   "cell_type": "code",
   "execution_count": 28,
   "id": "abe4ee51-8999-44ec-9beb-e844dca9f847",
   "metadata": {},
   "outputs": [],
   "source": [
    "min= data.min()[0]\n",
    "max = data.max()[4]"
   ]
  },
  {
   "cell_type": "markdown",
   "id": "dbe3a089-52ae-405a-88ce-447c10697643",
   "metadata": {},
   "source": [
    "Le curve potranno quindi prendere valori da $12.0$ mm a $153$ mm che sono il minimo che troviamo per la durata di precipitazione più corta (1h) e il massimo per la più lunga (24h).\n",
    "\n",
    "La variabile _t_rain_ che contiene queste informazioni deve poi essere inserita nella definizione della funzione di Gumbel."
   ]
  },
  {
   "cell_type": "code",
   "execution_count": 30,
   "id": "1c598a71-bee4-4f59-be1a-a2a190ade785",
   "metadata": {},
   "outputs": [],
   "source": [
    "t_rain=np.linspace(min, max,100)"
   ]
  },
  {
   "cell_type": "code",
   "execution_count": 31,
   "id": "ab35e900-8e2d-4978-90ed-ab9dc42d691e",
   "metadata": {},
   "outputs": [
    {
     "data": {
      "text/html": [
       "<div>\n",
       "<style scoped>\n",
       "    .dataframe tbody tr th:only-of-type {\n",
       "        vertical-align: middle;\n",
       "    }\n",
       "\n",
       "    .dataframe tbody tr th {\n",
       "        vertical-align: top;\n",
       "    }\n",
       "\n",
       "    .dataframe thead th {\n",
       "        text-align: right;\n",
       "    }\n",
       "</style>\n",
       "<table border=\"1\" class=\"dataframe\">\n",
       "  <thead>\n",
       "    <tr style=\"text-align: right;\">\n",
       "      <th></th>\n",
       "      <th>1h</th>\n",
       "      <th>3h</th>\n",
       "      <th>6h</th>\n",
       "      <th>12h</th>\n",
       "      <th>24h</th>\n",
       "    </tr>\n",
       "  </thead>\n",
       "  <tbody>\n",
       "    <tr>\n",
       "      <th>12.000000</th>\n",
       "      <td>0.023143</td>\n",
       "      <td>0.017780</td>\n",
       "      <td>0.007167</td>\n",
       "      <td>0.000506</td>\n",
       "      <td>0.000056</td>\n",
       "    </tr>\n",
       "    <tr>\n",
       "      <th>13.424242</th>\n",
       "      <td>0.032584</td>\n",
       "      <td>0.023662</td>\n",
       "      <td>0.009900</td>\n",
       "      <td>0.000831</td>\n",
       "      <td>0.000101</td>\n",
       "    </tr>\n",
       "    <tr>\n",
       "      <th>14.848485</th>\n",
       "      <td>0.044471</td>\n",
       "      <td>0.030859</td>\n",
       "      <td>0.013390</td>\n",
       "      <td>0.001319</td>\n",
       "      <td>0.000175</td>\n",
       "    </tr>\n",
       "    <tr>\n",
       "      <th>16.272727</th>\n",
       "      <td>0.059005</td>\n",
       "      <td>0.039494</td>\n",
       "      <td>0.017756</td>\n",
       "      <td>0.002033</td>\n",
       "      <td>0.000294</td>\n",
       "    </tr>\n",
       "    <tr>\n",
       "      <th>17.696970</th>\n",
       "      <td>0.076302</td>\n",
       "      <td>0.049668</td>\n",
       "      <td>0.023114</td>\n",
       "      <td>0.003045</td>\n",
       "      <td>0.000479</td>\n",
       "    </tr>\n",
       "    <tr>\n",
       "      <th>...</th>\n",
       "      <td>...</td>\n",
       "      <td>...</td>\n",
       "      <td>...</td>\n",
       "      <td>...</td>\n",
       "      <td>...</td>\n",
       "    </tr>\n",
       "    <tr>\n",
       "      <th>147.303030</th>\n",
       "      <td>0.999557</td>\n",
       "      <td>0.996292</td>\n",
       "      <td>0.992055</td>\n",
       "      <td>0.987553</td>\n",
       "      <td>0.973004</td>\n",
       "    </tr>\n",
       "    <tr>\n",
       "      <th>148.727273</th>\n",
       "      <td>0.999597</td>\n",
       "      <td>0.996555</td>\n",
       "      <td>0.992573</td>\n",
       "      <td>0.988360</td>\n",
       "      <td>0.974604</td>\n",
       "    </tr>\n",
       "    <tr>\n",
       "      <th>150.151515</th>\n",
       "      <td>0.999634</td>\n",
       "      <td>0.996799</td>\n",
       "      <td>0.993057</td>\n",
       "      <td>0.989115</td>\n",
       "      <td>0.976109</td>\n",
       "    </tr>\n",
       "    <tr>\n",
       "      <th>151.575758</th>\n",
       "      <td>0.999667</td>\n",
       "      <td>0.997026</td>\n",
       "      <td>0.993510</td>\n",
       "      <td>0.989821</td>\n",
       "      <td>0.977527</td>\n",
       "    </tr>\n",
       "    <tr>\n",
       "      <th>153.000000</th>\n",
       "      <td>0.999697</td>\n",
       "      <td>0.997236</td>\n",
       "      <td>0.993933</td>\n",
       "      <td>0.990481</td>\n",
       "      <td>0.978862</td>\n",
       "    </tr>\n",
       "  </tbody>\n",
       "</table>\n",
       "<p>100 rows × 5 columns</p>\n",
       "</div>"
      ],
      "text/plain": [
       "                  1h        3h        6h       12h       24h\n",
       "12.000000   0.023143  0.017780  0.007167  0.000506  0.000056\n",
       "13.424242   0.032584  0.023662  0.009900  0.000831  0.000101\n",
       "14.848485   0.044471  0.030859  0.013390  0.001319  0.000175\n",
       "16.272727   0.059005  0.039494  0.017756  0.002033  0.000294\n",
       "17.696970   0.076302  0.049668  0.023114  0.003045  0.000479\n",
       "...              ...       ...       ...       ...       ...\n",
       "147.303030  0.999557  0.996292  0.992055  0.987553  0.973004\n",
       "148.727273  0.999597  0.996555  0.992573  0.988360  0.974604\n",
       "150.151515  0.999634  0.996799  0.993057  0.989115  0.976109\n",
       "151.575758  0.999667  0.997026  0.993510  0.989821  0.977527\n",
       "153.000000  0.999697  0.997236  0.993933  0.990481  0.978862\n",
       "\n",
       "[100 rows x 5 columns]"
      ]
     },
     "execution_count": 31,
     "metadata": {},
     "output_type": "execute_result"
    }
   ],
   "source": [
    "gb=pd.DataFrame([gumbel(t_rain,ab_m,\"1h\"),\n",
    "                 gumbel(t_rain,ab_m,\"3h\"),\n",
    "                 gumbel(t_rain,ab_m,\"6h\"),\n",
    "                 gumbel(t_rain,ab_m,\"12h\"),\n",
    "                 gumbel(t_rain,ab_m,\"24h\")]).T\n",
    "gb.index=t_rain\n",
    "gb.columns=[\"1h\",\"3h\",\"6h\",\"12h\",\"24h\"]\n",
    "gb"
   ]
  },
  {
   "cell_type": "code",
   "execution_count": 32,
   "id": "671c2b83-36ce-4f77-9e00-b02c5e0d6a06",
   "metadata": {},
   "outputs": [
    {
     "data": {
      "image/png": "[encoded data removed]",
      "text/plain": [
       "<Figure size 640x480 with 1 Axes>"
      ]
     },
     "metadata": {},
     "output_type": "display_data"
    }
   ],
   "source": [
    "plt.rc('xtick', labelsize=10)\n",
    "plt.rc('ytick', labelsize=10) \n",
    "plt.style.use('default')\n",
    "ax=gb.plot(color=[\"red\",\"blue\",\"magenta\",\"limegreen\",\"orange\"])\n",
    "ecdf1h = ECDF(data[\"1h\"])\n",
    "ax.plot(data[\"1h\"],ecdf1h(data[\"1h\"]),'+',c=\"red\", label=\"1h\",markersize=6) \n",
    "data3h=data[\"3h\"]\n",
    "ecdf3h = ECDF(data3h)\n",
    "ax.plot(data3h,ecdf3h(data3h),\"+\",c=\"blue\", label=\"3h\",markersize=6)\n",
    "data6h=data[\"6h\"]\n",
    "ecdf6h = ECDF(data6h)\n",
    "ax.plot(data6h,ecdf6h(data6h),\"+\",c=\"magenta\", label=\"6h\",markersize=6)\n",
    "data12h=data[\"12h\"]\n",
    "ecdf12h = ECDF(data12h)\n",
    "ax.plot(data12h,ecdf12h(data12h),\"+\",c=\"limegreen\", label=\"12h\",markersize=6)\n",
    "data24h=data[\"24h\"]\n",
    "ecdf24h = ECDF(data24h)\n",
    "ax.plot(data24h,ecdf24h(data24h),\"+\",c=\"orange\", label=\"24h\",markersize=6)\n",
    "ax.set_title('Curve di Gumbel')\n",
    "ax.set_xlabel('Rainfall [mm]')\n",
    "ax.set_ylabel('P[H < h]')\n",
    "ax.set_aspect('auto')\n",
    "plt.legend(['1h', '3h', '6h', '12h', '24h'], loc='right',  title = \"Legenda\", title_fontsize = 10)\n",
    "#major grid lines\n",
    "plt.grid(b=True, which='major', color='gray', alpha=0.6, linestyle='dashdot', lw=0.5)\n",
    "#minor grid lines\n",
    "plt.minorticks_on()\n",
    "plt.grid(b=True, which='minor', color='beige', alpha=0.8, ls='-', lw=0.8)\n",
    "\n",
    "plt.show()"
   ]
  },
  {
   "cell_type": "markdown",
   "id": "7c08d883-8568-4583-aee9-2c456cef319d",
   "metadata": {},
   "source": [
    "Dal grafico è evidente come l'interpolazione dei dati, soprattutto per le precipitazioni di durata pari a 6h e 24h, sia molto approssimativa.\n",
    "Sia dai punti sul grafico sia dati dati esposti prima si può inoltre constatare che numerose precipitazioni per quelle durate sono caratterizzata da un'intensità di circa 60mm."
   ]
  },
  {
   "cell_type": "markdown",
   "id": "f5bc7f72-005f-44c0-8514-7e6b1fa2a1b5",
   "metadata": {},
   "source": [
    "## Interpolazione delle curve di Gumbel con il metodo dei minimi quadrati\n",
    "Il metodo dei minimi quadrati consiste nel minimizzare lo scarto quadratico $\\delta^2$ \n",
    "tra le misure di ECDF (frequenza empirica di non superamento) e la probabilità di non superamento:\n",
    "\n",
    "\\begin{equation} \n",
    "\\delta^2(a,b) = \\sum_i^N (ECDF_i-P[h_i;a,b])^2\n",
    "\\to \\rm min(\\delta^2(a,b))\n",
    "\\end{equation}\n",
    "\n",
    "Dato che il sistema che si trova non è lineare, è necessario risolvere questo problema con metodi numerici quali:\n",
    "-     Metodo di Eulero o della bisezione\n",
    "-     Metodo di Newton-Raphson-Simpson"
   ]
  },
  {
   "cell_type": "markdown",
   "id": "fc5f2c7e-0f22-461c-b75a-113b4da45f93",
   "metadata": {},
   "source": [
    "Per minimizzare il valore di $\\delta^2$ bisogna risolvere un sistema non lineare di due equazioni in funzione dei parametri $a$ e $b$,con un opportuno metodo numerico. "
   ]
  },
  {
   "cell_type": "code",
   "execution_count": 33,
   "id": "26188c0b-38fe-4d3d-b06f-5c7817cff372",
   "metadata": {},
   "outputs": [],
   "source": [
    "from scipy.optimize import least_squares "
   ]
  },
  {
   "cell_type": "markdown",
   "id": "0b5cce42-8ba6-471d-80d4-9cf92e308566",
   "metadata": {},
   "source": [
    "Definiamo in questo modo la funzione di Gumbel, dove x[0] e x[1] sono parte di un vettore. é necessario definire la funzione in questo modo in quanto sarà poi richiesta da un algoritmo in seguito."
   ]
  },
  {
   "cell_type": "code",
   "execution_count": 34,
   "id": "beaa8f2b-6fbd-428b-a73a-8758f9882797",
   "metadata": {},
   "outputs": [],
   "source": [
    "def fun(x,t,y):\n",
    "    return np.exp(-np.exp(-(t-x[0])/x[1]))-y\n",
    "from scipy.optimize import least_squares"
   ]
  },
  {
   "cell_type": "markdown",
   "id": "446bb062-9c5c-4116-81ea-f3ac025d4d19",
   "metadata": {},
   "source": [
    "Assegno l'ipotesi iniziale $x_0$ per ogni durata ai risultati ottenuti con il metodo dei momenti (valori, quindi, che sappiamo già essere plausibili).\n",
    "Il problema dei metodi iterativi è infatti che è necessario imporre questa ipotesi sulla posizione dei parametri per poter procedere con la risoluzione:"
   ]
  },
  {
   "cell_type": "code",
   "execution_count": 35,
   "id": "2c4cbbb6-5e35-4c0d-a8dd-24c7f6104676",
   "metadata": {},
   "outputs": [],
   "source": [
    "ecdf1h = ECDF(data[\"1h\"])\n",
    "x0=[31.,15.]"
   ]
  },
  {
   "cell_type": "code",
   "execution_count": 36,
   "id": "6c51277b-f03d-4492-8d5d-3d21aeec118b",
   "metadata": {},
   "outputs": [
    {
     "data": {
      "text/plain": [
       "anno\n",
       "2000    36.2\n",
       "2001    37.0\n",
       "2002    41.8\n",
       "2003    25.8\n",
       "2004    21.2\n",
       "Name: 1h, dtype: float64"
      ]
     },
     "execution_count": 36,
     "metadata": {},
     "output_type": "execute_result"
    }
   ],
   "source": [
    "data['1h'].head()"
   ]
  },
  {
   "cell_type": "markdown",
   "id": "ddba3021-395e-46ff-891d-b9436d05090a",
   "metadata": {},
   "source": [
    "Per poter applicare il metodo inoltre devo ordinare i dati in ordine crescente e calcolo le ordinate corrispondenti ai dati:"
   ]
  },
  {
   "cell_type": "code",
   "execution_count": 95,
   "id": "cd871ed0-6c08-4a3c-b248-dcdf88f6ac4b",
   "metadata": {},
   "outputs": [],
   "source": [
    "t_train=sorted(data[\"1h\"])\n",
    "y_train=ecdf1h(t_train)"
   ]
  },
  {
   "cell_type": "markdown",
   "id": "e0cfdfb1-9e9a-4379-9b66-6697b334dbf6",
   "metadata": {},
   "source": [
    "Calcolo l'ordinata corrispondente ai dati:"
   ]
  },
  {
   "cell_type": "code",
   "execution_count": 96,
   "id": "aa8ed26f-bbd6-4b6a-8510-20990fb95c3a",
   "metadata": {},
   "outputs": [],
   "source": [
    "y_train=ecdf1h(t_train)"
   ]
  },
  {
   "cell_type": "markdown",
   "id": "5c147cd4-a65e-4544-8eb7-0106332887a9",
   "metadata": {},
   "source": [
    "A questo punto posso applicare il metodo dei minimi quadrati, utilizzando la funzione fun che era stata introdotta prima e l'ipotesi iniziale $x_0$:"
   ]
  },
  {
   "cell_type": "code",
   "execution_count": 97,
   "id": "7746f16e-84ef-4ee9-88c7-599f52dbdfbd",
   "metadata": {},
   "outputs": [
    {
     "data": {
      "text/plain": [
       "array([29.83773928, 15.96934665])"
      ]
     },
     "execution_count": 97,
     "metadata": {},
     "output_type": "execute_result"
    }
   ],
   "source": [
    "res_lsq_1h=least_squares(fun,x0,args=(t_train,y_train))\n",
    "res_lsq_1h.x "
   ]
  },
  {
   "cell_type": "code",
   "execution_count": 98,
   "id": "b604f25a-b848-4f1f-9580-0a5431da8739",
   "metadata": {},
   "outputs": [],
   "source": [
    "ecdf3h=ECDF(data['3h'])\n",
    "t_rain=sorted(data['3h'].dropna())\n",
    "y_train=ecdf3h(t_train)\n",
    "x0=[39.,19.]\n",
    "res_lsq_3h=least_squares(fun,x0,args=(t_train,y_train))"
   ]
  },
  {
   "cell_type": "code",
   "execution_count": 99,
   "id": "f3821ef4-bb7d-4f09-a84d-7518a51a9ac7",
   "metadata": {},
   "outputs": [
    {
     "data": {
      "text/plain": [
       "array([44.9276428 , 16.19723798])"
      ]
     },
     "execution_count": 99,
     "metadata": {},
     "output_type": "execute_result"
    }
   ],
   "source": [
    "ecdf6h=ECDF(data['6h'])\n",
    "t_rain=sorted(data['6h'].dropna())\n",
    "y_train=ecdf6h(t_train)\n",
    "x0=[45.,21.]\n",
    "res_lsq_6h=least_squares(fun,x0,args=(t_train,y_train))\n",
    "res_lsq_6h.x"
   ]
  },
  {
   "cell_type": "code",
   "execution_count": 100,
   "id": "4f3fb3da-0345-48f2-a538-cd2e602f3741",
   "metadata": {},
   "outputs": [
    {
     "data": {
      "text/plain": [
       "array([53.71105246, 18.27698429])"
      ]
     },
     "execution_count": 100,
     "metadata": {},
     "output_type": "execute_result"
    }
   ],
   "source": [
    "ecdf12h=ECDF(data['12h'])\n",
    "t_rain=sorted(data['12h'].dropna())\n",
    "y_train=ecdf12h(t_train)\n",
    "x0=[54.,21.]\n",
    "res_lsq_12h=least_squares(fun,x0,args=(t_train,y_train))\n",
    "res_lsq_12h.x"
   ]
  },
  {
   "cell_type": "code",
   "execution_count": 101,
   "id": "c4d18144-6c7d-4b06-ab8d-aef4d3275544",
   "metadata": {},
   "outputs": [
    {
     "data": {
      "text/plain": [
       "array([63.23900778, 21.52475381])"
      ]
     },
     "execution_count": 101,
     "metadata": {},
     "output_type": "execute_result"
    }
   ],
   "source": [
    "ecdf24h=ECDF(data['24h'])\n",
    "t_rain=sorted(data['24h'].dropna())\n",
    "y_train=ecdf24h(t_train)\n",
    "#deduco un nuovo x0 dai valori ottenuti per 12h\n",
    "x0=[64.,23.]\n",
    "res_lsq_24h=least_squares(fun,x0,args=(t_train,y_train))\n",
    "res_lsq_24h.x"
   ]
  },
  {
   "cell_type": "code",
   "execution_count": 102,
   "id": "3c97e26b-7aa7-4d87-b91e-51d7eeed15f4",
   "metadata": {},
   "outputs": [
    {
     "data": {
      "text/html": [
       "<div>\n",
       "<style scoped>\n",
       "    .dataframe tbody tr th:only-of-type {\n",
       "        vertical-align: middle;\n",
       "    }\n",
       "\n",
       "    .dataframe tbody tr th {\n",
       "        vertical-align: top;\n",
       "    }\n",
       "\n",
       "    .dataframe thead th {\n",
       "        text-align: right;\n",
       "    }\n",
       "</style>\n",
       "<table border=\"1\" class=\"dataframe\">\n",
       "  <thead>\n",
       "    <tr style=\"text-align: right;\">\n",
       "      <th></th>\n",
       "      <th>1h</th>\n",
       "      <th>3h</th>\n",
       "      <th>6h</th>\n",
       "      <th>12h</th>\n",
       "      <th>24h</th>\n",
       "    </tr>\n",
       "  </thead>\n",
       "  <tbody>\n",
       "    <tr>\n",
       "      <th>a</th>\n",
       "      <td>29.837739</td>\n",
       "      <td>37.931925</td>\n",
       "      <td>44.927643</td>\n",
       "      <td>53.711052</td>\n",
       "      <td>63.239008</td>\n",
       "    </tr>\n",
       "    <tr>\n",
       "      <th>b</th>\n",
       "      <td>15.969347</td>\n",
       "      <td>17.954823</td>\n",
       "      <td>16.197238</td>\n",
       "      <td>18.276984</td>\n",
       "      <td>21.524754</td>\n",
       "    </tr>\n",
       "  </tbody>\n",
       "</table>\n",
       "</div>"
      ],
      "text/plain": [
       "          1h         3h         6h        12h        24h\n",
       "a  29.837739  37.931925  44.927643  53.711052  63.239008\n",
       "b  15.969347  17.954823  16.197238  18.276984  21.524754"
      ]
     },
     "execution_count": 102,
     "metadata": {},
     "output_type": "execute_result"
    }
   ],
   "source": [
    "ab_mq=pd.DataFrame([res_lsq_1h.x,res_lsq_3h.x,res_lsq_6h.x,res_lsq_12h.x,res_lsq_24h.x],\n",
    "                    columns=['a','b'],\n",
    "                    index=['1h','3h','6h','12h','24h']).T\n",
    "ab_mq"
   ]
  },
  {
   "cell_type": "code",
   "execution_count": 103,
   "id": "5740b4bb-4e20-4df3-b3c8-9e4479c0c199",
   "metadata": {},
   "outputs": [],
   "source": [
    "ab_mq.to_pickle(\"ab_mq\")"
   ]
  },
  {
   "cell_type": "markdown",
   "id": "d7614aeb-a6c6-4387-b686-fdf48e560625",
   "metadata": {},
   "source": [
    "Definisco la funzione di Gumbel, la quale prenderà i valori dei parametri a e b appena trovati:"
   ]
  },
  {
   "cell_type": "code",
   "execution_count": 105,
   "id": "575c5c6d-b196-445f-ae79-f6540491a7ec",
   "metadata": {},
   "outputs": [],
   "source": [
    "def gumbel(x,abs_mq,col):\n",
    "    return np.exp(-np.exp(-(x-ab_mq[col][\"a\"])/ab_mq[col][\"b\"]))\n",
    "\n",
    "from scipy.stats import genextreme,gumbel_r\n",
    "from numpy import linspace\n",
    "\n",
    "t_rain=np.linspace(data.min()[0],data.max()[4],100)"
   ]
  },
  {
   "cell_type": "code",
   "execution_count": 106,
   "id": "5eb9e126-7aa3-4e20-868b-fc45c59390bf",
   "metadata": {},
   "outputs": [
    {
     "data": {
      "text/html": [
       "<div>\n",
       "<style scoped>\n",
       "    .dataframe tbody tr th:only-of-type {\n",
       "        vertical-align: middle;\n",
       "    }\n",
       "\n",
       "    .dataframe tbody tr th {\n",
       "        vertical-align: top;\n",
       "    }\n",
       "\n",
       "    .dataframe thead th {\n",
       "        text-align: right;\n",
       "    }\n",
       "</style>\n",
       "<table border=\"1\" class=\"dataframe\">\n",
       "  <thead>\n",
       "    <tr style=\"text-align: right;\">\n",
       "      <th></th>\n",
       "      <th>1h</th>\n",
       "      <th>3h</th>\n",
       "      <th>6h</th>\n",
       "      <th>12h</th>\n",
       "      <th>24h</th>\n",
       "    </tr>\n",
       "  </thead>\n",
       "  <tbody>\n",
       "    <tr>\n",
       "      <th>12.000000</th>\n",
       "      <td>0.047091</td>\n",
       "      <td>0.014424</td>\n",
       "      <td>0.000483</td>\n",
       "      <td>0.000056</td>\n",
       "      <td>0.000020</td>\n",
       "    </tr>\n",
       "    <tr>\n",
       "      <th>13.424242</th>\n",
       "      <td>0.061118</td>\n",
       "      <td>0.019929</td>\n",
       "      <td>0.000918</td>\n",
       "      <td>0.000116</td>\n",
       "      <td>0.000040</td>\n",
       "    </tr>\n",
       "    <tr>\n",
       "      <th>14.848485</th>\n",
       "      <td>0.077578</td>\n",
       "      <td>0.026864</td>\n",
       "      <td>0.001654</td>\n",
       "      <td>0.000229</td>\n",
       "      <td>0.000077</td>\n",
       "    </tr>\n",
       "    <tr>\n",
       "      <th>16.272727</th>\n",
       "      <td>0.096488</td>\n",
       "      <td>0.035396</td>\n",
       "      <td>0.002835</td>\n",
       "      <td>0.000428</td>\n",
       "      <td>0.000141</td>\n",
       "    </tr>\n",
       "    <tr>\n",
       "      <th>17.696970</th>\n",
       "      <td>0.117794</td>\n",
       "      <td>0.045668</td>\n",
       "      <td>0.004645</td>\n",
       "      <td>0.000766</td>\n",
       "      <td>0.000249</td>\n",
       "    </tr>\n",
       "  </tbody>\n",
       "</table>\n",
       "</div>"
      ],
      "text/plain": [
       "                 1h        3h        6h       12h       24h\n",
       "12.000000  0.047091  0.014424  0.000483  0.000056  0.000020\n",
       "13.424242  0.061118  0.019929  0.000918  0.000116  0.000040\n",
       "14.848485  0.077578  0.026864  0.001654  0.000229  0.000077\n",
       "16.272727  0.096488  0.035396  0.002835  0.000428  0.000141\n",
       "17.696970  0.117794  0.045668  0.004645  0.000766  0.000249"
      ]
     },
     "execution_count": 106,
     "metadata": {},
     "output_type": "execute_result"
    }
   ],
   "source": [
    "gb=pd.DataFrame([gumbel(t_rain,ab_mq,\"1h\"),\n",
    "                 gumbel(t_rain,ab_mq,\"3h\"),\n",
    "                 gumbel(t_rain,ab_mq,\"6h\"),\n",
    "                 gumbel(t_rain,ab_mq,\"12h\"),\n",
    "                 gumbel(t_rain,ab_mq,\"24h\")]).T\n",
    "gb.index=t_rain\n",
    "gb.columns=[\"1h\",\"3h\",\"6h\",\"12h\",\"24h\"]\n",
    "gb.head()"
   ]
  },
  {
   "cell_type": "code",
   "execution_count": 71,
   "id": "de86db61-583c-4cad-8e81-7238805cdeef",
   "metadata": {},
   "outputs": [
    {
     "data": {
      "image/png": "[encoded data removed]",
      "text/plain": [
       "<Figure size 640x480 with 1 Axes>"
      ]
     },
     "metadata": {},
     "output_type": "display_data"
    }
   ],
   "source": [
    "plt.rc('xtick', labelsize=10)\n",
    "plt.rc('ytick', labelsize=10) \n",
    "plt.style.use('default')\n",
    "ax=gb.plot(color=[\"red\",\"blue\",\"magenta\",\"limegreen\",\"orange\"])\n",
    "ecdf1h = ECDF(data[\"1h\"])\n",
    "ax.plot(data[\"1h\"],ecdf1h(data[\"1h\"]),'+',c=\"red\", label=\"1h\",markersize=6) \n",
    "data3h=data[\"3h\"]\n",
    "ecdf3h = ECDF(data3h)\n",
    "ax.plot(data3h,ecdf3h(data3h),\"+\",c=\"blue\", label=\"3h\",markersize=6)\n",
    "data6h=data[\"6h\"]\n",
    "ecdf6h = ECDF(data6h)\n",
    "ax.plot(data6h,ecdf6h(data6h),\"+\",c=\"magenta\", label=\"6h\",markersize=6)\n",
    "data12h=data[\"12h\"]\n",
    "ecdf12h = ECDF(data12h)\n",
    "ax.plot(data12h,ecdf12h(data12h),\"+\",c=\"limegreen\", label=\"12h\",markersize=6)\n",
    "data24h=data[\"24h\"]\n",
    "ecdf24h = ECDF(data24h)\n",
    "ax.plot(data24h,ecdf24h(data24h),\"+\",c=\"orange\", label=\"24h\",markersize=6)\n",
    "ax.set_title('Curve di Gumbel')\n",
    "ax.set_xlabel('Rainfall [mm]')\n",
    "ax.set_ylabel('P[H < h]')\n",
    "ax.set_aspect('auto')\n",
    "plt.legend(['1h', '3h', '6h', '12h', '24h'], loc='right',  title = \"Legenda\", title_fontsize = 10)\n",
    "#major grid lines\n",
    "plt.grid(b=True, which='major', color='gray', alpha=0.6, linestyle='dashdot', lw=0.5)\n",
    "#minor grid lines\n",
    "plt.minorticks_on()\n",
    "plt.grid(b=True, which='minor', color='beige', alpha=0.8, ls='-', lw=0.8)\n",
    "\n",
    "plt.show()"
   ]
  },
  {
   "cell_type": "markdown",
   "id": "23d7aa19-4d01-4e49-b390-9b28aae59aa3",
   "metadata": {},
   "source": [
    "## Interpolazione delle curve di Gumbel con il metodo della massima verosimiglianza\n",
    "Il metodo della massima Verosimiglianza consiste nel calcolare i due parametri $a$ e $b$ presenti nella curva di Gumbel, imponendo massima la funzione: \\begin{equation}\n",
    "{\\rm argmax}_{a,b} P[\\{h_1, \\cdot \\cdot, h_n \\};a,b] = {\\rm argmax}_{a,b} \\prod_i^n P[h_i;a,b]\n",
    "\\end{equation}\n",
    "\n",
    "Bisogna quindi ipotizzare che la probabilità congiunta sia data dalla produttoria dei due parametri, scrivere un sistema lineare e poi risolverlo."
   ]
  },
  {
   "cell_type": "markdown",
   "id": "4abf9457-e51a-4497-a84f-a5f96dcfdd81",
   "metadata": {},
   "source": [
    "Per calcolare i parametri per un'ora definiamo un campione (sample) relativo inizialmente ai dati con durata 1h.\n",
    "\n",
    "Applichiamo poi la funzione gumbel_r.fit() al campione appena estratto per trovare i parametri della curva di Gumbel per durata di 1h."
   ]
  },
  {
   "cell_type": "code",
   "execution_count": 37,
   "id": "893ff800-b48e-4945-b83f-ab2d3b5da8fe",
   "metadata": {},
   "outputs": [
    {
     "data": {
      "text/plain": [
       "(31.72473641322905, 14.86401626301522)"
      ]
     },
     "execution_count": 37,
     "metadata": {},
     "output_type": "execute_result"
    }
   ],
   "source": [
    "samp = data[\"1h\"]\n",
    "param1h = gumbel_r.fit(samp) \n",
    "param1h"
   ]
  },
  {
   "cell_type": "markdown",
   "id": "3eac81b8-bbf9-487a-95cd-18eca54d62a3",
   "metadata": {},
   "source": [
    "Ripetiamo adesso la stessa operazione per tutte le altre durate e notiamo che i valori crescono all'aumentare delle ore."
   ]
  },
  {
   "cell_type": "code",
   "execution_count": 38,
   "id": "895c0e02-2971-4083-9b9d-aa0f9630419c",
   "metadata": {},
   "outputs": [
    {
     "data": {
      "text/plain": [
       "(39.40794075479133, 16.9222556849983)"
      ]
     },
     "execution_count": 38,
     "metadata": {},
     "output_type": "execute_result"
    }
   ],
   "source": [
    "samp = data[\"3h\"]\n",
    "param3h = gumbel_r.fit(samp)\n",
    "param3h"
   ]
  },
  {
   "cell_type": "code",
   "execution_count": 39,
   "id": "8201bfdd-a895-4e1c-a406-aca5cffe93f6",
   "metadata": {},
   "outputs": [
    {
     "data": {
      "text/plain": [
       "(46.548022658394565, 17.54165477789975)"
      ]
     },
     "execution_count": 39,
     "metadata": {},
     "output_type": "execute_result"
    }
   ],
   "source": [
    "samp = data[\"6h\"]\n",
    "param6h = gumbel_r.fit(samp)\n",
    "param6h"
   ]
  },
  {
   "cell_type": "code",
   "execution_count": 40,
   "id": "f8491695-e301-458d-9256-b21840b5a39a",
   "metadata": {},
   "outputs": [
    {
     "data": {
      "text/plain": [
       "(55.07081466299259, 19.266584473010756)"
      ]
     },
     "execution_count": 40,
     "metadata": {},
     "output_type": "execute_result"
    }
   ],
   "source": [
    "samp = data[\"12h\"]\n",
    "param12h = gumbel_r.fit(samp)\n",
    "param12h"
   ]
  },
  {
   "cell_type": "code",
   "execution_count": 41,
   "id": "637753b1-e133-488f-ac0b-db3b3ba2f54f",
   "metadata": {},
   "outputs": [
    {
     "data": {
      "text/plain": [
       "(64.518328334038, 22.19720915093505)"
      ]
     },
     "execution_count": 41,
     "metadata": {},
     "output_type": "execute_result"
    }
   ],
   "source": [
    "samp = data[\"24h\"]\n",
    "param24h = gumbel_r.fit(samp)\n",
    "param24h"
   ]
  },
  {
   "cell_type": "markdown",
   "id": "b4bd2b7f-9bd3-45d7-86e6-28a44f4c26cf",
   "metadata": {},
   "source": [
    "Riassumiamo adesso il tutto in una tabella, dove inseriamo i parametri $a$ e $b$ per le varie durate"
   ]
  },
  {
   "cell_type": "code",
   "execution_count": 113,
   "id": "07d6643b-676d-431d-b804-afdbc53a75a7",
   "metadata": {},
   "outputs": [
    {
     "data": {
      "text/html": [
       "<div>\n",
       "<style scoped>\n",
       "    .dataframe tbody tr th:only-of-type {\n",
       "        vertical-align: middle;\n",
       "    }\n",
       "\n",
       "    .dataframe tbody tr th {\n",
       "        vertical-align: top;\n",
       "    }\n",
       "\n",
       "    .dataframe thead th {\n",
       "        text-align: right;\n",
       "    }\n",
       "</style>\n",
       "<table border=\"1\" class=\"dataframe\">\n",
       "  <thead>\n",
       "    <tr style=\"text-align: right;\">\n",
       "      <th></th>\n",
       "      <th>1h</th>\n",
       "      <th>3h</th>\n",
       "      <th>6h</th>\n",
       "      <th>12h</th>\n",
       "      <th>24h</th>\n",
       "    </tr>\n",
       "  </thead>\n",
       "  <tbody>\n",
       "    <tr>\n",
       "      <th>a</th>\n",
       "      <td>31.724736</td>\n",
       "      <td>39.407941</td>\n",
       "      <td>46.548023</td>\n",
       "      <td>55.070815</td>\n",
       "      <td>64.518328</td>\n",
       "    </tr>\n",
       "    <tr>\n",
       "      <th>b</th>\n",
       "      <td>14.864016</td>\n",
       "      <td>16.922256</td>\n",
       "      <td>17.541655</td>\n",
       "      <td>19.266584</td>\n",
       "      <td>22.197209</td>\n",
       "    </tr>\n",
       "  </tbody>\n",
       "</table>\n",
       "</div>"
      ],
      "text/plain": [
       "          1h         3h         6h        12h        24h\n",
       "a  31.724736  39.407941  46.548023  55.070815  64.518328\n",
       "b  14.864016  16.922256  17.541655  19.266584  22.197209"
      ]
     },
     "execution_count": 113,
     "metadata": {},
     "output_type": "execute_result"
    }
   ],
   "source": [
    "ab_mle=pd.DataFrame([param1h,param3h,param6h,param12h,param24h],\n",
    "                     columns=[\"a\",\"b\"],\n",
    "                     index=[\"1h\",\"3h\",\"6h\",\"12h\",\"24h\"]).T\n",
    "ab_mle"
   ]
  },
  {
   "cell_type": "markdown",
   "id": "4b5d8423-0d28-4803-839e-918d8ccdf255",
   "metadata": {},
   "source": [
    "Creiamo il file dove conserivamo i risultati dei parametri:"
   ]
  },
  {
   "cell_type": "code",
   "execution_count": 114,
   "id": "e1a1d15b-2725-4ea1-aafb-b2e20783e03e",
   "metadata": {},
   "outputs": [],
   "source": [
    "ab_mle.to_pickle(\"ab_mle\")"
   ]
  },
  {
   "cell_type": "markdown",
   "id": "786ba7ac-f1c2-4178-b33a-ce77075e50d7",
   "metadata": {},
   "source": [
    "Dopo essere riusciti ad ottenere la tabella con le stime di $a$ e $b$ è possibile seguire i passaggi già effettuati per il metodo dei momenti per tracciare le curve che meglio interpolano i nostri dati."
   ]
  },
  {
   "cell_type": "markdown",
   "id": "055a682f-fd99-4f8e-8d09-179dcd5b0c6a",
   "metadata": {},
   "source": [
    "Applichiamo quindi la funzione tenendo sempre in considerazione il valore minimo e il valore massimo come già fatto per il metodo dei momenti per definire t_rain."
   ]
  },
  {
   "cell_type": "code",
   "execution_count": 65,
   "id": "c184a0db-80d9-4806-9925-91d7db54e518",
   "metadata": {},
   "outputs": [],
   "source": [
    "def gumbel(x,ab_mle,col):\n",
    "    return np.exp(-np.exp(-(x-ab_mle[col][\"a\"])/ab_mle[col][\"b\"]))\n",
    "\n",
    "t_rain=np.linspace(data.min()[0],data.max()[4],100)"
   ]
  },
  {
   "cell_type": "code",
   "execution_count": 115,
   "id": "b4f4bb58-49f2-4ffb-9051-15b7c540d97a",
   "metadata": {},
   "outputs": [
    {
     "data": {
      "text/html": [
       "<div>\n",
       "<style scoped>\n",
       "    .dataframe tbody tr th:only-of-type {\n",
       "        vertical-align: middle;\n",
       "    }\n",
       "\n",
       "    .dataframe tbody tr th {\n",
       "        vertical-align: top;\n",
       "    }\n",
       "\n",
       "    .dataframe thead th {\n",
       "        text-align: right;\n",
       "    }\n",
       "</style>\n",
       "<table border=\"1\" class=\"dataframe\">\n",
       "  <thead>\n",
       "    <tr style=\"text-align: right;\">\n",
       "      <th></th>\n",
       "      <th>1h</th>\n",
       "      <th>3h</th>\n",
       "      <th>6h</th>\n",
       "      <th>12h</th>\n",
       "      <th>24h</th>\n",
       "    </tr>\n",
       "  </thead>\n",
       "  <tbody>\n",
       "    <tr>\n",
       "      <th>12.000000</th>\n",
       "      <td>0.047091</td>\n",
       "      <td>0.014424</td>\n",
       "      <td>0.000483</td>\n",
       "      <td>0.000056</td>\n",
       "      <td>0.000020</td>\n",
       "    </tr>\n",
       "    <tr>\n",
       "      <th>13.424242</th>\n",
       "      <td>0.061118</td>\n",
       "      <td>0.019929</td>\n",
       "      <td>0.000918</td>\n",
       "      <td>0.000116</td>\n",
       "      <td>0.000040</td>\n",
       "    </tr>\n",
       "    <tr>\n",
       "      <th>14.848485</th>\n",
       "      <td>0.077578</td>\n",
       "      <td>0.026864</td>\n",
       "      <td>0.001654</td>\n",
       "      <td>0.000229</td>\n",
       "      <td>0.000077</td>\n",
       "    </tr>\n",
       "    <tr>\n",
       "      <th>16.272727</th>\n",
       "      <td>0.096488</td>\n",
       "      <td>0.035396</td>\n",
       "      <td>0.002835</td>\n",
       "      <td>0.000428</td>\n",
       "      <td>0.000141</td>\n",
       "    </tr>\n",
       "    <tr>\n",
       "      <th>17.696970</th>\n",
       "      <td>0.117794</td>\n",
       "      <td>0.045668</td>\n",
       "      <td>0.004645</td>\n",
       "      <td>0.000766</td>\n",
       "      <td>0.000249</td>\n",
       "    </tr>\n",
       "    <tr>\n",
       "      <th>...</th>\n",
       "      <td>...</td>\n",
       "      <td>...</td>\n",
       "      <td>...</td>\n",
       "      <td>...</td>\n",
       "      <td>...</td>\n",
       "    </tr>\n",
       "    <tr>\n",
       "      <th>147.303030</th>\n",
       "      <td>0.999361</td>\n",
       "      <td>0.997740</td>\n",
       "      <td>0.998203</td>\n",
       "      <td>0.994046</td>\n",
       "      <td>0.980070</td>\n",
       "    </tr>\n",
       "    <tr>\n",
       "      <th>148.727273</th>\n",
       "      <td>0.999416</td>\n",
       "      <td>0.997913</td>\n",
       "      <td>0.998354</td>\n",
       "      <td>0.994491</td>\n",
       "      <td>0.981334</td>\n",
       "    </tr>\n",
       "    <tr>\n",
       "      <th>150.151515</th>\n",
       "      <td>0.999466</td>\n",
       "      <td>0.998072</td>\n",
       "      <td>0.998492</td>\n",
       "      <td>0.994903</td>\n",
       "      <td>0.982518</td>\n",
       "    </tr>\n",
       "    <tr>\n",
       "      <th>151.575758</th>\n",
       "      <td>0.999511</td>\n",
       "      <td>0.998219</td>\n",
       "      <td>0.998619</td>\n",
       "      <td>0.995284</td>\n",
       "      <td>0.983628</td>\n",
       "    </tr>\n",
       "    <tr>\n",
       "      <th>153.000000</th>\n",
       "      <td>0.999553</td>\n",
       "      <td>0.998354</td>\n",
       "      <td>0.998735</td>\n",
       "      <td>0.995637</td>\n",
       "      <td>0.984668</td>\n",
       "    </tr>\n",
       "  </tbody>\n",
       "</table>\n",
       "<p>100 rows × 5 columns</p>\n",
       "</div>"
      ],
      "text/plain": [
       "                  1h        3h        6h       12h       24h\n",
       "12.000000   0.047091  0.014424  0.000483  0.000056  0.000020\n",
       "13.424242   0.061118  0.019929  0.000918  0.000116  0.000040\n",
       "14.848485   0.077578  0.026864  0.001654  0.000229  0.000077\n",
       "16.272727   0.096488  0.035396  0.002835  0.000428  0.000141\n",
       "17.696970   0.117794  0.045668  0.004645  0.000766  0.000249\n",
       "...              ...       ...       ...       ...       ...\n",
       "147.303030  0.999361  0.997740  0.998203  0.994046  0.980070\n",
       "148.727273  0.999416  0.997913  0.998354  0.994491  0.981334\n",
       "150.151515  0.999466  0.998072  0.998492  0.994903  0.982518\n",
       "151.575758  0.999511  0.998219  0.998619  0.995284  0.983628\n",
       "153.000000  0.999553  0.998354  0.998735  0.995637  0.984668\n",
       "\n",
       "[100 rows x 5 columns]"
      ]
     },
     "execution_count": 115,
     "metadata": {},
     "output_type": "execute_result"
    }
   ],
   "source": [
    "gb=pd.DataFrame([gumbel(t_rain,ab_mle,\"1h\"),\n",
    "                 gumbel(t_rain,ab_mle,\"3h\"),\n",
    "                 gumbel(t_rain,ab_mle,\"6h\"),\n",
    "                 gumbel(t_rain,ab_mle,\"12h\"),\n",
    "                 gumbel(t_rain,ab_mle,\"24h\")]).T\n",
    "gb.index=t_rain\n",
    "gb.columns=[\"1h\",\"3h\",\"6h\",\"12h\",\"24h\"]\n",
    "gb"
   ]
  },
  {
   "cell_type": "code",
   "execution_count": 72,
   "id": "7c759917-ce51-447d-8478-cfc858f98ebc",
   "metadata": {},
   "outputs": [
    {
     "data": {
      "image/png": "[encoded data removed]",
      "text/plain": [
       "<Figure size 640x480 with 1 Axes>"
      ]
     },
     "metadata": {},
     "output_type": "display_data"
    }
   ],
   "source": [
    "plt.rc('xtick', labelsize=10)\n",
    "plt.rc('ytick', labelsize=10)\n",
    "plt.style.use('default')\n",
    "ax=gb.plot(color=[\"red\",\"blue\",\"magenta\",\"limegreen\",\"orange\"])\n",
    "ecdf1h = ECDF(data[\"1h\"])\n",
    "ax.plot(data[\"1h\"],ecdf1h(data[\"1h\"]),'+',c=\"red\", label=\"1h\",markersize=6)\n",
    "data3h=data[\"3h\"]\n",
    "ecdf3h = ECDF(data3h)\n",
    "ax.plot(data3h,ecdf3h(data3h),\"+\",c=\"blue\", label=\"3h\",markersize=6)\n",
    "data6h=data[\"6h\"]\n",
    "ecdf6h = ECDF(data6h)\n",
    "ax.plot(data6h,ecdf6h(data6h),\"+\",c=\"magenta\", label=\"6h\",markersize=6)\n",
    "data12h=data[\"12h\"]\n",
    "ecdf12h = ECDF(data12h)\n",
    "ax.plot(data12h,ecdf12h(data12h),\"+\",c=\"limegreen\", label=\"12h\",markersize=6)\n",
    "data24h=data[\"24h\"]\n",
    "ecdf24h = ECDF(data24h)\n",
    "ax.plot(data24h,ecdf24h(data24h),\"+\",c=\"orange\", label=\"24h\",markersize=6)\n",
    "ax.set_title('Curve di Gumbel')\n",
    "ax.set_xlabel('Rainfall (mm)')\n",
    "ax.set_ylabel('P[H < h]')\n",
    "ax.set_aspect('auto')\n",
    "plt.legend(['1h', '3h', '6h', '12h', '24h'], loc='right',  title = \"Legenda\", title_fontsize = 10)\n",
    "#major grid lines\n",
    "plt.grid(b=True, which='major', color='gray', alpha=0.6, linestyle='dashdot', lw=0.5)\n",
    "#minor grid lines\n",
    "plt.minorticks_on()\n",
    "plt.grid(b=True, which='minor', color='beige', alpha=0.8, ls='-', lw=0.8)\n",
    "plt.show()"
   ]
  },
  {
   "cell_type": "markdown",
   "id": "6f3805cb-ae41-4672-9e2b-d5cdf733757f",
   "metadata": {},
   "source": [
    "Anche in questo caso notiamo come, soprattutto per elevate durate di precipitazioni, la curva non interpoli in modo preciso i dati.\n",
    "Questo può essere sempre giustificabile dal basso numero di misurazioni a disposizione."
   ]
  }
 ],
 "metadata": {
  "kernelspec": {
   "display_name": "Python 3 (ipykernel)",
   "language": "python",
   "name": "python3"
  },
  "language_info": {
   "codemirror_mode": {
    "name": "ipython",
    "version": 3
   },
   "file_extension": ".py",
   "mimetype": "text/x-python",
   "name": "python",
   "nbconvert_exporter": "python",
   "pygments_lexer": "ipython3",
   "version": "3.7.12"
  }
 },
 "nbformat": 4,
 "nbformat_minor": 5
}
