{
 "cells": [
  {
   "cell_type": "markdown",
   "id": "5b007103-5a14-47cf-9d78-1976650c14be",
   "metadata": {},
   "source": [
    "## Curve di possibilità pluviometrica"
   ]
  },
  {
   "cell_type": "markdown",
   "id": "63810200-d7bc-4df4-a25d-c8e55bd26b4e",
   "metadata": {},
   "source": [
    "L'obiettivo della seguente esercitazione è quello di graficare le curve di possibilità pluviometrica in relazione alle durate orarie della stazione di Venezia e a definiti tempi di ritorno.\n",
    "\n",
    "La formulazione analitica di tali curve è:\n",
    "\n",
    "\\begin{equation}\n",
    "h(t_p, T_r) = a(T_r)\\cdot t_p^n\n",
    "\\end{equation}\n",
    "\n",
    "Dove:\n",
    "- $h(t_p, T_r)$: altezzad i precipitazione $[mm]$\n",
    "- $t_p$: durata considerata $[h]$\n",
    "- $Tr$: tempo di ritorno $[anni]$\n",
    "- $n$: fattore compreso tra $0$ ed $1$"
   ]
  },
  {
   "cell_type": "code",
   "execution_count": 1,
   "id": "c93cc12e-9d07-485a-8f1f-6d803e48773a",
   "metadata": {},
   "outputs": [],
   "source": [
    "#operazioni preliminari\n",
    "import os\n",
    "import math\n",
    "from pandas import *\n",
    "import pandas as pd\n",
    "from datetime import datetime\n",
    "%matplotlib inline \n",
    "import matplotlib.pyplot as plt\n",
    "from statsmodels.distributions.empirical_distribution import ECDF\n",
    "from scipy.stats import norm\n",
    "from scipy.stats import genextreme,gumbel_r\n",
    "from numpy import linspace\n",
    "from pylab import plot,show,hist,figure,title\n",
    "\n",
    "os.getcwd()\n",
    "data = pd.read_csv('PluviometriaVE.txt')\n",
    "map(datetime,data['anno'])\n",
    "data=data.set_index('anno')\n",
    "import numpy as np"
   ]
  },
  {
   "cell_type": "code",
   "execution_count": 2,
   "id": "0c638431-57d3-473f-9f27-aa37a9c6b08b",
   "metadata": {
    "jupyter": {
     "source_hidden": true
    },
    "tags": []
   },
   "outputs": [
    {
     "data": {
      "text/html": [
       "<div>\n",
       "<style scoped>\n",
       "    .dataframe tbody tr th:only-of-type {\n",
       "        vertical-align: middle;\n",
       "    }\n",
       "\n",
       "    .dataframe tbody tr th {\n",
       "        vertical-align: top;\n",
       "    }\n",
       "\n",
       "    .dataframe thead th {\n",
       "        text-align: right;\n",
       "    }\n",
       "</style>\n",
       "<table border=\"1\" class=\"dataframe\">\n",
       "  <thead>\n",
       "    <tr style=\"text-align: right;\">\n",
       "      <th></th>\n",
       "      <th>1h</th>\n",
       "      <th>3h</th>\n",
       "      <th>6h</th>\n",
       "      <th>12h</th>\n",
       "      <th>24h</th>\n",
       "    </tr>\n",
       "    <tr>\n",
       "      <th>anno</th>\n",
       "      <th></th>\n",
       "      <th></th>\n",
       "      <th></th>\n",
       "      <th></th>\n",
       "      <th></th>\n",
       "    </tr>\n",
       "  </thead>\n",
       "  <tbody>\n",
       "    <tr>\n",
       "      <th>2000</th>\n",
       "      <td>36.2</td>\n",
       "      <td>36.2</td>\n",
       "      <td>62.0</td>\n",
       "      <td>73.2</td>\n",
       "      <td>93.2</td>\n",
       "    </tr>\n",
       "    <tr>\n",
       "      <th>2001</th>\n",
       "      <td>37.0</td>\n",
       "      <td>52.8</td>\n",
       "      <td>55.0</td>\n",
       "      <td>69.8</td>\n",
       "      <td>78.8</td>\n",
       "    </tr>\n",
       "    <tr>\n",
       "      <th>2002</th>\n",
       "      <td>41.8</td>\n",
       "      <td>55.4</td>\n",
       "      <td>58.2</td>\n",
       "      <td>59.0</td>\n",
       "      <td>60.0</td>\n",
       "    </tr>\n",
       "    <tr>\n",
       "      <th>2003</th>\n",
       "      <td>25.8</td>\n",
       "      <td>29.8</td>\n",
       "      <td>31.0</td>\n",
       "      <td>41.0</td>\n",
       "      <td>46.8</td>\n",
       "    </tr>\n",
       "    <tr>\n",
       "      <th>2004</th>\n",
       "      <td>21.2</td>\n",
       "      <td>28.0</td>\n",
       "      <td>39.0</td>\n",
       "      <td>45.6</td>\n",
       "      <td>61.6</td>\n",
       "    </tr>\n",
       "    <tr>\n",
       "      <th>2005</th>\n",
       "      <td>57.2</td>\n",
       "      <td>60.8</td>\n",
       "      <td>61.0</td>\n",
       "      <td>70.0</td>\n",
       "      <td>90.2</td>\n",
       "    </tr>\n",
       "    <tr>\n",
       "      <th>2006</th>\n",
       "      <td>36.0</td>\n",
       "      <td>50.4</td>\n",
       "      <td>57.4</td>\n",
       "      <td>93.6</td>\n",
       "      <td>109.2</td>\n",
       "    </tr>\n",
       "    <tr>\n",
       "      <th>2007</th>\n",
       "      <td>65.8</td>\n",
       "      <td>92.4</td>\n",
       "      <td>107.4</td>\n",
       "      <td>113.6</td>\n",
       "      <td>127.4</td>\n",
       "    </tr>\n",
       "    <tr>\n",
       "      <th>2008</th>\n",
       "      <td>47.2</td>\n",
       "      <td>49.4</td>\n",
       "      <td>59.6</td>\n",
       "      <td>89.8</td>\n",
       "      <td>102.2</td>\n",
       "    </tr>\n",
       "    <tr>\n",
       "      <th>2009</th>\n",
       "      <td>70.8</td>\n",
       "      <td>105.2</td>\n",
       "      <td>132.6</td>\n",
       "      <td>136.6</td>\n",
       "      <td>153.0</td>\n",
       "    </tr>\n",
       "    <tr>\n",
       "      <th>2010</th>\n",
       "      <td>47.6</td>\n",
       "      <td>54.8</td>\n",
       "      <td>55.4</td>\n",
       "      <td>70.8</td>\n",
       "      <td>75.6</td>\n",
       "    </tr>\n",
       "    <tr>\n",
       "      <th>2011</th>\n",
       "      <td>21.8</td>\n",
       "      <td>22.4</td>\n",
       "      <td>35.0</td>\n",
       "      <td>50.2</td>\n",
       "      <td>63.8</td>\n",
       "    </tr>\n",
       "    <tr>\n",
       "      <th>2012</th>\n",
       "      <td>19.0</td>\n",
       "      <td>30.8</td>\n",
       "      <td>40.8</td>\n",
       "      <td>47.4</td>\n",
       "      <td>50.2</td>\n",
       "    </tr>\n",
       "    <tr>\n",
       "      <th>2013</th>\n",
       "      <td>12.0</td>\n",
       "      <td>29.8</td>\n",
       "      <td>43.6</td>\n",
       "      <td>50.2</td>\n",
       "      <td>62.4</td>\n",
       "    </tr>\n",
       "    <tr>\n",
       "      <th>2014</th>\n",
       "      <td>74.2</td>\n",
       "      <td>92.6</td>\n",
       "      <td>96.8</td>\n",
       "      <td>96.8</td>\n",
       "      <td>97.2</td>\n",
       "    </tr>\n",
       "    <tr>\n",
       "      <th>2015</th>\n",
       "      <td>25.8</td>\n",
       "      <td>30.2</td>\n",
       "      <td>34.8</td>\n",
       "      <td>38.0</td>\n",
       "      <td>52.4</td>\n",
       "    </tr>\n",
       "    <tr>\n",
       "      <th>2016</th>\n",
       "      <td>38.6</td>\n",
       "      <td>38.8</td>\n",
       "      <td>39.2</td>\n",
       "      <td>39.2</td>\n",
       "      <td>52.2</td>\n",
       "    </tr>\n",
       "    <tr>\n",
       "      <th>2017</th>\n",
       "      <td>48.4</td>\n",
       "      <td>54.0</td>\n",
       "      <td>57.0</td>\n",
       "      <td>64.2</td>\n",
       "      <td>99.8</td>\n",
       "    </tr>\n",
       "    <tr>\n",
       "      <th>2018</th>\n",
       "      <td>20.8</td>\n",
       "      <td>24.0</td>\n",
       "      <td>25.6</td>\n",
       "      <td>36.4</td>\n",
       "      <td>38.6</td>\n",
       "    </tr>\n",
       "    <tr>\n",
       "      <th>2019</th>\n",
       "      <td>31.2</td>\n",
       "      <td>32.2</td>\n",
       "      <td>44.2</td>\n",
       "      <td>53.2</td>\n",
       "      <td>60.8</td>\n",
       "    </tr>\n",
       "    <tr>\n",
       "      <th>2020</th>\n",
       "      <td>80.0</td>\n",
       "      <td>93.2</td>\n",
       "      <td>93.2</td>\n",
       "      <td>93.2</td>\n",
       "      <td>93.2</td>\n",
       "    </tr>\n",
       "    <tr>\n",
       "      <th>2021</th>\n",
       "      <td>31.8</td>\n",
       "      <td>40.2</td>\n",
       "      <td>42.0</td>\n",
       "      <td>42.0</td>\n",
       "      <td>42.6</td>\n",
       "    </tr>\n",
       "  </tbody>\n",
       "</table>\n",
       "</div>"
      ],
      "text/plain": [
       "        1h     3h     6h    12h    24h\n",
       "anno                                  \n",
       "2000  36.2   36.2   62.0   73.2   93.2\n",
       "2001  37.0   52.8   55.0   69.8   78.8\n",
       "2002  41.8   55.4   58.2   59.0   60.0\n",
       "2003  25.8   29.8   31.0   41.0   46.8\n",
       "2004  21.2   28.0   39.0   45.6   61.6\n",
       "2005  57.2   60.8   61.0   70.0   90.2\n",
       "2006  36.0   50.4   57.4   93.6  109.2\n",
       "2007  65.8   92.4  107.4  113.6  127.4\n",
       "2008  47.2   49.4   59.6   89.8  102.2\n",
       "2009  70.8  105.2  132.6  136.6  153.0\n",
       "2010  47.6   54.8   55.4   70.8   75.6\n",
       "2011  21.8   22.4   35.0   50.2   63.8\n",
       "2012  19.0   30.8   40.8   47.4   50.2\n",
       "2013  12.0   29.8   43.6   50.2   62.4\n",
       "2014  74.2   92.6   96.8   96.8   97.2\n",
       "2015  25.8   30.2   34.8   38.0   52.4\n",
       "2016  38.6   38.8   39.2   39.2   52.2\n",
       "2017  48.4   54.0   57.0   64.2   99.8\n",
       "2018  20.8   24.0   25.6   36.4   38.6\n",
       "2019  31.2   32.2   44.2   53.2   60.8\n",
       "2020  80.0   93.2   93.2   93.2   93.2\n",
       "2021  31.8   40.2   42.0   42.0   42.6"
      ]
     },
     "execution_count": 2,
     "metadata": {},
     "output_type": "execute_result"
    }
   ],
   "source": [
    "data"
   ]
  },
  {
   "cell_type": "markdown",
   "id": "e469e85f-eaf7-4fd5-b2d3-cc0ac5f5fa0a",
   "metadata": {},
   "source": [
    "Leggo il dataframe *best_param* con i dati migliori, ottenuto con il Test di Pearson:"
   ]
  },
  {
   "cell_type": "code",
   "execution_count": 3,
   "id": "092c2276-d5b1-4304-a5a5-65b4b3b22b59",
   "metadata": {},
   "outputs": [
    {
     "data": {
      "text/html": [
       "<div>\n",
       "<style scoped>\n",
       "    .dataframe tbody tr th:only-of-type {\n",
       "        vertical-align: middle;\n",
       "    }\n",
       "\n",
       "    .dataframe tbody tr th {\n",
       "        vertical-align: top;\n",
       "    }\n",
       "\n",
       "    .dataframe thead th {\n",
       "        text-align: right;\n",
       "    }\n",
       "</style>\n",
       "<table border=\"1\" class=\"dataframe\">\n",
       "  <thead>\n",
       "    <tr style=\"text-align: right;\">\n",
       "      <th></th>\n",
       "      <th>1h</th>\n",
       "      <th>3h</th>\n",
       "      <th>6h</th>\n",
       "      <th>12h</th>\n",
       "      <th>24h</th>\n",
       "    </tr>\n",
       "  </thead>\n",
       "  <tbody>\n",
       "    <tr>\n",
       "      <th>a</th>\n",
       "      <td>31.724736</td>\n",
       "      <td>39.407941</td>\n",
       "      <td>46.548023</td>\n",
       "      <td>53.711052</td>\n",
       "      <td>64.499459</td>\n",
       "    </tr>\n",
       "    <tr>\n",
       "      <th>b</th>\n",
       "      <td>14.864016</td>\n",
       "      <td>16.922256</td>\n",
       "      <td>17.541655</td>\n",
       "      <td>18.276984</td>\n",
       "      <td>23.011086</td>\n",
       "    </tr>\n",
       "  </tbody>\n",
       "</table>\n",
       "</div>"
      ],
      "text/plain": [
       "          1h         3h         6h        12h        24h\n",
       "a  31.724736  39.407941  46.548023  53.711052  64.499459\n",
       "b  14.864016  16.922256  17.541655  18.276984  23.011086"
      ]
     },
     "execution_count": 3,
     "metadata": {},
     "output_type": "execute_result"
    }
   ],
   "source": [
    "best=pd.read_pickle(\"best_param\")\n",
    "best"
   ]
  },
  {
   "cell_type": "markdown",
   "id": "2b2dde1e-93e1-43f2-a390-18f464f2e312",
   "metadata": {},
   "source": [
    "Devo disegnare le curve e intercettarle in modo tale da invertirle per trovare le varie altezze corrispondenti ai quantili che mi interessano.\n",
    "\n",
    "Per tale operazione è possibile definire una funzione _qtls_ (quantiles), che dato un DataFrame _df_ e i quantili _qu_, restituisce i valori delle ascisse _ppf_ relativi ai quantili, in funzione della curva di Gumbel (definita con _gumbel_r_):"
   ]
  },
  {
   "cell_type": "code",
   "execution_count": 4,
   "id": "a80207fc-c25a-4cd6-9e6f-d4bd7c84a1d6",
   "metadata": {
    "jupyter": {
     "source_hidden": true
    },
    "tags": []
   },
   "outputs": [],
   "source": [
    "def qtls(df,qu):\n",
    "    rv1h=gumbel_r(loc=df[\"a\"],scale=df[\"b\"])\n",
    "    return rv1h.ppf(qu)"
   ]
  },
  {
   "cell_type": "markdown",
   "id": "a9c0224d-d5d8-41ab-9876-8c0eb3556a22",
   "metadata": {
    "tags": []
   },
   "source": [
    "Considerando che il quantile è definito come:\n",
    "\\begin{equation}\n",
    "q = 1 - \\frac{1}{T_r}\n",
    "\\end{equation}\n"
   ]
  },
  {
   "cell_type": "markdown",
   "id": "b3f49df6-79c5-4c27-ae32-39970a6889fb",
   "metadata": {
    "tags": []
   },
   "source": [
    "Nel caso di un tempo di ritorno di dieci anni ($Tr = 10$) il valore dei quantili sarà pari a: $q=0.9$.\n",
    "\n",
    "Applico la funzione _qtls_ a ciascuna delle colonne del data frame _best_: tale funzione mi permette trovare le 5 altezze di precipitazione _hi_ relative alle durate orarie $t_p$: 1h, 3h, 6h, 12h e 24h. "
   ]
  },
  {
   "cell_type": "code",
   "execution_count": 5,
   "id": "1382d75d-9831-4c77-8466-e8d47cb67ea6",
   "metadata": {
    "jupyter": {
     "source_hidden": true
    },
    "tags": []
   },
   "outputs": [
    {
     "data": {
      "text/plain": [
       "[65.17423296415933,\n",
       " 77.4892320527388,\n",
       " 86.02318943757442,\n",
       " 94.84098075176581,\n",
       " 116.28285519690687]"
      ]
     },
     "execution_count": 5,
     "metadata": {},
     "output_type": "execute_result"
    }
   ],
   "source": [
    "hi=[qtls(best[\"1h\"],0.9),qtls(best[\"3h\"],0.9),qtls(best[\"6h\"],0.9),qtls(best[\"12h\"],0.9),\n",
    " qtls(best[\"24h\"],0.9)]\n",
    "hi"
   ]
  },
  {
   "cell_type": "markdown",
   "id": "e5127454-5f10-4786-a53d-2b55030b3915",
   "metadata": {},
   "source": [
    "Definisco la funzione _h_g_ che definisce le altezze di precipitazioni corrispondenti a un certo tempo di ritorno:"
   ]
  },
  {
   "cell_type": "code",
   "execution_count": 6,
   "id": "11e0e71e-fcaf-4a0a-808a-24ed3b86030f",
   "metadata": {
    "tags": []
   },
   "outputs": [],
   "source": [
    "def h_g(bs,col,tr):\n",
    "    return bs[col][\"a\"]+bs[col][\"b\"]*(-math.log(-math.log(1-1/tr)))"
   ]
  },
  {
   "cell_type": "markdown",
   "id": "4bbdb516-27c7-4a39-95ed-74e23a1ec5ee",
   "metadata": {},
   "source": [
    "Così facendo costruisco le coppie utilizzando la funzione appena definita, mettendo come tempo di ritorno 10 anni:"
   ]
  },
  {
   "cell_type": "code",
   "execution_count": 7,
   "id": "afab258e-f035-47f6-b497-55be19ca6e01",
   "metadata": {},
   "outputs": [
    {
     "data": {
      "text/plain": [
       "[65.17423296415933,\n",
       " 77.4892320527388,\n",
       " 86.02318943757442,\n",
       " 94.84098075176581,\n",
       " 116.28285519690687]"
      ]
     },
     "execution_count": 7,
     "metadata": {},
     "output_type": "execute_result"
    }
   ],
   "source": [
    "[h_g(best,\"1h\",10),h_g(best,\"3h\",10),h_g(best,\"6h\",10),h_g(best,\"12h\",10),h_g(best,\"24h\",10)]"
   ]
  },
  {
   "cell_type": "markdown",
   "id": "71033261-0e16-407e-af47-98df1624519e",
   "metadata": {},
   "source": [
    "Si calcolano i valori dei quantili relativi a più tempi di ritorno (10, 20 e 100 anni), in quanto le curve devono essere anche visivamente parallele (se non lo sono è probabile che ci siano errori o che i dati siano errati):"
   ]
  },
  {
   "cell_type": "code",
   "execution_count": 8,
   "id": "1f399509-fedb-48f6-88a7-59e955cee175",
   "metadata": {},
   "outputs": [],
   "source": [
    "Tr=10\n",
    "q10=1-1/Tr\n",
    "q20=1-1/20\n",
    "q100=1-1/100"
   ]
  },
  {
   "cell_type": "markdown",
   "id": "37680969-0b06-4b60-8948-f5c9485c417a",
   "metadata": {},
   "source": [
    "Definisco il DataFrame _pts_ che fornisce per ciascuna durata oraria il valore corrispondente di precipitazione, assegnato un tempo di ritorno:"
   ]
  },
  {
   "cell_type": "code",
   "execution_count": 9,
   "id": "5c9b2ae1-68ea-4d62-bdc0-82e78b50f50c",
   "metadata": {},
   "outputs": [
    {
     "data": {
      "text/html": [
       "<div>\n",
       "<style scoped>\n",
       "    .dataframe tbody tr th:only-of-type {\n",
       "        vertical-align: middle;\n",
       "    }\n",
       "\n",
       "    .dataframe tbody tr th {\n",
       "        vertical-align: top;\n",
       "    }\n",
       "\n",
       "    .dataframe thead th {\n",
       "        text-align: right;\n",
       "    }\n",
       "</style>\n",
       "<table border=\"1\" class=\"dataframe\">\n",
       "  <thead>\n",
       "    <tr style=\"text-align: right;\">\n",
       "      <th></th>\n",
       "      <th>10</th>\n",
       "      <th>20</th>\n",
       "      <th>100</th>\n",
       "    </tr>\n",
       "  </thead>\n",
       "  <tbody>\n",
       "    <tr>\n",
       "      <th>1</th>\n",
       "      <td>65.174233</td>\n",
       "      <td>75.873767</td>\n",
       "      <td>100.101429</td>\n",
       "    </tr>\n",
       "    <tr>\n",
       "      <th>3</th>\n",
       "      <td>77.489232</td>\n",
       "      <td>89.670344</td>\n",
       "      <td>117.252842</td>\n",
       "    </tr>\n",
       "    <tr>\n",
       "      <th>6</th>\n",
       "      <td>86.023189</td>\n",
       "      <td>98.650162</td>\n",
       "      <td>127.242252</td>\n",
       "    </tr>\n",
       "    <tr>\n",
       "      <th>12</th>\n",
       "      <td>94.840981</td>\n",
       "      <td>107.997264</td>\n",
       "      <td>137.787908</td>\n",
       "    </tr>\n",
       "    <tr>\n",
       "      <th>24</th>\n",
       "      <td>116.282855</td>\n",
       "      <td>132.846878</td>\n",
       "      <td>170.353889</td>\n",
       "    </tr>\n",
       "  </tbody>\n",
       "</table>\n",
       "</div>"
      ],
      "text/plain": [
       "           10          20          100\n",
       "1    65.174233   75.873767  100.101429\n",
       "3    77.489232   89.670344  117.252842\n",
       "6    86.023189   98.650162  127.242252\n",
       "12   94.840981  107.997264  137.787908\n",
       "24  116.282855  132.846878  170.353889"
      ]
     },
     "execution_count": 9,
     "metadata": {},
     "output_type": "execute_result"
    }
   ],
   "source": [
    "pts=DataFrame([[qtls(best[\"1h\"],q10),\n",
    "           qtls(best[\"3h\"],q10),\n",
    "           qtls(best[\"6h\"],q10),\n",
    "           qtls(best[\"12h\"],q10),\n",
    "           qtls(best[\"24h\"],q10)],\n",
    "          [qtls(best[\"1h\"],q20),\n",
    "           qtls(best[\"3h\"],q20),\n",
    "           qtls(best[\"6h\"],q20),\n",
    "           qtls(best[\"12h\"],q20),\n",
    "           qtls(best[\"24h\"],q20)],\n",
    "          [qtls(best[\"1h\"],q100),\n",
    "           qtls(best[\"3h\"],q100),\n",
    "           qtls(best[\"6h\"],q100),\n",
    "           qtls(best[\"12h\"],q100),\n",
    "           qtls(best[\"24h\"],q100)]], index=[10,20,100],columns=[1,3,6,12,24]).T\n",
    "pts"
   ]
  },
  {
   "cell_type": "markdown",
   "id": "03ad09de-e345-49dd-9285-d9d644adad48",
   "metadata": {
    "tags": []
   },
   "source": [
    "Tracciamo innanzitutto un diagramma non logaritmico:\n"
   ]
  },
  {
   "cell_type": "code",
   "execution_count": 10,
   "id": "c3931e0b-385e-4bf4-9c24-df613ab15bdf",
   "metadata": {
    "tags": []
   },
   "outputs": [
    {
     "data": {
      "text/plain": [
       "(30.0, 200.0)"
      ]
     },
     "execution_count": 10,
     "metadata": {},
     "output_type": "execute_result"
    },
    {
     "data": {
      "image/png": "[encoded data removed]",
      "text/plain": [
       "<Figure size 432x288 with 1 Axes>"
      ]
     },
     "metadata": {
      "needs_background": "light"
     },
     "output_type": "display_data"
    }
   ],
   "source": [
    "ag=pts.plot(style=\"-o\")\n",
    "plt.xlim([0,30])\n",
    "plt.ylim([30,200])"
   ]
  },
  {
   "cell_type": "markdown",
   "id": "095c70a5-715b-48ca-ae81-3e26e420a571",
   "metadata": {},
   "source": [
    "Ora l'obiettivo è quello di disegnare i punti del DataFrame _pts_ su un diagramma bilogaritmico, settando anche gli intervalli di validità:"
   ]
  },
  {
   "cell_type": "code",
   "execution_count": 11,
   "id": "ec199897-baad-4780-b4bf-e16b3234608c",
   "metadata": {},
   "outputs": [
    {
     "data": {
      "text/plain": [
       "(50, 200)"
      ]
     },
     "execution_count": 11,
     "metadata": {},
     "output_type": "execute_result"
    },
    {
     "data": {
      "image/png": "[encoded data removed]",
      "text/plain": [
       "<Figure size 432x288 with 1 Axes>"
      ]
     },
     "metadata": {
      "needs_background": "light"
     },
     "output_type": "display_data"
    }
   ],
   "source": [
    "ag=pts.plot(style=\"o\")\n",
    "#plt.get_xaxis().get_major_formatter().set_scientific(False)\n",
    "#plt.get_yaxis().get_major_formatter().set_scientific(False)\n",
    "ag.set_yscale('log')\n",
    "ag.set_xscale('log')\n",
    "plt.xlim([0.7,30])\n",
    "plt.ylim([50,200])"
   ]
  },
  {
   "cell_type": "markdown",
   "id": "1113a875-4edf-42e7-9206-d53e7b4ca7d7",
   "metadata": {},
   "source": [
    "Nel diagramma bilogaritmico, le curve di possibilità pluviometrica sono delle rette: è possibile costruire un grafico di questo tipo grazie alla funzione _polyfit_: per eseguire questa operazione bisogna interpolare i vari punti delle altezze di precipitazione (ordinata) appartenenti a _pts_, relative ai diversi tempi di ritorno considerati."
   ]
  },
  {
   "cell_type": "markdown",
   "id": "a6875232-2829-4d9c-a108-bbb20d4d74c4",
   "metadata": {},
   "source": [
    "Considero il logaritmo della definizione di curva di possibilità pluviometrica, ottengo una retta con coefficiente angolare _n_:\n",
    "\n",
    "\\begin{equation}\n",
    "\\log h(t_p, T_r) = \\log a(T_r) + n\\log t_p\n",
    "\\end{equation}\n",
    "\n",
    "\n",
    "L'obiettivo è di inserire all'interno delle rispettive variabili _in10_, _in20_ e _in100_ i punti relativi ai tre tempi di ritorno con la funzione _polyfit_ (fornendo il valore del logaritmo delle altezze di precipitazione) per ottenere i rispettivi valori dei coefficienti angolari _n_ e delle intercette _a_.\n",
    "\n",
    "Per eseguire questa operazione definisco una funzione che, assegnato il Dataframe relativo alle precipitazioni e un tempo di ritorno, restituisce i valori di _n_ ed _a_:"
   ]
  },
  {
   "cell_type": "code",
   "execution_count": 12,
   "id": "f3e713b6-8cee-4f5e-b46e-3c2b1ef50ed2",
   "metadata": {
    "tags": []
   },
   "outputs": [],
   "source": [
    "def na(pt,tr):\n",
    "    a=np.polyfit(np.log(pt.index),np.log(pt[tr]),1)\n",
    "    return [a[0], np.exp(a[1])]\n",
    "in10=na(pts,10)\n",
    "in20=na(pts,20)\n",
    "in100=na(pts,100)"
   ]
  },
  {
   "cell_type": "markdown",
   "id": "b9141be5-2e9f-46d6-a73a-31e0d22c05f5",
   "metadata": {},
   "source": [
    "Con tali informazioni, posso costruirmi un nuovo DataFrame con i dati dei 10 anni di tempo di ritorno, 20 e 100.\n",
    "Trovo quindi i coefficienti."
   ]
  },
  {
   "cell_type": "code",
   "execution_count": 13,
   "id": "892e1515-7cd1-4c2b-b14b-938f5455ccd3",
   "metadata": {},
   "outputs": [
    {
     "data": {
      "text/html": [
       "<div>\n",
       "<style scoped>\n",
       "    .dataframe tbody tr th:only-of-type {\n",
       "        vertical-align: middle;\n",
       "    }\n",
       "\n",
       "    .dataframe tbody tr th {\n",
       "        vertical-align: top;\n",
       "    }\n",
       "\n",
       "    .dataframe thead th {\n",
       "        text-align: right;\n",
       "    }\n",
       "</style>\n",
       "<table border=\"1\" class=\"dataframe\">\n",
       "  <thead>\n",
       "    <tr style=\"text-align: right;\">\n",
       "      <th></th>\n",
       "      <th>n</th>\n",
       "      <th>a</th>\n",
       "    </tr>\n",
       "  </thead>\n",
       "  <tbody>\n",
       "    <tr>\n",
       "      <th>10</th>\n",
       "      <td>0.174347</td>\n",
       "      <td>64.056159</td>\n",
       "    </tr>\n",
       "    <tr>\n",
       "      <th>20</th>\n",
       "      <td>0.167368</td>\n",
       "      <td>74.537962</td>\n",
       "    </tr>\n",
       "    <tr>\n",
       "      <th>100</th>\n",
       "      <td>0.156802</td>\n",
       "      <td>98.278523</td>\n",
       "    </tr>\n",
       "  </tbody>\n",
       "</table>\n",
       "</div>"
      ],
      "text/plain": [
       "            n          a\n",
       "10   0.174347  64.056159\n",
       "20   0.167368  74.537962\n",
       "100  0.156802  98.278523"
      ]
     },
     "execution_count": 13,
     "metadata": {},
     "output_type": "execute_result"
    }
   ],
   "source": [
    "fnl=DataFrame([in10,in20,in100],index=[10,20,100],columns=[\"n\",\"a\"])\n",
    "fnl"
   ]
  },
  {
   "cell_type": "markdown",
   "id": "bb0b374a-36fa-465b-b4aa-f3cbf644c8bb",
   "metadata": {},
   "source": [
    "Voglio generare i grafici delle curve utilizzando questi parametri a ed n; definisco quindi la funzione _h_ di \n",
    "possibilità pluviometrica:"
   ]
  },
  {
   "cell_type": "code",
   "execution_count": 14,
   "id": "32e5e33b-a166-4cff-a82c-23d2519162b4",
   "metadata": {},
   "outputs": [],
   "source": [
    "def h(tp,a,n):\n",
    "    return a*tp**n"
   ]
  },
  {
   "cell_type": "markdown",
   "id": "ece1ef14-9675-4e9c-a95f-9821cadadc0e",
   "metadata": {},
   "source": [
    "Dove per durata definisco la variabile _tp_ che abbia 100 punti, i cui estremi devono racchiudere le durate 1h e 24h:"
   ]
  },
  {
   "cell_type": "code",
   "execution_count": 15,
   "id": "a8538489-d263-4a44-864b-ae79eb90fef1",
   "metadata": {},
   "outputs": [
    {
     "data": {
      "text/plain": [
       "array([28.81616162, 29.11212121, 29.40808081, 29.7040404 , 30.        ])"
      ]
     },
     "execution_count": 15,
     "metadata": {},
     "output_type": "execute_result"
    }
   ],
   "source": [
    "tp=np.linspace(0.7,30,100)\n",
    "tp[-5:] #mostra gli ultimi 5 punti"
   ]
  },
  {
   "cell_type": "markdown",
   "id": "6ec5b523-bae4-41dc-9e4c-4f6760dab733",
   "metadata": {},
   "source": [
    "Per disegnare il tutto uso la definizione delle curve di possibilità pluviometrica e poi eseguo i calcoli per le varie durate:"
   ]
  },
  {
   "cell_type": "code",
   "execution_count": 16,
   "id": "3c34c15d-e0dd-478e-a3a8-f13251effe36",
   "metadata": {},
   "outputs": [],
   "source": [
    "h10=h(tp,fnl[\"a\"][10],fnl[\"n\"][10])\n",
    "h20=h(tp,fnl[\"a\"][20],fnl[\"n\"][20])\n",
    "h100=h(tp,fnl[\"a\"][100],fnl[\"n\"][100])"
   ]
  },
  {
   "cell_type": "markdown",
   "id": "b7532f1f-ed91-44a4-aada-e8342bdfcdcf",
   "metadata": {},
   "source": [
    "Inserisco questi valori in un DataFrame, che ha come indice i tempi di ritorno e i valori di _tp_ come colonne:"
   ]
  },
  {
   "cell_type": "code",
   "execution_count": 17,
   "id": "0515e314-71d7-4921-b0c2-65866f9c6f21",
   "metadata": {},
   "outputs": [
    {
     "data": {
      "text/html": [
       "<div>\n",
       "<style scoped>\n",
       "    .dataframe tbody tr th:only-of-type {\n",
       "        vertical-align: middle;\n",
       "    }\n",
       "\n",
       "    .dataframe tbody tr th {\n",
       "        vertical-align: top;\n",
       "    }\n",
       "\n",
       "    .dataframe thead th {\n",
       "        text-align: right;\n",
       "    }\n",
       "</style>\n",
       "<table border=\"1\" class=\"dataframe\">\n",
       "  <thead>\n",
       "    <tr style=\"text-align: right;\">\n",
       "      <th></th>\n",
       "      <th>Tr = 10</th>\n",
       "      <th>Tr = 20</th>\n",
       "      <th>Tr = 100</th>\n",
       "    </tr>\n",
       "  </thead>\n",
       "  <tbody>\n",
       "    <tr>\n",
       "      <th>0.700000</th>\n",
       "      <td>60.194142</td>\n",
       "      <td>70.218563</td>\n",
       "      <td>92.932958</td>\n",
       "    </tr>\n",
       "    <tr>\n",
       "      <th>0.995960</th>\n",
       "      <td>64.010960</td>\n",
       "      <td>74.487472</td>\n",
       "      <td>98.216153</td>\n",
       "    </tr>\n",
       "    <tr>\n",
       "      <th>1.291919</th>\n",
       "      <td>66.981431</td>\n",
       "      <td>77.802709</td>\n",
       "      <td>102.305856</td>\n",
       "    </tr>\n",
       "    <tr>\n",
       "      <th>1.587879</th>\n",
       "      <td>69.434092</td>\n",
       "      <td>80.535590</td>\n",
       "      <td>105.668875</td>\n",
       "    </tr>\n",
       "    <tr>\n",
       "      <th>1.883838</th>\n",
       "      <td>71.534226</td>\n",
       "      <td>82.872593</td>\n",
       "      <td>108.539016</td>\n",
       "    </tr>\n",
       "    <tr>\n",
       "      <th>...</th>\n",
       "      <td>...</td>\n",
       "      <td>...</td>\n",
       "      <td>...</td>\n",
       "    </tr>\n",
       "    <tr>\n",
       "      <th>28.816162</th>\n",
       "      <td>115.091655</td>\n",
       "      <td>130.819779</td>\n",
       "      <td>166.468383</td>\n",
       "    </tr>\n",
       "    <tr>\n",
       "      <th>29.112121</th>\n",
       "      <td>115.296875</td>\n",
       "      <td>131.043698</td>\n",
       "      <td>166.735318</td>\n",
       "    </tr>\n",
       "    <tr>\n",
       "      <th>29.408081</th>\n",
       "      <td>115.500380</td>\n",
       "      <td>131.265730</td>\n",
       "      <td>166.999974</td>\n",
       "    </tr>\n",
       "    <tr>\n",
       "      <th>29.704040</th>\n",
       "      <td>115.702201</td>\n",
       "      <td>131.485910</td>\n",
       "      <td>167.262394</td>\n",
       "    </tr>\n",
       "    <tr>\n",
       "      <th>30.000000</th>\n",
       "      <td>115.902368</td>\n",
       "      <td>131.704270</td>\n",
       "      <td>167.522619</td>\n",
       "    </tr>\n",
       "  </tbody>\n",
       "</table>\n",
       "<p>100 rows × 3 columns</p>\n",
       "</div>"
      ],
      "text/plain": [
       "              Tr = 10     Tr = 20    Tr = 100\n",
       "0.700000    60.194142   70.218563   92.932958\n",
       "0.995960    64.010960   74.487472   98.216153\n",
       "1.291919    66.981431   77.802709  102.305856\n",
       "1.587879    69.434092   80.535590  105.668875\n",
       "1.883838    71.534226   82.872593  108.539016\n",
       "...               ...         ...         ...\n",
       "28.816162  115.091655  130.819779  166.468383\n",
       "29.112121  115.296875  131.043698  166.735318\n",
       "29.408081  115.500380  131.265730  166.999974\n",
       "29.704040  115.702201  131.485910  167.262394\n",
       "30.000000  115.902368  131.704270  167.522619\n",
       "\n",
       "[100 rows x 3 columns]"
      ]
     },
     "execution_count": 17,
     "metadata": {},
     "output_type": "execute_result"
    }
   ],
   "source": [
    "inh=DataFrame([h10,h20,h100],index=[\"Tr = 10\",\"Tr = 20\",\"Tr = 100\"],\n",
    "              columns=tp).T\n",
    "inh[-5:]"
   ]
  },
  {
   "cell_type": "markdown",
   "id": "cc1bc724-e2c4-4b38-bb66-d85e845f723f",
   "metadata": {},
   "source": [
    "A questo punto posso disegnare le curve di possibilità pluviometrica:"
   ]
  },
  {
   "cell_type": "code",
   "execution_count": 20,
   "id": "4924f383-5c81-4174-8470-0d01714eed8e",
   "metadata": {},
   "outputs": [
    {
     "data": {
      "image/png": "[encoded data removed]",
      "text/plain": [
       "<Figure size 640x480 with 1 Axes>"
      ]
     },
     "metadata": {},
     "output_type": "display_data"
    }
   ],
   "source": [
    "plt.rc('xtick', labelsize=10)\n",
    "plt.rc('ytick', labelsize=10)\n",
    "plt.style.use('default')\n",
    "ag=inh.plot(color= [\"red\",\"blue\", \"magenta\" ])\n",
    "ag.plot(pts[10],'+',c=\"red\",label=\"10h\", markersize=6)\n",
    "ag.plot(pts[20],\"+\",c=\"blue\",label=\"20h\", markersize = 6)\n",
    "ag.plot(pts[100],\"+\",c=\"magenta\", label =\"100h\", markersize = 6)\n",
    "#ag.set_yscale('log')\n",
    "#ag.set_xscale('log')\n",
    "plt.xlim([0.7,30])\n",
    "plt.ylim([50,200])\n",
    "ag.set_title('Curve di Possibilità Pluviometrica')\n",
    "ag.set_xlabel('Durata [h]')\n",
    "ag.set_ylabel('Precipitazinoe Cumulata [mm]')\n",
    "ag.set_aspect('auto')\n",
    "plt.legend(['10h', '20h', '100h'],  title = \"Legenda\", title_fontsize = 10)\n",
    "plt.grid(b=True, which='major', color='gray', alpha=0.6, linestyle='dashdot', lw=0.5)\n"
   ]
  },
  {
   "cell_type": "markdown",
   "id": "a837834b-894a-4fa3-b925-768a7702a529",
   "metadata": {},
   "source": [
    "Nel grafico bilogaritmico, otterrò le rette relative alle curve di possibilità pluviometrica:"
   ]
  },
  {
   "cell_type": "code",
   "execution_count": 22,
   "id": "9185266b-b204-4106-8fd3-0651d86aaca5",
   "metadata": {},
   "outputs": [
    {
     "data": {
      "image/png": "[encoded data removed]",
      "text/plain": [
       "<Figure size 640x480 with 1 Axes>"
      ]
     },
     "metadata": {},
     "output_type": "display_data"
    }
   ],
   "source": [
    "plt.rc('xtick', labelsize=10)\n",
    "plt.rc('ytick', labelsize=10)\n",
    "plt.style.use('default')\n",
    "ag=inh.plot(color= [\"red\",\"blue\", \"magenta\" ])\n",
    "ag.set_yscale('log')\n",
    "ag.set_xscale('log')\n",
    "\n",
    "ag.plot(pts[10],'+',c=\"red\",label=\"10h\", markersize=6)\n",
    "ag.plot(pts[20],\"+\",c=\"blue\",label=\"20h\", markersize = 6)\n",
    "ag.plot(pts[100],\"+\",c=\"magenta\", label =\"100h\", markersize = 6)\n",
    "\n",
    "ag.set_title('Curve di Possibilità Pluviometrica')\n",
    "ag.set_xlabel('log(Durata [h])')\n",
    "ag.set_ylabel('log(Precipitazione cumulata [mm])')\n",
    "ag.set_aspect('auto')\n",
    "plt.legend(['10h', '20h', '100h'],  title = \"Legenda\", title_fontsize = 10)\n",
    "\n",
    "#major grid lines\n",
    "plt.grid(b=True, which='major', color='gray', alpha=0.6, linestyle='dashdot', lw=0.5)\n",
    "\n",
    "plt.xlim([0.7,30])\n",
    "plt.ylim([50,200])\n",
    "plt.show()"
   ]
  },
  {
   "cell_type": "markdown",
   "id": "a55d1678-5aa9-4cb0-8591-b718288acfe1",
   "metadata": {},
   "source": [
    "Le curve interpolano abbastanza bene i dati e sono inoltre parallele tra loro: la legge di Possibilità Pluviometrica che abbiamo utilizzato va abbastanza bene per i nostri dati."
   ]
  }
 ],
 "metadata": {
  "kernelspec": {
   "display_name": "Python 3 (ipykernel)",
   "language": "python",
   "name": "python3"
  },
  "language_info": {
   "codemirror_mode": {
    "name": "ipython",
    "version": 3
   },
   "file_extension": ".py",
   "mimetype": "text/x-python",
   "name": "python",
   "nbconvert_exporter": "python",
   "pygments_lexer": "ipython3",
   "version": "3.7.12"
  }
 },
 "nbformat": 4,
 "nbformat_minor": 5
}
