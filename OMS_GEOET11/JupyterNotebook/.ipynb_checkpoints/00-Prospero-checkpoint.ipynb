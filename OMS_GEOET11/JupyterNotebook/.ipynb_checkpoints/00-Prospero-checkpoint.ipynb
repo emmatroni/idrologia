{
 "cells": [
  {
   "cell_type": "markdown",
   "metadata": {},
   "source": [
    "# This is a Notebook to document Prospero evapotranspiration model v 0.98"
   ]
  },
  {
   "cell_type": "markdown",
   "metadata": {},
   "source": [
    "Author: [Michele Bottazzi](https://www.linkedin.com/in/michele-bottazzi-a0a28990/?originalSubdomain=it) \n",
    "\n",
    "Documentation Author: [Riccardo Rigon](https://abouthydrology.blogspot.com/2014/09/my-cv.html)\n",
    "\n",
    "To whom address questions: \n",
    " - [GEOframe Users Group](https://groups.google.com/forum/#!forum/geoframe-components-users)\n",
    " - [GEOframe Developers Mailing List](https://groups.google.com/forum/#!forum/geoframe-components-developers)"
   ]
  },
  {
   "cell_type": "markdown",
   "metadata": {},
   "source": [
    "## Abstract"
   ]
  },
  {
   "cell_type": "markdown",
   "metadata": {},
   "source": [
    "This notebook documents the [GEOframe](https://abouthydrology.blogspot.com/2015/03/jgrass-newage-essentials.html) component [`Prospero`](https://github.com/geoframecomponents/ETP/tree/master/src/main/java/prospero) which is intented to estimate evaporation from canopies at point and catchment scale. As a GEOframe component is some Earth Science solution coded Java according to the[OMS v3](https://abouthydrology.blogspot.com/2017/08/oms-3-essentials.html) rules. Prospero is part of a larger set of components which are intended to estimate Evapotranspirantion with different data requirement, including [Priestley Taylor formula](https://en.wikipedia.org/wiki/Penman%E2%80%93Monteith_equation) and the [FAO version of the Penman-Monteith equation](http://www.fao.org/3/X0490E/x0490e04.htm#TopOfPage). These are collected at [Github/Geoframecomponents](https://github.com/geoframecomponents/ETP) and were coded mainly by [Marialaura Bancheri](https://scholar.google.com/citations?user=HUQ60uMAAAAJ&hl=en) and eventually revised by Michele  Bottazzi. \n",
    "`Prospero`'s formulas derive from the assumption that vegetation does not have great thermal capacity and the its energy budget can be simplified accordingly neglecting energy storage. Besides it use the  traditional formulation for vapor and thermal energy transport by turbulence that is encoded in the [Dalton's law of evapotranspiration](https://geoframe.blogspot.com/2020/01/evaporation-and-transpiration.html) and the similar law for thermal energy transport. As in the Penman-Monteith (PM) derivation the independent variables are the temperature of the evaporating surface, $T_{surface}$, the water vapor  pressure in air, $e_a$, the transpiration rate, $E_T$ and the thermal energy transfer $H$. To get a fourth equation, as in the Penman-Monteith treatment, the [Clausius-Clapeyron relation](https://en.wikipedia.org/wiki/Clausius%E2%80%93Clapeyron_relation) is used in a linearized form. However, two changes are made with respect to (PM):  1- It is accounted that leaves can transpire, either from one side or from two sides, according to vegetation species,  while heat exchange happens from both the sides of a leaf; 2 - `Propero` accounts for the the radiative coupling of the evaporating surface with the radiation budget through a proper linearization of the [Stephan-Boltzman law](https://en.wikipedia.org/wiki/Stefan%E2%80%93Boltzmann_law). The latter two aspects are taken form a recent [paper by S. Schymanski and D. Or](https://www.research-collection.ethz.ch/handle/20.500.11850/128573) and  they are present, yet in a different way,  in the [G. Bonan (2019) book](https://www.amazon.com/dp/1107619076?tag=duc01-21&linkCode=osi&th=1&psc=1). Extension from leaf to canopies is present in Prospero through a two leaf approach, where the canopy is subdivided in layers exposed to direct sunlight and layers in shadow. \n",
    "The formulation follows a traditional conductance/resistence model. However `Prospero` informatics was designed for inclusion of various approaches to estimanting the conductance by simple addition of a correspondent Java class (the software design  is closed to modification but open to extensions). At present only a Jarvis type of approach is implemented where environmental variables like temperature, photosyntetically active radiation, water availability in soil and vapour deficit are those that decrements transpiration [Michele Bottazzi Ph.D, thesis, Chapter 3](https://abouthydrology.blogspot.com/2020/07/michele-bottazzi-phd-thesis.html). A Ball-Berry type of transpiration and other formulations of transpiration reduction are under implementation. The maximum of stomata conductance is estimated by means of the procedure suggested by Schymanski (MISSING CITATION). The Prospero  component is assumed to work with the short wave and long wave components of GEOframe at hourly scale. These are docuemnted in (MISSING CITATION). If evaporation data are present, the model can be calibrated with the LUCA and Particle Swarm calibrators, available in OMS v3 (MISSING CITATION)"
   ]
  },
  {
   "cell_type": "markdown",
   "metadata": {},
   "source": [
    "## Visual Abstract"
   ]
  },
  {
   "cell_type": "markdown",
   "metadata": {},
   "source": [
    "Because we like figures, a figure that illustrate your component should be placed here"
   ]
  },
  {
   "cell_type": "markdown",
   "metadata": {},
   "source": [
    "### Keywords"
   ]
  },
  {
   "cell_type": "markdown",
   "metadata": {},
   "source": [
    "Evapotranspiration, Evaporation, Transpiration, Java, OMS3, GEOframe, Penman-Monteith"
   ]
  },
  {
   "cell_type": "markdown",
   "metadata": {},
   "source": [
    "### Version: 0.98"
   ]
  },
  {
   "cell_type": "markdown",
   "metadata": {},
   "source": [
    "### License:"
   ]
  },
  {
   "cell_type": "markdown",
   "metadata": {},
   "source": [
    " [GPL3 v3](https://www.gnu.org/licenses/gpl-3.0.en.html)"
   ]
  },
  {
   "cell_type": "markdown",
   "metadata": {},
   "source": [
    "# Descriptions for general Audience"
   ]
  },
  {
   "cell_type": "markdown",
   "metadata": {},
   "source": [
    "Evaporation and Transpiration account for $30\\%$ to $60\\%$ of the water budget according to the place and the season. To estimate it, various methods were envisioned which are varously described in textbooks (CITE Dingmann, third edition and CITE Brutsaert 2 books). Measuring evapotranspiration is a complex task and prone to errors, there are two main reliable methods (with their own problems) [eddy covariance towers](https://en.wikipedia.org/wiki/Eddy_covariance) and [lysimeters](https://en.wikipedia.org/wiki/Lysimeter), but both of them are local measurements wich cannot account for space variability. Models were use to get a spatial insight or information when only indirect data were available (like temperature, radiation, mean wind velocity, water vapor concentration). Modelling was kept usually simple, through empirical formulation usually quite unreliable, at least untill FAO adopted a modified version of the Penman-Monteith formula (CITE Penman paper on Scientific American) but, above all, provided a series of validated parameters for crops which allowed, at least to guess the order of magnitude of daily transpiration under optimal forecasting conditions. FAO estimation remained short of precision and exposed to various errors specially if applied with not reliable input data of temperature and radiation but is a reasonable and widely used starting point (CITE ALLEN). Satellite products pretends to give evaporation estimantes, but they are also modelling based on the same basis of FAO, some hydrologic model and measure of indirect quantities (see for instance the [GLEAM](https://www.gleam.eu/) product. There are big unknowns in evaporation and transpiration estimate problem. Primarily the behavior of the atmosphere that wipes out water output, and which is usually thought as homogeneous, well developed, and within an atmosphere in neutral conditions; the role of vegetation physiology in closing stomata and its (vegetation) reaction to draughts, and finally the status of the soil humidity and its use by plants. So it remains even today a challenge for research. `Prospero` model try to consistenly evolve the Penman-Monteith approach to include recent new insights in an extensible informatics. The extensions are possible in those areas in which the present research is increasing fast."
   ]
  },
  {
   "cell_type": "markdown",
   "metadata": {},
   "source": [
    "## Executables"
   ]
  },
  {
   "cell_type": "markdown",
   "metadata": {},
   "source": [
    "The latest executable code of this component can be downloaded from: \n",
    " - [Prospero on Github](https://github.com/geoframecomponents/ETP/tree/master/src/main/java/prospero)\n",
    " \n",
    "and compiled following the instructions therein.  A frozen version of the compiled OMS project can be found here (MISSING LINK). The code can be executed in the OMS3 console, which can be download and installed according to the instructions given at: \n",
    " - https://geoframe.blogspot.com/2020/01/the-winter-school-on-geoframe-system-is.html\n",
    " \n",
    " For more general information regarding the use of GEOframe programs and models, please see:\n",
    " - [GEOframe essentials](https://abouthydrology.blogspot.com/2015/03/jgrass-newage-essentials.html)\n",
    " - [GEOframe Winter School](https://geoframe.blogspot.com/2020/01/gsw2020-photos-and-material.html)"
   ]
  },
  {
   "cell_type": "markdown",
   "metadata": {},
   "source": [
    "To run the tests, please follow the instructions on the [Github site](). If one power user wants to compile the code themselves, it can use the appropriate [Gradle](https://gradle.org/) script that guarantees independence from any [IDE](https://en.wikipedia.org/wiki/Integrated_development_environment). "
   ]
  },
  {
   "cell_type": "markdown",
   "metadata": {},
   "source": [
    "## Component Description"
   ]
  },
  {
   "cell_type": "markdown",
   "metadata": {},
   "source": [
    "`Prospero` is written in Java,  works under the [`OMS3`](https://abouthydrology.blogspot.com/2017/08/oms-3-essentials.html)(David et al., 2013) framework and is part of the `GEOframe` system (Formetta et al., 2014, Bancheri, 2017). It was produced as part of the Ph.D. work by Michele Bottazzi. \n",
    "It has already extensively used by the students of the Hydrology class at the University of Trento for their simulations of transpiration. Main reference for understanding its theoretical foundations is the [Ph.D. dissertation by Michele Bottazzi](https://abouthydrology.blogspot.com/2020/07/michele-bottazzi-phd-thesis.html) which includes a review of the theory and some applications. \n",
    "\n",
    "To make it run the user must first download the `OMS3` console and learn a little bit of OMS3 (information can be found, for instance, [here](https://geoframe.blogspot.com/2020/01/gws2020-getting-started-with-oms-and.html)). An example project can be found [here](https://osf.io/uxd2q/) together with the appropriate Notebooks documentation. Tools in Python (scripting level) are also provided to treat input and putput data. The execution in OMS is driven by `.sim` files and browsing them in the examples discloses most of the information a user can require. It is then clear that the reader who wants to become a user must first go through some steps of self-instruction in using those tools (OMS3, OMS3 console) and understand how sim files work. This is a task to perform once forever in using OMS3/GEOframe tools, and the scope can be worthwhile if you are interested to hydrology. However, the occasional reader can have most of the general information from here below. \n",
    "\n",
    "Evapotranspiration is driven by radiation and therefore `Prospero` requires to run a radiation module whch produces shortwave and longwave downwelling radiation. These modules are well documented theoretically at [Rigon, 2012](https://abouthydrology.blogspot.com/2012/12/solar-radiation-physics-and-geometry.html), while the GEOframe modules where objects of two papers (Formetta et al, 20XX ;Formetta et al. 20FF;). These modules have their own complexity that must be understood, and include two main sources of radiation modulation: the atmosphere with its transmittances (to be calibrated) and the geometry of the terrain altering the energy flux, the angle of view and the shadows due to the topography. (XXXX NOTE: CAN PROSPERO, IN PRINCIPLE, RUN WITH JUST RADIATION INPUTS CONTAINED IN FILES, without elaborating in \"real time\" the radiation ?XXXX). At present, terrain information is derived from a [Digital Elevation Model (DEM)](https://en.wikipedia.org/wiki/Digital_elevation_model) to be processed or from information embedded in an appropriate [shapefile](https://en.wikipedia.org/wiki/Shapefile). \n",
    "\n",
    "Finally there are all the inputs specific to transpiration estimation. "
   ]
  },
  {
   "cell_type": "markdown",
   "metadata": {},
   "source": [
    "## Inputs"
   ]
  },
  {
   "cell_type": "markdown",
   "metadata": {},
   "source": [
    "Inputs of the `Prospero` components can be classified in \n",
    "\n",
    "- Geographical data\n",
    "- Meteorological data in input\n",
    "- Evapotranspiration parameters\n",
    "- Simulation's control parameters\n",
    "\n",
    "\n",
    "XXXX A WARNING: THE INPUT BELOW ARE NOT THE INPUT OF THE PROSPERO COMPONENT BUT THE INPUT OF THE MODELLLING SOLUTION, INCLUSIVE OF THE READER AND THE WRITERS THAT IS CURRENTLY USED BY STUDENTS. THIS CELLS HA TO BE CHANGED ACCORDINGLY. WHAT ARE REALLY THE INPUTS OF THE COMPONENTS ? VECTORS OF DATA ? SINGLE VALUES ? WHAT ELSE ? XXXXX\n",
    "\n",
    "Geographical data in input include:\n",
    "- The name of the DEM file given as an [ESRI ASCII file](https://en.wikipedia.org/wiki/Esri_grid) which contain an elevation map in \\[m\\]\n",
    "-  The name of the shapefile containing the locations (centroids) where the evapotranspiration is estimated\n",
    "-  The name of the file containing the identification codes of the centroids (ids)\n",
    "-  The name of the file containing the elevation of the centroids ????\n",
    "\n",
    "The meteorological data include the names of the files (csv format, [OMS3 format](https://geoframe.blogspot.com/2020/01/gws2020-getting-started-with-oms-and.html)) containing:\n",
    "-  the air temperature \\[$^\\circ$C\\]\n",
    "-  the wind velocity \\[ m s$^{-1}$\\]\n",
    "-  the relative humidity \\[ ????\\]\n",
    "-  the short wave direct radiation  \\[ W m$^{-2}$ \\]\n",
    "-  the short wave diffuse radiation \\[ W m$^{-2}$ \\]\n",
    "-  the long wave radiation \\[ W m$^{-2}$ \\]\n",
    "-  the net longwave radiation \\[ W m$^{-2}$ \\]\n",
    "-  the atmospheric pressure \\[ ???? \\]\n",
    "-  the leaf area index \\[-\\]\n",
    "-  the  soil moisture file \\[ ???? \\]\n",
    "-  the heat fluxes towards the ground \\[ W m$^{-2}$ \\]\n",
    "\n",
    "The Control parameters include \n",
    "\n",
    "for each of the meteorological data file above:\n",
    "\n",
    "- The id of the location under analysis\n",
    "- The start date of simulation\n",
    "- The end date of simulation\n",
    "- The time step of simulation\n",
    "- The novalue for air temperature\n",
    "\n",
    "and:\n",
    "\n",
    "- prospero.doHourly (for hourly or daily simulations) \\[ true/false \\]\n",
    "- prospero.doFullPrint (for printing the all the outputs on screen ???) \\[ true/false \\]\n",
    "- prospero.useRadiationStress (for using the stress deriving from radiative inputs) \\[ true/false \\]\n",
    "- prospero.useTemperatureStress \\[ true/false \\]\n",
    "- prospero.useVDPStress \\[ true/false \\]\n",
    "- prospero.use WaterStress \\[ true/false \\]\n",
    "- prospero.defaultStress \\[ ???? \\]\n",
    "- prospero.temporalStep (XXX Which the difference with the time step of simulation above ? XXXX)\n",
    "- prospero.tStartDate  ?????\n",
    "\n",
    "The evapotranspiration parameters:\n",
    "\n",
    "- Vegetation and Canpy parameters:\n",
    "    - prospero.defaultLeafAreaIndex\n",
    "    - prospero.typeOfCanopy  ????\n",
    "- Radiation Stress parameters\n",
    "    - prospero.alpha ???\n",
    "    - prospero.theta ???\n",
    "- Vapour deficit Stress\n",
    "    - prospero.VDP0  ???\n",
    "- Temperature Stress\n",
    "    - prospero.Tl ????\n",
    "    - prospero.T0 ???\n",
    "    - prospero.Th ???\n",
    "- Water Stress\n",
    "    - prospero.WaterWiltingPoint ???\n",
    "    - prospero.WaterFieldCapacity ???\n",
    "    - prospero.RoothDepth ???\n",
    "    - prospero.DepletionFraction ???\n",
    "    - prospero.CanopyHeight ???? \n",
    "\n",
    "\n"
   ]
  },
  {
   "cell_type": "markdown",
   "metadata": {},
   "source": [
    "### Detailed inputs Description"
   ]
  },
  {
   "cell_type": "markdown",
   "metadata": {},
   "source": [
    "#### First Input"
   ]
  },
  {
   "cell_type": "markdown",
   "metadata": {},
   "source": [
    "Here its description which includes format and type"
   ]
  },
  {
   "cell_type": "markdown",
   "metadata": {},
   "source": [
    "#### Second Input"
   ]
  },
  {
   "cell_type": "markdown",
   "metadata": {},
   "source": [
    "As above"
   ]
  },
  {
   "cell_type": "markdown",
   "metadata": {},
   "source": [
    "#### Etc"
   ]
  },
  {
   "cell_type": "markdown",
   "metadata": {},
   "source": [
    "etc etc etc"
   ]
  },
  {
   "cell_type": "markdown",
   "metadata": {},
   "source": [
    "## Outputs"
   ]
  },
  {
   "cell_type": "markdown",
   "metadata": {},
   "source": [
    "XXXXXX SAME AS FOR THE INPUTS THOSE BELOW ARE THE OUTPUTS FOR THE WRITERS NOT THE OUTPUT FOR THE COMPONENT AND THE CELL CONTENTS HAVE TO BE CHANGED TO CONTAIN THE COMPONENT OUTPUT, WHATEVER THEY ARE, SINGLE VALUE FLOAT, VECTORS OF DOUBLE OR SOMETHING ELSE XXXXXX.\n",
    "\n",
    "The outputs are the file names for the following variables, according to the [OMS3 convention- MISSING LINK]():\n",
    "- LatentHeat\n",
    "- LatentHeatShade\n",
    "- Evaporation\n",
    "- EvapoTranspiration\n",
    "- FluxTranspiration\n",
    "- FluxEvapoTranspiration\n",
    "- LeafTemperature\n",
    "- LeafTemperatureShade\n",
    "- Radiation\n",
    "- RadiationShade\n",
    "- RadiationSoil\n",
    "- Canopy\n",
    "- SensibleHeat\n",
    "- SensibleHeatShade\n",
    "\n",
    "XXXXX As outputs of the component, if it solves the Schymanschi-Or system, is missing the air water vapor XXXXXX"
   ]
  },
  {
   "cell_type": "markdown",
   "metadata": {},
   "source": [
    "### Detailed Output description"
   ]
  },
  {
   "cell_type": "markdown",
   "metadata": {},
   "source": [
    "#### First output"
   ]
  },
  {
   "cell_type": "markdown",
   "metadata": {},
   "source": [
    "First output description including the format and the type"
   ]
  },
  {
   "cell_type": "markdown",
   "metadata": {},
   "source": [
    "#### Etc"
   ]
  },
  {
   "cell_type": "markdown",
   "metadata": {},
   "source": [
    "Etc Etc Etc"
   ]
  },
  {
   "cell_type": "markdown",
   "metadata": {},
   "source": [
    "## Examples"
   ]
  },
  {
   "cell_type": "markdown",
   "metadata": {},
   "source": [
    "The component cannot work alone, to get the input and the output it has to be coupled with reader and writers in a modelling solution. A working, simple example, is given at (MISSING LINK TO AN APPROPRIATE PROJECT WHICH INCLUDES .sim files and, at least one example with the appropriare Notebooks illustrating the inputs and the outputs. I do not know if Github s the appropriate place where to upload it or Zenodo or something else. You have to help me in this "
   ]
  },
  {
   "cell_type": "markdown",
   "metadata": {},
   "source": [
    "Examples can be found in form of Python Notebooks in the directory Notebooks/Jupyter and simulations of the Component Project. Data can be found in .... In particular, notebooks :\n",
    "- Data_Preparation.ipynb shows how to prepare the data for inputs\n",
    "- Data_Output.ipynb illustrates a way to represent the outputs\n",
    "  \n",
    "Simulations files (in the simulation directory):\n",
    "- etc\n",
    "\n",
    "XXX Please fill the missing information when the Project is appropriately uploaded XXXXX"
   ]
  },
  {
   "cell_type": "markdown",
   "metadata": {},
   "source": [
    "# Descriptions for Components Linkers"
   ]
  },
  {
   "cell_type": "markdown",
   "metadata": {},
   "source": [
    "<em> <b>Linkers</b> are users who use the component to provide Modelling Solution, i.e. a working setup \n",
    "of components to perform some task. The information below contains internals of the component that can be accessed only by reading the code."
   ]
  },
  {
   "cell_type": "markdown",
   "metadata": {},
   "source": [
    "### Component full name prefix"
   ]
  },
  {
   "cell_type": "markdown",
   "metadata": {},
   "source": [
    "This is the prefix for all the variables ib fields below. To obtain the full name you have to join the prefix (with the dots) with the names below.\n",
    "\n",
    "- prospero.OmsProspero.  XXXX What exactly is this ? Is the name of the Java class. To which file it corresponds ?XXXXX"
   ]
  },
  {
   "cell_type": "markdown",
   "metadata": {},
   "source": [
    "### Fields"
   ]
  },
  {
   "cell_type": "markdown",
   "metadata": {},
   "source": [
    "<em> <b> Fields </b> contains the name of the internal public variables of the `Prospero` component and their type. In this case the name coincides with those in the Input section, but this is not always the case. "
   ]
  },
  {
   "cell_type": "markdown",
   "metadata": {},
   "source": [
    "Parameters:\n",
    "\n",
    "- idCentroids\n",
    "- centroidElevation\n",
    "- doHourly\n",
    "- doFullPrint\n",
    "- useRadiationStress\n",
    "- useTemperatureStress\n",
    "- useVDPStress\n",
    "- useWaterStress\n",
    "- defaultStress\n",
    "- temporalStep\n",
    "- tStartDate\n",
    "- defaultLeafAreaIndex\n",
    "- typeOfCanopy\n",
    "- alpha\n",
    "- theta\n",
    "- VPD0\n",
    "- Tl\n",
    "- T0\n",
    "- Th\n",
    "- waterWiltingPoint\n",
    "- waterFieldCapacity\n",
    "- rootsDepth\n",
    "- depletionFraction\n",
    "- canopyHeight\n",
    "\n",
    "Inputs:\n",
    "- inAirTemperature\n",
    "- inWindVelocity\n",
    "- inRelativeHumidity\n",
    "- inShortWaveRadiationDirect\n",
    "- inShortWaveRadiationDiffuse\n",
    "- inLongWaveRadiation\n",
    "- inNetLongWaveRadiation\n",
    "- inAtmosphericPressure\n",
    "- inLeafAreaIndex\n",
    "- inSoilFlux\n",
    "- inSoilMoisture\n",
    "- inDem\n",
    "- inCentroids\n",
    "\n",
    "Outputs:\n",
    "- outLatentHeat\n",
    "- outLatentHeatShade\n",
    "- outEvapoTranspiration\n",
    "- outFluxTranspiration\n",
    "- outFluxEvapoTranspiration\n",
    "- outEvaporation\n",
    "- outSensibleHeat\n",
    "- outSensibleHeatShade\n",
    "- outLeafTemperature\n",
    "- outLeafTemperatureShade\n",
    "- outRadiation\n",
    "- outRadiationShade\n",
    "- outRadiationSoil\n",
    "- outCanopy\n"
   ]
  },
  {
   "cell_type": "markdown",
   "metadata": {},
   "source": [
    "### Methods"
   ]
  },
  {
   "cell_type": "markdown",
   "metadata": {},
   "source": [
    "<em> <b> Methods </b> contains the (public) actions that can be performed on the components' data"
   ]
  },
  {
   "cell_type": "markdown",
   "metadata": {},
   "source": [
    "XXXXXX It seems there are no methods in Prospero or doest it means that what I classified as outputs (or inputs) are in reality methods ? XXXXXX"
   ]
  },
  {
   "cell_type": "markdown",
   "metadata": {},
   "source": [
    "## Example of a working modelling solution setup"
   ]
  },
  {
   "cell_type": "markdown",
   "metadata": {},
   "source": [
    "Put here the appropriate components draw"
   ]
  },
  {
   "cell_type": "markdown",
   "metadata": {},
   "source": [
    "# Material for Developers"
   ]
  },
  {
   "cell_type": "markdown",
   "metadata": {},
   "source": [
    "## Compiling"
   ]
  },
  {
   "cell_type": "markdown",
   "metadata": {},
   "source": [
    "Compiling instructions are at the github repository of the source code. Our component uses [Gradle](https://gradle.org/) for building the code and dealing with dependencies. XXXXX Here a description of the Gradle File etc ? XXXXX"
   ]
  },
  {
   "cell_type": "markdown",
   "metadata": {},
   "source": [
    "## Code organization and notes"
   ]
  },
  {
   "cell_type": "markdown",
   "metadata": {},
   "source": [
    "Put here a description of the code and, if appropriate, some UML  graphs that illustrate the classes and their behavior"
   ]
  },
  {
   "cell_type": "markdown",
   "metadata": {},
   "source": [
    "## Known bugs and limitations"
   ]
  },
  {
   "cell_type": "markdown",
   "metadata": {},
   "source": [
    "XXXX Some notes:\n",
    "\n",
    "- The material hs to be approriately streamlined and put in the right places, whatever they are. \n",
    "- Some inputs have to be clarified, as annotated above\n"
   ]
  },
  {
   "cell_type": "markdown",
   "metadata": {},
   "source": [
    "## Development proposal"
   ]
  },
  {
   "cell_type": "markdown",
   "metadata": {},
   "source": [
    "- by `Riccardo`: \n",
    "- The exploration of the .sim file shows that there are a lot of repetitions (same IDs, same temporal steps, etc): maybe they can be avoided and the .sim file simplified ?"
   ]
  },
  {
   "cell_type": "markdown",
   "metadata": {},
   "source": [
    "# GEOframe Community guidelines"
   ]
  },
  {
   "cell_type": "markdown",
   "metadata": {},
   "source": [
    "Support for users can be obtained by writing at the  \n",
    "- [GEOframe Users Group](https://groups.google.com/forum/#!forum/geoframe-components-users)\n",
    "\n",
    "Developers should write to the\n",
    "- [GEOframe Developers Mailing List](https://groups.google.com/forum/#!forum/geoframe-components-developers)\n",
    "\n",
    "Anyone is free to contribute. However, the suggestion is to start with branching our code, modyfing it and eventually call issue a pull request. "
   ]
  },
  {
   "cell_type": "markdown",
   "metadata": {},
   "source": [
    "### Who can be code Author ?"
   ]
  },
  {
   "cell_type": "markdown",
   "metadata": {},
   "source": [
    "Giving appropriate credits for the intellectual input through co-authorships or citations should be the proper functioning of the community.  The formal, legal conditions that govern the use of GEOframe at present are given by the G.P.L. v 3. Each GEOframe component can have its own license though. \n",
    "\n",
    "This policy is not intended to restrict what can be done with GEOframe codes, rather to ensure appropriate acknowledgement and communication between users and developers. This policy will be updated regularly.\n",
    "\n",
    "A developer is any person whose expertise has either significantly \n",
    "- influenced the design of GEOframe code or \n",
    "- who has written code, \n",
    "with no distinction between scientific and technical inputs. \n",
    "- Financial support alone is <b> not enough </b> to claim for being a code author. This should be recognized in Acknowledgments (see below)\n",
    "- For being added as co-author of an existing code, modifications have to be subtantial, not simply a bug fixing which is recognized in Acknowledgment. Essentially this status is discussed upon a pull request.\n",
    "\n",
    "When writing the source code of a component, GEOframe developers should consider the following:\n",
    "- Provide a brief description of what the program does.\n",
    "- State the authors of the code and the following modifiers.\n",
    "- Describe the input required to run the component and its output.\n",
    "- Some notes concerning the limitations, and the algorithms used within the component. A wish-list for the future version and/or information.\n",
    "- Articles or books which have inspired the codex or justified its necessity. Users are encouraged to cite these papers in their own work.\n",
    "Which is what this Notebook is about. \n",
    "\n",
    "Ideally a new committed code should conform to the rules required by [Joss](https://joss.readthedocs.io/en). \n",
    "Please, see also: [The GEOframe publication policy 1.0 document](https://geoframe.blogspot.com/2020/05/geoframe-community-publication-policy.html)"
   ]
  },
  {
   "cell_type": "markdown",
   "metadata": {},
   "source": [
    "# Aknowledgements"
   ]
  },
  {
   "cell_type": "markdown",
   "metadata": {},
   "source": [
    "-  Michele Bottazzi and Riccardo Rigon developed the theoretical aspects of te model (Authors). \n",
    "-  Michele Bottazzi designed the first version of the code (Authors)\n",
    "-  Michele Bottazzi implemented and deployed it (Authors)\n",
    "-  Riccardo Rigon provided financial support\n",
    "-  Concetta D'Amato made bug fixing regarding XXXXX\n",
    "-  Michele Bottazzi and Concetta D'amato wrote the documentation in the Notebooks\n",
    "-  Michele Bottazzi was partially supported by a Ph.D. grant by DICAM-UniTrento and Premio Florisa Melone by the Italian Hydrological Society. Concetta D'Amato has been supported by AES-C3A Ph.D. grant.  "
   ]
  },
  {
   "cell_type": "markdown",
   "metadata": {},
   "source": [
    "## References"
   ]
  },
  {
   "cell_type": "markdown",
   "metadata": {},
   "source": [
    "- Bottazzi, M (Ph.D. Candidate),  Rigon, R. and Bertoldi, G. (Supervisors) , Transpiration theory and theProspero component of GEOframe, Ph.D. Dissertation, DICAM doctoral School, Università di Trento, 2020\n",
    "- Other References"
   ]
  }
 ],
 "metadata": {
  "kernelspec": {
   "display_name": "Python 3",
   "language": "python",
   "name": "python3"
  },
  "language_info": {
   "codemirror_mode": {
    "name": "ipython",
    "version": 3
   },
   "file_extension": ".py",
   "mimetype": "text/x-python",
   "name": "python",
   "nbconvert_exporter": "python",
   "pygments_lexer": "ipython3",
   "version": "3.7.6"
  }
 },
 "nbformat": 4,
 "nbformat_minor": 4
}
