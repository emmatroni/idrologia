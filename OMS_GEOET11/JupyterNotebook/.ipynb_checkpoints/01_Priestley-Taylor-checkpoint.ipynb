{
 "cells": [
  {
   "cell_type": "markdown",
   "metadata": {},
   "source": [
    "Complete documentation: https://osf.io/4rd8g/\n",
    "# **GEOET - Priestley-Taylor**\n",
    "    - Author Concetta D'Amato, Niccolò Tubini, Michele Bottazzi and Riccardo Rigon \n",
    "    - Licence Creative Commons 4.0"
   ]
  },
  {
   "cell_type": "markdown",
   "metadata": {},
   "source": [
    "| Method's input | Temp | ShortWave | LongWave | Net Radiation | Wind speed | Humidity | Soil flux | Pressure | Leaf area index | Water content |\n",
    "| --- | --- | --- | --- | --- | --- | --- | --- | ---  | --- | --- |\n",
    "| Priestley-Taylor | $\\checkmark$ | $\\times$ | $\\times$ | $\\checkmark$ | $\\times$ | $\\times$ | $\\checkmark$ | $     \\checkmark$  | $\\times$ | $\\times$ |\n",
    "| Penman-Monteith FAO | $\\checkmark$ | $\\times$ | $\\times$ | $\\checkmark$ | $\\checkmark$ | $\\checkmark$ | $\\checkmark$ | $\\checkmark$  | $\\times$ | $\\checkmark$ |\n",
    "| Prospero | $\\checkmark$ | $\\checkmark$ | $\\checkmark$ | $\\times$ | $\\checkmark$ | $\\checkmark$ | $\\checkmark$ | $\\checkmark$  | $\\checkmark$ | $\\checkmark$ |"
   ]
  },
  {
   "cell_type": "markdown",
   "metadata": {},
   "source": [
    "### **Component Description**\n",
    "The GEOET component offers the Priestley Taylor formulations for the evapotraspiration modeling:\n",
    "\n",
    "\\begin{equation}\n",
    "ET_{0}^{PT} = \\alpha\\dfrac{\\Delta\\cdot (R_{n} - G)}{\\Delta+\\gamma}\n",
    "\\end{equation}\n",
    "With:\n",
    "\\begin{equation}\n",
    " G =  \\begin{cases}\n",
    "   G_{morn}\\cdot R_{n} \\quad daylight\\\\G_{night}\\cdot R_{n} \\quad nighttime\n",
    "   \\end{cases} \n",
    "\\end{equation}\n",
    "where:\n",
    "- $ET_{0}$ or $ET$ are expressed in [$mm \\cdot day^{−1}$] or [$mm\\cdot hour^{−1}$]; \n",
    "- $R_{n}$ is the net radiation expressed in [$MJ \\cdot m^{2} \\cdot day^{−1}$] or [$MJ \\cdot m^{2}\\cdot h^{−1}$]; \n",
    "- $G$ is the soil heat flux at the soil surface in [$MJ \\cdot m^{2} \\cdot day^{−1}$] or [$MJ \\cdot m^{2}\\cdot h^{−1}$]; \n",
    "- $\\Delta$ is the slope of the saturation vapor-pressure curve expressed in ($kP_{a}\\dot °C^{−1}$); \n",
    "- $\\gamma$ is the psychometric constant expressed in ($kP_{a} \\cdot$ °$C^{−1}$); "
   ]
  },
  {
   "cell_type": "markdown",
   "metadata": {},
   "source": [
    "### **Detailed Inputs description**\n",
    "General description\n",
    "The input file is a .csv file containing a header and one or more time series of input data,\n",
    "depending on the number of stations involved. Each column of the file is associated to a\n",
    "different station.\n",
    "The file must have the following header:\n",
    "- The first 3 rows with general information such as the date of the creation of the file and the author;\n",
    "- The fourth and fifth rows contain the IDs of the stations (e.g. station number 8:value 8, ID, ,8);\n",
    "- The sixth row contains the information about the type of the input data (in thiscase, one column with the date and one column with double values);\n",
    "- The seventh row specifies the date format (YYYY-MM-dd HH:mm).\n"
   ]
  },
  {
   "cell_type": "markdown",
   "metadata": {},
   "source": [
    "- #### **Net radiation**\n",
    "The net radiation is given in time series of ($W/m^{2}$) values. The conversion from ($W/m^{2}$) to ($MJ\\cdot m^{2}$) is automatically done by the component.\n",
    "- #### **$G_{morn}$**\n",
    "$G_{morn}$ is the coefficient for the soil heat flux during daylight\n",
    "- #### **$G_{night}$**\n",
    "$G_{night}$ is the coefficient for the soil heat flux during nighttime\n",
    "- #### **doHourly**\n",
    "doHourly is a boolean field to set the time step of the simulation (”true” is hourly time step, ”false” is daily).\n",
    "- #### **Start Date**\n",
    "Start Date is a string containing the first day of the simulation.\n",
    "- #### **$\\alpha$**\n",
    "Parameter of the Priestley-Taylor equation (1972). The mean value is 1.26. Adimensional\n"
   ]
  },
  {
   "cell_type": "markdown",
   "metadata": {},
   "source": [
    "### **Detailed Outputs description**\n",
    "The output file will have exactly the same heading of the input file. \n",
    "- #### **Time series of the latent heat (W/m$^{2}$)**\n",
    "The simulated output evapotranspiration is given as a time series at a given point. Its units are ($mm \\cdot h^{−1}$) or ($mm \\cdot day^{−1}$) depending on the temporal resolution chosen by the end-user.\n",
    "- #### **Time series of the evapotranspiration (mm)**\n",
    "The simulated output evapotranspiration is given as a time series at a given point. Its units are ($mm \\cdot h^{−1}$) or ($mm \\cdot day^{−1}$) depending on the temporal resolution chosen by the end-user."
   ]
  },
  {
   "cell_type": "code",
   "execution_count": null,
   "metadata": {},
   "outputs": [],
   "source": [
    "import pandas as pd\n",
    "import numpy as np\n",
    "import matplotlib.pyplot as plt\n",
    "from IPython.display import Image\n",
    "import plotly.express as px\n",
    "import os\n",
    "import plotly.graph_objects as go"
   ]
  },
  {
   "cell_type": "code",
   "execution_count": null,
   "metadata": {},
   "outputs": [],
   "source": [
    "oms_project_path = os.path.dirname(os.getcwd())\n",
    "os.chdir(oms_project_path+'/output/Cavone/1')\n",
    "os.listdir()"
   ]
  },
  {
   "cell_type": "markdown",
   "metadata": {},
   "source": [
    "## Read the Priestley-Taylor output"
   ]
  },
  {
   "cell_type": "code",
   "execution_count": null,
   "metadata": {},
   "outputs": [],
   "source": [
    "df = pd.read_csv('Evapotranspiration_PT_1.csv',skiprows=6, sep=',', parse_dates=[0], na_values=-9999,usecols=[1,2])\n",
    "df.columns = ['Datetime','EvapoTranspiration']\n",
    "fig = px.line(df, x='Datetime', y='EvapoTranspiration', title='EvapoTranspiration Priestley-Taylor')\n",
    "fig.update_traces(line_color='green')\n",
    "#fig.update_xaxes(rangeslider_visible=True)\n",
    "fig.show()"
   ]
  },
  {
   "cell_type": "code",
   "execution_count": null,
   "metadata": {},
   "outputs": [],
   "source": [
    "df2 = pd.read_csv('LatentHeat_PT_1.csv',skiprows=6, sep=',', parse_dates=[0], na_values=-9999,usecols=[1,2])\n",
    "df2.columns = ['Datetime','LatenHeat']\n",
    "fig = px.line(df2, x='Datetime', y='LatenHeat', title='Latent Heat - PriestleyTaylor')\n",
    "fig.update_traces(line_color='red')\n",
    "#fig.update_xaxes(rangeslider_visible=True)\n",
    "fig.show()"
   ]
  },
  {
   "cell_type": "code",
   "execution_count": null,
   "metadata": {},
   "outputs": [],
   "source": [
    "df3 = pd.read_csv('ActualEvapotranspiration_PT_1.csv',skiprows=6, sep=',', parse_dates=[0], na_values=-9999,usecols=[1,2])\n",
    "df3.columns = ['Datetime','EvapoTranspiration']\n",
    "fig = px.line(df3, x='Datetime', y='EvapoTranspiration', title='Actual EvapoTranspiration Priestley-Taylor')\n",
    "fig.update_traces(line_color='green')\n",
    "#fig.update_xaxes(rangeslider_visible=True)\n",
    "fig.show()"
   ]
  },
  {
   "cell_type": "code",
   "execution_count": null,
   "metadata": {},
   "outputs": [],
   "source": [
    "df4 = pd.read_csv('ActualLatentHeat_PT_1.csv',skiprows=6, sep=',', parse_dates=[0], na_values=-9999,usecols=[1,2])\n",
    "df4.columns = ['Datetime','LatentHeat']\n",
    "fig = px.line(df4, x='Datetime', y='LatentHeat', title='Actual Latent Heat - PriestleyTaylor')\n",
    "fig.update_traces(line_color='red')\n",
    "#fig.update_xaxes(rangeslider_visible=True)\n",
    "fig.show()"
   ]
  },
  {
   "cell_type": "code",
   "execution_count": null,
   "metadata": {},
   "outputs": [],
   "source": [
    "fig = px.line()\n",
    "fig.add_trace(go.Scatter(x=df['Datetime'], y=df['EvapoTranspiration'], mode='lines', name='Potential ET'))\n",
    "fig.add_trace(go.Scatter(x=df3['Datetime'], y=df3['EvapoTranspiration'], mode='lines', name='Actual ET'))\n",
    "\n",
    "fig.update_layout(\n",
    "    title='Compare Potential and Actual PriestleyTaylor EvapoTranspiration ',\n",
    "    xaxis_title=\"DateTime\",\n",
    "    font_family=\"Times New Roman\",\n",
    "    font_color=\"Black\",\n",
    "    title_font_family=\"Times New Roman\",\n",
    "    title_font_color=\"Black\",\n",
    "    yaxis_title=\"EvapoTranspiration [mm]\",\n",
    "    #legend_title=\"Date\",\n",
    "    font=dict(size=12))\n",
    "fig.show()"
   ]
  },
  {
   "cell_type": "code",
   "execution_count": null,
   "metadata": {},
   "outputs": [],
   "source": [
    "show_stress('Evapotranspiration_PT_1.csv',\n",
    "            'EnvironmentalEvapotranspiration_PT_1.csv',\n",
    "            'WaterStressEvapotranspiration_PT_1.csv',\n",
    "            'TotalEvapotranspiration_PT_1.csv')"
   ]
  }
 ],
 "metadata": {
  "kernelspec": {
   "display_name": "Python 3 (ipykernel)",
   "language": "python",
   "name": "python3"
  },
  "language_info": {
   "codemirror_mode": {
    "name": "ipython",
    "version": 3
   },
   "file_extension": ".py",
   "mimetype": "text/x-python",
   "name": "python",
   "nbconvert_exporter": "python",
   "pygments_lexer": "ipython3",
   "version": "3.7.12"
  }
 },
 "nbformat": 4,
 "nbformat_minor": 4
}
