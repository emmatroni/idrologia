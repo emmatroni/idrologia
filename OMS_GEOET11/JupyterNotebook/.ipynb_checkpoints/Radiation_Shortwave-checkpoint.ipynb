{
 "cells": [
  {
   "cell_type": "markdown",
   "metadata": {},
   "source": [
    "# **GEOframe-NewAGE winter school**\n",
    "# **Day 4 - Radiation lesson**"
   ]
  },
  {
   "cell_type": "markdown",
   "metadata": {},
   "source": [
    "In this lesson we will run the radiation simulations.\n",
    "- Skyview factor\n",
    "- Shortwave radiation\n",
    "- Clearness index\n",
    "- Longwave radiation\n",
    "- Net radiation\n",
    "- Raster radiation (longwave only)"
   ]
  },
  {
   "cell_type": "markdown",
   "metadata": {},
   "source": [
    "# **Shortwave radiation**\n",
    "Complete documentation: https://osf.io/wcjqz/\n",
    "\n",
    "<span style='color:red'>**WARNING: very time consuming simulation**</span>\n",
    "\n",
    "### **Component Description**\n",
    "The incident shortwave (S) on an arbitrary sloping surface in a point under cloudless sky conditions is given by:\n",
    "\\begin{equation}\n",
    "S_{\\downarrow} = C_{1}\\cdot I_{sc} \\cdot E_{0} \\cdot cos(\\theta_{s} ) \\cdot (T_{s} + \\beta_{s} ) \\cdot \\psi \n",
    "\\end{equation}\n",
    "in which:\n",
    "- $C_{1} = 0.9751$ is the fraction of solar radiation that is included between 0.3 and 3.0 μm wavelengths;\n",
    "- $E_{0}$ [–] is a correction factor related to Earth’s orbit eccentricity computed according to Spencer (1971);\n",
    "- $T_{s}$ [–] is the product of the atmospheric transmittance:\n",
    "\\begin{equation}\n",
    "T_{s} = \\tau_{r} \\cdot \\tau_{0} \\cdot \\tau_{g} \\cdot \\tau_{w} \\cdot \\tau_{a} \n",
    "\\end{equation}\n",
    "where the $\\tau$ functions are the transmittance functions for Rayleigh scattering, ozone, uniformly mixed gases, water vapor, and aerosols, respectively;\n",
    "- $\\beta_{s}$ [m] is a correction factor for increased transmittance with elevation z[m] defined according to Corripio (2002);\n",
    "- $\\theta_{s}$ [rad] is the angle between the Sun vector and the surface plane;\n",
    "- $\\psi$ is the shadows index that accounts for the sun or shadow of the point under analysis. \n",
    "\n",
    "The modeling of the diffuse component of solar radiation, $d_{\\downarrow}$ , follows:\n",
    "\\begin{equation}\n",
    "d_{\\downarrow} = (d_{\\downarrow r} + d_{\\downarrow a} + d_{\\downarrow m} ) · V_{s} ,\n",
    "\\end{equation}\n",
    "\n",
    "where $d_{\\downarrow r}, d_{\\downarrow a}$ and $d_{\\downarrow m}$ are the diffuse irradiance components after the first pass through the atmosphere due to the Rayleigh scattering, the aerosol scattering and multiple reflection,respectively.\n",
    "\n",
    "Finally $V_{s}$ is the sky view factor, i.e., the fraction of sky visible in a point, computed using the algorithm presented in Corripio (2002)."
   ]
  },
  {
   "cell_type": "markdown",
   "metadata": {},
   "source": [
    "### **Detailed Inputs description**\n",
    "General description\n",
    "\n",
    "The input file is a .csv file containing a header and one or more time series of input data, depending on the number of stations involved. Each column of the file is associated to a different station. \n",
    "The file must have the following header:\n",
    "- The first 3 rows with general information such as the date of the creation of the file and the author;\n",
    "- the fourth and fifth rows contain the IDs of the stations (e.g. station number 8: value 8, ID, ,8);\n",
    "- the sixth row contains the information about the type of the input data (in this case, one column with the date and one column with double values);\n",
    "- the seventh row specifies the date format (YYYY-MM-dd HH:mm).\n",
    "All the previous information shown in the following figure:"
   ]
  },
  {
   "cell_type": "code",
   "execution_count": 4,
   "metadata": {},
   "outputs": [],
   "source": [
    "from IPython.display import Image\n",
    "import os"
   ]
  },
  {
   "cell_type": "code",
   "execution_count": 5,
   "metadata": {},
   "outputs": [
    {
     "data": {
      "image/png": "[encoded data removed]",
      "text/plain": [
       "<IPython.core.display.Image object>"
      ]
     },
     "execution_count": 5,
     "metadata": {},
     "output_type": "execute_result"
    }
   ],
   "source": [
    "projFolder = '/home/drugo/Desktop/MeledrioCaseStudy-winterSchool/'\n",
    "os.chdir(projFolder)\n",
    "Image('Images/header.png')"
   ]
  },
  {
   "cell_type": "markdown",
   "metadata": {},
   "source": [
    "#### **Air temperature**\n",
    "The air temperature is given in <span style='color:red'>**time series**</span> or <span style='color:red'>**raster maps**</span> of (°C) values. The conversion in (°K) is directly done by the component.\n",
    "#### **Relative humidity measures**\n",
    "The relative humidity is given in <span style='color:red'>**time series**</span> or <span style='color:red'>**raster maps**</span> of (%) values.\n",
    "#### **DEM**\n",
    "DEM is the <span style='color:red'>**digital elevation model**</span> of the HRU considered.\n",
    "#### **Sky view factor**\n",
    "The sky view factor is a <span style='color:red'>**raster map**</span> of adimensional values in the interval [0,1] at the given point. It is the fraction of visible sky in the upper hemisphere and it is obtained from the digital elevation model using the JGrasstools. \n",
    "#### **Current date**\n",
    "The current date is given as a string <span style='color:red'>**parameter**</span> and is required to compute the correction factor related to Earth’s orbit eccentricity ($E_{0}$)\n",
    "#### **Ozone layer thickness**\n",
    "Ozone layer thickness is a double value <span style='color:red'>**parameter**</span> in (cm) and usually varies in the interval [0.4,0.6].\n",
    "#### **Visibility**\n",
    "Visibility is a double value <span style='color:red'>**parameter**</span> in (km) and it depends on aerosol attenuation. It usually varies in the interval [5,180] km.\n",
    "#### **Albedo**\n",
    "Albedo is the double value <span style='color:red'>**parameter**</span> of the ground albedo.\n",
    "#### **Vector file containing the coordinates of the station**\n",
    "This <span style='color:red'>**shapefile**</span> should contain all the information about the stations involved in the simulation. It is required to obtain the station IDs and to determine their coordinates. The name of the field containing the IDs of the stations must be specified as a string in the sim file at the field ”fStationid”"
   ]
  },
  {
   "cell_type": "code",
   "execution_count": 6,
   "metadata": {},
   "outputs": [],
   "source": [
    "###########################\n",
    "### SET THE FOLDER PATH ###\n",
    "###########################\n",
    "projFolder = '/home/drugo/Desktop/MeledrioCaseStudy-winterSchool/'"
   ]
  },
  {
   "cell_type": "code",
   "execution_count": 7,
   "metadata": {},
   "outputs": [],
   "source": [
    "#%load simulation/Radiation/ShortWave.sim"
   ]
  },
  {
   "cell_type": "code",
   "execution_count": 5,
   "metadata": {},
   "outputs": [],
   "source": [
    "#!docker run --rm -it -v $(pwd):/work omslab/oms simulation/Radiation/Shortwave.sim"
   ]
  },
  {
   "cell_type": "code",
   "execution_count": 8,
   "metadata": {},
   "outputs": [],
   "source": [
    "import pandas as pd\n",
    "import numpy as np\n",
    "import matplotlib.pyplot as plt"
   ]
  },
  {
   "cell_type": "code",
   "execution_count": 9,
   "metadata": {},
   "outputs": [],
   "source": [
    "os.chdir(projFolder)"
   ]
  },
  {
   "cell_type": "markdown",
   "metadata": {},
   "source": [
    "**Read the shortwave radiation results**"
   ]
  },
  {
   "cell_type": "code",
   "execution_count": 10,
   "metadata": {},
   "outputs": [],
   "source": [
    "nameSWFile = 'output/Radiation/ShortwaveTotal.csv'"
   ]
  },
  {
   "cell_type": "code",
   "execution_count": 11,
   "metadata": {},
   "outputs": [
    {
     "data": {
      "text/html": [
       "<div>\n",
       "<style scoped>\n",
       "    .dataframe tbody tr th:only-of-type {\n",
       "        vertical-align: middle;\n",
       "    }\n",
       "\n",
       "    .dataframe tbody tr th {\n",
       "        vertical-align: top;\n",
       "    }\n",
       "\n",
       "    .dataframe thead th {\n",
       "        text-align: right;\n",
       "    }\n",
       "</style>\n",
       "<table border=\"1\" class=\"dataframe\">\n",
       "  <thead>\n",
       "    <tr style=\"text-align: right;\">\n",
       "      <th></th>\n",
       "      <th>Format</th>\n",
       "      <th>yyyy-MM-dd HH:mm</th>\n",
       "      <th>Unnamed: 2</th>\n",
       "      <th>Unnamed: 3</th>\n",
       "      <th>Unnamed: 4</th>\n",
       "      <th>Unnamed: 5</th>\n",
       "      <th>Unnamed: 6</th>\n",
       "      <th>Unnamed: 7</th>\n",
       "      <th>Unnamed: 8</th>\n",
       "    </tr>\n",
       "  </thead>\n",
       "  <tbody>\n",
       "    <tr>\n",
       "      <th>0</th>\n",
       "      <td>NaN</td>\n",
       "      <td>2010-01-01 00:00</td>\n",
       "      <td>0.0</td>\n",
       "      <td>0.0</td>\n",
       "      <td>0.0</td>\n",
       "      <td>0.0</td>\n",
       "      <td>0.0</td>\n",
       "      <td>0.0</td>\n",
       "      <td>0.0</td>\n",
       "    </tr>\n",
       "    <tr>\n",
       "      <th>1</th>\n",
       "      <td>NaN</td>\n",
       "      <td>2010-01-01 01:00</td>\n",
       "      <td>0.0</td>\n",
       "      <td>0.0</td>\n",
       "      <td>0.0</td>\n",
       "      <td>0.0</td>\n",
       "      <td>0.0</td>\n",
       "      <td>0.0</td>\n",
       "      <td>0.0</td>\n",
       "    </tr>\n",
       "    <tr>\n",
       "      <th>2</th>\n",
       "      <td>NaN</td>\n",
       "      <td>2010-01-01 02:00</td>\n",
       "      <td>0.0</td>\n",
       "      <td>0.0</td>\n",
       "      <td>0.0</td>\n",
       "      <td>0.0</td>\n",
       "      <td>0.0</td>\n",
       "      <td>0.0</td>\n",
       "      <td>0.0</td>\n",
       "    </tr>\n",
       "    <tr>\n",
       "      <th>3</th>\n",
       "      <td>NaN</td>\n",
       "      <td>2010-01-01 03:00</td>\n",
       "      <td>0.0</td>\n",
       "      <td>0.0</td>\n",
       "      <td>0.0</td>\n",
       "      <td>0.0</td>\n",
       "      <td>0.0</td>\n",
       "      <td>0.0</td>\n",
       "      <td>0.0</td>\n",
       "    </tr>\n",
       "    <tr>\n",
       "      <th>4</th>\n",
       "      <td>NaN</td>\n",
       "      <td>2010-01-01 04:00</td>\n",
       "      <td>0.0</td>\n",
       "      <td>0.0</td>\n",
       "      <td>0.0</td>\n",
       "      <td>0.0</td>\n",
       "      <td>0.0</td>\n",
       "      <td>0.0</td>\n",
       "      <td>0.0</td>\n",
       "    </tr>\n",
       "  </tbody>\n",
       "</table>\n",
       "</div>"
      ],
      "text/plain": [
       "   Format  yyyy-MM-dd HH:mm  Unnamed: 2  Unnamed: 3  Unnamed: 4  Unnamed: 5  \\\n",
       "0     NaN  2010-01-01 00:00         0.0         0.0         0.0         0.0   \n",
       "1     NaN  2010-01-01 01:00         0.0         0.0         0.0         0.0   \n",
       "2     NaN  2010-01-01 02:00         0.0         0.0         0.0         0.0   \n",
       "3     NaN  2010-01-01 03:00         0.0         0.0         0.0         0.0   \n",
       "4     NaN  2010-01-01 04:00         0.0         0.0         0.0         0.0   \n",
       "\n",
       "   Unnamed: 6  Unnamed: 7  Unnamed: 8  \n",
       "0         0.0         0.0         0.0  \n",
       "1         0.0         0.0         0.0  \n",
       "2         0.0         0.0         0.0  \n",
       "3         0.0         0.0         0.0  \n",
       "4         0.0         0.0         0.0  "
      ]
     },
     "execution_count": 11,
     "metadata": {},
     "output_type": "execute_result"
    }
   ],
   "source": [
    "# Open with dataframe the file\n",
    "dfSw= pd.read_csv(nameSWFile,sep=',',skiprows=6,low_memory=False)\n",
    "dfSw.head()"
   ]
  },
  {
   "cell_type": "code",
   "execution_count": 12,
   "metadata": {},
   "outputs": [],
   "source": [
    "# Rename date column \n",
    "dfSw.rename(columns={list(dfSw)[1]:'Datetime'}, inplace=True)\n",
    "dfSw[dfSw ==-9999]=np.nan"
   ]
  },
  {
   "cell_type": "code",
   "execution_count": 13,
   "metadata": {},
   "outputs": [
    {
     "data": {
      "text/html": [
       "<div>\n",
       "<style scoped>\n",
       "    .dataframe tbody tr th:only-of-type {\n",
       "        vertical-align: middle;\n",
       "    }\n",
       "\n",
       "    .dataframe tbody tr th {\n",
       "        vertical-align: top;\n",
       "    }\n",
       "\n",
       "    .dataframe thead th {\n",
       "        text-align: right;\n",
       "    }\n",
       "</style>\n",
       "<table border=\"1\" class=\"dataframe\">\n",
       "  <thead>\n",
       "    <tr style=\"text-align: right;\">\n",
       "      <th></th>\n",
       "      <th>Format</th>\n",
       "      <th>Datetime</th>\n",
       "      <th>Unnamed: 2</th>\n",
       "      <th>Unnamed: 3</th>\n",
       "      <th>Unnamed: 4</th>\n",
       "      <th>Unnamed: 5</th>\n",
       "      <th>Unnamed: 6</th>\n",
       "      <th>Unnamed: 7</th>\n",
       "      <th>Unnamed: 8</th>\n",
       "    </tr>\n",
       "  </thead>\n",
       "  <tbody>\n",
       "    <tr>\n",
       "      <th>0</th>\n",
       "      <td>NaN</td>\n",
       "      <td>2010-01-01 00:00</td>\n",
       "      <td>0.0</td>\n",
       "      <td>0.0</td>\n",
       "      <td>0.0</td>\n",
       "      <td>0.0</td>\n",
       "      <td>0.0</td>\n",
       "      <td>0.0</td>\n",
       "      <td>0.0</td>\n",
       "    </tr>\n",
       "    <tr>\n",
       "      <th>1</th>\n",
       "      <td>NaN</td>\n",
       "      <td>2010-01-01 01:00</td>\n",
       "      <td>0.0</td>\n",
       "      <td>0.0</td>\n",
       "      <td>0.0</td>\n",
       "      <td>0.0</td>\n",
       "      <td>0.0</td>\n",
       "      <td>0.0</td>\n",
       "      <td>0.0</td>\n",
       "    </tr>\n",
       "    <tr>\n",
       "      <th>2</th>\n",
       "      <td>NaN</td>\n",
       "      <td>2010-01-01 02:00</td>\n",
       "      <td>0.0</td>\n",
       "      <td>0.0</td>\n",
       "      <td>0.0</td>\n",
       "      <td>0.0</td>\n",
       "      <td>0.0</td>\n",
       "      <td>0.0</td>\n",
       "      <td>0.0</td>\n",
       "    </tr>\n",
       "    <tr>\n",
       "      <th>3</th>\n",
       "      <td>NaN</td>\n",
       "      <td>2010-01-01 03:00</td>\n",
       "      <td>0.0</td>\n",
       "      <td>0.0</td>\n",
       "      <td>0.0</td>\n",
       "      <td>0.0</td>\n",
       "      <td>0.0</td>\n",
       "      <td>0.0</td>\n",
       "      <td>0.0</td>\n",
       "    </tr>\n",
       "    <tr>\n",
       "      <th>4</th>\n",
       "      <td>NaN</td>\n",
       "      <td>2010-01-01 04:00</td>\n",
       "      <td>0.0</td>\n",
       "      <td>0.0</td>\n",
       "      <td>0.0</td>\n",
       "      <td>0.0</td>\n",
       "      <td>0.0</td>\n",
       "      <td>0.0</td>\n",
       "      <td>0.0</td>\n",
       "    </tr>\n",
       "  </tbody>\n",
       "</table>\n",
       "</div>"
      ],
      "text/plain": [
       "   Format          Datetime  Unnamed: 2  Unnamed: 3  Unnamed: 4  Unnamed: 5  \\\n",
       "0     NaN  2010-01-01 00:00         0.0         0.0         0.0         0.0   \n",
       "1     NaN  2010-01-01 01:00         0.0         0.0         0.0         0.0   \n",
       "2     NaN  2010-01-01 02:00         0.0         0.0         0.0         0.0   \n",
       "3     NaN  2010-01-01 03:00         0.0         0.0         0.0         0.0   \n",
       "4     NaN  2010-01-01 04:00         0.0         0.0         0.0         0.0   \n",
       "\n",
       "   Unnamed: 6  Unnamed: 7  Unnamed: 8  \n",
       "0         0.0         0.0         0.0  \n",
       "1         0.0         0.0         0.0  \n",
       "2         0.0         0.0         0.0  \n",
       "3         0.0         0.0         0.0  \n",
       "4         0.0         0.0         0.0  "
      ]
     },
     "execution_count": 13,
     "metadata": {},
     "output_type": "execute_result"
    }
   ],
   "source": [
    "dfSw.head()"
   ]
  },
  {
   "cell_type": "code",
   "execution_count": 14,
   "metadata": {},
   "outputs": [],
   "source": [
    "for x in range(2, 9):\n",
    "    dfSw.rename(columns={list(dfSw)[x]:x-1}, inplace=True)"
   ]
  },
  {
   "cell_type": "code",
   "execution_count": 15,
   "metadata": {},
   "outputs": [
    {
     "data": {
      "text/html": [
       "<div>\n",
       "<style scoped>\n",
       "    .dataframe tbody tr th:only-of-type {\n",
       "        vertical-align: middle;\n",
       "    }\n",
       "\n",
       "    .dataframe tbody tr th {\n",
       "        vertical-align: top;\n",
       "    }\n",
       "\n",
       "    .dataframe thead th {\n",
       "        text-align: right;\n",
       "    }\n",
       "</style>\n",
       "<table border=\"1\" class=\"dataframe\">\n",
       "  <thead>\n",
       "    <tr style=\"text-align: right;\">\n",
       "      <th></th>\n",
       "      <th>Format</th>\n",
       "      <th>Datetime</th>\n",
       "      <th>1</th>\n",
       "      <th>2</th>\n",
       "      <th>3</th>\n",
       "      <th>4</th>\n",
       "      <th>5</th>\n",
       "      <th>6</th>\n",
       "      <th>7</th>\n",
       "    </tr>\n",
       "  </thead>\n",
       "  <tbody>\n",
       "    <tr>\n",
       "      <th>0</th>\n",
       "      <td>NaN</td>\n",
       "      <td>2010-01-01 00:00</td>\n",
       "      <td>0.0</td>\n",
       "      <td>0.0</td>\n",
       "      <td>0.0</td>\n",
       "      <td>0.0</td>\n",
       "      <td>0.0</td>\n",
       "      <td>0.0</td>\n",
       "      <td>0.0</td>\n",
       "    </tr>\n",
       "    <tr>\n",
       "      <th>1</th>\n",
       "      <td>NaN</td>\n",
       "      <td>2010-01-01 01:00</td>\n",
       "      <td>0.0</td>\n",
       "      <td>0.0</td>\n",
       "      <td>0.0</td>\n",
       "      <td>0.0</td>\n",
       "      <td>0.0</td>\n",
       "      <td>0.0</td>\n",
       "      <td>0.0</td>\n",
       "    </tr>\n",
       "    <tr>\n",
       "      <th>2</th>\n",
       "      <td>NaN</td>\n",
       "      <td>2010-01-01 02:00</td>\n",
       "      <td>0.0</td>\n",
       "      <td>0.0</td>\n",
       "      <td>0.0</td>\n",
       "      <td>0.0</td>\n",
       "      <td>0.0</td>\n",
       "      <td>0.0</td>\n",
       "      <td>0.0</td>\n",
       "    </tr>\n",
       "    <tr>\n",
       "      <th>3</th>\n",
       "      <td>NaN</td>\n",
       "      <td>2010-01-01 03:00</td>\n",
       "      <td>0.0</td>\n",
       "      <td>0.0</td>\n",
       "      <td>0.0</td>\n",
       "      <td>0.0</td>\n",
       "      <td>0.0</td>\n",
       "      <td>0.0</td>\n",
       "      <td>0.0</td>\n",
       "    </tr>\n",
       "    <tr>\n",
       "      <th>4</th>\n",
       "      <td>NaN</td>\n",
       "      <td>2010-01-01 04:00</td>\n",
       "      <td>0.0</td>\n",
       "      <td>0.0</td>\n",
       "      <td>0.0</td>\n",
       "      <td>0.0</td>\n",
       "      <td>0.0</td>\n",
       "      <td>0.0</td>\n",
       "      <td>0.0</td>\n",
       "    </tr>\n",
       "  </tbody>\n",
       "</table>\n",
       "</div>"
      ],
      "text/plain": [
       "   Format          Datetime    1    2    3    4    5    6    7\n",
       "0     NaN  2010-01-01 00:00  0.0  0.0  0.0  0.0  0.0  0.0  0.0\n",
       "1     NaN  2010-01-01 01:00  0.0  0.0  0.0  0.0  0.0  0.0  0.0\n",
       "2     NaN  2010-01-01 02:00  0.0  0.0  0.0  0.0  0.0  0.0  0.0\n",
       "3     NaN  2010-01-01 03:00  0.0  0.0  0.0  0.0  0.0  0.0  0.0\n",
       "4     NaN  2010-01-01 04:00  0.0  0.0  0.0  0.0  0.0  0.0  0.0"
      ]
     },
     "execution_count": 15,
     "metadata": {},
     "output_type": "execute_result"
    }
   ],
   "source": [
    "dfSw.head()"
   ]
  },
  {
   "cell_type": "code",
   "execution_count": 16,
   "metadata": {},
   "outputs": [],
   "source": [
    "dfSw['Datetime'] = pd.to_datetime(dfSw['Datetime'], dayfirst=True)\n",
    "dfSw['Datetime'] = dfSw['Datetime'].dt.strftime('%Y-%m-%d %H:%M')\n",
    "dfSw.index = dfSw.Datetime"
   ]
  },
  {
   "cell_type": "code",
   "execution_count": 17,
   "metadata": {},
   "outputs": [
    {
     "data": {
      "text/html": [
       "<div>\n",
       "<style scoped>\n",
       "    .dataframe tbody tr th:only-of-type {\n",
       "        vertical-align: middle;\n",
       "    }\n",
       "\n",
       "    .dataframe tbody tr th {\n",
       "        vertical-align: top;\n",
       "    }\n",
       "\n",
       "    .dataframe thead th {\n",
       "        text-align: right;\n",
       "    }\n",
       "</style>\n",
       "<table border=\"1\" class=\"dataframe\">\n",
       "  <thead>\n",
       "    <tr style=\"text-align: right;\">\n",
       "      <th></th>\n",
       "      <th>Format</th>\n",
       "      <th>Datetime</th>\n",
       "      <th>1</th>\n",
       "      <th>2</th>\n",
       "      <th>3</th>\n",
       "      <th>4</th>\n",
       "      <th>5</th>\n",
       "      <th>6</th>\n",
       "      <th>7</th>\n",
       "    </tr>\n",
       "    <tr>\n",
       "      <th>Datetime</th>\n",
       "      <th></th>\n",
       "      <th></th>\n",
       "      <th></th>\n",
       "      <th></th>\n",
       "      <th></th>\n",
       "      <th></th>\n",
       "      <th></th>\n",
       "      <th></th>\n",
       "      <th></th>\n",
       "    </tr>\n",
       "  </thead>\n",
       "  <tbody>\n",
       "    <tr>\n",
       "      <th>2010-01-01 00:00</th>\n",
       "      <td>NaN</td>\n",
       "      <td>2010-01-01 00:00</td>\n",
       "      <td>0.0</td>\n",
       "      <td>0.0</td>\n",
       "      <td>0.0</td>\n",
       "      <td>0.0</td>\n",
       "      <td>0.0</td>\n",
       "      <td>0.0</td>\n",
       "      <td>0.0</td>\n",
       "    </tr>\n",
       "    <tr>\n",
       "      <th>2010-01-01 01:00</th>\n",
       "      <td>NaN</td>\n",
       "      <td>2010-01-01 01:00</td>\n",
       "      <td>0.0</td>\n",
       "      <td>0.0</td>\n",
       "      <td>0.0</td>\n",
       "      <td>0.0</td>\n",
       "      <td>0.0</td>\n",
       "      <td>0.0</td>\n",
       "      <td>0.0</td>\n",
       "    </tr>\n",
       "    <tr>\n",
       "      <th>2010-01-01 02:00</th>\n",
       "      <td>NaN</td>\n",
       "      <td>2010-01-01 02:00</td>\n",
       "      <td>0.0</td>\n",
       "      <td>0.0</td>\n",
       "      <td>0.0</td>\n",
       "      <td>0.0</td>\n",
       "      <td>0.0</td>\n",
       "      <td>0.0</td>\n",
       "      <td>0.0</td>\n",
       "    </tr>\n",
       "    <tr>\n",
       "      <th>2010-01-01 03:00</th>\n",
       "      <td>NaN</td>\n",
       "      <td>2010-01-01 03:00</td>\n",
       "      <td>0.0</td>\n",
       "      <td>0.0</td>\n",
       "      <td>0.0</td>\n",
       "      <td>0.0</td>\n",
       "      <td>0.0</td>\n",
       "      <td>0.0</td>\n",
       "      <td>0.0</td>\n",
       "    </tr>\n",
       "    <tr>\n",
       "      <th>2010-01-01 04:00</th>\n",
       "      <td>NaN</td>\n",
       "      <td>2010-01-01 04:00</td>\n",
       "      <td>0.0</td>\n",
       "      <td>0.0</td>\n",
       "      <td>0.0</td>\n",
       "      <td>0.0</td>\n",
       "      <td>0.0</td>\n",
       "      <td>0.0</td>\n",
       "      <td>0.0</td>\n",
       "    </tr>\n",
       "  </tbody>\n",
       "</table>\n",
       "</div>"
      ],
      "text/plain": [
       "                  Format          Datetime    1    2    3    4    5    6    7\n",
       "Datetime                                                                     \n",
       "2010-01-01 00:00     NaN  2010-01-01 00:00  0.0  0.0  0.0  0.0  0.0  0.0  0.0\n",
       "2010-01-01 01:00     NaN  2010-01-01 01:00  0.0  0.0  0.0  0.0  0.0  0.0  0.0\n",
       "2010-01-01 02:00     NaN  2010-01-01 02:00  0.0  0.0  0.0  0.0  0.0  0.0  0.0\n",
       "2010-01-01 03:00     NaN  2010-01-01 03:00  0.0  0.0  0.0  0.0  0.0  0.0  0.0\n",
       "2010-01-01 04:00     NaN  2010-01-01 04:00  0.0  0.0  0.0  0.0  0.0  0.0  0.0"
      ]
     },
     "execution_count": 17,
     "metadata": {},
     "output_type": "execute_result"
    }
   ],
   "source": [
    "dfSw.head()"
   ]
  },
  {
   "cell_type": "code",
   "execution_count": 18,
   "metadata": {},
   "outputs": [
    {
     "data": {
      "text/html": [
       "<div>\n",
       "<style scoped>\n",
       "    .dataframe tbody tr th:only-of-type {\n",
       "        vertical-align: middle;\n",
       "    }\n",
       "\n",
       "    .dataframe tbody tr th {\n",
       "        vertical-align: top;\n",
       "    }\n",
       "\n",
       "    .dataframe thead th {\n",
       "        text-align: right;\n",
       "    }\n",
       "</style>\n",
       "<table border=\"1\" class=\"dataframe\">\n",
       "  <thead>\n",
       "    <tr style=\"text-align: right;\">\n",
       "      <th></th>\n",
       "      <th>1</th>\n",
       "      <th>2</th>\n",
       "      <th>3</th>\n",
       "      <th>4</th>\n",
       "      <th>5</th>\n",
       "      <th>6</th>\n",
       "      <th>7</th>\n",
       "    </tr>\n",
       "    <tr>\n",
       "      <th>Datetime</th>\n",
       "      <th></th>\n",
       "      <th></th>\n",
       "      <th></th>\n",
       "      <th></th>\n",
       "      <th></th>\n",
       "      <th></th>\n",
       "      <th></th>\n",
       "    </tr>\n",
       "  </thead>\n",
       "  <tbody>\n",
       "    <tr>\n",
       "      <th>2010-01-01 00:00</th>\n",
       "      <td>0.0</td>\n",
       "      <td>0.0</td>\n",
       "      <td>0.0</td>\n",
       "      <td>0.0</td>\n",
       "      <td>0.0</td>\n",
       "      <td>0.0</td>\n",
       "      <td>0.0</td>\n",
       "    </tr>\n",
       "    <tr>\n",
       "      <th>2010-01-01 01:00</th>\n",
       "      <td>0.0</td>\n",
       "      <td>0.0</td>\n",
       "      <td>0.0</td>\n",
       "      <td>0.0</td>\n",
       "      <td>0.0</td>\n",
       "      <td>0.0</td>\n",
       "      <td>0.0</td>\n",
       "    </tr>\n",
       "    <tr>\n",
       "      <th>2010-01-01 02:00</th>\n",
       "      <td>0.0</td>\n",
       "      <td>0.0</td>\n",
       "      <td>0.0</td>\n",
       "      <td>0.0</td>\n",
       "      <td>0.0</td>\n",
       "      <td>0.0</td>\n",
       "      <td>0.0</td>\n",
       "    </tr>\n",
       "    <tr>\n",
       "      <th>2010-01-01 03:00</th>\n",
       "      <td>0.0</td>\n",
       "      <td>0.0</td>\n",
       "      <td>0.0</td>\n",
       "      <td>0.0</td>\n",
       "      <td>0.0</td>\n",
       "      <td>0.0</td>\n",
       "      <td>0.0</td>\n",
       "    </tr>\n",
       "    <tr>\n",
       "      <th>2010-01-01 04:00</th>\n",
       "      <td>0.0</td>\n",
       "      <td>0.0</td>\n",
       "      <td>0.0</td>\n",
       "      <td>0.0</td>\n",
       "      <td>0.0</td>\n",
       "      <td>0.0</td>\n",
       "      <td>0.0</td>\n",
       "    </tr>\n",
       "  </tbody>\n",
       "</table>\n",
       "</div>"
      ],
      "text/plain": [
       "                    1    2    3    4    5    6    7\n",
       "Datetime                                           \n",
       "2010-01-01 00:00  0.0  0.0  0.0  0.0  0.0  0.0  0.0\n",
       "2010-01-01 01:00  0.0  0.0  0.0  0.0  0.0  0.0  0.0\n",
       "2010-01-01 02:00  0.0  0.0  0.0  0.0  0.0  0.0  0.0\n",
       "2010-01-01 03:00  0.0  0.0  0.0  0.0  0.0  0.0  0.0\n",
       "2010-01-01 04:00  0.0  0.0  0.0  0.0  0.0  0.0  0.0"
      ]
     },
     "execution_count": 18,
     "metadata": {},
     "output_type": "execute_result"
    }
   ],
   "source": [
    "dfSw = dfSw.iloc[:,2:]\n",
    "dfSw.head()"
   ]
  },
  {
   "cell_type": "code",
   "execution_count": 19,
   "metadata": {},
   "outputs": [
    {
     "data": {
      "text/plain": [
       "<matplotlib.axes._subplots.AxesSubplot at 0x7ff859dc50f0>"
      ]
     },
     "execution_count": 19,
     "metadata": {},
     "output_type": "execute_result"
    },
    {
     "data": {
      "image/png": "[encoded data removed]",
      "text/plain": [
       "<Figure size 432x288 with 1 Axes>"
      ]
     },
     "metadata": {},
     "output_type": "display_data"
    }
   ],
   "source": [
    "dfSw.iloc[:,6].plot()"
   ]
  },
  {
   "cell_type": "markdown",
   "metadata": {},
   "source": [
    "This result does not consider the feedback/impact of clouds. To assess the effect of clouds we need to compare the theoretical shortwave radiation obtained with the shortwave.sim with the one measured in the station.\n",
    "To do that we need the clearnessIndex.sim"
   ]
  },
  {
   "cell_type": "markdown",
   "metadata": {},
   "source": [
    "## **Clearness Index**\n",
    "Complete documentation: https://osf.io/vd7qh/"
   ]
  },
  {
   "cell_type": "markdown",
   "metadata": {},
   "source": [
    "### **Component Description**\n",
    "The clearness index is the ratio between the measured incoming solar radiation and the theoretical solar radiation computed at the top atmosphere. The index is needed to account for the cloudness for the simulation of the longwave radiation in all-sky conditions. Its dimensionless values varies between [0,1].\n",
    "### **Detailed Inputs description**\n",
    "#### **General description**\n",
    "The input file is a .csv file containing a header and one or more time series of input data, depending on the number of stations involved. Each column of the file is associated to a different station. \n",
    "The file must have the following header:\n",
    "- The first 3 rows with general information such as the date of the creation of the file and the author;\n",
    "- The fourth and fifth rows contain the IDs of the stations (e.g. station number 8: value 8, ID, ,8);\n",
    "- The sixth row contains the information about the type of the input data (in this case, one column with the date and one column with double values);\n",
    "- The seventh row specifies the date format (YYYY-MM-dd HH:mm).\n",
    "#### **Measured incoming solar radiation**\n",
    "The measured incoming solar radiation should be given in <span style='color:red'>**time series**</span> or <span style='color:red'>**raster maps**</span> of ($W \\cdot m^{−2}$) values for the investigated station.\n",
    "#### **Top atmosphere solar radiation**\n",
    "The theoretical solar radiation is computed at the top atmosphere and should be given in <span style='color:red'>**time series**</span> or <span style='color:red'>**raster maps**</span> of ($W \\cdot m^{−2}$) values."
   ]
  },
  {
   "cell_type": "markdown",
   "metadata": {},
   "source": [
    "### **Detailed Outputs description**\n",
    "Them output file will have exactly the same heading of the input file. \n",
    "#### **Time series of the Clearness index**\n",
    "The Clearness index output is given as a <span style='color:red'>**time series**</span> at a given point or as <span style='color:red'>**raster maps**</span>. Its units are ($W \\cdot m^{−2} / W \\cdot m^{−2}$) and the values vary between 0 and 1. During night time the values are set equal to NA."
   ]
  },
  {
   "cell_type": "code",
   "execution_count": 20,
   "metadata": {},
   "outputs": [],
   "source": [
    "os.chdir(projFolder)"
   ]
  },
  {
   "cell_type": "code",
   "execution_count": 21,
   "metadata": {},
   "outputs": [],
   "source": [
    "# %load ClearnessIndex.sim"
   ]
  },
  {
   "cell_type": "code",
   "execution_count": 22,
   "metadata": {},
   "outputs": [
    {
     "data": {
      "text/plain": [
       "'/home/drugo/Desktop/MeledrioCaseStudy-winterSchool'"
      ]
     },
     "execution_count": 22,
     "metadata": {},
     "output_type": "execute_result"
    }
   ],
   "source": [
    "###########################\n",
    "## Only for docker users ##\n",
    "###########################\n",
    "os.chdir(projFolder)\n",
    "os.getcwd()"
   ]
  },
  {
   "cell_type": "code",
   "execution_count": 23,
   "metadata": {},
   "outputs": [
    {
     "name": "stdout",
     "output_type": "stream",
     "text": [
      "build/ folder exists: project already built.\n",
      "\n",
      "*********************************\n",
      "***     END OF SIMULATION     ***\n",
      "*********************************\n",
      "\n"
     ]
    }
   ],
   "source": [
    "###########################\n",
    "## Only for docker users ##\n",
    "###########################\n",
    "!docker run --rm -it -v $(pwd):/work omslab/oms simulation/Radiation/ClearnessIndex.sim"
   ]
  },
  {
   "cell_type": "markdown",
   "metadata": {},
   "source": [
    "**Display clearness index results**"
   ]
  },
  {
   "cell_type": "code",
   "execution_count": 31,
   "metadata": {},
   "outputs": [],
   "source": [
    "nameCiFile = 'output/Radiation/CI.csv'"
   ]
  },
  {
   "cell_type": "code",
   "execution_count": 32,
   "metadata": {},
   "outputs": [],
   "source": [
    "# Open with dataframe the file\n",
    "dfCi= pd.read_csv(nameCiFile,sep=',',skiprows=6,low_memory=False)"
   ]
  },
  {
   "cell_type": "code",
   "execution_count": 33,
   "metadata": {},
   "outputs": [],
   "source": [
    "for x in range(2, 9):\n",
    "    dfCi.rename(columns={list(dfCi)[x]:x-1}, inplace=True)"
   ]
  },
  {
   "cell_type": "code",
   "execution_count": 34,
   "metadata": {},
   "outputs": [
    {
     "data": {
      "text/html": [
       "<div>\n",
       "<style scoped>\n",
       "    .dataframe tbody tr th:only-of-type {\n",
       "        vertical-align: middle;\n",
       "    }\n",
       "\n",
       "    .dataframe tbody tr th {\n",
       "        vertical-align: top;\n",
       "    }\n",
       "\n",
       "    .dataframe thead th {\n",
       "        text-align: right;\n",
       "    }\n",
       "</style>\n",
       "<table border=\"1\" class=\"dataframe\">\n",
       "  <thead>\n",
       "    <tr style=\"text-align: right;\">\n",
       "      <th></th>\n",
       "      <th>Format</th>\n",
       "      <th>yyyy-MM-dd HH:mm</th>\n",
       "      <th>1</th>\n",
       "      <th>2</th>\n",
       "      <th>3</th>\n",
       "      <th>4</th>\n",
       "      <th>5</th>\n",
       "      <th>6</th>\n",
       "      <th>7</th>\n",
       "    </tr>\n",
       "  </thead>\n",
       "  <tbody>\n",
       "    <tr>\n",
       "      <th>0</th>\n",
       "      <td>NaN</td>\n",
       "      <td>2013-01-01 00:00</td>\n",
       "      <td>-9999.0</td>\n",
       "      <td>-9999.0</td>\n",
       "      <td>-9999</td>\n",
       "      <td>-9999.0</td>\n",
       "      <td>-9999</td>\n",
       "      <td>-9999.0</td>\n",
       "      <td>-9999.0</td>\n",
       "    </tr>\n",
       "    <tr>\n",
       "      <th>1</th>\n",
       "      <td>NaN</td>\n",
       "      <td>2013-01-01 01:00</td>\n",
       "      <td>-9999.0</td>\n",
       "      <td>-9999.0</td>\n",
       "      <td>-9999</td>\n",
       "      <td>-9999.0</td>\n",
       "      <td>-9999</td>\n",
       "      <td>-9999.0</td>\n",
       "      <td>-9999.0</td>\n",
       "    </tr>\n",
       "    <tr>\n",
       "      <th>2</th>\n",
       "      <td>NaN</td>\n",
       "      <td>2013-01-01 02:00</td>\n",
       "      <td>-9999.0</td>\n",
       "      <td>-9999.0</td>\n",
       "      <td>-9999</td>\n",
       "      <td>-9999.0</td>\n",
       "      <td>-9999</td>\n",
       "      <td>-9999.0</td>\n",
       "      <td>-9999.0</td>\n",
       "    </tr>\n",
       "    <tr>\n",
       "      <th>3</th>\n",
       "      <td>NaN</td>\n",
       "      <td>2013-01-01 03:00</td>\n",
       "      <td>-9999.0</td>\n",
       "      <td>-9999.0</td>\n",
       "      <td>-9999</td>\n",
       "      <td>-9999.0</td>\n",
       "      <td>-9999</td>\n",
       "      <td>-9999.0</td>\n",
       "      <td>-9999.0</td>\n",
       "    </tr>\n",
       "    <tr>\n",
       "      <th>4</th>\n",
       "      <td>NaN</td>\n",
       "      <td>2013-01-01 04:00</td>\n",
       "      <td>-9999.0</td>\n",
       "      <td>-9999.0</td>\n",
       "      <td>-9999</td>\n",
       "      <td>-9999.0</td>\n",
       "      <td>-9999</td>\n",
       "      <td>-9999.0</td>\n",
       "      <td>-9999.0</td>\n",
       "    </tr>\n",
       "  </tbody>\n",
       "</table>\n",
       "</div>"
      ],
      "text/plain": [
       "   Format  yyyy-MM-dd HH:mm       1       2     3       4     5       6  \\\n",
       "0     NaN  2013-01-01 00:00 -9999.0 -9999.0 -9999 -9999.0 -9999 -9999.0   \n",
       "1     NaN  2013-01-01 01:00 -9999.0 -9999.0 -9999 -9999.0 -9999 -9999.0   \n",
       "2     NaN  2013-01-01 02:00 -9999.0 -9999.0 -9999 -9999.0 -9999 -9999.0   \n",
       "3     NaN  2013-01-01 03:00 -9999.0 -9999.0 -9999 -9999.0 -9999 -9999.0   \n",
       "4     NaN  2013-01-01 04:00 -9999.0 -9999.0 -9999 -9999.0 -9999 -9999.0   \n",
       "\n",
       "        7  \n",
       "0 -9999.0  \n",
       "1 -9999.0  \n",
       "2 -9999.0  \n",
       "3 -9999.0  \n",
       "4 -9999.0  "
      ]
     },
     "execution_count": 34,
     "metadata": {},
     "output_type": "execute_result"
    }
   ],
   "source": [
    "dfCi.head()"
   ]
  },
  {
   "cell_type": "code",
   "execution_count": 35,
   "metadata": {},
   "outputs": [],
   "source": [
    "# Rename date column \n",
    "dfCi.rename(columns={list(dfCi)[1]:'Datetime'}, inplace=True)\n",
    "dfCi[dfCi ==-9999]=np.nan"
   ]
  },
  {
   "cell_type": "code",
   "execution_count": 36,
   "metadata": {},
   "outputs": [],
   "source": [
    "dfCi['Datetime'] = pd.to_datetime(dfCi['Datetime'], dayfirst=True)\n",
    "dfCi['Datetime'] = dfCi['Datetime'].dt.strftime('%Y-%m-%d %H:%M')\n",
    "dfCi.index = dfCi.Datetime"
   ]
  },
  {
   "cell_type": "code",
   "execution_count": 37,
   "metadata": {},
   "outputs": [
    {
     "data": {
      "text/html": [
       "<div>\n",
       "<style scoped>\n",
       "    .dataframe tbody tr th:only-of-type {\n",
       "        vertical-align: middle;\n",
       "    }\n",
       "\n",
       "    .dataframe tbody tr th {\n",
       "        vertical-align: top;\n",
       "    }\n",
       "\n",
       "    .dataframe thead th {\n",
       "        text-align: right;\n",
       "    }\n",
       "</style>\n",
       "<table border=\"1\" class=\"dataframe\">\n",
       "  <thead>\n",
       "    <tr style=\"text-align: right;\">\n",
       "      <th></th>\n",
       "      <th>1</th>\n",
       "      <th>2</th>\n",
       "      <th>3</th>\n",
       "      <th>4</th>\n",
       "      <th>5</th>\n",
       "      <th>6</th>\n",
       "      <th>7</th>\n",
       "    </tr>\n",
       "    <tr>\n",
       "      <th>Datetime</th>\n",
       "      <th></th>\n",
       "      <th></th>\n",
       "      <th></th>\n",
       "      <th></th>\n",
       "      <th></th>\n",
       "      <th></th>\n",
       "      <th></th>\n",
       "    </tr>\n",
       "  </thead>\n",
       "  <tbody>\n",
       "    <tr>\n",
       "      <th>2013-01-01 00:00</th>\n",
       "      <td>NaN</td>\n",
       "      <td>NaN</td>\n",
       "      <td>NaN</td>\n",
       "      <td>NaN</td>\n",
       "      <td>NaN</td>\n",
       "      <td>NaN</td>\n",
       "      <td>NaN</td>\n",
       "    </tr>\n",
       "    <tr>\n",
       "      <th>2013-01-01 01:00</th>\n",
       "      <td>NaN</td>\n",
       "      <td>NaN</td>\n",
       "      <td>NaN</td>\n",
       "      <td>NaN</td>\n",
       "      <td>NaN</td>\n",
       "      <td>NaN</td>\n",
       "      <td>NaN</td>\n",
       "    </tr>\n",
       "    <tr>\n",
       "      <th>2013-01-01 02:00</th>\n",
       "      <td>NaN</td>\n",
       "      <td>NaN</td>\n",
       "      <td>NaN</td>\n",
       "      <td>NaN</td>\n",
       "      <td>NaN</td>\n",
       "      <td>NaN</td>\n",
       "      <td>NaN</td>\n",
       "    </tr>\n",
       "    <tr>\n",
       "      <th>2013-01-01 03:00</th>\n",
       "      <td>NaN</td>\n",
       "      <td>NaN</td>\n",
       "      <td>NaN</td>\n",
       "      <td>NaN</td>\n",
       "      <td>NaN</td>\n",
       "      <td>NaN</td>\n",
       "      <td>NaN</td>\n",
       "    </tr>\n",
       "    <tr>\n",
       "      <th>2013-01-01 04:00</th>\n",
       "      <td>NaN</td>\n",
       "      <td>NaN</td>\n",
       "      <td>NaN</td>\n",
       "      <td>NaN</td>\n",
       "      <td>NaN</td>\n",
       "      <td>NaN</td>\n",
       "      <td>NaN</td>\n",
       "    </tr>\n",
       "  </tbody>\n",
       "</table>\n",
       "</div>"
      ],
      "text/plain": [
       "                   1   2   3   4   5   6   7\n",
       "Datetime                                    \n",
       "2013-01-01 00:00 NaN NaN NaN NaN NaN NaN NaN\n",
       "2013-01-01 01:00 NaN NaN NaN NaN NaN NaN NaN\n",
       "2013-01-01 02:00 NaN NaN NaN NaN NaN NaN NaN\n",
       "2013-01-01 03:00 NaN NaN NaN NaN NaN NaN NaN\n",
       "2013-01-01 04:00 NaN NaN NaN NaN NaN NaN NaN"
      ]
     },
     "execution_count": 37,
     "metadata": {},
     "output_type": "execute_result"
    }
   ],
   "source": [
    "dfCi = dfCi.iloc[:,2:]\n",
    "dfCi.head()"
   ]
  },
  {
   "cell_type": "code",
   "execution_count": 38,
   "metadata": {},
   "outputs": [
    {
     "data": {
      "text/plain": [
       "0.4476496810243838"
      ]
     },
     "execution_count": 38,
     "metadata": {},
     "output_type": "execute_result"
    }
   ],
   "source": [
    "dfCiSingleStation = dfCi.iloc[:,6]\n",
    "dfCiSingleStation.mean()"
   ]
  },
  {
   "cell_type": "code",
   "execution_count": 39,
   "metadata": {},
   "outputs": [
    {
     "data": {
      "text/plain": [
       "<matplotlib.axes._subplots.AxesSubplot at 0x7ff8596e6cc0>"
      ]
     },
     "execution_count": 39,
     "metadata": {},
     "output_type": "execute_result"
    },
    {
     "data": {
      "image/png": "[encoded data removed]",
      "text/plain": [
       "<Figure size 432x288 with 1 Axes>"
      ]
     },
     "metadata": {},
     "output_type": "display_data"
    }
   ],
   "source": [
    "dfCiSingleStation.plot()"
   ]
  },
  {
   "cell_type": "code",
   "execution_count": 40,
   "metadata": {},
   "outputs": [
    {
     "data": {
      "text/plain": [
       "<matplotlib.axes._subplots.AxesSubplot at 0x7ff859371080>"
      ]
     },
     "execution_count": 40,
     "metadata": {},
     "output_type": "execute_result"
    },
    {
     "data": {
      "image/png": "[encoded data removed]",
      "text/plain": [
       "<Figure size 432x288 with 1 Axes>"
      ]
     },
     "metadata": {},
     "output_type": "display_data"
    }
   ],
   "source": [
    "dfCi.plot()"
   ]
  },
  {
   "cell_type": "markdown",
   "metadata": {},
   "source": [
    "# Shortwave raster"
   ]
  },
  {
   "cell_type": "code",
   "execution_count": 41,
   "metadata": {},
   "outputs": [],
   "source": [
    "import rasterio"
   ]
  },
  {
   "cell_type": "code",
   "execution_count": 42,
   "metadata": {},
   "outputs": [],
   "source": [
    "os.chdir(projFolder)\n",
    "dem100=rasterio.open('data/DemMeledrioLowResolution.asc')"
   ]
  },
  {
   "cell_type": "code",
   "execution_count": 43,
   "metadata": {},
   "outputs": [
    {
     "data": {
      "text/plain": [
       "array([[[-9999., -9999., -9999., ..., -9999., -9999., -9999.],\n",
       "        [-9999., -9999., -9999., ..., -9999., -9999., -9999.],\n",
       "        [-9999., -9999., -9999., ..., -9999., -9999., -9999.],\n",
       "        ...,\n",
       "        [-9999., -9999., -9999., ..., -9999., -9999., -9999.],\n",
       "        [-9999., -9999., -9999., ..., -9999., -9999., -9999.],\n",
       "        [-9999., -9999., -9999., ..., -9999., -9999., -9999.]]],\n",
       "      dtype=float32)"
      ]
     },
     "execution_count": 43,
     "metadata": {},
     "output_type": "execute_result"
    }
   ],
   "source": [
    "dem100.read()"
   ]
  },
  {
   "cell_type": "code",
   "execution_count": 44,
   "metadata": {},
   "outputs": [],
   "source": [
    "raster_path = 'data/DemMeledrioLowResolution.asc'\n",
    "with open(raster_path, 'r') as raster:\n",
    "    raster_header = raster.readlines()[:6]\n",
    "raster_header = [item.strip().split()[-1] for item in raster_header]\n",
    "raster_cols = int(raster_header[0])\n",
    "raster_rows = int(raster_header[1])\n",
    "raster_xll = float(raster_header[2])\n",
    "raster_yll = float(raster_header[3])\n",
    "raster_cs = float(raster_header[4])\n",
    "raster_nodata = float(raster_header[5])\n",
    "raster_array = np.loadtxt(raster_path, dtype=np.float, skiprows=6)\n",
    "raster_array[raster_array == raster_nodata] = np.nan"
   ]
  },
  {
   "cell_type": "code",
   "execution_count": 45,
   "metadata": {},
   "outputs": [
    {
     "data": {
      "image/png": "[encoded data removed]",
      "text/plain": [
       "<Figure size 720x432 with 2 Axes>"
      ]
     },
     "metadata": {},
     "output_type": "display_data"
    }
   ],
   "source": [
    "fig, ax = plt.subplots(figsize=(10,6))\n",
    "ax.set_title('DEM')\n",
    "raster_extent = [\n",
    "    raster_xll, raster_xll + raster_cols * raster_cs,\n",
    "    raster_yll, raster_yll + raster_rows * raster_cs]\n",
    "img_plot = ax.imshow(raster_array, extent=raster_extent, cmap='terrain')\n",
    "cbar = plt.colorbar(img_plot, orientation='vertical', shrink=0.5, aspect=14)\n",
    "cbar.set_label('Elevation [m]')\n",
    "plt.show()"
   ]
  },
  {
   "cell_type": "code",
   "execution_count": 47,
   "metadata": {},
   "outputs": [],
   "source": [
    "raster_path = 'output/Kriging/Mappa_TemperatureMean_20100430_1200.asc'\n",
    "with open(raster_path, 'r') as raster:\n",
    "    raster_header = raster.readlines()[:6]\n",
    "raster_header = [item.strip().split()[-1] for item in raster_header]\n",
    "raster_cols = int(raster_header[0])\n",
    "raster_rows = int(raster_header[1])\n",
    "raster_xll = float(raster_header[2])\n",
    "raster_yll = float(raster_header[3])\n",
    "raster_cs = float(raster_header[4])\n",
    "raster_nodata = float(raster_header[5])\n",
    "raster_array = np.loadtxt(raster_path, dtype=np.float, skiprows=6)\n",
    "raster_array[raster_array == raster_nodata] = np.nan"
   ]
  },
  {
   "cell_type": "code",
   "execution_count": 48,
   "metadata": {},
   "outputs": [
    {
     "data": {
      "image/png": "[encoded data removed]",
      "text/plain": [
       "<Figure size 720x432 with 2 Axes>"
      ]
     },
     "metadata": {},
     "output_type": "display_data"
    }
   ],
   "source": [
    "fig, ax = plt.subplots(figsize=(10,6))\n",
    "ax.set_title('Temperature')\n",
    "raster_extent = [\n",
    "    raster_xll, raster_xll + raster_cols * raster_cs,\n",
    "    raster_yll, raster_yll + raster_rows * raster_cs]\n",
    "img_plot = ax.imshow(raster_array, extent=raster_extent, cmap='gnuplot')\n",
    "cbar = plt.colorbar(img_plot, orientation='vertical', shrink=0.5, aspect=14)\n",
    "cbar.set_label('Temperaure')\n",
    "plt.show()"
   ]
  },
  {
   "cell_type": "code",
   "execution_count": 49,
   "metadata": {},
   "outputs": [],
   "source": [
    "os.chdir(projFolder)"
   ]
  },
  {
   "cell_type": "code",
   "execution_count": 50,
   "metadata": {},
   "outputs": [],
   "source": [
    "#!docker run --rm -it -v $(pwd):/work omslab/oms simulation/Radiation/ShortWave_Raster.sim"
   ]
  },
  {
   "cell_type": "code",
   "execution_count": 51,
   "metadata": {},
   "outputs": [],
   "source": [
    "raster_path = 'output/Radiation/ShortwaveDiffuseRaster.asc'\n",
    "with open(raster_path, 'r') as raster:\n",
    "    raster_header = raster.readlines()[:6]\n",
    "raster_header = [item.strip().split()[-1] for item in raster_header]\n",
    "raster_cols = int(raster_header[0])\n",
    "raster_rows = int(raster_header[1])\n",
    "raster_xll = float(raster_header[2])\n",
    "raster_yll = float(raster_header[3])\n",
    "raster_cs = float(raster_header[4])\n",
    "raster_nodata = float(raster_header[5])\n",
    "raster_array = np.loadtxt(raster_path, dtype=np.float, skiprows=6)\n",
    "raster_array[raster_array == raster_nodata] = np.nan"
   ]
  },
  {
   "cell_type": "code",
   "execution_count": 52,
   "metadata": {},
   "outputs": [
    {
     "data": {
      "image/png": "[encoded data removed]",
      "text/plain": [
       "<Figure size 720x720 with 2 Axes>"
      ]
     },
     "metadata": {},
     "output_type": "display_data"
    }
   ],
   "source": [
    "fig, ax = plt.subplots(figsize=(10,10))\n",
    "ax.set_title('Shortwave radiation factor')\n",
    "raster_extent = [\n",
    "    raster_xll, raster_xll + raster_cols * raster_cs,\n",
    "    raster_yll, raster_yll + raster_rows * raster_cs]\n",
    "img_plot = ax.imshow(raster_array, extent=raster_extent, cmap='gnuplot')\n",
    "cbar = plt.colorbar(img_plot, orientation='vertical', shrink=0.5, aspect=14)\n",
    "cbar.set_label('Radiation [W/m2]')\n",
    "plt.show()"
   ]
  },
  {
   "cell_type": "code",
   "execution_count": null,
   "metadata": {},
   "outputs": [],
   "source": []
  }
 ],
 "metadata": {
  "kernelspec": {
   "display_name": "Python 3",
   "language": "python",
   "name": "python3"
  },
  "language_info": {
   "codemirror_mode": {
    "name": "ipython",
    "version": 3
   },
   "file_extension": ".py",
   "mimetype": "text/x-python",
   "name": "python",
   "nbconvert_exporter": "python",
   "pygments_lexer": "ipython3",
   "version": "3.6.7"
  }
 },
 "nbformat": 4,
 "nbformat_minor": 2
}
