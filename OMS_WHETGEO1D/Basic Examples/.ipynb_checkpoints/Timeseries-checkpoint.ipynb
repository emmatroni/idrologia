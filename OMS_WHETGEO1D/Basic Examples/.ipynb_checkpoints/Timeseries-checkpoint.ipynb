{
 "cells": [
  {
   "cell_type": "markdown",
   "metadata": {},
   "source": [
    "# To prepare input files for boundary conditions: mainly for temperaure timeseries\n",
    "\n",
    "    - Author Niccolo` Tubini\n",
    "\n",
    "    - Licence Creative Commons 4.0"
   ]
  },
  {
   "cell_type": "code",
   "execution_count": 1,
   "metadata": {},
   "outputs": [],
   "source": [
    "%load_ext autoreload\n",
    "%autoreload 2\n",
    "\n",
    "\n",
    "from gf.io import gf_io\n",
    "import numpy as np\n",
    "import pandas as pd\n",
    "import matplotlib.pyplot as plt\n",
    "import os\n",
    "from plotly import graph_objs as go\n",
    "import calendar\n",
    "from plotly.offline import plot, iplot\n",
    "import plotly.graph_objs as go\n",
    "from random import gauss\n",
    "from random import uniform\n",
    "\n",
    "oms_project_path = os.path.dirname(os.getcwd())"
   ]
  },
  {
   "cell_type": "code",
   "execution_count": 2,
   "metadata": {},
   "outputs": [],
   "source": [
    "from datetime import datetime\n",
    "def write_OMS_timeseries(df, file_name, **kwargs):\n",
    "    '''\n",
    "    Save a timeseries dataframe to .csv file with OMS format\n",
    "   \n",
    "    :param df: dataframe containing the timeseries. Each column correspond to a station/centroid and the \n",
    "    the header contains the ID of the station/centroid.\n",
    "    :type df: pandas.dataframe\n",
    "   \n",
    "    :param file_name: output file name.\n",
    "    :type file_name: str\n",
    "    \n",
    "    :param \\**kwargs:\n",
    "    See below\n",
    "    \n",
    "    :Keyword Arguments\n",
    "        * *has_datetime* bool, default True\n",
    "             if the dataframe has a datetime column True, otherwise False\n",
    "            \n",
    "        * *start_date* str, '01-01-2020 00:00' \n",
    "            start date of the timeseries. 'mm-dd-yyyy hh:mm'\n",
    "            \n",
    "        * *frequency* str, default '1H'    \n",
    "            frequency of the timeseries. 'H': hourly, 'D': daily\n",
    "\n",
    "    @author: Niccolò Tubini\n",
    "    \n",
    "    Notes:\n",
    "    2021-01-09 changed pd.date_range with pd.period_range \n",
    "    https://stackoverflow.com/questions/50265288/how-to-work-around-python-pandas-dataframes-out-of-bounds-nanosecond-timestamp\n",
    "    '''\n",
    "    has_datetime = kwargs.get('has_datetime',True)\n",
    "    start_date = kwargs.get('start_date','01-01-2020 00:00')\n",
    "    frequency = kwargs.get('frequency','1H')\n",
    "\n",
    "    if has_datetime==True:\n",
    "        df.reset_index(inplace=True)\n",
    "#         df.iloc[0,:] = df.iloc[0,:].strftime('%Y-%m-%d %H:%M')\n",
    "        df = df.astype(str)\n",
    "    else:\n",
    "        date_rng = pd.period_range(start=start_date, periods=df.shape[0], freq=frequency).strftime('%Y-%m-%d %H:%M')\n",
    "        df_dates = pd.DataFrame(date_rng, columns=['date'])\n",
    "        df = pd.concat([df_dates, df],sort=False, axis=1)\n",
    "    \n",
    "    df.replace('nan','-9999',inplace = True)\n",
    "    df.replace('-9999.0','-9999',inplace = True)\n",
    "    \n",
    "    n_col = df.shape[1]\n",
    "    value = []\n",
    "    ID = []\n",
    "    double = []\n",
    "    commas = []\n",
    "    for i in range(1,n_col):\n",
    "        value.append(',value_'+str(df.columns[i]))\n",
    "        ID.append(','+str(df.columns[i]))\n",
    "        double.append(',double')\n",
    "        commas.append(',')\n",
    "   \n",
    "    line_4 = '@H,timestamp'+''.join(value) + '\\n'\n",
    "    line_5 = 'ID,'+''.join(ID) + '\\n'\n",
    "    line_6 = 'Type,Date' + ''.join(double) + '\\n'\n",
    "    line_7 = 'Format,yyyy-MM-dd HH:mm' + ''.join(commas) + '\\n'\n",
    "\n",
    "    date = datetime.today().strftime('%Y-%m-%d %H:%M')\n",
    "    df.insert(loc=0, column='-', value=np.nan)\n",
    "    with open(file_name,'w') as file:\n",
    "        file.write('@T,table\\nCreated,'+ date +'\\nAuthor,HortonMachine library\\n')\n",
    "        file.write(line_4)\n",
    "        file.write(line_5)\n",
    "        file.write(line_6)\n",
    "        file.write(line_7)\n",
    "    print(df.head())\n",
    "    df.to_csv(file_name, header=False, index=False, mode=\"a\", date_format='%Y-%m-%d %H:%M')\n",
    "    print ('\\n\\n***SUCCESS writing!  '+ file_name)"
   ]
  },
  {
   "cell_type": "code",
   "execution_count": 3,
   "metadata": {},
   "outputs": [],
   "source": [
    "dates_range = pd.period_range('0001-01-01 00:00', '9999-01-01', freq='1D')\n",
    "str_dates_range = pd.period_range('0001-01-01 00:00', '9999-01-01', freq='1D').strftime('%Y-%m-%d %H:%M')"
   ]
  },
  {
   "cell_type": "code",
   "execution_count": null,
   "metadata": {},
   "outputs": [],
   "source": []
  },
  {
   "cell_type": "code",
   "execution_count": 9,
   "metadata": {},
   "outputs": [],
   "source": [
    "n = len(dates_range)\n",
    "data = np.zeros(n)\n",
    "mean = 273.15-0.5\n",
    "#set the minimum value of time series m\n",
    "m=-15+mean\n",
    "#set the maximum value of time series M\n",
    "M=15+mean\n",
    "time = 0\n",
    "count = 0\n",
    "for i in range(0,n):\n",
    "    if calendar.isleap(dates_range[i].year) :\n",
    "        tmp = 366\n",
    "    else:\n",
    "        tmp = 365\n",
    "    \n",
    "    data[i] = (m+M)/2 + ((m+M)/2-m)*np.sin(2*np.pi/(tmp)*(count-tmp/4))#np.sin(2*np.pi/(tmp*24)*count)\n",
    "#     data[i] = 1#273.15+5\n",
    "    count +=1\n",
    "    if (count//(tmp*24))==1:\n",
    "#         print('azzera')\n",
    "        count = 0\n"
   ]
  },
  {
   "cell_type": "code",
   "execution_count": 10,
   "metadata": {},
   "outputs": [
    {
     "data": {
      "text/html": [
       "<div>\n",
       "<style scoped>\n",
       "    .dataframe tbody tr th:only-of-type {\n",
       "        vertical-align: middle;\n",
       "    }\n",
       "\n",
       "    .dataframe tbody tr th {\n",
       "        vertical-align: top;\n",
       "    }\n",
       "\n",
       "    .dataframe thead th {\n",
       "        text-align: right;\n",
       "    }\n",
       "</style>\n",
       "<table border=\"1\" class=\"dataframe\">\n",
       "  <thead>\n",
       "    <tr style=\"text-align: right;\">\n",
       "      <th></th>\n",
       "      <th>Datetime</th>\n",
       "    </tr>\n",
       "  </thead>\n",
       "  <tbody>\n",
       "    <tr>\n",
       "      <td>0</td>\n",
       "      <td>0001-01-01 00:00</td>\n",
       "    </tr>\n",
       "    <tr>\n",
       "      <td>1</td>\n",
       "      <td>0001-01-02 00:00</td>\n",
       "    </tr>\n",
       "    <tr>\n",
       "      <td>2</td>\n",
       "      <td>0001-01-03 00:00</td>\n",
       "    </tr>\n",
       "    <tr>\n",
       "      <td>3</td>\n",
       "      <td>0001-01-04 00:00</td>\n",
       "    </tr>\n",
       "    <tr>\n",
       "      <td>4</td>\n",
       "      <td>0001-01-05 00:00</td>\n",
       "    </tr>\n",
       "  </tbody>\n",
       "</table>\n",
       "</div>"
      ],
      "text/plain": [
       "           Datetime\n",
       "0  0001-01-01 00:00\n",
       "1  0001-01-02 00:00\n",
       "2  0001-01-03 00:00\n",
       "3  0001-01-04 00:00\n",
       "4  0001-01-05 00:00"
      ]
     },
     "execution_count": 10,
     "metadata": {},
     "output_type": "execute_result"
    }
   ],
   "source": [
    "df_tmp = pd.DataFrame(str_dates_range, columns=['Datetime'])\n",
    "df_tmp.head()"
   ]
  },
  {
   "cell_type": "code",
   "execution_count": 11,
   "metadata": {},
   "outputs": [
    {
     "data": {
      "text/html": [
       "<div>\n",
       "<style scoped>\n",
       "    .dataframe tbody tr th:only-of-type {\n",
       "        vertical-align: middle;\n",
       "    }\n",
       "\n",
       "    .dataframe tbody tr th {\n",
       "        vertical-align: top;\n",
       "    }\n",
       "\n",
       "    .dataframe thead th {\n",
       "        text-align: right;\n",
       "    }\n",
       "</style>\n",
       "<table border=\"1\" class=\"dataframe\">\n",
       "  <thead>\n",
       "    <tr style=\"text-align: right;\">\n",
       "      <th></th>\n",
       "      <th>Datetime</th>\n",
       "      <th>0</th>\n",
       "    </tr>\n",
       "  </thead>\n",
       "  <tbody>\n",
       "    <tr>\n",
       "      <td>0</td>\n",
       "      <td>0001-01-01 00:00</td>\n",
       "      <td>257.650000</td>\n",
       "    </tr>\n",
       "    <tr>\n",
       "      <td>1</td>\n",
       "      <td>0001-01-02 00:00</td>\n",
       "      <td>257.652222</td>\n",
       "    </tr>\n",
       "    <tr>\n",
       "      <td>2</td>\n",
       "      <td>0001-01-03 00:00</td>\n",
       "      <td>257.658889</td>\n",
       "    </tr>\n",
       "    <tr>\n",
       "      <td>3</td>\n",
       "      <td>0001-01-04 00:00</td>\n",
       "      <td>257.669998</td>\n",
       "    </tr>\n",
       "    <tr>\n",
       "      <td>4</td>\n",
       "      <td>0001-01-05 00:00</td>\n",
       "      <td>257.685545</td>\n",
       "    </tr>\n",
       "  </tbody>\n",
       "</table>\n",
       "</div>"
      ],
      "text/plain": [
       "           Datetime           0\n",
       "0  0001-01-01 00:00  257.650000\n",
       "1  0001-01-02 00:00  257.652222\n",
       "2  0001-01-03 00:00  257.658889\n",
       "3  0001-01-04 00:00  257.669998\n",
       "4  0001-01-05 00:00  257.685545"
      ]
     },
     "execution_count": 11,
     "metadata": {},
     "output_type": "execute_result"
    }
   ],
   "source": [
    "df_tmp['0'] = data\n",
    "# df_tmp.insert(loc=0, column='-', value=np.nan)\n",
    "# df_tmp.set_index('Datetime', inplace=True)\n",
    "df_tmp.head()"
   ]
  },
  {
   "cell_type": "code",
   "execution_count": 12,
   "metadata": {},
   "outputs": [
    {
     "data": {
      "text/html": [
       "<div>\n",
       "<style scoped>\n",
       "    .dataframe tbody tr th:only-of-type {\n",
       "        vertical-align: middle;\n",
       "    }\n",
       "\n",
       "    .dataframe tbody tr th {\n",
       "        vertical-align: top;\n",
       "    }\n",
       "\n",
       "    .dataframe thead th {\n",
       "        text-align: right;\n",
       "    }\n",
       "</style>\n",
       "<table border=\"1\" class=\"dataframe\">\n",
       "  <thead>\n",
       "    <tr style=\"text-align: right;\">\n",
       "      <th></th>\n",
       "      <th>Datetime</th>\n",
       "      <th>0</th>\n",
       "    </tr>\n",
       "  </thead>\n",
       "  <tbody>\n",
       "    <tr>\n",
       "      <td>3651690</td>\n",
       "      <td>9998-12-28 00:00</td>\n",
       "      <td>257.658889</td>\n",
       "    </tr>\n",
       "    <tr>\n",
       "      <td>3651691</td>\n",
       "      <td>9998-12-29 00:00</td>\n",
       "      <td>257.652222</td>\n",
       "    </tr>\n",
       "    <tr>\n",
       "      <td>3651692</td>\n",
       "      <td>9998-12-30 00:00</td>\n",
       "      <td>257.650000</td>\n",
       "    </tr>\n",
       "    <tr>\n",
       "      <td>3651693</td>\n",
       "      <td>9998-12-31 00:00</td>\n",
       "      <td>257.652222</td>\n",
       "    </tr>\n",
       "    <tr>\n",
       "      <td>3651694</td>\n",
       "      <td>9999-01-01 00:00</td>\n",
       "      <td>257.658889</td>\n",
       "    </tr>\n",
       "  </tbody>\n",
       "</table>\n",
       "</div>"
      ],
      "text/plain": [
       "                 Datetime           0\n",
       "3651690  9998-12-28 00:00  257.658889\n",
       "3651691  9998-12-29 00:00  257.652222\n",
       "3651692  9998-12-30 00:00  257.650000\n",
       "3651693  9998-12-31 00:00  257.652222\n",
       "3651694  9999-01-01 00:00  257.658889"
      ]
     },
     "execution_count": 12,
     "metadata": {},
     "output_type": "execute_result"
    }
   ],
   "source": [
    "df_tmp.tail()"
   ]
  },
  {
   "cell_type": "code",
   "execution_count": 13,
   "metadata": {},
   "outputs": [
    {
     "name": "stdout",
     "output_type": "stream",
     "text": [
      "    -              date           0\n",
      "0 NaN  0001-01-01 00:00  257.650000\n",
      "1 NaN  0001-01-02 00:00  257.652222\n",
      "2 NaN  0001-01-03 00:00  257.658889\n",
      "3 NaN  0001-01-04 00:00  257.669998\n",
      "4 NaN  0001-01-05 00:00  257.685545\n",
      "\n",
      "\n",
      "***SUCCESS writing!  C:\\Users\\Niccolo\\OMS\\OMS_EI/data/Timeseries/Daily_T_mean_minus05_pm15_9999y.csv\n"
     ]
    }
   ],
   "source": [
    "write_OMS_timeseries(df_tmp.iloc[:,1:], oms_project_path + '/data/Timeseries/Daily_T_mean_minus05_pm15_9999y.csv', has_datetime=False, start_date='01-01-0001 00:00', frequency='1D' )"
   ]
  },
  {
   "cell_type": "code",
   "execution_count": null,
   "metadata": {},
   "outputs": [],
   "source": []
  },
  {
   "cell_type": "code",
   "execution_count": null,
   "metadata": {},
   "outputs": [],
   "source": []
  },
  {
   "cell_type": "code",
   "execution_count": null,
   "metadata": {},
   "outputs": [],
   "source": []
  },
  {
   "cell_type": "code",
   "execution_count": null,
   "metadata": {},
   "outputs": [],
   "source": []
  },
  {
   "cell_type": "code",
   "execution_count": null,
   "metadata": {},
   "outputs": [],
   "source": []
  }
 ],
 "metadata": {
  "kernelspec": {
   "display_name": "Python 3",
   "language": "python",
   "name": "python3"
  },
  "language_info": {
   "codemirror_mode": {
    "name": "ipython",
    "version": 3
   },
   "file_extension": ".py",
   "mimetype": "text/x-python",
   "name": "python",
   "nbconvert_exporter": "python",
   "pygments_lexer": "ipython3",
   "version": "3.7.7"
  }
 },
 "nbformat": 4,
 "nbformat_minor": 4
}
