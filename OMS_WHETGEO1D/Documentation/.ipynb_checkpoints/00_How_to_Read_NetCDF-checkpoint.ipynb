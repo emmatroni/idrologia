{
 "cells": [
  {
   "cell_type": "markdown",
   "metadata": {},
   "source": [
    "# Read a netCDF file with xarray library\n",
    "---\n",
    "**Documentation Author:** [Niccolò Tubini](https://www.researchgate.net/profile/Niccolo_Tubini2), [Riccardo Rigon](https://scholar.google.it/citations?user=OB1jx0IAAAAJ&hl=it)\n",
    "\n",
    "**To whom address questions:** \n",
    " - [Niccolò Tubini](https://www.researchgate.net/profile/Niccolo_Tubini2) \n",
    " - [GEOframe Users Group](https://groups.google.com/forum/#!forum/geoframe-components-users)\n",
    " - [GEOframe Developers Mailing List](https://groups.google.com/forum/#!forum/geoframe-components-developers)\n",
    " \n",
    "**Version:** 0.98\n",
    "\n",
    "**Keywords:** OMS3, netCDF, xarray\n",
    "\n",
    "**License:** [GPL3 v3](https://www.gnu.org/licenses/gpl-3.0.en.html)\n",
    "\n",
    "## Table of Contents\n",
    "\n",
    "* [NetCDF](#netcdf)\n",
    "\n",
    "* [An example](#example)\n",
    "    * [Read a netCDF file](#read)\n",
    "    * [Dataset properties](#properties)\n",
    "    * [Indexing](#indexing)\n",
    "        * [numpy-like `[]`](#numpy_like)\n",
    "        * [pandas-like `loc`](#pandas_like)\n",
    "        * [`isel`](#isel)\n",
    "        * [`sel`](#sel)\n",
    "        * [More on indexing and selecting data](#more_indexing)\n",
    "    * [Plotting](#plotting)\n",
    "    * [Operation on data](#operation)\n",
    "        * [Mean, max, min](#mean)\n",
    "        * [Extract data](#extract)"
   ]
  },
  {
   "cell_type": "markdown",
   "metadata": {},
   "source": [
    "# NetCDF - Network Common Data Format <a class=\"anchor\" id=\"necdf\"></a>\n",
    "From: https://www.unidata.ucar.edu/software/netcdf/docs/netcdf_data_set_components.html\n",
    "\n",
    "_A netCDF dataset contains **dimensions**, **variables**, and **attributes**, which all have both a name and an ID number by which they are identified. These components can be used together to capture the meaning of data and relations among data fields in an array-oriented dataset. The netCDF library allows simultaneous access to multiple netCDF datasets which are identified by dataset ID numbers, in addition to ordinary file names._\n",
    "\n",
    "- **Dimensions**\n",
    "_A dimension may be used to represent a real physical dimension, for example, time, latitude, longitude, or height. A dimension might also be used to index other quantities, for example station or model-run-number. A netCDF dimension has both a name and a length._\n",
    "\n",
    "    In the following image there are two spatial dimensions (latitude and longitude) and time. In our case we have just one spatial dimension (depth) and time.\n",
    "\n",
    "- **Variables**\n",
    "_Variables are used to store the bulk of the data in a netCDF dataset. A variable represents an array of values of the same type. A scalar value is treated as a 0-dimensional array. A variable has a name, a data type, and a shape described by its list of dimensions specified when the variable is created. A variable may also have associated attributes, which may be added, deleted or changed after the variable is created.\n",
    "A position along a dimension can be specified using an index. This is an integer with a minimum value of 0 for Python_\n",
    "\n",
    "- **Attributes**\n",
    "_NetCDF attributes are used to store data about the data (ancillary data or metadata), similar in many ways to the information stored in data dictionaries and schema in conventional database systems. Most attributes provide information about a specific variable. These are identified by the name (or ID) of that variable, together with the name of the attribute.\n",
    "    Some attributes provide information about the dataset as a whole and are called global attributes. These are identified by the attribute name together with a blank variable name (in CDL) or a special null \"global variable\" ID (in C or Fortran)._\n",
    "    \n",
    "<figure>\n",
    "    <img src=\"Figures/netcdf-file-structure.png\" width=\"800\" height=\"800/1.618\">\n",
    "    <figcaption>Fig.1 - Structure of a netCDF file  https://simulatingcomplexity.wordpress.com/tag/big-data/ </figcaption>\n",
    "<figure>\n",
    "    \n",
    "    \n",
    "    \n",
    "A usefull library to read netCDF file is [xarray]('http://xarray.pydata.org/en/stable/'). [Here]('https://xarray-contrib.github.io/xarray-tutorial/') you can find some useful tutorials. "
   ]
  },
  {
   "cell_type": "markdown",
   "metadata": {},
   "source": [
    "# An example <a class=\"anchor\" id=\"example\"></a>\n",
    "\n",
    "Here we show how to read a netCDF file (.nc) and to plot data.\n",
    "The file we use is `\\output\\Sim_DunnianRunOff_0000.nc`."
   ]
  },
  {
   "cell_type": "markdown",
   "metadata": {},
   "source": [
    "## Read the .nc file <a class=\"anchor\" id=\"read\"></a>\n",
    "`xarray.open_dataset()`"
   ]
  },
  {
   "cell_type": "code",
   "execution_count": 2,
   "metadata": {},
   "outputs": [],
   "source": [
    "import os\n",
    "import xarray as xr\n",
    "\n",
    "oms_project_path = os.path.dirname(os.getcwd())\n",
    "ds = xr.open_dataset(oms_project_path+\"\\output\\ex00_0000.nc\")"
   ]
  },
  {
   "cell_type": "markdown",
   "metadata": {},
   "source": [
    "## Dataset properties <a class=\"anchor\" id=\"properties\"></a>\n",
    "\n",
    "`xarray.Dataset.keys()` returns:\n",
    "- the dimensions\n",
    "- the coordinates\n",
    "- the name of variables and their own coordinates\n",
    "- attributes of the file, its metadata."
   ]
  },
  {
   "cell_type": "code",
   "execution_count": 127,
   "metadata": {},
   "outputs": [
    {
     "data": {
      "text/plain": [
       "KeysView(<xarray.Dataset>\n",
       "Dimensions:        (depth: 601, dualDepth: 601, time: 865)\n",
       "Coordinates:\n",
       "  * depth          (depth) float64 -2.998 -2.993 -2.988 ... -0.0075 -0.0025 0.0\n",
       "  * dualDepth      (dualDepth) float64 -3.0 -2.995 -2.99 ... -0.01 -0.005 0.0\n",
       "  * time           (time) datetime64[ns] 2017-01-01 ... 2017-01-04\n",
       "Data variables:\n",
       "    psi            (time, depth) float64 ...\n",
       "    psiIC          (depth) float64 ...\n",
       "    T              (depth) float64 ...\n",
       "    theta          (time, depth) float64 ...\n",
       "    darcyVelocity  (time, dualDepth) float64 ...\n",
       "    waterVolume    (time, depth) float64 ...\n",
       "    error          (time) float64 ...\n",
       "    topBC          (time) float64 ...\n",
       "    bottomBC       (time) float64 ...\n",
       "    runOff         (time) float64 ...\n",
       "    controlVolume  (depth) float64 ...\n",
       "Attributes:\n",
       "    Description_of_the_problem:         Dunnian runoff test case\n",
       "    Top_boundary_condition:             Top coupled\n",
       "    Bottom_boundary_condition:          Dirichlet\n",
       "    path_top_boundary_condition:        C:\\Users\\Niccolo\\OMS\\OMS_Project_WHET...\n",
       "    path_bottom_boundary_condition:     C:\\Users\\Niccolo\\OMS\\OMS_Project_WHET...\n",
       "    path_grid:                          C:\\Users\\Niccolo\\OMS\\OMS_Project_WHET...\n",
       "    time_delta:                          \n",
       "    swrc_model:                         Van Genuchten\n",
       "    soil_hydraulic_conductivity_model:  Mualem Van Genuchten\n",
       "    interface_conductivity_model:       max)"
      ]
     },
     "execution_count": 127,
     "metadata": {},
     "output_type": "execute_result"
    }
   ],
   "source": [
    "ds.keys()"
   ]
  },
  {
   "cell_type": "markdown",
   "metadata": {},
   "source": [
    "## Indexing <a class=\"anchor\" id=\"indexing\"></a>\n",
    "xarray supports four kinds of indexing:\n"
   ]
  },
  {
   "cell_type": "markdown",
   "metadata": {},
   "source": [
    "### numpy-like `[]` <a class=\"anchor\" id=\"numpy_like\"></a>\n",
    "the variable `psi` has two coordinates, specifically `time` and `depth`. The first index refers to the `time` coordinate, the second index to the `depth` coordinate. In the following we select the first time coordinate and all the depth coordinates."
   ]
  },
  {
   "cell_type": "code",
   "execution_count": 128,
   "metadata": {},
   "outputs": [
    {
     "data": {
      "text/plain": [
       "<xarray.DataArray 'psi' (depth: 601)>\n",
       "array([-2.0025  , -2.0075  , -2.0125  , ..., -4.9925  , -4.997499, -4.999999])\n",
       "Coordinates:\n",
       "  * depth    (depth) float64 -2.998 -2.993 -2.988 -2.982 ... -0.0075 -0.0025 0.0\n",
       "    time     datetime64[ns] 2017-01-01\n",
       "Attributes:\n",
       "    units:      m\n",
       "    long_name:  Water suction."
      ]
     },
     "execution_count": 128,
     "metadata": {},
     "output_type": "execute_result"
    }
   ],
   "source": [
    "ds.psi[0,:]"
   ]
  },
  {
   "cell_type": "markdown",
   "metadata": {},
   "source": [
    "In the following we select the first depth coordinate step and all the time coordinates."
   ]
  },
  {
   "cell_type": "code",
   "execution_count": 129,
   "metadata": {},
   "outputs": [
    {
     "data": {
      "text/plain": [
       "<xarray.DataArray 'psi' (time: 865)>\n",
       "array([-2.0025  , -2.0025  , -2.0025  , ..., -1.807998, -1.807961, -1.807928])\n",
       "Coordinates:\n",
       "    depth    float64 -2.998\n",
       "  * time     (time) datetime64[ns] 2017-01-01 2017-01-01T00:05:00 ... 2017-01-04\n",
       "Attributes:\n",
       "    units:      m\n",
       "    long_name:  Water suction."
      ]
     },
     "execution_count": 129,
     "metadata": {},
     "output_type": "execute_result"
    }
   ],
   "source": [
    "ds.psi[:,0]"
   ]
  },
  {
   "cell_type": "markdown",
   "metadata": {},
   "source": [
    "### pandas-like `loc` <a class=\"anchor\" id=\"pandas_like\"></a>"
   ]
  },
  {
   "cell_type": "code",
   "execution_count": 130,
   "metadata": {},
   "outputs": [
    {
     "data": {
      "text/plain": [
       "<xarray.DataArray 'psi' (depth: 601)>\n",
       "array([-2.0025  , -2.0075  , -2.0125  , ..., -4.9925  , -4.997499, -4.999999])\n",
       "Coordinates:\n",
       "  * depth    (depth) float64 -2.998 -2.993 -2.988 -2.982 ... -0.0075 -0.0025 0.0\n",
       "    time     datetime64[ns] 2017-01-01\n",
       "Attributes:\n",
       "    units:      m\n",
       "    long_name:  Water suction."
      ]
     },
     "execution_count": 130,
     "metadata": {},
     "output_type": "execute_result"
    }
   ],
   "source": [
    "ds.psi.loc['2017-01-01 00:00',:]"
   ]
  },
  {
   "cell_type": "markdown",
   "metadata": {},
   "source": [
    "### `isel` <a class=\"anchor\" id=\"isel\"></a>\n",
    "by dimension name and integer label"
   ]
  },
  {
   "cell_type": "code",
   "execution_count": 131,
   "metadata": {},
   "outputs": [
    {
     "data": {
      "text/plain": [
       "<xarray.DataArray 'psi' (depth: 601)>\n",
       "array([-2.0025  , -2.0075  , -2.0125  , ..., -4.9925  , -4.997499, -4.999999])\n",
       "Coordinates:\n",
       "  * depth    (depth) float64 -2.998 -2.993 -2.988 -2.982 ... -0.0075 -0.0025 0.0\n",
       "    time     datetime64[ns] 2017-01-01\n",
       "Attributes:\n",
       "    units:      m\n",
       "    long_name:  Water suction."
      ]
     },
     "execution_count": 131,
     "metadata": {},
     "output_type": "execute_result"
    }
   ],
   "source": [
    "ds.psi.isel(time=0)"
   ]
  },
  {
   "cell_type": "markdown",
   "metadata": {},
   "source": [
    "### `sel` <a class=\"anchor\" id=\"sel\"></a>\n",
    "by dimension name and coordinate label"
   ]
  },
  {
   "cell_type": "code",
   "execution_count": 132,
   "metadata": {},
   "outputs": [
    {
     "data": {
      "text/plain": [
       "<xarray.DataArray 'psi' (depth: 601)>\n",
       "array([-2.0025  , -2.0075  , -2.0125  , ..., -4.9925  , -4.997499, -4.999999])\n",
       "Coordinates:\n",
       "  * depth    (depth) float64 -2.998 -2.993 -2.988 -2.982 ... -0.0075 -0.0025 0.0\n",
       "    time     datetime64[ns] 2017-01-01\n",
       "Attributes:\n",
       "    units:      m\n",
       "    long_name:  Water suction."
      ]
     },
     "execution_count": 132,
     "metadata": {},
     "output_type": "execute_result"
    }
   ],
   "source": [
    "ds.psi.sel(time='2017-01-01 00:00')"
   ]
  },
  {
   "cell_type": "markdown",
   "metadata": {},
   "source": [
    "### More on indexing and selecting data <a class=\"anchor\" id=\"more_indexing\"></a>\n",
    "\n",
    "http://xarray.pydata.org/en/stable/indexing.html#indexing"
   ]
  },
  {
   "cell_type": "markdown",
   "metadata": {},
   "source": [
    "## Plotting <a class=\"anchor\" id=\"plotting\"></a>\n",
    "\n",
    "`psi` is a variable of the Dataset and it has two coordinates: `time` and `depth`.\n",
    "To get more info about the `psi` variable we can run `ds.psi`."
   ]
  },
  {
   "cell_type": "code",
   "execution_count": 133,
   "metadata": {},
   "outputs": [
    {
     "data": {
      "text/plain": [
       "<xarray.DataArray 'psi' (time: 865, depth: 601)>\n",
       "[519865 values with dtype=float64]\n",
       "Coordinates:\n",
       "  * depth    (depth) float64 -2.998 -2.993 -2.988 -2.982 ... -0.0075 -0.0025 0.0\n",
       "  * time     (time) datetime64[ns] 2017-01-01 2017-01-01T00:05:00 ... 2017-01-04\n",
       "Attributes:\n",
       "    units:      m\n",
       "    long_name:  Water suction."
      ]
     },
     "execution_count": 133,
     "metadata": {},
     "output_type": "execute_result"
    }
   ],
   "source": [
    "ds.psi"
   ]
  },
  {
   "cell_type": "code",
   "execution_count": 134,
   "metadata": {},
   "outputs": [
    {
     "data": {
      "text/plain": [
       "<matplotlib.collections.QuadMesh at 0x224c250dd48>"
      ]
     },
     "execution_count": 134,
     "metadata": {},
     "output_type": "execute_result"
    },
    {
     "data": {
      "image/png": "[encoded data removed]",
      "text/plain": [
       "<Figure size 432x288 with 2 Axes>"
      ]
     },
     "metadata": {
      "needs_background": "light"
     },
     "output_type": "display_data"
    }
   ],
   "source": [
    "ds.psi.plot(y='depth', cmap='Blues')"
   ]
  },
  {
   "cell_type": "markdown",
   "metadata": {},
   "source": [
    "To plot the vertical profile at a specific date\n",
    "\n",
    "`ds.variable.sel(time='yyyy-mm-dd hh:mm').plot()`"
   ]
  },
  {
   "cell_type": "code",
   "execution_count": 135,
   "metadata": {},
   "outputs": [
    {
     "data": {
      "text/plain": [
       "[<matplotlib.lines.Line2D at 0x224c2588948>]"
      ]
     },
     "execution_count": 135,
     "metadata": {},
     "output_type": "execute_result"
    },
    {
     "data": {
      "image/png": "[encoded data removed]",
      "text/plain": [
       "<Figure size 432x288 with 1 Axes>"
      ]
     },
     "metadata": {
      "needs_background": "light"
     },
     "output_type": "display_data"
    }
   ],
   "source": [
    "ds.psi.sel(time='2017-01-02 12:00').plot(y='depth', color='blue')"
   ]
  },
  {
   "cell_type": "markdown",
   "metadata": {},
   "source": [
    "To plot the timeseries at a specific depth\n",
    "\n",
    "`ds.variable.sel(depth=value, method='nearest').plot()`"
   ]
  },
  {
   "cell_type": "code",
   "execution_count": 136,
   "metadata": {},
   "outputs": [
    {
     "data": {
      "text/plain": [
       "[<matplotlib.lines.Line2D at 0x224c26182c8>]"
      ]
     },
     "execution_count": 136,
     "metadata": {},
     "output_type": "execute_result"
    },
    {
     "data": {
      "image/png": "[encoded data removed]",
      "text/plain": [
       "<Figure size 432x288 with 1 Axes>"
      ]
     },
     "metadata": {
      "needs_background": "light"
     },
     "output_type": "display_data"
    }
   ],
   "source": [
    "ds.psi.sel(depth=-0.3, method='nearest').plot( color='blue')"
   ]
  },
  {
   "cell_type": "markdown",
   "metadata": {},
   "source": [
    "It is also possible to slice on both the coordinates\n",
    "\n",
    "`ds.variable.sel(depth=value, method='nearest').sel(time=slice('yyyy-mm-dd hh:mm','yyyy-mm-dd hh:mm')).plot()`"
   ]
  },
  {
   "cell_type": "code",
   "execution_count": 137,
   "metadata": {},
   "outputs": [
    {
     "data": {
      "text/plain": [
       "[<matplotlib.lines.Line2D at 0x224c267b808>]"
      ]
     },
     "execution_count": 137,
     "metadata": {},
     "output_type": "execute_result"
    },
    {
     "data": {
      "image/png": "[encoded data removed]",
      "text/plain": [
       "<Figure size 432x288 with 1 Axes>"
      ]
     },
     "metadata": {
      "needs_background": "light"
     },
     "output_type": "display_data"
    }
   ],
   "source": [
    "ds.psi.sel(depth=-0.3, method='nearest').sel(time=slice('2017-01-01 12:00','2017-01-03 12:00')).plot( color='blue')"
   ]
  },
  {
   "cell_type": "markdown",
   "metadata": {},
   "source": [
    "## Operation on data <a class=\"anchor\" id=\"operation\"></a>"
   ]
  },
  {
   "cell_type": "markdown",
   "metadata": {},
   "source": [
    "Convert `psi` from [m] to [cm] and store the result in a new varibale of the dataset `psi_cm`"
   ]
  },
  {
   "cell_type": "code",
   "execution_count": 138,
   "metadata": {},
   "outputs": [],
   "source": [
    "ds['psi_cm']=ds.psi*100"
   ]
  },
  {
   "cell_type": "code",
   "execution_count": 139,
   "metadata": {},
   "outputs": [
    {
     "data": {
      "text/plain": [
       "<xarray.DataArray 'psi_cm' (time: 865, depth: 601)>\n",
       "array([[-200.25    , -200.75    , -201.25    , ..., -499.25    , -499.749942,\n",
       "        -499.999942],\n",
       "       [-200.25    , -200.75    , -201.25    , ..., -499.25    , -499.749884,\n",
       "        -499.999884],\n",
       "       [-200.25    , -200.75    , -201.25    , ..., -499.25    , -499.749826,\n",
       "        -499.999826],\n",
       "       ...,\n",
       "       [-180.799793, -155.781485, -135.820906, ...,  -29.693439,  -30.181409,\n",
       "         -30.431409],\n",
       "       [-180.796066, -155.774945, -135.813038, ...,  -29.700865,  -30.188856,\n",
       "         -30.438856],\n",
       "       [-180.792801, -155.76924 , -135.806221, ...,  -29.708274,  -30.196285,\n",
       "         -30.446285]])\n",
       "Coordinates:\n",
       "  * depth    (depth) float64 -2.998 -2.993 -2.988 -2.982 ... -0.0075 -0.0025 0.0\n",
       "  * time     (time) datetime64[ns] 2017-01-01 2017-01-01T00:05:00 ... 2017-01-04"
      ]
     },
     "execution_count": 139,
     "metadata": {},
     "output_type": "execute_result"
    }
   ],
   "source": [
    "ds.psi_cm"
   ]
  },
  {
   "cell_type": "markdown",
   "metadata": {},
   "source": [
    "Specify `units` and `long_name` for the variable `psi_cm`"
   ]
  },
  {
   "cell_type": "code",
   "execution_count": 140,
   "metadata": {},
   "outputs": [
    {
     "data": {
      "text/plain": [
       "<xarray.DataArray 'psi_cm' (time: 865, depth: 601)>\n",
       "array([[-200.25    , -200.75    , -201.25    , ..., -499.25    , -499.749942,\n",
       "        -499.999942],\n",
       "       [-200.25    , -200.75    , -201.25    , ..., -499.25    , -499.749884,\n",
       "        -499.999884],\n",
       "       [-200.25    , -200.75    , -201.25    , ..., -499.25    , -499.749826,\n",
       "        -499.999826],\n",
       "       ...,\n",
       "       [-180.799793, -155.781485, -135.820906, ...,  -29.693439,  -30.181409,\n",
       "         -30.431409],\n",
       "       [-180.796066, -155.774945, -135.813038, ...,  -29.700865,  -30.188856,\n",
       "         -30.438856],\n",
       "       [-180.792801, -155.76924 , -135.806221, ...,  -29.708274,  -30.196285,\n",
       "         -30.446285]])\n",
       "Coordinates:\n",
       "  * depth    (depth) float64 -2.998 -2.993 -2.988 -2.982 ... -0.0075 -0.0025 0.0\n",
       "  * time     (time) datetime64[ns] 2017-01-01 2017-01-01T00:05:00 ... 2017-01-04\n",
       "Attributes:\n",
       "    units:      cm\n",
       "    long_name:  Water suction"
      ]
     },
     "execution_count": 140,
     "metadata": {},
     "output_type": "execute_result"
    }
   ],
   "source": [
    "ds.psi_cm.attrs[\"units\"] = \"cm\"\n",
    "ds.psi_cm.attrs['long_name'] = 'Water suction'\n",
    "\n",
    "ds.psi_cm"
   ]
  },
  {
   "cell_type": "markdown",
   "metadata": {},
   "source": [
    "### Mean, max, min <a class=\"anchor\" id=\"mean\"></a>"
   ]
  },
  {
   "cell_type": "code",
   "execution_count": 141,
   "metadata": {},
   "outputs": [
    {
     "data": {
      "text/plain": [
       "<xarray.DataArray 'psi' ()>\n",
       "array(0.487389)"
      ]
     },
     "execution_count": 141,
     "metadata": {},
     "output_type": "execute_result"
    }
   ],
   "source": [
    "ds.psi.max()"
   ]
  },
  {
   "cell_type": "code",
   "execution_count": 142,
   "metadata": {},
   "outputs": [
    {
     "data": {
      "text/plain": [
       "<xarray.DataArray 'psi' ()>\n",
       "array(-4.999999)"
      ]
     },
     "execution_count": 142,
     "metadata": {},
     "output_type": "execute_result"
    }
   ],
   "source": [
    "ds.psi.min()"
   ]
  },
  {
   "cell_type": "code",
   "execution_count": 143,
   "metadata": {},
   "outputs": [
    {
     "data": {
      "text/plain": [
       "<xarray.DataArray 'psi' (time: 865)>\n",
       "array([-3.502496, -3.502496, -3.502496, ..., -0.061863, -0.061913, -0.061963])\n",
       "Coordinates:\n",
       "  * time     (time) datetime64[ns] 2017-01-01 2017-01-01T00:05:00 ... 2017-01-04"
      ]
     },
     "execution_count": 143,
     "metadata": {},
     "output_type": "execute_result"
    }
   ],
   "source": [
    "ds.psi.mean('depth')"
   ]
  },
  {
   "cell_type": "markdown",
   "metadata": {},
   "source": [
    "### Extract data <a class=\"anchor\" id=\"extract\"></a>"
   ]
  },
  {
   "cell_type": "code",
   "execution_count": 144,
   "metadata": {},
   "outputs": [
    {
     "name": "stdout",
     "output_type": "stream",
     "text": [
      "<class 'numpy.ndarray'>\n",
      "[-2.0025     -2.0075     -2.0125     -2.0175     -2.0225     -2.0275\n",
      " -2.0325     -2.0375     -2.0425     -2.0475     -2.0525     -2.0575\n",
      " -2.0625     -2.0675     -2.0725     -2.0775     -2.0825     -2.0875\n",
      " -2.0925     -2.0975     -2.1025     -2.1075     -2.1125     -2.1175\n",
      " -2.1225     -2.1275     -2.1325     -2.1375     -2.1425     -2.1475\n",
      " -2.1525     -2.1575     -2.1625     -2.1675     -2.1725     -2.1775\n",
      " -2.1825     -2.1875     -2.1925     -2.1975     -2.2025     -2.2075\n",
      " -2.2125     -2.2175     -2.2225     -2.2275     -2.2325     -2.2375\n",
      " -2.2425     -2.2475     -2.2525     -2.2575     -2.2625     -2.2675\n",
      " -2.2725     -2.2775     -2.2825     -2.2875     -2.2925     -2.2975\n",
      " -2.3025     -2.3075     -2.3125     -2.3175     -2.3225     -2.3275\n",
      " -2.3325     -2.3375     -2.3425     -2.3475     -2.3525     -2.3575\n",
      " -2.3625     -2.3675     -2.3725     -2.3775     -2.3825     -2.3875\n",
      " -2.3925     -2.3975     -2.4025     -2.4075     -2.4125     -2.4175\n",
      " -2.4225     -2.4275     -2.4325     -2.4375     -2.4425     -2.4475\n",
      " -2.4525     -2.4575     -2.4625     -2.4675     -2.4725     -2.4775\n",
      " -2.4825     -2.4875     -2.4925     -2.4975     -2.5025     -2.5075\n",
      " -2.5125     -2.5175     -2.5225     -2.5275     -2.5325     -2.5375\n",
      " -2.5425     -2.5475     -2.5525     -2.5575     -2.5625     -2.5675\n",
      " -2.5725     -2.5775     -2.5825     -2.5875     -2.5925     -2.5975\n",
      " -2.6025     -2.6075     -2.6125     -2.6175     -2.6225     -2.6275\n",
      " -2.6325     -2.6375     -2.6425     -2.6475     -2.6525     -2.6575\n",
      " -2.6625     -2.6675     -2.6725     -2.6775     -2.6825     -2.6875\n",
      " -2.6925     -2.6975     -2.7025     -2.7075     -2.7125     -2.7175\n",
      " -2.7225     -2.7275     -2.7325     -2.7375     -2.7425     -2.7475\n",
      " -2.7525     -2.7575     -2.7625     -2.7675     -2.7725     -2.7775\n",
      " -2.7825     -2.7875     -2.7925     -2.7975     -2.8025     -2.8075\n",
      " -2.8125     -2.8175     -2.8225     -2.8275     -2.8325     -2.8375\n",
      " -2.8425     -2.8475     -2.8525     -2.8575     -2.8625     -2.8675\n",
      " -2.8725     -2.8775     -2.8825     -2.8875     -2.8925     -2.8975\n",
      " -2.9025     -2.9075     -2.9125     -2.9175     -2.9225     -2.9275\n",
      " -2.9325     -2.9375     -2.9425     -2.9475     -2.9525     -2.9575\n",
      " -2.9625     -2.9675     -2.9725     -2.9775     -2.9825     -2.9875\n",
      " -2.9925     -2.9975     -3.0025     -3.0075     -3.0125     -3.0175\n",
      " -3.0225     -3.0275     -3.0325     -3.0375     -3.0425     -3.0475\n",
      " -3.0525     -3.0575     -3.0625     -3.0675     -3.0725     -3.0775\n",
      " -3.0825     -3.0875     -3.0925     -3.0975     -3.1025     -3.1075\n",
      " -3.1125     -3.1175     -3.1225     -3.1275     -3.1325     -3.1375\n",
      " -3.1425     -3.1475     -3.1525     -3.1575     -3.1625     -3.1675\n",
      " -3.1725     -3.1775     -3.1825     -3.1875     -3.1925     -3.1975\n",
      " -3.2025     -3.2075     -3.2125     -3.2175     -3.2225     -3.2275\n",
      " -3.2325     -3.2375     -3.2425     -3.2475     -3.2525     -3.2575\n",
      " -3.2625     -3.2675     -3.2725     -3.2775     -3.2825     -3.2875\n",
      " -3.2925     -3.2975     -3.3025     -3.3075     -3.3125     -3.3175\n",
      " -3.3225     -3.3275     -3.3325     -3.3375     -3.3425     -3.3475\n",
      " -3.3525     -3.3575     -3.3625     -3.3675     -3.3725     -3.3775\n",
      " -3.3825     -3.3875     -3.3925     -3.3975     -3.4025     -3.4075\n",
      " -3.4125     -3.4175     -3.4225     -3.4275     -3.4325     -3.4375\n",
      " -3.4425     -3.4475     -3.4525     -3.4575     -3.4625     -3.4675\n",
      " -3.4725     -3.4775     -3.4825     -3.4875     -3.4925     -3.4975\n",
      " -3.5025     -3.5075     -3.5125     -3.5175     -3.5225     -3.5275\n",
      " -3.5325     -3.5375     -3.5425     -3.5475     -3.5525     -3.5575\n",
      " -3.5625     -3.5675     -3.5725     -3.5775     -3.5825     -3.5875\n",
      " -3.5925     -3.5975     -3.6025     -3.6075     -3.6125     -3.6175\n",
      " -3.6225     -3.6275     -3.6325     -3.6375     -3.6425     -3.6475\n",
      " -3.6525     -3.6575     -3.6625     -3.6675     -3.6725     -3.6775\n",
      " -3.6825     -3.6875     -3.6925     -3.6975     -3.7025     -3.7075\n",
      " -3.7125     -3.7175     -3.7225     -3.7275     -3.7325     -3.7375\n",
      " -3.7425     -3.7475     -3.7525     -3.7575     -3.7625     -3.7675\n",
      " -3.7725     -3.7775     -3.7825     -3.7875     -3.7925     -3.7975\n",
      " -3.8025     -3.8075     -3.8125     -3.8175     -3.8225     -3.8275\n",
      " -3.8325     -3.8375     -3.8425     -3.8475     -3.8525     -3.8575\n",
      " -3.8625     -3.8675     -3.8725     -3.8775     -3.8825     -3.8875\n",
      " -3.8925     -3.8975     -3.9025     -3.9075     -3.9125     -3.9175\n",
      " -3.9225     -3.9275     -3.9325     -3.9375     -3.9425     -3.9475\n",
      " -3.9525     -3.9575     -3.9625     -3.9675     -3.9725     -3.9775\n",
      " -3.9825     -3.9875     -3.9925     -3.9975     -4.0025     -4.0075\n",
      " -4.0125     -4.0175     -4.0225     -4.0275     -4.0325     -4.0375\n",
      " -4.0425     -4.0475     -4.0525     -4.0575     -4.0625     -4.0675\n",
      " -4.0725     -4.0775     -4.0825     -4.0875     -4.0925     -4.0975\n",
      " -4.1025     -4.1075     -4.1125     -4.1175     -4.1225     -4.1275\n",
      " -4.1325     -4.1375     -4.1425     -4.1475     -4.1525     -4.1575\n",
      " -4.1625     -4.1675     -4.1725     -4.1775     -4.1825     -4.1875\n",
      " -4.1925     -4.1975     -4.2025     -4.2075     -4.2125     -4.2175\n",
      " -4.2225     -4.2275     -4.2325     -4.2375     -4.2425     -4.2475\n",
      " -4.2525     -4.2575     -4.2625     -4.2675     -4.2725     -4.2775\n",
      " -4.2825     -4.2875     -4.2925     -4.2975     -4.3025     -4.3075\n",
      " -4.3125     -4.3175     -4.3225     -4.3275     -4.3325     -4.3375\n",
      " -4.3425     -4.3475     -4.3525     -4.3575     -4.3625     -4.3675\n",
      " -4.3725     -4.3775     -4.3825     -4.3875     -4.3925     -4.3975\n",
      " -4.4025     -4.4075     -4.4125     -4.4175     -4.4225     -4.4275\n",
      " -4.4325     -4.4375     -4.4425     -4.4475     -4.4525     -4.4575\n",
      " -4.4625     -4.4675     -4.4725     -4.4775     -4.4825     -4.4875\n",
      " -4.4925     -4.4975     -4.5025     -4.5075     -4.5125     -4.5175\n",
      " -4.5225     -4.5275     -4.5325     -4.5375     -4.5425     -4.5475\n",
      " -4.5525     -4.5575     -4.5625     -4.5675     -4.5725     -4.5775\n",
      " -4.5825     -4.5875     -4.5925     -4.5975     -4.6025     -4.6075\n",
      " -4.6125     -4.6175     -4.6225     -4.6275     -4.6325     -4.6375\n",
      " -4.6425     -4.6475     -4.6525     -4.6575     -4.6625     -4.6675\n",
      " -4.6725     -4.6775     -4.6825     -4.6875     -4.6925     -4.6975\n",
      " -4.7025     -4.7075     -4.7125     -4.7175     -4.7225     -4.7275\n",
      " -4.7325     -4.7375     -4.7425     -4.7475     -4.7525     -4.7575\n",
      " -4.7625     -4.7675     -4.7725     -4.7775     -4.7825     -4.7875\n",
      " -4.7925     -4.7975     -4.8025     -4.8075     -4.8125     -4.8175\n",
      " -4.8225     -4.8275     -4.8325     -4.8375     -4.8425     -4.8475\n",
      " -4.8525     -4.8575     -4.8625     -4.8675     -4.8725     -4.8775\n",
      " -4.8825     -4.8875     -4.8925     -4.8975     -4.9025     -4.9075\n",
      " -4.9125     -4.9175     -4.9225     -4.9275     -4.9325     -4.9375\n",
      " -4.9425     -4.9475     -4.9525     -4.9575     -4.9625     -4.9675\n",
      " -4.9725     -4.9775     -4.9825     -4.9875     -4.9925     -4.99749942\n",
      " -4.99999942]\n"
     ]
    }
   ],
   "source": [
    "psi = ds.psi.sel(time='2017-01-01 00:00').values\n",
    "print(type(psi))\n",
    "print(psi)"
   ]
  },
  {
   "cell_type": "code",
   "execution_count": null,
   "metadata": {},
   "outputs": [],
   "source": []
  },
  {
   "cell_type": "code",
   "execution_count": null,
   "metadata": {},
   "outputs": [],
   "source": []
  }
 ],
 "metadata": {
  "kernelspec": {
   "display_name": "Python 3",
   "language": "python",
   "name": "python3"
  },
  "language_info": {
   "codemirror_mode": {
    "name": "ipython",
    "version": 3
   },
   "file_extension": ".py",
   "mimetype": "text/x-python",
   "name": "python",
   "nbconvert_exporter": "python",
   "pygments_lexer": "ipython3",
   "version": "3.7.7"
  }
 },
 "nbformat": 4,
 "nbformat_minor": 2
}
