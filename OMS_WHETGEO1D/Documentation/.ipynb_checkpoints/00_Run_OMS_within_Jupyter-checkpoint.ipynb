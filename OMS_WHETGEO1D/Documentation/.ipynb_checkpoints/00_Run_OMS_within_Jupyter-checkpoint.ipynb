{
 "cells": [
  {
   "cell_type": "markdown",
   "metadata": {},
   "source": [
    "# Running OMS from Jupyter Notebook\n",
    "__________\n",
    "\n",
    "**Documentation Author:** [Niccolò Tubini](https://www.researchgate.net/profile/Niccolo_Tubini2), [Riccardo Rigon](https://scholar.google.it/citations?user=OB1jx0IAAAAJ&hl=it)\n",
    "\n",
    "\n",
    "**To whom address questions:** \n",
    " - [Niccolò Tubini](https://www.researchgate.net/profile/Niccolo_Tubini2) \n",
    " - [GEOframe Users Group](https://groups.google.com/forum/#!forum/geoframe-components-users)\n",
    " - [GEOframe Developers Mailing List](https://groups.google.com/forum/#!forum/geoframe-components-developers)\n",
    " \n",
    "**Version:** 0.98\n",
    "\n",
    "**Keywords:** OMS3, Jupyter Notebook \n",
    "\n",
    "**License:** [GPL3 v3](https://www.gnu.org/licenses/gpl-3.0.en.html)\n"
   ]
  },
  {
   "cell_type": "markdown",
   "metadata": {},
   "source": [
    "- Set in the `OMS_Project_WHETGEO1D` directory (OMS_project_path)\n",
    "- `-Doms_prj` specify the full path of `OMS_Project_WHETGEO1D` directory\n",
    "- `-jar` specify the path of oms-all.jar (oms-all.jar_path). You can find it in the  is in `oms-3.6.28-console/lib/` that you have downloaded from https://alm.engr.colostate.edu/cb/wiki/17118 \n",
    "- `-r` specify the local path of the .sim file you want to run (sim_file_path). \n"
   ]
  },
  {
   "cell_type": "markdown",
   "metadata": {},
   "source": [
    "```python\n",
    "import os\n",
    "\n",
    "os.chdir(OMS_project_path)\n",
    "\n",
    "os.listdir()\n",
    "\n",
    "!java -Doms_prj=OMS_project_path  -jar oms-all.jar_path -r sim_file_path\n",
    "python```"
   ]
  }
 ],
 "metadata": {
  "kernelspec": {
   "display_name": "Python 3",
   "language": "python",
   "name": "python3"
  },
  "language_info": {
   "codemirror_mode": {
    "name": "ipython",
    "version": 3
   },
   "file_extension": ".py",
   "mimetype": "text/x-python",
   "name": "python",
   "nbconvert_exporter": "python",
   "pygments_lexer": "ipython3",
   "version": "3.7.7"
  }
 },
 "nbformat": 4,
 "nbformat_minor": 4
}
