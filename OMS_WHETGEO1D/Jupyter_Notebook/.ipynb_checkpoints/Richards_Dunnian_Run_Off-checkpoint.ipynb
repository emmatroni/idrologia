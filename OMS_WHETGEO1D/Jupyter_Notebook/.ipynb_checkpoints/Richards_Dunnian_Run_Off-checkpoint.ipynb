{
 "cells": [
  {
   "cell_type": "markdown",
   "metadata": {},
   "source": [
    "# Saturation excess or Dunnian runoff \n",
    "    -Author: Niccolò Tubini and Riccardo Rigon\n",
    "    -License: this work is licensed under a Creative Commons Attribution-NonCommercial 4.0 International License\n",
    "_____   \n",
    "\n",
    "## Table of Contents\n",
    "\n",
    "* [Expectations](#Expectations)\n",
    "* [Meta data](#Meta_data)\n",
    "* [Reference](#Reference)\n",
    "* [Description](#Description\")\n",
    "* [Visualize the output](#Visualize-the-output)\n",
    "    * [First case](#First-case)\n",
    "    * [Second case](#Second-case)\n",
    "\n",
    "\n",
    "## Expectations\n",
    "The definition of the surface boundary condition is a nontrivial task since it is a system-dependent boundary condition. The infiltration rate through the soil surface depends on precipitation, rainfall intensity $J$, and on the moisture condition of the soil. Because of this, the surface boundary condition may change from the Dirichlet type - prescribed water suction - to the Neumann type - prescribed flux - and vice-versa. The works by Horton (1933) and Dunne and Black (1970) establish the conceptual framework to explain the runoff generation. The saturation excess or Dunnian runoff occurs when the soil is saturated and additional water exfiltrates at the soil surface.\n",
    "Saturation excess generally occurs with long-duration, moderate rainfall, or with a series of successive precipitation events.\n",
    "In this case the soil depth or the presence of shallow fragipan are determining factors for saturation excess. Another possible\n",
    "cause is the rise of the water table up to the soil surface.\n",
    "\n",
    "Here we present a simulation in which the uppermost layer of the soil completely saturates and water starts ponding at the soil surface. Then we compare this simulation with a simulation in which the uppermost layer of the soil is deeper. In this the rainfall is not sufficient to saturate the soil.\n",
    "\n",
    "The saturation excess is more critical, in terms of simulation stability, than the infiltration excess ([reference](https://www.pc-progress.com/forum/viewtopic.php?f=3&t=3632))\n",
    "## Meta data\n",
    "\n",
    "| Data  | Value  |\n",
    "|:---|:---|\n",
    "| Model name| WHETGEO-1D |\n",
    "| Model version  |  v0.98 |\n",
    "| Model reference | Tubini and Rigon (2021) |\n",
    "| Grid input file (a) | `data/Grid_NetCDF/DunnianRunOff.nc` |\n",
    "| Grid input file (b) | `data/Grid_NetCDF/DunnianRunOff_deep.nc` |\n",
    "| Surface boundary condition file | `data/Timeseries/DunnianRunOff_precip.csv` |\n",
    "| Bottom boundary condition file | `data/Timeseries/DunnianRunOff_2.csv` |\n",
    "| .sim file (a)| `simulation/Richards1D_DunnianRunOff_long.sim` |\n",
    "| .sim file (b)| `simulation/Richards1D_DunnianRunOff_deep.sim` |\n",
    "\n",
    "## Reference\n",
    "Horton, R. E.: The role of infiltration in the hydrologic cycle, Eos, Transactions American Geophysical Union, 14, 446–460, 1933.\n",
    "\n",
    "Dunne, T. and Black, R. D.: An experimental investigation of runoff production in permeable soils, Water Resources Research, 6, 478–490,\n",
    "1970.\n"
   ]
  },
  {
   "cell_type": "code",
   "execution_count": 1,
   "metadata": {},
   "outputs": [
    {
     "name": "stderr",
     "output_type": "stream",
     "text": [
      "C:\\Users\\Niccolo\\Anaconda3\\envs\\geoframe_vicenza\\lib\\site-packages\\xarray\\core\\merge.py:17: FutureWarning: The Panel class is removed from pandas. Accessing it from the top-level namespace will also be removed in the next version\n",
      "  PANDAS_TYPES = (pd.Series, pd.DataFrame, pd.Panel)\n"
     ]
    }
   ],
   "source": [
    "import os\n",
    "import pandas as pd\n",
    "import numpy as np\n",
    "# import datetime as datetime\n",
    "import matplotlib\n",
    "import matplotlib.pyplot as plt\n",
    "import matplotlib.dates as mdates\n",
    "import matplotlib.colors as cl \n",
    "from matplotlib import rc\n",
    "import matplotlib.style as style \n",
    "%matplotlib inline\n",
    "\n",
    "import math\n",
    "import xarray as xr\n",
    "\n",
    "import warnings\n",
    "warnings.filterwarnings('ignore')\n",
    "\n",
    "style.available\n",
    "style.use('seaborn-whitegrid')\n",
    "\n",
    "nice_fonts = {\n",
    "        \"legend.frameon\": True,\n",
    "        \"legend.fancybox\": True,\n",
    "        \"legend.facecolor\": \"white\",\n",
    "        \"axes.edgecolor\": \"0.8\",\n",
    "        \"axes.linewidth\": 0.6,\n",
    "        \"grid.linewidth\":0.4,\n",
    "        # Use LaTeX to write all text\n",
    "        \"text.usetex\": True,\n",
    "        \"font.family\": \"serif\",\n",
    "        # Use 10pt font in plots, to match 10pt font in document\n",
    "        \"axes.labelsize\": 12,\n",
    "        \"font.size\": 12,\n",
    "        # Make the legend/label fonts a little smaller\n",
    "        \"legend.fontsize\": 10,\n",
    "        \"xtick.labelsize\": 10,\n",
    "        \"ytick.labelsize\": 10,\n",
    "}\n",
    "\n",
    "plt.rcParams.update(nice_fonts)\n",
    "\n",
    "linewidth_n = 0.8\n",
    "linewidth_a = 0.9\n",
    "my_cmap = matplotlib.colors.LinearSegmentedColormap.from_list(\"\", [\"#ece7f2\",\"#d0d1e6\",\"#a6bddb\",\"#74a9cf\",\"#3690c0\",\"#0570b0\",\"#045a8d\",\"#023858\"])\n",
    "project_path = os.path.dirname(os.getcwd())"
   ]
  },
  {
   "cell_type": "code",
   "execution_count": null,
   "metadata": {},
   "outputs": [],
   "source": [
    "myCmapPsi = cl.LinearSegmentedColormap.from_list('my_list',['#ffffd9', '#edf8b1','#c7e9b4', '#7fcdbb','#41b6c4', '#1d91c0', '#225ea8', '#253494', '#081d58'],N=5000)\n"
   ]
  },
  {
   "cell_type": "markdown",
   "metadata": {},
   "source": [
    "# Description\n",
    "\n",
    "In the firt numerical experiment we consider a layered soil of 3 [m] depth. The thickness of the loamy-sand layer and clay layer are, respectively, $0.3$ [m], and $2.7$ [m]. The soil hydraulic properties are described with the Van Genuchten’s model \n",
    "\n",
    "|$\\theta_r$ [-]|$\\theta_s$ [-]|$\\alpha$ [m$^{-1}$] |$n$ [-]|$K_s$ [m s$^{-1}$]   |  \n",
    "|--------------|--------------|--------------------|-------|---------------------|\n",
    "|$0.057$       |$0.41$        |$12.4$              |$2.28$ |$4.05285 \\times 10^{-}$|\n",
    "|$0.068$       |$0.38$        |$0.8$               |$1.09$ |$5.5556 \\times 10^{-7}$|\n",
    "\n",
    "At the surface boundary condition we prescribe no rainfall, while at the botto a variable Dirichlet boundary condition is prescribed. The transient is driven by variation of the water table. The initial condition is assumed to be hydrostatic with $\\psi=-2$ [m] at the bottom.\n",
    "\n",
    "In the second numerical experiment the thickness of the loamy layer is $1.0$ [m]."
   ]
  },
  {
   "cell_type": "markdown",
   "metadata": {},
   "source": [
    "# Visualize output\n",
    "\n",
    "## First case"
   ]
  },
  {
   "cell_type": "code",
   "execution_count": 3,
   "metadata": {},
   "outputs": [],
   "source": [
    "os.chdir(project_path+'/output')\n",
    "ds = xr.open_dataset(\"Sim_DunnianRunOff_0000.nc\")\n"
   ]
  },
  {
   "cell_type": "code",
   "execution_count": 7,
   "metadata": {},
   "outputs": [],
   "source": [
    "se_loamsand = (ds.theta.where((ds.depth>=-0.3) & (ds.depth<0), drop=True)-0.057)/(0.41-0.057)\n",
    "se_clay = (ds.theta.where((ds.depth<-0.3), drop=True)-0.068)/(0.38-0.068)\n",
    "ds['se'] = se_loamsand.combine_first(se_clay)"
   ]
  },
  {
   "cell_type": "code",
   "execution_count": 14,
   "metadata": {},
   "outputs": [
    {
     "data": {
      "image/png": "[encoded data removed]",
      "text/plain": [
       "<Figure size 425.197x262.792 with 4 Axes>"
      ]
     },
     "metadata": {},
     "output_type": "display_data"
    }
   ],
   "source": [
    "line_w = 0.7\n",
    "\n",
    "start_date = '2017-01-01 00:00'\n",
    "end_date = '2017-01-02 00:00'\n",
    "\n",
    "plot_width = 15/2.54\n",
    "\n",
    "fig, ax = plt.subplots(2, 1, sharex='col', gridspec_kw={'height_ratios': [1,1]},figsize=(plot_width,plot_width/1.618))\n",
    "\n",
    "lns1 = ax[0].plot(ds.time.sel(time=slice(start_date, end_date)).values, ds.waterVolume.sel(depth=0).sel(time=slice(start_date,end_date))*1000, label='Ponding', color='#1f78b4', linewidth=line_w)\n",
    "\n",
    "ax0twin = ax[0].twinx()\n",
    "lns2 = ax0twin.plot(ds.time.sel(time=slice(start_date, end_date)).values, ds.topBC.sel(time=slice(start_date,end_date))/300, label='Rain', linewidth=line_w, color='0.1')\n",
    "\n",
    "ax0twin.set_ylabel('Rain [mm]')\n",
    "ax[0].set_ylabel('Pond [mm]')\n",
    "lns = lns1+lns2\n",
    "labs = [l.get_label() for l in lns]\n",
    "ax[0].legend(lns, labs, bbox_to_anchor=(0.85,1.45) , ncol=2)\n",
    "\n",
    "\n",
    "norm = matplotlib.colors.Normalize(vmin=0, vmax=1)\n",
    "im = ds.se.sel(time=slice(start_date, end_date)).plot(ax=ax[1], y='depth', add_colorbar=False, cmap=my_cmap, norm=norm)\n",
    "ax[1].set_ylabel('Depth [m]')\n",
    "ax[1].set_xlabel('Time [dd hh]')\n",
    "\n",
    "cbaxes = fig.add_axes([0.91, 0.122, 0.03, 0.35]) \n",
    "cbar = fig.colorbar(im, ax=ax[1],orientation=\"vertical\",fraction=0.07, pad=0.1, cax=cbaxes, label='$S_e$ [-]')\n",
    "\n",
    "ax[0].axvline(x=ds.time.sel(time='2017-01-01 10:35').values, linewidth=0.8, linestyle=(0, (1, 1)), color='red')\n",
    "ax[0].axvline(x=ds.time.sel(time='2017-01-01 17:00').values, linewidth=0.8, linestyle=(0, (1, 1)), color='red')\n",
    "\n",
    "ax[1].xaxis.set_major_formatter(mdates.DateFormatter('%d %H'))\n",
    "ax[1].xaxis.set_tick_params(rotation=45)\n",
    "\n",
    "plt.text( 0.03,0.8, '(a)', fontsize=10,\n",
    "             transform=ax[0].transAxes)\n",
    "plt.text( 0.03,0.1, '(b)', fontsize=10,\n",
    "             transform=ax[1].transAxes)\n",
    "\n",
    "\n",
    "plt.show()"
   ]
  },
  {
   "cell_type": "markdown",
   "metadata": {},
   "source": [
    "Panel (a) shows the rainfall and the water ponding at the soil surface. Initially rainfall can infiltrate into the soil and no water\n",
    "builds up a the soil surface. As the uppermost layer of the soil saturates water starts ponding at the soil surface. The dotted red lines indicate\n",
    "the times at which the boundary condition at the soil surface should be switched. Panel (b) shows the time evolution of the saturation degree\n",
    "within the soil.\n",
    "\n",
    "## Second case"
   ]
  },
  {
   "cell_type": "code",
   "execution_count": 15,
   "metadata": {},
   "outputs": [],
   "source": [
    "ds = xr.open_dataset(\"Sim_DunnianRunOff_deep_0000.nc\")"
   ]
  },
  {
   "cell_type": "code",
   "execution_count": 16,
   "metadata": {},
   "outputs": [],
   "source": [
    "se_loamsand = (ds.theta.where((ds.depth>=-1) & (ds.depth<0), drop=True)-0.057)/(0.41-0.057)\n",
    "se_clay = (ds.theta.where((ds.depth<-1), drop=True)-0.068)/(0.38-0.068)\n",
    "ds['se'] = se_loamsand.combine_first(se_clay)"
   ]
  },
  {
   "cell_type": "code",
   "execution_count": 17,
   "metadata": {},
   "outputs": [
    {
     "data": {
      "image/png": "[encoded data removed]",
      "text/plain": [
       "<Figure size 425.197x262.792 with 4 Axes>"
      ]
     },
     "metadata": {},
     "output_type": "display_data"
    }
   ],
   "source": [
    "line_w = 0.7\n",
    "\n",
    "start_date = '2017-01-01 00:00'\n",
    "end_date = '2017-01-02 00:00'\n",
    "\n",
    "plot_width = 15/2.54\n",
    "\n",
    "fig, ax = plt.subplots(2, 1, sharex='col', gridspec_kw={'height_ratios': [1,1]},figsize=(plot_width,plot_width/1.618))\n",
    "\n",
    "lns1 = ax[0].plot(ds.time.sel(time=slice(start_date, end_date)).values, ds.waterVolume.sel(depth=0).sel(time=slice(start_date,end_date))*1000, label='Ponding', color='#1f78b4', linewidth=line_w)\n",
    "\n",
    "ax0twin = ax[0].twinx()\n",
    "lns2 = ax0twin.plot(ds.time.sel(time=slice(start_date, end_date)).values, ds.topBC.sel(time=slice(start_date,end_date))/300, label='Rain', linewidth=line_w, color='0.1')\n",
    "\n",
    "ax0twin.set_ylabel('Rain [mm]')\n",
    "ax[0].set_ylabel('Pond [mm]')\n",
    "lns = lns1+lns2\n",
    "labs = [l.get_label() for l in lns]\n",
    "ax[0].legend(lns, labs, bbox_to_anchor=(0.85,1.45) , ncol=2)\n",
    "\n",
    "\n",
    "norm = matplotlib.colors.Normalize(vmin=0, vmax=1)\n",
    "im = ds.se.sel(time=slice(start_date, end_date)).plot(ax=ax[1], y='depth', add_colorbar=False, cmap=my_cmap, norm=norm)\n",
    "ax[1].set_ylabel('Depth [m]')\n",
    "ax[1].set_xlabel('Time [dd hh]')\n",
    "\n",
    "cbaxes = fig.add_axes([0.91, 0.122, 0.03, 0.35]) \n",
    "cbar = fig.colorbar(im, ax=ax[1],orientation=\"vertical\",fraction=0.07, pad=0.1, cax=cbaxes, label='$S_e$ [-]')\n",
    "\n",
    "ax[0].axvline(x=ds.time.sel(time='2017-01-01 10:35').values, linewidth=0.8, linestyle=(0, (1, 1)), color='red')\n",
    "ax[0].axvline(x=ds.time.sel(time='2017-01-01 17:00').values, linewidth=0.8, linestyle=(0, (1, 1)), color='red')\n",
    "\n",
    "ax[1].xaxis.set_major_formatter(mdates.DateFormatter('%d %H'))\n",
    "ax[1].xaxis.set_tick_params(rotation=45)\n",
    "\n",
    "plt.text( 0.03,0.8, '(a)', fontsize=10,\n",
    "             transform=ax[0].transAxes)\n",
    "plt.text( 0.03,0.1, '(b)', fontsize=10,\n",
    "             transform=ax[1].transAxes)\n",
    "\n",
    "\n",
    "plt.show()\n"
   ]
  },
  {
   "cell_type": "markdown",
   "metadata": {},
   "source": [
    "In this numerical experiment there is no saturation excess since the greater thickness of the uppermost layer ensure a sufficient\n",
    "water storage capacity for the forcing rainfall."
   ]
  }
 ],
 "metadata": {
  "kernelspec": {
   "display_name": "Python 3",
   "language": "python",
   "name": "python3"
  },
  "language_info": {
   "codemirror_mode": {
    "name": "ipython",
    "version": 3
   },
   "file_extension": ".py",
   "mimetype": "text/x-python",
   "name": "python",
   "nbconvert_exporter": "python",
   "pygments_lexer": "ipython3",
   "version": "3.7.7"
  }
 },
 "nbformat": 4,
 "nbformat_minor": 4
}
