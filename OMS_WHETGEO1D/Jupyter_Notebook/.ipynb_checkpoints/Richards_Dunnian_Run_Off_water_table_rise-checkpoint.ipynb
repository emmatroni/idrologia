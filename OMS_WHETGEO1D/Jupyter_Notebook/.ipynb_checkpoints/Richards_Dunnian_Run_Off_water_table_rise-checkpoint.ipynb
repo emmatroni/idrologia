{
 "cells": [
  {
   "cell_type": "markdown",
   "metadata": {},
   "source": [
    "# Saturation excess or Dunnian runoff \n",
    "## Water table rise\n",
    "    -Author: Niccolò Tubini and Riccardo Rigon\n",
    "    -License: this work is licensed under a Creative Commons Attribution-NonCommercial 4.0 International License\n",
    "_____   \n",
    "\n",
    "## Table of Contents\n",
    "\n",
    "* [Expectations](#Expectations)\n",
    "* [Meta data](#Meta_data)\n",
    "* [Reference](#Reference)\n",
    "* [Description](#Description\")\n",
    "* [Visualize the output](#Visualize-the-output)\n",
    "\n",
    "\n",
    "## Expectations\n",
    "The definition of the surface boundary condition is a nontrivial task since it is a system-dependent boundary condition. The infiltration rate through the soil surface depends on precipitation, rainfall intensity $J$, and on the moisture condition of the soil. Because of this, the surface boundary condition may change from the Dirichlet type - prescribed water suction - to the Neumann type - prescribed flux - and vice-versa. The works by Horton (1933) and Dunne and Black (1970) establish the conceptual framework to explain the runoff generation. The saturation excess or Dunnian runoff occurs when the soil is saturated and additional water exfiltrates at the soil surface.\n",
    "Saturation excess generally occurs with long-duration, moderate rainfall, or with a series of successive precipitation events.\n",
    "In this case the soil depth or the presence of shallow fragipan are determining factors for saturation excess. Another possible\n",
    "cause is the rise of the water table up to the soil surface.\n",
    "\n",
    "Here we present a simulation in which water exfiltrates at soil surface as a consequence of the raising of the water table. \n",
    "\n",
    "The saturation excess is more critical, in terms of simulation stability, than the infiltration excess ([reference](https://www.pc-progress.com/forum/viewtopic.php?f=3&t=3632))\n",
    "## Meta data\n",
    "\n",
    "| Data  | Value  |\n",
    "|:---|:---|\n",
    "| Model name| WHETGEO-1D |\n",
    "| Model version  |  v0.98 |\n",
    "| Model reference | Tubini and Rigon (2021) |\n",
    "| Grid input file | `data/Grid_NetCDF/DunnianRunOff_clayloam.nc` |\n",
    "| Surface boundary condition file | `data/Timeseries/DunnianRunOff_0.csv` |\n",
    "| Bottom boundary condition file | `data/Timeseries/DunnianRunOff_water_table.csv` |\n",
    "| .sim file | `simulation/Richards1D_DunnianRunOff_water_table_rise.sim` |\n",
    "\n",
    "## Reference\n",
    "Horton, R. E.: The role of infiltration in the hydrologic cycle, Eos, Transactions American Geophysical Union, 14, 446–460, 1933.\n",
    "\n",
    "Dunne, T. and Black, R. D.: An experimental investigation of runoff production in permeable soils, Water Resources Research, 6, 478–490,\n",
    "1970.\n"
   ]
  },
  {
   "cell_type": "code",
   "execution_count": 7,
   "metadata": {},
   "outputs": [],
   "source": [
    "import os\n",
    "import pandas as pd\n",
    "import numpy as np\n",
    "# import datetime as datetime\n",
    "import matplotlib\n",
    "import matplotlib.pyplot as plt\n",
    "import matplotlib.dates as mdates\n",
    "import matplotlib.colors as cl \n",
    "from matplotlib import rc\n",
    "import matplotlib.style as style \n",
    "%matplotlib inline\n",
    "\n",
    "import math\n",
    "import xarray as xr\n",
    "\n",
    "import warnings\n",
    "warnings.filterwarnings('ignore')\n",
    "\n",
    "style.available\n",
    "style.use('seaborn-whitegrid')\n",
    "\n",
    "nice_fonts = {\n",
    "        \"legend.frameon\": True,\n",
    "        \"legend.fancybox\": True,\n",
    "        \"legend.facecolor\": \"white\",\n",
    "        \"axes.edgecolor\": \"0.8\",\n",
    "        \"axes.linewidth\": 0.6,\n",
    "        \"grid.linewidth\":0.4,\n",
    "        # Use LaTeX to write all text\n",
    "        \"text.usetex\": True,\n",
    "        \"font.family\": \"serif\",\n",
    "        # Use 10pt font in plots, to match 10pt font in document\n",
    "        \"axes.labelsize\": 12,\n",
    "        \"font.size\": 12,\n",
    "        # Make the legend/label fonts a little smaller\n",
    "        \"legend.fontsize\": 10,\n",
    "        \"xtick.labelsize\": 10,\n",
    "        \"ytick.labelsize\": 10,\n",
    "}\n",
    "\n",
    "plt.rcParams.update(nice_fonts)\n",
    "\n",
    "linewidth_n = 0.8\n",
    "linewidth_a = 0.9\n",
    "my_cmap = matplotlib.colors.LinearSegmentedColormap.from_list(\"\", [\"#ece7f2\",\"#d0d1e6\",\"#a6bddb\",\"#74a9cf\",\"#3690c0\",\"#0570b0\",\"#045a8d\",\"#023858\"])\n",
    "project_path = os.path.dirname(os.getcwd())"
   ]
  },
  {
   "cell_type": "code",
   "execution_count": null,
   "metadata": {},
   "outputs": [],
   "source": [
    "myCmapPsi = cl.LinearSegmentedColormap.from_list('my_list',['#ffffd9', '#edf8b1','#c7e9b4', '#7fcdbb','#41b6c4', '#1d91c0', '#225ea8', '#253494', '#081d58'],N=5000)\n"
   ]
  },
  {
   "cell_type": "markdown",
   "metadata": {},
   "source": [
    "# Description\n",
    "\n",
    "In this numerical experiment we consider a layered soil of 3 [m] depth. The thickness of the loamy layer and clay layer are, respectively, $0.5$ [m], and $2.5$ [m]. The soil hydraulic properties are described with the Van Genuchten’s model \n",
    "\n",
    "|$\\theta_r$ [-]|$\\theta_s$ [-]|$\\alpha$ [m$^{-1}$] |$n$ [-]|$K_s$ [m s$^{-1}$]   |  \n",
    "|--------------|--------------|--------------------|-------|---------------------|\n",
    "|$0.078$       |$0.43$        |$3.6$               |$1.56$ |$2.8889 \\times 10^{-6}$|\n",
    "|$0.068$       |$0.38$        |$0.8$               |$1.09$ |$5.5556 \\times 10^{-7}$|\n",
    "\n",
    "At the surface boundary condition we prescribe no rainfall, while at the botto a variable Dirichlet boundary condition is prescribed. The transient is driven by variation of the water table. The initial conditio is assumed to be hydrostatic with $\\psi=0$ [m] at the bottom."
   ]
  },
  {
   "cell_type": "markdown",
   "metadata": {},
   "source": [
    "# Visualize output"
   ]
  },
  {
   "cell_type": "code",
   "execution_count": 8,
   "metadata": {},
   "outputs": [],
   "source": [
    "os.chdir(project_path+'/output')"
   ]
  },
  {
   "cell_type": "code",
   "execution_count": 9,
   "metadata": {},
   "outputs": [
    {
     "data": {
      "text/plain": [
       "<bound method Mapping.keys of <xarray.Dataset>\n",
       "Dimensions:        (depth: 601, dualDepth: 601, time: 105121)\n",
       "Coordinates:\n",
       "  * depth          (depth) float64 -2.998 -2.993 -2.988 ... -0.0075 -0.0025 0.0\n",
       "  * dualDepth      (dualDepth) float64 -3.0 -2.995 -2.99 ... -0.01 -0.005 0.0\n",
       "  * time           (time) datetime64[ns] 2017-01-01 ... 2018-01-01\n",
       "Data variables:\n",
       "    psi            (time, depth) float64 ...\n",
       "    psiIC          (depth) float64 ...\n",
       "    T              (depth) float64 ...\n",
       "    theta          (time, depth) float64 ...\n",
       "    darcyVelocity  (time, dualDepth) float64 ...\n",
       "    waterVolume    (time, depth) float64 ...\n",
       "    error          (time) float64 ...\n",
       "    topBC          (time) float64 ...\n",
       "    bottomBC       (time) float64 ...\n",
       "    runOff         (time) float64 ...\n",
       "    controlVolume  (depth) float64 ...\n",
       "Attributes:\n",
       "    Description_of_the_problem:         Dunnian runoff test case, water table...\n",
       "    Top_boundary_condition:             Top coupled\n",
       "    Bottom_boundary_condition:          Dirichlet\n",
       "    path_top_boundary_condition:        C:\\Users\\Niccolo\\OMS\\OMS_Project_WHET...\n",
       "    path_bottom_boundary_condition:     C:\\Users\\Niccolo\\OMS\\OMS_Project_WHET...\n",
       "    path_grid:                          C:\\Users\\Niccolo\\OMS\\OMS_Project_WHET...\n",
       "    time_delta:                          \n",
       "    swrc_model:                         Van Genuchten\n",
       "    soil_hydraulic_conductivity_model:  Mualem Van Genuchten\n",
       "    interface_conductivity_model:       max>"
      ]
     },
     "execution_count": 9,
     "metadata": {},
     "output_type": "execute_result"
    }
   ],
   "source": [
    "ds = xr.open_dataset(\"Sim_DunnianRunOff_water_table_rise_0000.nc\")\n",
    "ds.keys"
   ]
  },
  {
   "cell_type": "code",
   "execution_count": 13,
   "metadata": {},
   "outputs": [],
   "source": [
    "ds_mean = ds.resample(time='1D').mean()"
   ]
  },
  {
   "cell_type": "code",
   "execution_count": 15,
   "metadata": {},
   "outputs": [
    {
     "data": {
      "image/png": "[encoded data removed]",
      "text/plain": [
       "<Figure size 425.197x262.792 with 4 Axes>"
      ]
     },
     "metadata": {},
     "output_type": "display_data"
    }
   ],
   "source": [
    "line_w = 0.7\n",
    "\n",
    "\n",
    "start_date = '2017-01-01 00:00'\n",
    "end_date = '2018-01-01 00:00'\n",
    "\n",
    "plot_width = 15/2.54\n",
    "\n",
    "fig, ax = plt.subplots(2, 1, sharex='col', gridspec_kw={'height_ratios': [1,1]},figsize=(plot_width,plot_width/1.618))\n",
    "\n",
    "lns1 = ax[0].plot(ds_mean.time.sel(time=slice(start_date, end_date)).values, ds_mean.waterVolume.sel(depth=0).sel(time=slice(start_date,end_date))*1000, label='Ponding', color='#1f78b4', linewidth=line_w)\n",
    "\n",
    "ax0twin = ax[0].twinx()\n",
    "lns2 = ax0twin.plot(ds_mean.time.sel(time=slice(start_date, end_date)).values, ds_mean.bottomBC.sel(time=slice(start_date,end_date)), label='$\\psi_b$', linewidth=line_w, color='0.5')\n",
    "ax0twin.set_ylim([-0.001, 3.15])\n",
    "ax0twin.set_yticks([0.0, 1, 2, 3])\n",
    "\n",
    "\n",
    "ax0twin.set_ylabel('$\\psi_b$ [m]')\n",
    "ax[0].set_ylabel('Pond [mm]')\n",
    "\n",
    "labs = [l.get_label() for l in lns]\n",
    "ax[0].legend(lns, labs, bbox_to_anchor=(0.75,1.35) , ncol=2)\n",
    "\n",
    "\n",
    "norm = matplotlib.colors.Normalize(vmin=-3.1, vmax=3.1)\n",
    "im = ds_mean.psi.sel(time=slice(start_date, end_date)).plot(ax=ax[1], y='depth', add_colorbar=False, cmap=my_cmap, norm=norm)                                               \n",
    "ax[1].set_ylabel('Depth [m]')\n",
    "ax[1].set_xlabel('Time [mm dd]')\n",
    "\n",
    "cbaxes = fig.add_axes([0.91, 0.122, 0.03, 0.35]) \n",
    "cbar = fig.colorbar(im, ax=ax[1],orientation=\"vertical\",fraction=0.07, pad=0.1, cax=cbaxes, label='$\\psi$ [m]',ticks=[-3, 0.0, 3])\n",
    "cbar.ax.set_yticklabels(['-3', '0', '3'])\n",
    "\n",
    "\n",
    "ax[0].axvline(x=ds_w.time.sel(time='2017-06-03 00:00').values, linewidth=0.8, linestyle=(0, (1, 1)), color='red')\n",
    "ax[0].axvline(x=ds_w.time.sel(time='2017-08-22 00:00').values, linewidth=0.8, linestyle=(0, (1, 1)), color='red')\n",
    "\n",
    "\n",
    "ax[1].xaxis.set_major_formatter(mdates.DateFormatter('%m %d'))\n",
    "ax[1].xaxis.set_tick_params(rotation=45)\n",
    "\n",
    "plt.text( 0.03,0.8, '(a)', fontsize=8,\n",
    "             transform=ax[0].transAxes)\n",
    "plt.text( 0.03,0.8, '(b)', fontsize=8,\n",
    "             transform=ax[1].transAxes)\n",
    "\n",
    "\n",
    "plt.show()"
   ]
  },
  {
   "cell_type": "markdown",
   "metadata": {},
   "source": [
    "Panel (a) shows the water table position, Dirichlet boundary condition, and the water ponding at the soil surface. The dotted\n",
    "red lines indicate the times at which the boundary condition at the soil surface should be switched. The first line indicates the switch from\n",
    "the Neumann type to the Dirichlet type since water starts building up. The second line indicates the switch form the Dirichlet type to the\n",
    "Neumann type because there is no water at the soil surface. Panel (b) shows the time evolution of the water suction within the soil."
   ]
  },
  {
   "cell_type": "code",
   "execution_count": null,
   "metadata": {},
   "outputs": [],
   "source": []
  }
 ],
 "metadata": {
  "kernelspec": {
   "display_name": "Python 3",
   "language": "python",
   "name": "python3"
  },
  "language_info": {
   "codemirror_mode": {
    "name": "ipython",
    "version": 3
   },
   "file_extension": ".py",
   "mimetype": "text/x-python",
   "name": "python",
   "nbconvert_exporter": "python",
   "pygments_lexer": "ipython3",
   "version": "3.7.7"
  }
 },
 "nbformat": 4,
 "nbformat_minor": 4
}
