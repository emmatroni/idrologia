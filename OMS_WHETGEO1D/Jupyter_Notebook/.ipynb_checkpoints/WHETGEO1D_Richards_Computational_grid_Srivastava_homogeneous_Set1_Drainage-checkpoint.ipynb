{
 "cells": [
  {
   "cell_type": "markdown",
   "metadata": {},
   "source": [
    "# Create the grid for WHETGEO-1D Richards\n",
    "## Srivastava Yeh analytical solution homogeneous soil drainage case\n",
    "    -Author: Niccolò Tubini and Riccardo Rigon\n",
    "    -License: this work is licensed under a Creative Commons Attribution-NonCommercial 4.0 International License\n",
    "-----\n",
    "This notebook is used to create the computational grid\n",
    "    - domain discretization\n",
    "    - setting parameters\n",
    "    - setting initial condition\n",
    "for the analytical solution presented by [Srivastava and Yeh (1991)](https://doi.org/10.1029/90WR02772) for the case of homogeneous layer.\n",
    "\n",
    "    \n",
    "All grid data are stored in a NetCDF file.\n"
   ]
  },
  {
   "cell_type": "code",
   "execution_count": 1,
   "metadata": {},
   "outputs": [],
   "source": [
    "%load_ext autoreload\n",
    "%autoreload 2\n",
    "\n",
    "import os\n",
    "import pandas as pd\n",
    "\n",
    "from WHETGEO1D_GridCreator import*\n",
    "from WHETGEO1D_toNetCDF import*\n",
    "from Srivastava_Yeh_1991_analytical_solution import *\n",
    "\n",
    "import warnings\n",
    "warnings.filterwarnings('ignore')\n",
    "\n",
    "\n",
    "project_path = os.path.dirname(os.getcwd())"
   ]
  },
  {
   "cell_type": "markdown",
   "metadata": {},
   "source": [
    "\n",
    "## Define input:\n",
    "**grid_input_file_name**: name of the grid input file (.csv) with the local file path \n",
    "   \n",
    "> `/data/Grid_input/name.csv`\n",
    "\n",
    "**ic_input_file_name**: name of the initial condition input file (.csv) with the local file path \n",
    "> `/data/Grid_input/name.csv`\n",
    "\n",
    "**parameter_input_file_name**: name of the parameter input file (.csv) with the local file path \n",
    ">`/data/Grid_input/name.csv`\n",
    "\n",
    "**dictionary_input_file_name**: name of the file (.csv) containing the dictionary for parameters name \n",
    ">`/data/Grid_input/name.csv`\n",
    "\n",
    "**grid_type**: string defining how to discretize the 1D domain. You can choose among:\n",
    "> `classical`\n",
    "\n",
    "> `exponential`\n",
    "\n",
    "> `mixed` \n",
    "\n",
    "\n",
    "**dz_min**: thickness of the first layer (for `exponential` and `mixed`)\n",
    "\n",
    "**dz_max**: larger thickness of the grid (for `mixed`)\n",
    "\n",
    "**b**: growth rate (for `exponential` and `mixed`)\n",
    "\n",
    "**psi_interp_model**: string defining the type of the 1D interpolation function used to define the initial condition for water suction \n",
    "> https://docs.scipy.org/doc/scipy/reference/generated/scipy.interpolate.interp1d.html#scipy.interpolate.interp1d \n",
    "\n",
    "**T_interp_model**: string defining the type of the 1D interpolation function used to define the initial condition for temperature\n",
    ">https://docs.scipy.org/doc/scipy/reference/generated/scipy.interpolate.interp1d.html#scipy.interpolate.interp1d \n",
    "\n",
    "\n",
    "<br />\n",
    "<br />\n",
    "\n",
    "**output_file_name**: name of the output file (.nc) with the local file path\n",
    ">`/data/Grid_NetCDF/name.nc`\n",
    "\n",
    "**output_title**: string containing a title for the output, it is saved within the file\n",
    "\n",
    "**output_summary**: string containing a description for the output, it is saved within the file (global metadata)\n",
    "\n",
    "**output_date**: string containing the date of file creation, optionally\n",
    "\n",
    "**output_institution**: string containing the name of whom created the file, optionally\n",
    "\n"
   ]
  },
  {
   "cell_type": "code",
   "execution_count": 2,
   "metadata": {},
   "outputs": [],
   "source": [
    "grid_input_file_name = project_path + \"/data/Grid_input/SrivastavaYeh_homogeneous_grid_1.csv\"\n",
    "\n",
    "parameter_input_file_name = project_path + \"/data/Grid_input/SrivastavaYeh_homogeneous_parameter.csv\"\n",
    "\n",
    "dictionary_input_file_name = project_path + \"/data/Grid_input/dictionary.csv\"\n",
    "\n",
    "grid_type = 'classical'\n",
    "\n",
    "dz_min = np.nan\n",
    "\n",
    "dz_max = np.nan\n",
    "\n",
    "b = np.nan\n",
    "\n",
    "psi_interp_model = \"linear\"\n",
    "\n",
    "T_interp_model = \"linear\"\n",
    "\n",
    "\n",
    "\n",
    "output_file_name =  project_path + \"/data/Grid_NetCDF/SrivastavaYeh_homogeneous_Set1_drainage.nc\"\n",
    "\n",
    "output_title = '''Srivastava and Yeh (1991) homogeneous soil drainage case.'''\n",
    "\n",
    "output_summary = '''\n",
    "\n",
    "L = 100 \n",
    "Ks = 1\n",
    "alpha = 0.1\n",
    "theta_s = 0.4\n",
    "theta_r = 0.06\n",
    "qA = 0.9\n",
    "qB = 0.1\n",
    "psi0 = 0\n",
    "\n",
    "'''\n",
    "\n",
    "output_date = ''\n",
    "\n",
    "output_institution = 'Niccolò Tubini, Riccardo Rigon, GEOframe group'\n",
    "\n",
    "# Srivastava Yeh parameter for homogeneous layer drainage case\n",
    "L = 100 \n",
    "Ks = 1\n",
    "alpha = 0.1\n",
    "theta_s = 0.4\n",
    "theta_r = 0.06\n",
    "qA = 0.9\n",
    "qB = 0.1\n",
    "psi0 = 0"
   ]
  },
  {
   "cell_type": "markdown",
   "metadata": {},
   "source": [
    "## Create the computational grid and save to NetCDF"
   ]
  },
  {
   "cell_type": "code",
   "execution_count": 3,
   "metadata": {},
   "outputs": [
    {
     "name": "stdout",
     "output_type": "stream",
     "text": [
      "Grid\n",
      "  Type  eta       K  equationStateID  parameterID\n",
      "0    L    0  1000.0              0.0          1.0\n",
      "1    L   -1     NaN              NaN          NaN\n",
      "\n",
      "Parameter\n",
      "   thetaS  thetaR  par1  par2  par3  par4  par5  alphaSpecificStorage  \\\n",
      "0    0.40    0.06    10   NaN   NaN   NaN   NaN                   0.0   \n",
      "1    0.45    0.20     1   NaN   NaN   NaN   NaN                   0.0   \n",
      "\n",
      "   betaSpecificStorage        Ks  \n",
      "0                  0.0  0.000003  \n",
      "1                  0.0  0.000003  \n",
      "\n",
      "\n",
      "\n",
      "***SUCCESS writing!  C:\\Users\\Niccolo\\OMS\\OMS_Project_WHETGEO1D/data/Grid_NetCDF/SrivastavaYeh_homogeneous_Set1_drainage.nc\n"
     ]
    }
   ],
   "source": [
    "data_grid = pd.read_csv(grid_input_file_name)\n",
    "print('Grid')\n",
    "print(data_grid)\n",
    "print()\n",
    "\n",
    "data_parameter = pd.read_csv(parameter_input_file_name, comment='#')\n",
    "print('Parameter')\n",
    "print(data_parameter)\n",
    "print()\n",
    "\n",
    "data_dictionary = pd.read_csv(dictionary_input_file_name)\n",
    "\n",
    "[KMAX, eta, eta_dual, space_delta, z, z_dual, control_volume] = grid1D(data_grid, dz_min, b, dz_max, grid_type)\n",
    "\n",
    "K_0 = qA/Ks-(qA/Ks-np.exp(alpha*0))*np.exp(-z*100*alpha)\n",
    "psi_0 = (1/alpha*np.log(K_0))*1e-2\n",
    "T_0 = np.zeros(len(psi_0))\n",
    "\n",
    "control_volume_index = calibration_point_index(data_grid, eta)\n",
    "\n",
    "[equation_state_ID, parameter_ID, theta_s, theta_r, par_1, par_2, par_3, par_4,\n",
    "par_5, alpha_ss, beta_ss, ks] = set_parameters_richards(data_grid, data_parameter, data_dictionary, KMAX, eta)\n",
    "\n",
    "write_grid_netCDF_richards(eta, eta_dual, z, z_dual, space_delta, control_volume, control_volume_index, psi_0, T_0, equation_state_ID, parameter_ID, KMAX,\n",
    "                  theta_s, theta_r, par_1, par_2, par_3, par_4, par_5, alpha_ss, beta_ss, ks,\n",
    "                  output_file_name, output_title, output_institution, output_summary, output_date, grid_input_file_name, parameter_input_file_name)"
   ]
  },
  {
   "cell_type": "code",
   "execution_count": 4,
   "metadata": {},
   "outputs": [
    {
     "data": {
      "image/png": "[encoded data removed]",
      "text/plain": [
       "<Figure size 266.996x432 with 1 Axes>"
      ]
     },
     "metadata": {
      "needs_background": "light"
     },
     "output_type": "display_data"
    }
   ],
   "source": [
    "fig, ax = plt.subplots(1, 1, figsize=(6/1.618, 6)) \n",
    "\n",
    "ax.plot(psi_0, z, color='0.5', linewidth=2, linestyle='--', label='ic')\n",
    "\n",
    "ax.set_xlabel('$\\psi$ [m]')\n",
    "ax.set_ylabel('$z$ [m]')\n",
    "ax.set_title('Initial condition')\n",
    "ax.grid()\n",
    "\n",
    "plt.show()"
   ]
  },
  {
   "cell_type": "code",
   "execution_count": null,
   "metadata": {},
   "outputs": [],
   "source": []
  }
 ],
 "metadata": {
  "kernelspec": {
   "display_name": "Python 3",
   "language": "python",
   "name": "python3"
  },
  "language_info": {
   "codemirror_mode": {
    "name": "ipython",
    "version": 3
   },
   "file_extension": ".py",
   "mimetype": "text/x-python",
   "name": "python",
   "nbconvert_exporter": "python",
   "pygments_lexer": "ipython3",
   "version": "3.7.7"
  }
 },
 "nbformat": 4,
 "nbformat_minor": 2
}
