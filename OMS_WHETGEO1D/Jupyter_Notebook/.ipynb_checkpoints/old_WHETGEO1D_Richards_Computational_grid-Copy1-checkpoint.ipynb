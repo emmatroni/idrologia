{
 "cells": [
  {
   "cell_type": "markdown",
   "metadata": {},
   "source": [
    "# Create the grid for WHETGEO 1D Richards\n",
    "    -Author: Niccolò Tubini and Riccardo Rigon\n",
    "    -License: this work is licensed under a Creative Commons Attribution-NonCommercial 4.0 International License\n",
    "-----\n",
    "This code allows to create a mesh for 1D PDE problem:\n",
    "    - domain discretization\n",
    "    - setting parameters\n",
    "    - setting initial condition\n",
    "    \n",
    "All output data are stored in a NetCDF file.\n",
    "This file is one of the input file of your simulation.\n"
   ]
  },
  {
   "cell_type": "code",
   "execution_count": 1,
   "metadata": {},
   "outputs": [],
   "source": [
    "%load_ext autoreload\n",
    "%autoreload 2\n",
    "\n",
    "import os\n",
    "import pandas as pd\n",
    "\n",
    "from WHETGEO1D_GridCreator import*\n",
    "from WHETGEO1D_toNetCDF import*\n",
    "\n",
    "import warnings\n",
    "warnings.filterwarnings('ignore')\n",
    "\n",
    "\n",
    "project_path = os.path.dirname(os.getcwd())"
   ]
  },
  {
   "cell_type": "markdown",
   "metadata": {},
   "source": [
    "\n",
    "## Define input:\n",
    "**grid_input_file_name**: name of the grid input file (.csv) with the local file path \n",
    "   \n",
    "> `/data/Grid_input/name.csv`\n",
    "\n",
    "**ic_input_file_name**: name of the initial condition input file (.csv) with the local file path \n",
    "> `/data/Grid_input/name.csv`\n",
    "\n",
    "**parameter_input_file_name**: name of the parameter input file (.csv) with the local file path \n",
    ">`/data/Grid_input/name.csv`\n",
    "\n",
    "**dictionary_input_file_name**: name of the file (.csv) containing the dictionary for parameters name \n",
    ">`/data/Grid_input/name.csv`\n",
    "\n",
    "**grid_type**: string defining how to discretize the 1D domain. You can choose among:\n",
    "> `classical`\n",
    "\n",
    "> `exponential`\n",
    "\n",
    "> `mixed` \n",
    "\n",
    "\n",
    "**dz_min**: thickness of the first layer (for `exponential` and `mixed`)\n",
    "\n",
    "**dz_max**: larger thickness of the grid (for `mixed`)\n",
    "\n",
    "**b**: growth rate (for `exponential` and `mixed`)\n",
    "\n",
    "**psi_interp_model**: string defining the type of the 1D interpolation function used to define the initial condition for water suction \n",
    "> https://docs.scipy.org/doc/scipy/reference/generated/scipy.interpolate.interp1d.html#scipy.interpolate.interp1d \n",
    "\n",
    "**T_interp_model**: string defining the type of the 1D interpolation function used to define the initial condition for temperature\n",
    ">https://docs.scipy.org/doc/scipy/reference/generated/scipy.interpolate.interp1d.html#scipy.interpolate.interp1d \n",
    "\n",
    "\n",
    "<br />\n",
    "<br />\n",
    "\n",
    "**output_file_name**: name of the output file (.nc) with the local file path\n",
    ">`/data/Grid_NetCDF/name.nc`\n",
    "\n",
    "**output_title**: string containing a title for the output, it is saved within the file\n",
    "\n",
    "**output_summary**: string containing a description for the output, it is saved within the file (global metadata)\n",
    "\n",
    "**output_date**: string containing the date of file creation, optionally\n",
    "\n",
    "**output_institution**: string containing the name of whom created the file, optionally\n",
    "\n"
   ]
  },
  {
   "cell_type": "code",
   "execution_count": 39,
   "metadata": {},
   "outputs": [],
   "source": [
    "\n",
    "grid_input_file_name = project_path + \"/data/Grid_input/_grid.csv\"\n",
    "\n",
    "ic_input_file_name = project_path + \"/data/Grid_input/ic.csv\"\n",
    "\n",
    "parameter_input_file_name = project_path + \"/data/Grid_input/Richards_VG.csv\"\n",
    "\n",
    "dictionary_input_file_name = project_path + \"/data/Grid_input/dictionary.csv\"\n",
    "\n",
    "grid_type = 'mixed'\n",
    "\n",
    "dz_min = 0.005\n",
    "\n",
    "dz_max = 0.1\n",
    "\n",
    "b = 0.05\n",
    "\n",
    "psi_interp_model = \"linear\"\n",
    "\n",
    "T_interp_model = \"linear\"\n",
    "\n",
    "\n",
    "\n",
    "output_file_name =   project_path + \"/data/Grid_NetCDF/cancella.nc\"\n",
    "\n",
    "output_title = '''\n",
    "                  '''\n",
    "output_summary = '''\n",
    "\n",
    "'''\n",
    "\n",
    "output_date = ''\n",
    "\n",
    "output_institution = ''\n",
    "\n"
   ]
  },
  {
   "cell_type": "markdown",
   "metadata": {},
   "source": [
    "## Run"
   ]
  },
  {
   "cell_type": "code",
   "execution_count": 40,
   "metadata": {},
   "outputs": [
    {
     "name": "stdout",
     "output_type": "stream",
     "text": [
      "Grid\n",
      "  Type  eta     K  equationStateID  parameterID\n",
      "0    L    0  50.0              1.0          1.0\n",
      "1    L   -1  50.0              1.0          2.0\n",
      "2    L   -2  50.0              1.0          3.0\n",
      "3    L   -3   NaN              NaN          NaN\n",
      "\n",
      "IC\n",
      "   eta  Psi0      T0\n",
      "0 -0.0  -3.0  273.15\n",
      "1 -3.0   0.0  273.15\n",
      "\n",
      "Parameter\n",
      "    thetaS  thetaR     n  alpha  alphaSpecificStorage  betaSpecificStorage  \\\n",
      "0     0.43   0.045  2.68   14.5                   0.0                  0.0   \n",
      "1     0.41   0.057  2.28   12.4                   0.0                  0.0   \n",
      "2     0.41   0.065  1.89    7.5                   0.0                  0.0   \n",
      "3     0.45   0.067  1.41    2.0                   0.0                  0.0   \n",
      "4     0.43   0.078  1.56    3.6                   0.0                  0.0   \n",
      "5     0.39   0.100  1.48    5.9                   0.0                  0.0   \n",
      "6     0.43   0.089  1.23    1.0                   0.0                  0.0   \n",
      "7     0.41   0.095  1.31    1.9                   0.0                  0.0   \n",
      "8     0.38   0.100  1.23    2.7                   0.0                  0.0   \n",
      "9     0.36   0.070  1.09    0.5                   0.0                  0.0   \n",
      "10    0.38   0.068  1.09    0.8                   0.0                  0.0   \n",
      "\n",
      "              Ks  \n",
      "0   8.250000e-05  \n",
      "1   4.052800e-05  \n",
      "2   1.227800e-05  \n",
      "3   1.250000e-06  \n",
      "4   2.888900e-06  \n",
      "5   3.638800e-06  \n",
      "6   1.944700e-07  \n",
      "7   7.222400e-07  \n",
      "8   3.333300e-07  \n",
      "9   5.555600e-08  \n",
      "10  5.555600e-07  \n",
      "\n",
      "\n",
      "\n",
      "***SUCCESS writing!  C:\\Users\\Niccolo\\OMS\\OMS_Project_WHETGEO1D/data/Grid_NetCDF/cancella.nc\n"
     ]
    }
   ],
   "source": [
    "data_grid = pd.read_csv(grid_input_file_name)\n",
    "print('Grid')\n",
    "print(data_grid)\n",
    "print()\n",
    "\n",
    "data_ic = pd.read_csv(ic_input_file_name)\n",
    "print('IC')\n",
    "print(data_ic)\n",
    "print()\n",
    "\n",
    "data_parameter = pd.read_csv(parameter_input_file_name, comment='#')\n",
    "print('Parameter')\n",
    "print(data_parameter)\n",
    "print()\n",
    "\n",
    "data_dictionary = pd.read_csv(dictionary_input_file_name)\n",
    "\n",
    "[KMAX, eta, eta_dual, space_delta, z, z_dual, control_volume] = grid1D(data_grid, dz_min, b, dz_max, grid_type)\n",
    "\n",
    "[psi_0, T_0] = set_initial_condition(data_ic, eta, psi_interp_model, T_interp_model)\n",
    "\n",
    "control_volume_index = calibration_point_index(data_grid, eta)\n",
    "\n",
    "[equation_state_ID, parameter_ID, theta_s, theta_r, par_1, par_2, par_3, par_4,\n",
    "par_5, alpha_ss, beta_ss, ks] = set_parameters_richards(data_grid, data_parameter, data_dictionary, KMAX, eta)\n",
    "\n",
    "write_grid_netCDF_richards(eta, eta_dual, z, z_dual, space_delta, control_volume, control_volume_index, psi_0, T_0, equation_state_ID, parameter_ID, KMAX,\n",
    "                  theta_s, theta_r, par_1, par_2, par_3, par_4, par_5, alpha_ss, beta_ss, ks,\n",
    "                  output_file_name, output_title, output_institution, output_summary, output_date, grid_input_file_name, parameter_input_file_name)"
   ]
  },
  {
   "cell_type": "code",
   "execution_count": 53,
   "metadata": {},
   "outputs": [
    {
     "data": {
      "image/png": "[encoded data removed]",
      "text/plain": [
       "<Figure size 432x288 with 1 Axes>"
      ]
     },
     "metadata": {
      "needs_background": "light"
     },
     "output_type": "display_data"
    }
   ],
   "source": [
    "plt.plot(control_volume,eta,'.')\n",
    "plt.xlabel('$\\Delta z$ [m]')\n",
    "plt.ylabel('$\\eta$ [m]')\n",
    "plt.hlines(0,0,0.1)\n",
    "plt.hlines(-1,0,0.1, linestyle='--')\n",
    "plt.hlines(-2,0,0.1, linestyle='--')\n",
    "plt.hlines(-3,0,0.1)\n",
    "plt.show()"
   ]
  },
  {
   "cell_type": "code",
   "execution_count": 54,
   "metadata": {},
   "outputs": [
    {
     "data": {
      "text/plain": [
       "array([-2.99750000e+00, -2.99237500e+00, -2.98699375e+00, -2.98134344e+00,\n",
       "       -2.97541061e+00, -2.96918114e+00, -2.96264020e+00, -2.95577221e+00,\n",
       "       -2.94856082e+00, -2.94098886e+00, -2.93303830e+00, -2.92469022e+00,\n",
       "       -2.91592473e+00, -2.90672096e+00, -2.89705701e+00, -2.88690986e+00,\n",
       "       -2.87625535e+00, -2.86506812e+00, -2.85332153e+00, -2.84098760e+00,\n",
       "       -2.82803699e+00, -2.81443883e+00, -2.80016078e+00, -2.78516882e+00,\n",
       "       -2.76942726e+00, -2.75330176e+00, -2.70167826e+00, -2.61455675e+00,\n",
       "       -2.52743525e+00, -2.44031375e+00, -2.35319225e+00, -2.26607075e+00,\n",
       "       -2.21483118e+00, -2.19983922e+00, -2.18556117e+00, -2.17196301e+00,\n",
       "       -2.15901240e+00, -2.14667847e+00, -2.13493188e+00, -2.12374465e+00,\n",
       "       -2.11309014e+00, -2.10294299e+00, -2.09327904e+00, -2.08407527e+00,\n",
       "       -2.07530978e+00, -2.06696170e+00, -2.05901114e+00, -2.05143918e+00,\n",
       "       -2.04422779e+00, -2.03735980e+00, -2.03081886e+00, -2.02458939e+00,\n",
       "       -2.01865656e+00, -2.01300625e+00, -2.00762500e+00, -2.00250000e+00,\n",
       "       -1.99750000e+00, -1.99237500e+00, -1.98699375e+00, -1.98134344e+00,\n",
       "       -1.97541061e+00, -1.96918114e+00, -1.96264020e+00, -1.95577221e+00,\n",
       "       -1.94856082e+00, -1.94098886e+00, -1.93303830e+00, -1.92469022e+00,\n",
       "       -1.91592473e+00, -1.90672096e+00, -1.89705701e+00, -1.88690986e+00,\n",
       "       -1.87625535e+00, -1.86506812e+00, -1.85332153e+00, -1.84098760e+00,\n",
       "       -1.82803699e+00, -1.81443883e+00, -1.80016078e+00, -1.78516882e+00,\n",
       "       -1.76942726e+00, -1.75330176e+00, -1.70167826e+00, -1.61455675e+00,\n",
       "       -1.52743525e+00, -1.44031375e+00, -1.35319225e+00, -1.26607075e+00,\n",
       "       -1.21483118e+00, -1.19983922e+00, -1.18556117e+00, -1.17196301e+00,\n",
       "       -1.15901240e+00, -1.14667847e+00, -1.13493188e+00, -1.12374465e+00,\n",
       "       -1.11309014e+00, -1.10294299e+00, -1.09327904e+00, -1.08407527e+00,\n",
       "       -1.07530978e+00, -1.06696170e+00, -1.05901114e+00, -1.05143918e+00,\n",
       "       -1.04422779e+00, -1.03735980e+00, -1.03081886e+00, -1.02458939e+00,\n",
       "       -1.01865656e+00, -1.01300625e+00, -1.00762500e+00, -1.00250000e+00,\n",
       "       -9.97500000e-01, -9.92375000e-01, -9.86993750e-01, -9.81343438e-01,\n",
       "       -9.75410609e-01, -9.69181140e-01, -9.62640197e-01, -9.55772207e-01,\n",
       "       -9.48560817e-01, -9.40988858e-01, -9.33038301e-01, -9.24690216e-01,\n",
       "       -9.15924727e-01, -9.06720963e-01, -8.97057011e-01, -8.86909862e-01,\n",
       "       -8.76255355e-01, -8.65068122e-01, -8.53321529e-01, -8.40987605e-01,\n",
       "       -8.28036985e-01, -8.14438834e-01, -8.00160776e-01, -7.85168815e-01,\n",
       "       -7.69427256e-01, -7.53301756e-01, -7.01678255e-01, -6.14556753e-01,\n",
       "       -5.27435251e-01, -4.40313749e-01, -3.53192247e-01, -2.66070745e-01,\n",
       "       -2.14831185e-01, -1.99839224e-01, -1.85561166e-01, -1.71963015e-01,\n",
       "       -1.59012395e-01, -1.46678471e-01, -1.34931878e-01, -1.23744645e-01,\n",
       "       -1.13090138e-01, -1.02942989e-01, -9.32790371e-02, -8.40752734e-02,\n",
       "       -7.53097842e-02, -6.69616992e-02, -5.90111421e-02, -5.14391830e-02,\n",
       "       -4.42277933e-02, -3.73598032e-02, -3.08188602e-02, -2.45893906e-02,\n",
       "       -1.86565625e-02, -1.30062500e-02, -7.62500000e-03, -2.50000000e-03])"
      ]
     },
     "execution_count": 54,
     "metadata": {},
     "output_type": "execute_result"
    }
   ],
   "source": [
    "eta"
   ]
  },
  {
   "cell_type": "code",
   "execution_count": null,
   "metadata": {},
   "outputs": [],
   "source": []
  }
 ],
 "metadata": {
  "kernelspec": {
   "display_name": "Python 3",
   "language": "python",
   "name": "python3"
  },
  "language_info": {
   "codemirror_mode": {
    "name": "ipython",
    "version": 3
   },
   "file_extension": ".py",
   "mimetype": "text/x-python",
   "name": "python",
   "nbconvert_exporter": "python",
   "pygments_lexer": "ipython3",
   "version": "3.7.7"
  }
 },
 "nbformat": 4,
 "nbformat_minor": 2
}
